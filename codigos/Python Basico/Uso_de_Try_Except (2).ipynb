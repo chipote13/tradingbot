{
  "nbformat": 4,
  "nbformat_minor": 0,
  "metadata": {
    "colab": {
      "name": "Uso de Try- Except.ipynb",
      "provenance": [],
      "collapsed_sections": [],
      "toc_visible": true
    },
    "kernelspec": {
      "name": "python3",
      "display_name": "Python 3"
    }
  },
  "cells": [
    {
      "cell_type": "markdown",
      "metadata": {
        "id": "74IDvid9o576",
        "colab_type": "text"
      },
      "source": [
        "# **Entrada de datos y Uso de Try-Except**"
      ]
    },
    {
      "cell_type": "code",
      "metadata": {
        "id": "u_sUC5ktodhF",
        "colab_type": "code",
        "outputId": "192333bd-f6ed-4b7b-9fae-a5307b32c475",
        "colab": {
          "base_uri": "https://localhost:8080/",
          "height": 70
        }
      },
      "source": [
        "username = input(\"Introduce tu nombre:\")\n",
        "\n",
        "try:\n",
        "  print(username)\n",
        "except:\n",
        "  print(\"Algo ha ido mal\")\n",
        "finally:\n",
        "  print(\"la sentencia try ha finalizado\")\n"
      ],
      "execution_count": 0,
      "outputs": [
        {
          "output_type": "stream",
          "text": [
            "Introduce tu nombre:Kevin\n",
            "Kevin\n",
            "la sentencia try ha finalizado\n"
          ],
          "name": "stdout"
        }
      ]
    },
    {
      "cell_type": "code",
      "metadata": {
        "id": "zUe81utMpW6q",
        "colab_type": "code",
        "outputId": "cbbdaf64-d7ca-4057-fe19-f4947f9a0f54",
        "colab": {
          "base_uri": "https://localhost:8080/",
          "height": 53
        }
      },
      "source": [
        "Edad = input(\"Introduce tu edad:\")\n",
        "\n",
        "if int(Edad) < 0:\n",
        "  raise Exception(\"Introduce bien tu edad!\")\n",
        "else: \n",
        "  print(\"Tu edad es\",Edad)"
      ],
      "execution_count": 0,
      "outputs": [
        {
          "output_type": "stream",
          "text": [
            "Introduce tu edad:24\n",
            "Tu edad es 24\n"
          ],
          "name": "stdout"
        }
      ]
    },
    {
      "cell_type": "code",
      "metadata": {
        "id": "EHIxZ70lrBQE",
        "colab_type": "code",
        "outputId": "7888cb90-b585-488c-bbe5-9072271bf4dc",
        "colab": {
          "base_uri": "https://localhost:8080/",
          "height": 54
        }
      },
      "source": [
        "try:\n",
        "  f = open(\"./test.txt\",\"w+\")\n",
        "  f.write(\"Pokemon\")\n",
        "  print(f)\n",
        "except:\n",
        "  print(\"Something went wrong when writing to the file\")\n",
        "finally:\n",
        "  f.close()"
      ],
      "execution_count": 0,
      "outputs": [
        {
          "output_type": "stream",
          "text": [
            "<_io.TextIOWrapper name='./test.txt' mode='w+' encoding='UTF-8'>\n"
          ],
          "name": "stdout"
        }
      ]
    },
    {
      "cell_type": "markdown",
      "metadata": {
        "id": "LMtVhk6JxX7i",
        "colab_type": "text"
      },
      "source": [
        "# **Lectura de Archivos**"
      ]
    },
    {
      "cell_type": "code",
      "metadata": {
        "id": "K9DTVIgXxmtB",
        "colab_type": "code",
        "outputId": "11383f18-3459-411a-c6eb-064ff362b19b",
        "colab": {
          "base_uri": "https://localhost:8080/",
          "height": 90
        }
      },
      "source": [
        "f = open(\"/test.txt\", \"r\")\n",
        "print(f.read(3))\n",
        "f = open(\"/test.txt\", \"r\")\n",
        "print(f.readline())"
      ],
      "execution_count": 0,
      "outputs": [
        {
          "output_type": "stream",
          "text": [
            "Pok\n",
            "Pokemons\n",
            "\n"
          ],
          "name": "stdout"
        }
      ]
    },
    {
      "cell_type": "markdown",
      "metadata": {
        "id": "48bz_EdKyjSi",
        "colab_type": "text"
      },
      "source": [
        "# **Lectura de Lineas**"
      ]
    },
    {
      "cell_type": "code",
      "metadata": {
        "id": "ylUktQDVyiFT",
        "colab_type": "code",
        "outputId": "0ae3951c-6fe7-4ea3-f967-a596ed48022b",
        "colab": {
          "base_uri": "https://localhost:8080/",
          "height": 72
        }
      },
      "source": [
        "print(f.readline())"
      ],
      "execution_count": 0,
      "outputs": [
        {
          "output_type": "stream",
          "text": [
            "Bulbasur\n",
            "\n"
          ],
          "name": "stdout"
        }
      ]
    },
    {
      "cell_type": "code",
      "metadata": {
        "id": "R72IX4izyuKB",
        "colab_type": "code",
        "outputId": "15909695-6230-4059-9040-95c2fab19b53",
        "colab": {
          "base_uri": "https://localhost:8080/",
          "height": 140
        }
      },
      "source": [
        "f = open(\"/test.txt\", \"r\")\n",
        "for x in f:\n",
        "    print(x)\n",
        "f.close()"
      ],
      "execution_count": 0,
      "outputs": [
        {
          "output_type": "stream",
          "text": [
            "Pokemons\n",
            "\n",
            "Bulbasur\n",
            "\n",
            "Charmander\n",
            "\n",
            "Pikachu\n"
          ],
          "name": "stdout"
        }
      ]
    },
    {
      "cell_type": "markdown",
      "metadata": {
        "id": "c35V0U0X0Ph6",
        "colab_type": "text"
      },
      "source": [
        "# **Añadir elementos en Archivos**"
      ]
    },
    {
      "cell_type": "code",
      "metadata": {
        "id": "wfN0GaRkz-nF",
        "colab_type": "code",
        "outputId": "9729ac66-8435-4781-a34f-58472a434de6",
        "colab": {
          "base_uri": "https://localhost:8080/",
          "height": 34
        }
      },
      "source": [
        "f = open(\"/test1.txt\", \"a\")\n",
        "f.write(\"Hola a todos\")\n",
        "f.close()\n",
        "f = open(\"/test1.txt\", \"r\")\n",
        "print(f.read())"
      ],
      "execution_count": 0,
      "outputs": [
        {
          "output_type": "stream",
          "text": [
            "Estamos añadiendo contenido al archivo!Estamos añadiendo contenido al archivo!Hola a todos\n"
          ],
          "name": "stdout"
        }
      ]
    },
    {
      "cell_type": "markdown",
      "metadata": {
        "id": "AyMuLVk-1nLS",
        "colab_type": "text"
      },
      "source": [
        "# **Escribir en Archivos**"
      ]
    },
    {
      "cell_type": "code",
      "metadata": {
        "id": "KyuP2Yin1lnD",
        "colab_type": "code",
        "colab": {}
      },
      "source": [
        "f = open(\"/test3.txt\", \"w\")\n",
        "f.write(\"Se ha borrado el contenido guardado en test3\")\n",
        "f.close()"
      ],
      "execution_count": 0,
      "outputs": []
    },
    {
      "cell_type": "code",
      "metadata": {
        "id": "5Vmby-3c23Z7",
        "colab_type": "code",
        "colab": {}
      },
      "source": [
        ""
      ],
      "execution_count": 0,
      "outputs": []
    },
    {
      "cell_type": "markdown",
      "metadata": {
        "id": "n1dp_tvf232a",
        "colab_type": "text"
      },
      "source": [
        "# Crear **Archivos**"
      ]
    },
    {
      "cell_type": "code",
      "metadata": {
        "id": "2KyD0NV628c6",
        "colab_type": "code",
        "outputId": "10424d42-4021-44aa-c4f5-37ac2247daea",
        "colab": {
          "base_uri": "https://localhost:8080/",
          "height": 34
        }
      },
      "source": [
        "f = open(\"/myfile.txt\", \"x\") #x indica la creación del archivo\n",
        "\n",
        "f.write(\"Hola Mundo!\")"
      ],
      "execution_count": 0,
      "outputs": [
        {
          "output_type": "execute_result",
          "data": {
            "text/plain": [
              "11"
            ]
          },
          "metadata": {
            "tags": []
          },
          "execution_count": 46
        }
      ]
    },
    {
      "cell_type": "code",
      "metadata": {
        "id": "7nmdZpgh3QXx",
        "colab_type": "code",
        "colab": {}
      },
      "source": [
        "\n",
        "f1 = open(\"/myfile.txt\", \"w\")\n",
        "f1.write(\"Hola Mundo!\")\n",
        "f1.write(\"\\n\")\n",
        "f1.write(\"Hey\")\n",
        "f1.close()\n"
      ],
      "execution_count": 0,
      "outputs": []
    }
  ]
}