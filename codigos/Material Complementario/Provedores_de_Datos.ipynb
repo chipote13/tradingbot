{
 "nbformat": 4,
 "nbformat_minor": 0,
 "metadata": {
  "colab": {
   "name": "Provedores_de_Datos.ipynb",
   "provenance": []
  },
  "kernelspec": {
   "name": "python3",
   "display_name": "Python 3"
  }
 },
 "cells": [
  {
   "cell_type": "markdown",
   "metadata": {
    "id": "agQO0tHsqJWP",
    "pycharm": {
     "name": "#%% md\n"
    }
   },
   "source": [
    "# Introducción a Requests\n",
    "\n",
    "Librería que nos permite hacer llamadas HTTP en Python. Es la forma más habitual a la hora de trabajar con APIs"
   ]
  },
  {
   "cell_type": "markdown",
   "metadata": {
    "id": "9S1_YHVKqURw",
    "pycharm": {
     "name": "#%% md\n"
    }
   },
   "source": []
  },
  {
   "cell_type": "code",
   "metadata": {
    "id": "GYosFJKdqIh1",
    "colab": {
     "base_uri": "https://localhost:8080/"
    },
    "outputId": "c3f6f5ad-c36b-4629-cc73-29d35bf996bb",
    "pycharm": {
     "name": "#%%\n"
    }
   },
   "source": [
    "!pip install requests\n",
    "import requests"
   ],
   "execution_count": null,
   "outputs": [
    {
     "output_type": "stream",
     "text": [
      "Requirement already satisfied: requests in /usr/local/lib/python3.6/dist-packages (2.23.0)\n",
      "Requirement already satisfied: urllib3!=1.25.0,!=1.25.1,<1.26,>=1.21.1 in /usr/local/lib/python3.6/dist-packages (from requests) (1.24.3)\n",
      "Requirement already satisfied: idna<3,>=2.5 in /usr/local/lib/python3.6/dist-packages (from requests) (2.10)\n",
      "Requirement already satisfied: chardet<4,>=3.0.2 in /usr/local/lib/python3.6/dist-packages (from requests) (3.0.4)\n",
      "Requirement already satisfied: certifi>=2017.4.17 in /usr/local/lib/python3.6/dist-packages (from requests) (2020.12.5)\n"
     ],
     "name": "stdout"
    }
   ]
  },
  {
   "cell_type": "code",
   "metadata": {
    "id": "z2NFq38XFr7E",
    "pycharm": {
     "name": "#%%\n"
    }
   },
   "source": [
    "r = requests.get('https://es.stackoverflow.com')"
   ],
   "execution_count": null,
   "outputs": []
  },
  {
   "cell_type": "code",
   "metadata": {
    "colab": {
     "base_uri": "https://localhost:8080/"
    },
    "id": "RlCk8NRNFzjd",
    "outputId": "8f7348fb-b0a8-4207-8cfb-ec2b10d6662c",
    "pycharm": {
     "name": "#%%\n"
    }
   },
   "source": [
    "print(r)"
   ],
   "execution_count": null,
   "outputs": [
    {
     "output_type": "stream",
     "text": [
      "<Response [200]>\n"
     ],
     "name": "stdout"
    }
   ]
  },
  {
   "cell_type": "code",
   "metadata": {
    "colab": {
     "base_uri": "https://localhost:8080/"
    },
    "id": "KEHz3mbCGOPd",
    "outputId": "04af7c08-9ca9-4357-da5a-2888e2511cdd",
    "pycharm": {
     "name": "#%%\n"
    }
   },
   "source": [
    "print(dir(r))"
   ],
   "execution_count": null,
   "outputs": [
    {
     "output_type": "stream",
     "text": [
      "['__attrs__', '__bool__', '__class__', '__delattr__', '__dict__', '__dir__', '__doc__', '__enter__', '__eq__', '__exit__', '__format__', '__ge__', '__getattribute__', '__getstate__', '__gt__', '__hash__', '__init__', '__init_subclass__', '__iter__', '__le__', '__lt__', '__module__', '__ne__', '__new__', '__nonzero__', '__reduce__', '__reduce_ex__', '__repr__', '__setattr__', '__setstate__', '__sizeof__', '__str__', '__subclasshook__', '__weakref__', '_content', '_content_consumed', '_next', 'apparent_encoding', 'close', 'connection', 'content', 'cookies', 'elapsed', 'encoding', 'headers', 'history', 'is_permanent_redirect', 'is_redirect', 'iter_content', 'iter_lines', 'json', 'links', 'next', 'ok', 'raise_for_status', 'raw', 'reason', 'request', 'status_code', 'text', 'url']\n"
     ],
     "name": "stdout"
    }
   ]
  },
  {
   "cell_type": "code",
   "metadata": {
    "id": "d-cYRB0KGUqM",
    "pycharm": {
     "name": "#%%\n"
    }
   },
   "source": [
    "print(r.text)"
   ],
   "execution_count": null,
   "outputs": []
  },
  {
   "cell_type": "code",
   "metadata": {
    "colab": {
     "base_uri": "https://localhost:8080/"
    },
    "id": "9tcTP2AJGrDm",
    "outputId": "89b2b2c8-ca97-4abe-c668-db248c40e3f6",
    "pycharm": {
     "name": "#%%\n"
    }
   },
   "source": [
    "print(r.url)"
   ],
   "execution_count": null,
   "outputs": [
    {
     "output_type": "stream",
     "text": [
      "https://es.stackoverflow.com/\n"
     ],
     "name": "stdout"
    }
   ]
  },
  {
   "cell_type": "code",
   "metadata": {
    "colab": {
     "base_uri": "https://localhost:8080/"
    },
    "id": "QfztKhZgGuYK",
    "outputId": "7ec19b7a-a6e0-4106-ca06-ddf9ada6c56b",
    "pycharm": {
     "name": "#%%\n"
    }
   },
   "source": [
    "print(r.status_code)"
   ],
   "execution_count": null,
   "outputs": [
    {
     "output_type": "stream",
     "text": [
      "200\n"
     ],
     "name": "stdout"
    }
   ]
  },
  {
   "cell_type": "code",
   "metadata": {
    "colab": {
     "base_uri": "https://localhost:8080/"
    },
    "id": "co3HrfUZG2nN",
    "outputId": "ede248f9-d81a-435c-8ce1-e1f69051c0b8",
    "pycharm": {
     "name": "#%%\n"
    }
   },
   "source": [
    "print(r.cookies)"
   ],
   "execution_count": null,
   "outputs": [
    {
     "output_type": "stream",
     "text": [
      "<RequestsCookieJar[<Cookie prov=83f64e51-68e6-7317-56ce-4b936ad2dcc4 for .stackoverflow.com/>]>\n"
     ],
     "name": "stdout"
    }
   ]
  },
  {
   "cell_type": "code",
   "metadata": {
    "colab": {
     "base_uri": "https://localhost:8080/"
    },
    "id": "0WDqhy8CG5zl",
    "outputId": "f66cd680-ac1a-4304-ad1e-a61e15386c51",
    "pycharm": {
     "name": "#%%\n"
    }
   },
   "source": [
    "print(r.headers)\n",
    "print(r.headers.get('Connection'))"
   ],
   "execution_count": null,
   "outputs": [
    {
     "output_type": "stream",
     "text": [
      "{'Connection': 'keep-alive', 'cache-control': 'private', 'content-type': 'text/html; charset=utf-8', 'content-encoding': 'gzip', 'server': 'Microsoft-IIS/10.0', 'strict-transport-security': 'max-age=15552000', 'x-route-name': 'Home/Index', 'x-frame-options': 'SAMEORIGIN', 'x-sql-count': '1', 'x-sql-duration-ms': '3', 'x-redis-count': '1', 'x-redis-duration-ms': '0', 'x-http-count': '2', 'x-http-duration-ms': '0', 'x-te-count': '2', 'x-te-duration-ms': '1', 'x-flags': 'AA', 'x-aspnet-duration-ms': '8', 'x-request-guid': '14df3792-308f-4da1-9bd5-bac66f106fe6', 'x-is-crawler': '1', 'x-providence-cookie': '83f64e51-68e6-7317-56ce-4b936ad2dcc4', 'content-security-policy': \"upgrade-insecure-requests; frame-ancestors 'self' https://stackexchange.com\", 'x-page-view': '1', 'Accept-Ranges': 'bytes', 'Date': 'Sun, 27 Dec 2020 12:18:04 GMT', 'Via': '1.1 varnish', 'X-Served-By': 'cache-bur17557-BUR', 'X-Cache': 'MISS', 'X-Cache-Hits': '0', 'X-Timer': 'S1609071484.132164,VS0,VE75', 'Vary': 'Accept-Encoding,Fastly-SSL', 'X-DNS-Prefetch-Control': 'off', 'Set-Cookie': 'prov=83f64e51-68e6-7317-56ce-4b936ad2dcc4; domain=.stackoverflow.com; expires=Fri, 01-Jan-2055 00:00:00 GMT; path=/; HttpOnly', 'transfer-encoding': 'chunked'}\n",
      "keep-alive\n"
     ],
     "name": "stdout"
    }
   ]
  },
  {
   "cell_type": "code",
   "metadata": {
    "colab": {
     "base_uri": "https://localhost:8080/"
    },
    "id": "Phs7BcQpG91K",
    "outputId": "bb01ac04-2cf7-42c4-d6ce-522f9649e2e1",
    "pycharm": {
     "name": "#%%\n"
    }
   },
   "source": [
    "if(r.status_code == 200):\n",
    "  print('La petición ha sido realizada correctamente')"
   ],
   "execution_count": null,
   "outputs": [
    {
     "output_type": "stream",
     "text": [
      "La petición ha sido realiza correctamente\n"
     ],
     "name": "stdout"
    }
   ]
  },
  {
   "cell_type": "markdown",
   "metadata": {
    "id": "BIWPRecEnq0z",
    "pycharm": {
     "name": "#%% md\n"
    }
   },
   "source": [
    "# Introducción a IEX Cloud"
   ]
  },
  {
   "cell_type": "markdown",
   "metadata": {
    "id": "qSmNdeXouaZ7",
    "pycharm": {
     "name": "#%% md\n"
    }
   },
   "source": [
    "Es un provedor de datos financieros que provee una API para extraer los datos\n"
   ]
  },
  {
   "cell_type": "markdown",
   "metadata": {
    "id": "1Z8Ahh3RyoVc",
    "pycharm": {
     "name": "#%% md\n"
    }
   },
   "source": [
    "[Documentación Iex Cloud](https://iexcloud.io/support/)\n",
    "\n"
   ]
  },
  {
   "cell_type": "markdown",
   "metadata": {
    "id": "njIRbHCLutyX",
    "pycharm": {
     "name": "#%% md\n"
    }
   },
   "source": [
    "# ¿Por que IEX Cloud?\n",
    "\n",
    "1.   Capa Gratuita (50,000 mesensaje /mes) y Uso Ilimitado del Sandbox Test\n",
    "2.   Buena documentación \n",
    "3.  Interfaz intuitiva con buena capacidad de Monitorización\n",
    "4. Infraestructura robusta ya que utiliza la cache para almacenar peticiones realizadas con anterioridad ( Versión de Pago)\n",
    "5. A nivel de pago Es un provedor que ofrece muchisimas opciones\n",
    "\n"
   ]
  },
  {
   "cell_type": "code",
   "metadata": {
    "colab": {
     "base_uri": "https://localhost:8080/"
    },
    "id": "ad2AFhsduFAc",
    "outputId": "9b22fc45-2247-44c9-fcd6-e919e69120ca",
    "pycharm": {
     "name": "#%%\n"
    }
   },
   "source": [
    "!pip install iexfinance"
   ],
   "execution_count": null,
   "outputs": [
    {
     "output_type": "stream",
     "text": [
      "Collecting iexfinance\n",
      "\u001B[?25l  Downloading https://files.pythonhosted.org/packages/39/a6/653eb3306789f97f761a7889913923e0e814967a342099d4f11c0604eaa1/iexfinance-0.5.0-py3-none-any.whl (54kB)\n",
      "\r\u001B[K     |██████                          | 10kB 17.1MB/s eta 0:00:01\r\u001B[K     |████████████                    | 20kB 10.5MB/s eta 0:00:01\r\u001B[K     |██████████████████              | 30kB 7.3MB/s eta 0:00:01\r\u001B[K     |████████████████████████▏       | 40kB 6.9MB/s eta 0:00:01\r\u001B[K     |██████████████████████████████▏ | 51kB 4.4MB/s eta 0:00:01\r\u001B[K     |████████████████████████████████| 61kB 3.1MB/s \n",
      "\u001B[?25hRequirement already satisfied: pandas in /usr/local/lib/python3.6/dist-packages (from iexfinance) (1.1.5)\n",
      "Requirement already satisfied: requests in /usr/local/lib/python3.6/dist-packages (from iexfinance) (2.23.0)\n",
      "Requirement already satisfied: python-dateutil>=2.7.3 in /usr/local/lib/python3.6/dist-packages (from pandas->iexfinance) (2.8.1)\n",
      "Requirement already satisfied: pytz>=2017.2 in /usr/local/lib/python3.6/dist-packages (from pandas->iexfinance) (2018.9)\n",
      "Requirement already satisfied: numpy>=1.15.4 in /usr/local/lib/python3.6/dist-packages (from pandas->iexfinance) (1.19.4)\n",
      "Requirement already satisfied: idna<3,>=2.5 in /usr/local/lib/python3.6/dist-packages (from requests->iexfinance) (2.10)\n",
      "Requirement already satisfied: chardet<4,>=3.0.2 in /usr/local/lib/python3.6/dist-packages (from requests->iexfinance) (3.0.4)\n",
      "Requirement already satisfied: certifi>=2017.4.17 in /usr/local/lib/python3.6/dist-packages (from requests->iexfinance) (2020.12.5)\n",
      "Requirement already satisfied: urllib3!=1.25.0,!=1.25.1,<1.26,>=1.21.1 in /usr/local/lib/python3.6/dist-packages (from requests->iexfinance) (1.24.3)\n",
      "Requirement already satisfied: six>=1.5 in /usr/local/lib/python3.6/dist-packages (from python-dateutil>=2.7.3->pandas->iexfinance) (1.15.0)\n",
      "Installing collected packages: iexfinance\n",
      "Successfully installed iexfinance-0.5.0\n"
     ],
     "name": "stdout"
    }
   ]
  },
  {
   "cell_type": "code",
   "metadata": {
    "id": "Fki10-rIznME",
    "pycharm": {
     "name": "#%%\n"
    }
   },
   "source": [
    "from iexfinance.refdata import get_symbols\n",
    "from iexfinance.stocks import Stock\n",
    "import pandas as pd\n",
    "api_token='pk_8984ac675cbc4966b9d0cce7a634b5ed'\n",
    "api_sandobox = 'Tpk_bd997f1924174db6b06d818b2dbcd3b2'"
   ],
   "execution_count": null,
   "outputs": []
  },
  {
   "cell_type": "code",
   "metadata": {
    "colab": {
     "base_uri": "https://localhost:8080/",
     "height": 875
    },
    "id": "UVTW61rCm6DX",
    "outputId": "d69cf804-a191-41b6-925f-7cf3ee95048e",
    "pycharm": {
     "name": "#%%\n"
    }
   },
   "source": [
    "get_symbols(token=api_token)"
   ],
   "execution_count": null,
   "outputs": [
    {
     "output_type": "execute_result",
     "data": {
      "text/html": [
       "<div>\n",
       "<style scoped>\n",
       "    .dataframe tbody tr th:only-of-type {\n",
       "        vertical-align: middle;\n",
       "    }\n",
       "\n",
       "    .dataframe tbody tr th {\n",
       "        vertical-align: top;\n",
       "    }\n",
       "\n",
       "    .dataframe thead th {\n",
       "        text-align: right;\n",
       "    }\n",
       "</style>\n",
       "<table border=\"1\" class=\"dataframe\">\n",
       "  <thead>\n",
       "    <tr style=\"text-align: right;\">\n",
       "      <th></th>\n",
       "      <th>symbol</th>\n",
       "      <th>exchange</th>\n",
       "      <th>exchangeSuffix</th>\n",
       "      <th>exchangeName</th>\n",
       "      <th>name</th>\n",
       "      <th>date</th>\n",
       "      <th>type</th>\n",
       "      <th>iexId</th>\n",
       "      <th>region</th>\n",
       "      <th>currency</th>\n",
       "      <th>isEnabled</th>\n",
       "      <th>figi</th>\n",
       "      <th>cik</th>\n",
       "      <th>lei</th>\n",
       "    </tr>\n",
       "  </thead>\n",
       "  <tbody>\n",
       "    <tr>\n",
       "      <th>0</th>\n",
       "      <td>A</td>\n",
       "      <td>NYS</td>\n",
       "      <td>UN</td>\n",
       "      <td>NEW YORK STOCK EXCHANGE, INC.</td>\n",
       "      <td>Agilent Technologies Inc.</td>\n",
       "      <td>2020-12-19</td>\n",
       "      <td>cs</td>\n",
       "      <td>IEX_46574843354B2D52</td>\n",
       "      <td>US</td>\n",
       "      <td>USD</td>\n",
       "      <td>True</td>\n",
       "      <td>BBG000C2V3D6</td>\n",
       "      <td>0001090872</td>\n",
       "      <td>QUIX8Y7A2WP0XRMW7G29</td>\n",
       "    </tr>\n",
       "    <tr>\n",
       "      <th>1</th>\n",
       "      <td>AA</td>\n",
       "      <td>NYS</td>\n",
       "      <td>UN</td>\n",
       "      <td>NEW YORK STOCK EXCHANGE, INC.</td>\n",
       "      <td>Alcoa Corp</td>\n",
       "      <td>2020-12-19</td>\n",
       "      <td>cs</td>\n",
       "      <td>IEX_4238333734532D52</td>\n",
       "      <td>US</td>\n",
       "      <td>USD</td>\n",
       "      <td>True</td>\n",
       "      <td>BBG00B3T3HD3</td>\n",
       "      <td>0001675149</td>\n",
       "      <td>549300T12EZ1F6PWWU29</td>\n",
       "    </tr>\n",
       "    <tr>\n",
       "      <th>2</th>\n",
       "      <td>AAA</td>\n",
       "      <td>USPAC</td>\n",
       "      <td>UP</td>\n",
       "      <td>NYSE ARCA</td>\n",
       "      <td>Listed Funds Trust - AAF First Priority CLO Bo...</td>\n",
       "      <td>2020-12-19</td>\n",
       "      <td>et</td>\n",
       "      <td>IEX_5030314338392D52</td>\n",
       "      <td>US</td>\n",
       "      <td>USD</td>\n",
       "      <td>True</td>\n",
       "      <td>BBG00X5FSP48</td>\n",
       "      <td>0001683471</td>\n",
       "      <td>None</td>\n",
       "    </tr>\n",
       "    <tr>\n",
       "      <th>3</th>\n",
       "      <td>AAAU</td>\n",
       "      <td>USPAC</td>\n",
       "      <td>UP</td>\n",
       "      <td>NYSE ARCA</td>\n",
       "      <td>Goldman Sachs Physical Gold ETF Shares - Goldm...</td>\n",
       "      <td>2020-12-19</td>\n",
       "      <td>et</td>\n",
       "      <td>IEX_474B433136332D52</td>\n",
       "      <td>US</td>\n",
       "      <td>USD</td>\n",
       "      <td>True</td>\n",
       "      <td>BBG00LPXX872</td>\n",
       "      <td>0001708646</td>\n",
       "      <td>None</td>\n",
       "    </tr>\n",
       "    <tr>\n",
       "      <th>4</th>\n",
       "      <td>AACG</td>\n",
       "      <td>NAS</td>\n",
       "      <td></td>\n",
       "      <td>NASDAQ/NMS (GLOBAL MARKET)</td>\n",
       "      <td>ATA Creativity Global - ADR</td>\n",
       "      <td>2020-12-19</td>\n",
       "      <td>ad</td>\n",
       "      <td>IEX_44595A4C53392D52</td>\n",
       "      <td>US</td>\n",
       "      <td>USD</td>\n",
       "      <td>True</td>\n",
       "      <td>BBG000V2S3P6</td>\n",
       "      <td>0001420529</td>\n",
       "      <td>None</td>\n",
       "    </tr>\n",
       "    <tr>\n",
       "      <th>...</th>\n",
       "      <td>...</td>\n",
       "      <td>...</td>\n",
       "      <td>...</td>\n",
       "      <td>...</td>\n",
       "      <td>...</td>\n",
       "      <td>...</td>\n",
       "      <td>...</td>\n",
       "      <td>...</td>\n",
       "      <td>...</td>\n",
       "      <td>...</td>\n",
       "      <td>...</td>\n",
       "      <td>...</td>\n",
       "      <td>...</td>\n",
       "      <td>...</td>\n",
       "    </tr>\n",
       "    <tr>\n",
       "      <th>9299</th>\n",
       "      <td>ZUO</td>\n",
       "      <td>NYS</td>\n",
       "      <td>UN</td>\n",
       "      <td>NEW YORK STOCK EXCHANGE, INC.</td>\n",
       "      <td>Zuora Inc - Class A</td>\n",
       "      <td>2020-12-19</td>\n",
       "      <td>cs</td>\n",
       "      <td>IEX_4D474631525A2D52</td>\n",
       "      <td>US</td>\n",
       "      <td>USD</td>\n",
       "      <td>True</td>\n",
       "      <td>BBG000BT3HG5</td>\n",
       "      <td>0001423774</td>\n",
       "      <td>549300ISVGC1YZWQJ420</td>\n",
       "    </tr>\n",
       "    <tr>\n",
       "      <th>9300</th>\n",
       "      <td>ZVO</td>\n",
       "      <td>NAS</td>\n",
       "      <td></td>\n",
       "      <td>NASDAQ/NGS (GLOBAL SELECT MARKET)</td>\n",
       "      <td>Zovio Inc</td>\n",
       "      <td>2020-12-19</td>\n",
       "      <td>cs</td>\n",
       "      <td>IEX_514A435352362D52</td>\n",
       "      <td>US</td>\n",
       "      <td>USD</td>\n",
       "      <td>True</td>\n",
       "      <td>BBG000C3CQP1</td>\n",
       "      <td>0001305323</td>\n",
       "      <td>None</td>\n",
       "    </tr>\n",
       "    <tr>\n",
       "      <th>9301</th>\n",
       "      <td>ZYME</td>\n",
       "      <td>NYS</td>\n",
       "      <td>UN</td>\n",
       "      <td>NEW YORK STOCK EXCHANGE, INC.</td>\n",
       "      <td>Zymeworks Inc</td>\n",
       "      <td>2020-12-19</td>\n",
       "      <td>cs</td>\n",
       "      <td>IEX_5253315838322D52</td>\n",
       "      <td>US</td>\n",
       "      <td>USD</td>\n",
       "      <td>True</td>\n",
       "      <td>BBG00GD15LJ5</td>\n",
       "      <td>0001403752</td>\n",
       "      <td>894500AHOYAGYLYZJL67</td>\n",
       "    </tr>\n",
       "    <tr>\n",
       "      <th>9302</th>\n",
       "      <td>ZYNE</td>\n",
       "      <td>NAS</td>\n",
       "      <td></td>\n",
       "      <td>NASDAQ/NMS (GLOBAL MARKET)</td>\n",
       "      <td>Zynerba Pharmaceuticals Inc</td>\n",
       "      <td>2020-12-19</td>\n",
       "      <td>cs</td>\n",
       "      <td>IEX_4E3154424A382D52</td>\n",
       "      <td>US</td>\n",
       "      <td>USD</td>\n",
       "      <td>True</td>\n",
       "      <td>BBG007BBS8B7</td>\n",
       "      <td>0001621443</td>\n",
       "      <td>549300JLJ5VQU2CN6016</td>\n",
       "    </tr>\n",
       "    <tr>\n",
       "      <th>9303</th>\n",
       "      <td>ZYXI</td>\n",
       "      <td>NAS</td>\n",
       "      <td></td>\n",
       "      <td>NASDAQ CAPITAL MARKET</td>\n",
       "      <td>Zynex Inc</td>\n",
       "      <td>2020-12-19</td>\n",
       "      <td>cs</td>\n",
       "      <td>IEX_4E464C4C4A462D52</td>\n",
       "      <td>US</td>\n",
       "      <td>USD</td>\n",
       "      <td>True</td>\n",
       "      <td>BBG000BJBXZ2</td>\n",
       "      <td>0000846475</td>\n",
       "      <td>None</td>\n",
       "    </tr>\n",
       "  </tbody>\n",
       "</table>\n",
       "<p>9304 rows × 14 columns</p>\n",
       "</div>"
      ],
      "text/plain": [
       "     symbol exchange  ...         cik                   lei\n",
       "0         A      NYS  ...  0001090872  QUIX8Y7A2WP0XRMW7G29\n",
       "1        AA      NYS  ...  0001675149  549300T12EZ1F6PWWU29\n",
       "2       AAA    USPAC  ...  0001683471                  None\n",
       "3      AAAU    USPAC  ...  0001708646                  None\n",
       "4      AACG      NAS  ...  0001420529                  None\n",
       "...     ...      ...  ...         ...                   ...\n",
       "9299    ZUO      NYS  ...  0001423774  549300ISVGC1YZWQJ420\n",
       "9300    ZVO      NAS  ...  0001305323                  None\n",
       "9301   ZYME      NYS  ...  0001403752  894500AHOYAGYLYZJL67\n",
       "9302   ZYNE      NAS  ...  0001621443  549300JLJ5VQU2CN6016\n",
       "9303   ZYXI      NAS  ...  0000846475                  None\n",
       "\n",
       "[9304 rows x 14 columns]"
      ]
     },
     "metadata": {
      "tags": []
     },
     "execution_count": 4
    }
   ]
  },
  {
   "cell_type": "code",
   "metadata": {
    "id": "i8BrQyKP0Ney",
    "colab": {
     "base_uri": "https://localhost:8080/",
     "height": 147
    },
    "outputId": "6fc79120-85ae-4f51-d1c7-4f0d262e17b7",
    "pycharm": {
     "name": "#%%\n"
    }
   },
   "source": [
    "a = Stock(\"AAPL\", token=api_token)\n",
    "a.get_quote()"
   ],
   "execution_count": null,
   "outputs": [
    {
     "output_type": "execute_result",
     "data": {
      "text/html": [
       "<div>\n",
       "<style scoped>\n",
       "    .dataframe tbody tr th:only-of-type {\n",
       "        vertical-align: middle;\n",
       "    }\n",
       "\n",
       "    .dataframe tbody tr th {\n",
       "        vertical-align: top;\n",
       "    }\n",
       "\n",
       "    .dataframe thead th {\n",
       "        text-align: right;\n",
       "    }\n",
       "</style>\n",
       "<table border=\"1\" class=\"dataframe\">\n",
       "  <thead>\n",
       "    <tr style=\"text-align: right;\">\n",
       "      <th></th>\n",
       "      <th>avgTotalVolume</th>\n",
       "      <th>calculationPrice</th>\n",
       "      <th>change</th>\n",
       "      <th>changePercent</th>\n",
       "      <th>close</th>\n",
       "      <th>closeSource</th>\n",
       "      <th>closeTime</th>\n",
       "      <th>companyName</th>\n",
       "      <th>delayedPrice</th>\n",
       "      <th>delayedPriceTime</th>\n",
       "      <th>extendedChange</th>\n",
       "      <th>extendedChangePercent</th>\n",
       "      <th>extendedPrice</th>\n",
       "      <th>extendedPriceTime</th>\n",
       "      <th>high</th>\n",
       "      <th>highSource</th>\n",
       "      <th>highTime</th>\n",
       "      <th>iexAskPrice</th>\n",
       "      <th>iexAskSize</th>\n",
       "      <th>iexBidPrice</th>\n",
       "      <th>iexBidSize</th>\n",
       "      <th>iexClose</th>\n",
       "      <th>iexCloseTime</th>\n",
       "      <th>iexLastUpdated</th>\n",
       "      <th>iexMarketPercent</th>\n",
       "      <th>iexOpen</th>\n",
       "      <th>iexOpenTime</th>\n",
       "      <th>iexRealtimePrice</th>\n",
       "      <th>iexRealtimeSize</th>\n",
       "      <th>iexVolume</th>\n",
       "      <th>isUSMarketOpen</th>\n",
       "      <th>lastTradeTime</th>\n",
       "      <th>latestPrice</th>\n",
       "      <th>latestSource</th>\n",
       "      <th>latestTime</th>\n",
       "      <th>latestUpdate</th>\n",
       "      <th>latestVolume</th>\n",
       "      <th>low</th>\n",
       "      <th>lowSource</th>\n",
       "      <th>lowTime</th>\n",
       "      <th>marketCap</th>\n",
       "      <th>oddLotDelayedPrice</th>\n",
       "      <th>oddLotDelayedPriceTime</th>\n",
       "      <th>open</th>\n",
       "      <th>openSource</th>\n",
       "      <th>openTime</th>\n",
       "      <th>peRatio</th>\n",
       "      <th>previousClose</th>\n",
       "      <th>previousVolume</th>\n",
       "      <th>primaryExchange</th>\n",
       "      <th>symbol</th>\n",
       "      <th>volume</th>\n",
       "      <th>week52High</th>\n",
       "      <th>week52Low</th>\n",
       "      <th>ytdChange</th>\n",
       "    </tr>\n",
       "  </thead>\n",
       "  <tbody>\n",
       "    <tr>\n",
       "      <th>AAPL</th>\n",
       "      <td>102823721</td>\n",
       "      <td>close</td>\n",
       "      <td>-2.045</td>\n",
       "      <td>-0.01589</td>\n",
       "      <td>126.655</td>\n",
       "      <td>official</td>\n",
       "      <td>1608325201311</td>\n",
       "      <td>Apple Inc</td>\n",
       "      <td>126.87</td>\n",
       "      <td>1608325173670</td>\n",
       "      <td>0.645</td>\n",
       "      <td>0.00509</td>\n",
       "      <td>127.3</td>\n",
       "      <td>1608339598174</td>\n",
       "      <td>129.1</td>\n",
       "      <td>15 minute delayed price</td>\n",
       "      <td>1608325173952</td>\n",
       "      <td>None</td>\n",
       "      <td>None</td>\n",
       "      <td>None</td>\n",
       "      <td>None</td>\n",
       "      <td>126.93</td>\n",
       "      <td>1608325193902</td>\n",
       "      <td>None</td>\n",
       "      <td>None</td>\n",
       "      <td>127.08</td>\n",
       "      <td>1608328290013</td>\n",
       "      <td>None</td>\n",
       "      <td>None</td>\n",
       "      <td>None</td>\n",
       "      <td>False</td>\n",
       "      <td>1608325193902</td>\n",
       "      <td>126.655</td>\n",
       "      <td>Close</td>\n",
       "      <td>December 18, 2020</td>\n",
       "      <td>1608325201311</td>\n",
       "      <td>192541496</td>\n",
       "      <td>126.12</td>\n",
       "      <td>15 minute delayed price</td>\n",
       "      <td>1608322930724</td>\n",
       "      <td>2153363232310</td>\n",
       "      <td>126.86</td>\n",
       "      <td>1608325173704</td>\n",
       "      <td>129</td>\n",
       "      <td>official</td>\n",
       "      <td>1608301802109</td>\n",
       "      <td>38.61</td>\n",
       "      <td>128.7</td>\n",
       "      <td>94359811</td>\n",
       "      <td>NASDAQ/NGS (GLOBAL SELECT MARKET)</td>\n",
       "      <td>AAPL</td>\n",
       "      <td>192541496</td>\n",
       "      <td>133.95</td>\n",
       "      <td>55.74</td>\n",
       "      <td>0.724261</td>\n",
       "    </tr>\n",
       "  </tbody>\n",
       "</table>\n",
       "</div>"
      ],
      "text/plain": [
       "     avgTotalVolume calculationPrice change  ... week52High week52Low ytdChange\n",
       "AAPL      102823721            close -2.045  ...     133.95     55.74  0.724261\n",
       "\n",
       "[1 rows x 55 columns]"
      ]
     },
     "metadata": {
      "tags": []
     },
     "execution_count": 12
    }
   ]
  },
  {
   "cell_type": "markdown",
   "metadata": {
    "id": "Af_89Vv03BjR",
    "pycharm": {
     "name": "#%% md\n"
    }
   },
   "source": [
    "# ¿Que es la Beta de una empresa?"
   ]
  },
  {
   "cell_type": "markdown",
   "metadata": {
    "id": "3SUYB2bj3Iz6",
    "pycharm": {
     "name": "#%% md\n"
    }
   },
   "source": [
    "Beta es una medida de la volatilidad, o riesgo sistemático, de un valor o cartera en comparación con el mercado en su conjunto"
   ]
  },
  {
   "cell_type": "markdown",
   "metadata": {
    "id": "ba3iiT1-6k-D",
    "pycharm": {
     "name": "#%% md\n"
    }
   },
   "source": [
    "![image.png](data:image/png;base64,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)"
   ]
  },
  {
   "cell_type": "markdown",
   "metadata": {
    "id": "ir8hCpuv7i3R",
    "pycharm": {
     "name": "#%% md\n"
    }
   },
   "source": [
    "* Re --> Retorno de la empresa\n",
    "* Rm --> Retorno del mercado "
   ]
  },
  {
   "cell_type": "markdown",
   "metadata": {
    "id": "NQf3Qdxu7zZR",
    "pycharm": {
     "name": "#%% md\n"
    }
   },
   "source": [
    "* La varianza Rm  mide cuanto diferencia de ganacias existen respecto de la media\n",
    "* La covarianza Re,Rm nos mide cuanto cambia el beneficio de una empresa determina respecto del beneficio del indice de referencia, tipicamente el syp500"
   ]
  },
  {
   "cell_type": "markdown",
   "metadata": {
    "id": "PYEAWFfh6qPp",
    "pycharm": {
     "name": "#%% md\n"
    }
   },
   "source": [
    "Si B>1 Indica que la voltailidad del activo es superior al mercado. \n",
    "Esto implica que el riesgo-beneficio es mayor y viceversa.\n",
    "* Ejemplo de empresas B>1: AMZN,TSLA,APPLE\n",
    "* B<1 : COKE, JNJ\n"
   ]
  },
  {
   "cell_type": "markdown",
   "metadata": {
    "id": "0vbvB3Fw88jR",
    "pycharm": {
     "name": "#%% md\n"
    }
   },
   "source": [
    "* Si B<0 NOS indica que el activo esta inversamente correlado con el mercado."
   ]
  },
  {
   "cell_type": "code",
   "metadata": {
    "colab": {
     "base_uri": "https://localhost:8080/"
    },
    "id": "8iKpTsfF0dS7",
    "outputId": "1a64b374-6616-48fa-8806-fa5065fb1285",
    "pycharm": {
     "name": "#%%\n"
    }
   },
   "source": [
    "a.get_beta()"
   ],
   "execution_count": null,
   "outputs": [
    {
     "output_type": "execute_result",
     "data": {
      "text/plain": [
       "1.1578368665504304"
      ]
     },
     "metadata": {
      "tags": []
     },
     "execution_count": 13
    }
   ]
  },
  {
   "cell_type": "markdown",
   "metadata": {
    "id": "zF6Sfx82l05k",
    "pycharm": {
     "name": "#%% md\n"
    }
   },
   "source": [
    "# API batch"
   ]
  },
  {
   "cell_type": "code",
   "metadata": {
    "id": "rzzxELZqoND9",
    "pycharm": {
     "name": "#%%\n"
    }
   },
   "source": [
    "stocks = [\"TSLA\", \"AMZN\",\"MSFT\",\"SPOT\"]"
   ],
   "execution_count": null,
   "outputs": []
  },
  {
   "cell_type": "code",
   "metadata": {
    "id": "05qxMOAopT3u",
    "pycharm": {
     "name": "#%%\n"
    }
   },
   "source": [
    "def getCompanyInfo(symbols):\n",
    "    stock_batch = Stock(symbols,\n",
    "                        token=api_token)\n",
    "    company_info = stock_batch.get_company()\n",
    "    return company_info"
   ],
   "execution_count": null,
   "outputs": []
  },
  {
   "cell_type": "code",
   "metadata": {
    "colab": {
     "base_uri": "https://localhost:8080/",
     "height": 404
    },
    "id": "w0OyFbkA34AJ",
    "outputId": "a42a6620-e550-4a74-9fbf-2507d3e74871",
    "pycharm": {
     "name": "#%%\n"
    }
   },
   "source": [
    "getCompanyInfo(stocks)"
   ],
   "execution_count": null,
   "outputs": [
    {
     "output_type": "execute_result",
     "data": {
      "text/html": [
       "<div>\n",
       "<style scoped>\n",
       "    .dataframe tbody tr th:only-of-type {\n",
       "        vertical-align: middle;\n",
       "    }\n",
       "\n",
       "    .dataframe tbody tr th {\n",
       "        vertical-align: top;\n",
       "    }\n",
       "\n",
       "    .dataframe thead th {\n",
       "        text-align: right;\n",
       "    }\n",
       "</style>\n",
       "<table border=\"1\" class=\"dataframe\">\n",
       "  <thead>\n",
       "    <tr style=\"text-align: right;\">\n",
       "      <th></th>\n",
       "      <th>symbol</th>\n",
       "      <th>companyName</th>\n",
       "      <th>exchange</th>\n",
       "      <th>industry</th>\n",
       "      <th>website</th>\n",
       "      <th>description</th>\n",
       "      <th>CEO</th>\n",
       "      <th>securityName</th>\n",
       "      <th>issueType</th>\n",
       "      <th>sector</th>\n",
       "      <th>primarySicCode</th>\n",
       "      <th>employees</th>\n",
       "      <th>tags</th>\n",
       "      <th>address</th>\n",
       "      <th>address2</th>\n",
       "      <th>state</th>\n",
       "      <th>city</th>\n",
       "      <th>zip</th>\n",
       "      <th>country</th>\n",
       "      <th>phone</th>\n",
       "    </tr>\n",
       "  </thead>\n",
       "  <tbody>\n",
       "    <tr>\n",
       "      <th>TSLA</th>\n",
       "      <td>TSLA</td>\n",
       "      <td>Tesla Inc</td>\n",
       "      <td>NASDAQ/NGS (GLOBAL SELECT MARKET)</td>\n",
       "      <td>Automobile Manufacturing</td>\n",
       "      <td>https://www.tesla.com/</td>\n",
       "      <td></td>\n",
       "      <td>Elon Musk</td>\n",
       "      <td>Tesla Inc</td>\n",
       "      <td>cs</td>\n",
       "      <td>Manufacturing</td>\n",
       "      <td>3711</td>\n",
       "      <td>None</td>\n",
       "      <td>[Consumer Durables, Motor Vehicles, Manufactur...</td>\n",
       "      <td>3500 Deer Creek Rd</td>\n",
       "      <td>None</td>\n",
       "      <td>California</td>\n",
       "      <td>Palo alto</td>\n",
       "      <td>94304-1317</td>\n",
       "      <td>US</td>\n",
       "      <td>16506815000</td>\n",
       "    </tr>\n",
       "    <tr>\n",
       "      <th>AMZN</th>\n",
       "      <td>AMZN</td>\n",
       "      <td>Amazon.com Inc.</td>\n",
       "      <td>NASDAQ/NGS (GLOBAL SELECT MARKET)</td>\n",
       "      <td>Electronic Shopping and Mail-Order Houses</td>\n",
       "      <td>http://www.amazon.com/</td>\n",
       "      <td></td>\n",
       "      <td>Jeffrey Bezos</td>\n",
       "      <td>Amazon.com Inc.</td>\n",
       "      <td>cs</td>\n",
       "      <td>Retail Trade</td>\n",
       "      <td>5961</td>\n",
       "      <td>None</td>\n",
       "      <td>[Retail Trade, Internet Retail]</td>\n",
       "      <td>410 Terry Ave N</td>\n",
       "      <td>None</td>\n",
       "      <td>Washington</td>\n",
       "      <td>Seattle</td>\n",
       "      <td>98109-5210</td>\n",
       "      <td>US</td>\n",
       "      <td>12062661000</td>\n",
       "    </tr>\n",
       "    <tr>\n",
       "      <th>MSFT</th>\n",
       "      <td>MSFT</td>\n",
       "      <td>Microsoft Corporation</td>\n",
       "      <td>NASDAQ/NGS (GLOBAL SELECT MARKET)</td>\n",
       "      <td>Data Processing, Hosting, and Related Services</td>\n",
       "      <td>https://www.microsoft.com/en-us</td>\n",
       "      <td></td>\n",
       "      <td>Satya Nadella</td>\n",
       "      <td>Microsoft Corporation</td>\n",
       "      <td>cs</td>\n",
       "      <td>Information</td>\n",
       "      <td>7372</td>\n",
       "      <td>None</td>\n",
       "      <td>[Technology Services, Packaged Software, Infor...</td>\n",
       "      <td>1 Microsoft Way</td>\n",
       "      <td>None</td>\n",
       "      <td>Washington</td>\n",
       "      <td>Redmond</td>\n",
       "      <td>98052-6399</td>\n",
       "      <td>US</td>\n",
       "      <td>14258828080</td>\n",
       "    </tr>\n",
       "    <tr>\n",
       "      <th>SPOT</th>\n",
       "      <td>SPOT</td>\n",
       "      <td>Spotify Technology S.A.</td>\n",
       "      <td>NEW YORK STOCK EXCHANGE, INC.</td>\n",
       "      <td>Software Publishers</td>\n",
       "      <td></td>\n",
       "      <td></td>\n",
       "      <td>Daniel Ek</td>\n",
       "      <td>Spotify Technology S.A.</td>\n",
       "      <td>cs</td>\n",
       "      <td>Information</td>\n",
       "      <td>4832</td>\n",
       "      <td>None</td>\n",
       "      <td>[Technology Services, Internet Software/Servic...</td>\n",
       "      <td>None</td>\n",
       "      <td>None</td>\n",
       "      <td>Luxembourg</td>\n",
       "      <td>42-44 avenue de la gare</td>\n",
       "      <td>1610</td>\n",
       "      <td>Luxembourg</td>\n",
       "      <td>46702204607</td>\n",
       "    </tr>\n",
       "  </tbody>\n",
       "</table>\n",
       "</div>"
      ],
      "text/plain": [
       "     symbol              companyName  ...     country        phone\n",
       "TSLA   TSLA                Tesla Inc  ...          US  16506815000\n",
       "AMZN   AMZN          Amazon.com Inc.  ...          US  12062661000\n",
       "MSFT   MSFT    Microsoft Corporation  ...          US  14258828080\n",
       "SPOT   SPOT  Spotify Technology S.A.  ...  Luxembourg  46702204607\n",
       "\n",
       "[4 rows x 20 columns]"
      ]
     },
     "metadata": {
      "tags": []
     },
     "execution_count": 16
    }
   ]
  },
  {
   "cell_type": "code",
   "metadata": {
    "id": "wRM7DGG7uaf1",
    "pycharm": {
     "name": "#%%\n"
    }
   },
   "source": [
    "def getEarnings(symbol):\n",
    "    stock_batch = Stock(symbol,\n",
    "                        token=api_token)\n",
    "    earnings = stock_batch.get_earnings(last=1)\n",
    "    return earnings"
   ],
   "execution_count": null,
   "outputs": []
  },
  {
   "cell_type": "code",
   "metadata": {
    "colab": {
     "base_uri": "https://localhost:8080/",
     "height": 332
    },
    "id": "zQLnOBkPuknO",
    "outputId": "04b06f2b-eb3f-41dc-e95a-2e73c824507d",
    "pycharm": {
     "name": "#%%\n"
    }
   },
   "source": [
    "getEarnings('MSFT')"
   ],
   "execution_count": null,
   "outputs": [
    {
     "output_type": "error",
     "ename": "IEXQueryError",
     "evalue": "ignored",
     "traceback": [
      "\u001B[0;31m---------------------------------------------------------------------------\u001B[0m",
      "\u001B[0;31mIEXQueryError\u001B[0m                             Traceback (most recent call last)",
      "\u001B[0;32m<ipython-input-18-095e1e8770db>\u001B[0m in \u001B[0;36m<module>\u001B[0;34m()\u001B[0m\n\u001B[0;32m----> 1\u001B[0;31m \u001B[0mgetEarnings\u001B[0m\u001B[0;34m(\u001B[0m\u001B[0;34m'MSFT'\u001B[0m\u001B[0;34m)\u001B[0m\u001B[0;34m\u001B[0m\u001B[0;34m\u001B[0m\u001B[0m\n\u001B[0m",
      "\u001B[0;32m<ipython-input-17-afb4e8b0fb70>\u001B[0m in \u001B[0;36mgetEarnings\u001B[0;34m(symbol)\u001B[0m\n\u001B[1;32m      2\u001B[0m     stock_batch = Stock(symbol,\n\u001B[1;32m      3\u001B[0m                         token=api_token)\n\u001B[0;32m----> 4\u001B[0;31m     \u001B[0mearnings\u001B[0m \u001B[0;34m=\u001B[0m \u001B[0mstock_batch\u001B[0m\u001B[0;34m.\u001B[0m\u001B[0mget_earnings\u001B[0m\u001B[0;34m(\u001B[0m\u001B[0mlast\u001B[0m\u001B[0;34m=\u001B[0m\u001B[0;36m1\u001B[0m\u001B[0;34m)\u001B[0m\u001B[0;34m\u001B[0m\u001B[0;34m\u001B[0m\u001B[0m\n\u001B[0m\u001B[1;32m      5\u001B[0m     \u001B[0;32mreturn\u001B[0m \u001B[0mearnings\u001B[0m\u001B[0;34m\u001B[0m\u001B[0;34m\u001B[0m\u001B[0m\n",
      "\u001B[0;32m/usr/local/lib/python3.6/dist-packages/iexfinance/stocks/base.py\u001B[0m in \u001B[0;36mget_earnings\u001B[0;34m(self, **kwargs)\u001B[0m\n\u001B[1;32m    586\u001B[0m             \u001B[0;32mreturn\u001B[0m \u001B[0mresults\u001B[0m\u001B[0;34m[\u001B[0m\u001B[0mself\u001B[0m\u001B[0;34m.\u001B[0m\u001B[0msymbols\u001B[0m\u001B[0;34m[\u001B[0m\u001B[0;36m0\u001B[0m\u001B[0;34m]\u001B[0m\u001B[0;34m]\u001B[0m\u001B[0;34m.\u001B[0m\u001B[0mT\u001B[0m \u001B[0;32mif\u001B[0m \u001B[0mself\u001B[0m\u001B[0;34m.\u001B[0m\u001B[0msingle_symbol\u001B[0m \u001B[0;32melse\u001B[0m \u001B[0mresults\u001B[0m\u001B[0;34m\u001B[0m\u001B[0;34m\u001B[0m\u001B[0m\n\u001B[1;32m    587\u001B[0m \u001B[0;34m\u001B[0m\u001B[0m\n\u001B[0;32m--> 588\u001B[0;31m         \u001B[0;32mreturn\u001B[0m \u001B[0mself\u001B[0m\u001B[0;34m.\u001B[0m\u001B[0m_get_endpoint\u001B[0m\u001B[0;34m(\u001B[0m\u001B[0;34m\"earnings\"\u001B[0m\u001B[0;34m,\u001B[0m \u001B[0mformat\u001B[0m\u001B[0;34m=\u001B[0m\u001B[0mformat\u001B[0m\u001B[0;34m,\u001B[0m \u001B[0mparams\u001B[0m\u001B[0;34m=\u001B[0m\u001B[0mkwargs\u001B[0m\u001B[0;34m)\u001B[0m\u001B[0;34m\u001B[0m\u001B[0;34m\u001B[0m\u001B[0m\n\u001B[0m\u001B[1;32m    589\u001B[0m \u001B[0;34m\u001B[0m\u001B[0m\n\u001B[1;32m    590\u001B[0m     \u001B[0;32mdef\u001B[0m \u001B[0mget_financials\u001B[0m\u001B[0;34m(\u001B[0m\u001B[0mself\u001B[0m\u001B[0;34m,\u001B[0m \u001B[0;34m**\u001B[0m\u001B[0mkwargs\u001B[0m\u001B[0;34m)\u001B[0m\u001B[0;34m:\u001B[0m\u001B[0;34m\u001B[0m\u001B[0;34m\u001B[0m\u001B[0m\n",
      "\u001B[0;32m/usr/local/lib/python3.6/dist-packages/iexfinance/stocks/base.py\u001B[0m in \u001B[0;36m_get_endpoint\u001B[0;34m(self, endpoint, params, format, filter_)\u001B[0m\n\u001B[1;32m     71\u001B[0m         \u001B[0mself\u001B[0m\u001B[0;34m.\u001B[0m\u001B[0mendpoints\u001B[0m \u001B[0;34m=\u001B[0m \u001B[0;34m[\u001B[0m\u001B[0mendpoint\u001B[0m\u001B[0;34m]\u001B[0m\u001B[0;34m\u001B[0m\u001B[0;34m\u001B[0m\u001B[0m\n\u001B[1;32m     72\u001B[0m \u001B[0;34m\u001B[0m\u001B[0m\n\u001B[0;32m---> 73\u001B[0;31m         \u001B[0mdata\u001B[0m \u001B[0;34m=\u001B[0m \u001B[0mself\u001B[0m\u001B[0;34m.\u001B[0m\u001B[0mfetch\u001B[0m\u001B[0;34m(\u001B[0m\u001B[0mformat\u001B[0m\u001B[0;34m=\u001B[0m\u001B[0mno_pandas\u001B[0m\u001B[0;34m)\u001B[0m\u001B[0;34m\u001B[0m\u001B[0;34m\u001B[0m\u001B[0m\n\u001B[0m\u001B[1;32m     74\u001B[0m         \u001B[0;31m# IEX Cloud returns multiple symbol requests as as a list of dicts\u001B[0m\u001B[0;34m\u001B[0m\u001B[0;34m\u001B[0m\u001B[0;34m\u001B[0m\u001B[0m\n\u001B[1;32m     75\u001B[0m         \u001B[0;31m# so convert to dict of dicts\u001B[0m\u001B[0;34m\u001B[0m\u001B[0;34m\u001B[0m\u001B[0;34m\u001B[0m\u001B[0m\n",
      "\u001B[0;32m/usr/local/lib/python3.6/dist-packages/iexfinance/base.py\u001B[0m in \u001B[0;36mfetch\u001B[0;34m(self, format)\u001B[0m\n\u001B[1;32m    203\u001B[0m         \"\"\"\n\u001B[1;32m    204\u001B[0m         \u001B[0murl\u001B[0m \u001B[0;34m=\u001B[0m \u001B[0mself\u001B[0m\u001B[0;34m.\u001B[0m\u001B[0m_prepare_query\u001B[0m\u001B[0;34m(\u001B[0m\u001B[0;34m)\u001B[0m\u001B[0;34m\u001B[0m\u001B[0;34m\u001B[0m\u001B[0m\n\u001B[0;32m--> 205\u001B[0;31m         \u001B[0mdata\u001B[0m \u001B[0;34m=\u001B[0m \u001B[0mself\u001B[0m\u001B[0;34m.\u001B[0m\u001B[0m_execute_iex_query\u001B[0m\u001B[0;34m(\u001B[0m\u001B[0murl\u001B[0m\u001B[0;34m)\u001B[0m\u001B[0;34m\u001B[0m\u001B[0;34m\u001B[0m\u001B[0m\n\u001B[0m\u001B[1;32m    206\u001B[0m         \u001B[0;32mreturn\u001B[0m \u001B[0mself\u001B[0m\u001B[0;34m.\u001B[0m\u001B[0m_format_output\u001B[0m\u001B[0;34m(\u001B[0m\u001B[0mdata\u001B[0m\u001B[0;34m,\u001B[0m \u001B[0mformat\u001B[0m\u001B[0;34m=\u001B[0m\u001B[0mformat\u001B[0m\u001B[0;34m)\u001B[0m\u001B[0;34m\u001B[0m\u001B[0;34m\u001B[0m\u001B[0m\n\u001B[1;32m    207\u001B[0m \u001B[0;34m\u001B[0m\u001B[0m\n",
      "\u001B[0;32m/usr/local/lib/python3.6/dist-packages/iexfinance/base.py\u001B[0m in \u001B[0;36m_execute_iex_query\u001B[0;34m(self, url)\u001B[0m\n\u001B[1;32m    174\u001B[0m                 \u001B[0;32mreturn\u001B[0m \u001B[0mself\u001B[0m\u001B[0;34m.\u001B[0m\u001B[0m_validate_response\u001B[0m\u001B[0;34m(\u001B[0m\u001B[0mresponse\u001B[0m\u001B[0;34m)\u001B[0m\u001B[0;34m\u001B[0m\u001B[0;34m\u001B[0m\u001B[0m\n\u001B[1;32m    175\u001B[0m             \u001B[0mtime\u001B[0m\u001B[0;34m.\u001B[0m\u001B[0msleep\u001B[0m\u001B[0;34m(\u001B[0m\u001B[0mself\u001B[0m\u001B[0;34m.\u001B[0m\u001B[0mpause\u001B[0m\u001B[0;34m)\u001B[0m\u001B[0;34m\u001B[0m\u001B[0;34m\u001B[0m\u001B[0m\n\u001B[0;32m--> 176\u001B[0;31m         \u001B[0;32mreturn\u001B[0m \u001B[0mself\u001B[0m\u001B[0;34m.\u001B[0m\u001B[0m_handle_error\u001B[0m\u001B[0;34m(\u001B[0m\u001B[0mresponse\u001B[0m\u001B[0;34m)\u001B[0m\u001B[0;34m\u001B[0m\u001B[0;34m\u001B[0m\u001B[0m\n\u001B[0m\u001B[1;32m    177\u001B[0m \u001B[0;34m\u001B[0m\u001B[0m\n\u001B[1;32m    178\u001B[0m     \u001B[0;32mdef\u001B[0m \u001B[0m_handle_error\u001B[0m\u001B[0;34m(\u001B[0m\u001B[0mself\u001B[0m\u001B[0;34m,\u001B[0m \u001B[0mresponse\u001B[0m\u001B[0;34m)\u001B[0m\u001B[0;34m:\u001B[0m\u001B[0;34m\u001B[0m\u001B[0;34m\u001B[0m\u001B[0m\n",
      "\u001B[0;32m/usr/local/lib/python3.6/dist-packages/iexfinance/base.py\u001B[0m in \u001B[0;36m_handle_error\u001B[0;34m(self, response)\u001B[0m\n\u001B[1;32m    180\u001B[0m         \u001B[0mHandles\u001B[0m \u001B[0mall\u001B[0m \u001B[0mresponses\u001B[0m \u001B[0mwhich\u001B[0m \u001B[0;32mreturn\u001B[0m \u001B[0man\u001B[0m \u001B[0merror\u001B[0m \u001B[0mstatus\u001B[0m \u001B[0mcode\u001B[0m\u001B[0;34m\u001B[0m\u001B[0;34m\u001B[0m\u001B[0m\n\u001B[1;32m    181\u001B[0m         \"\"\"\n\u001B[0;32m--> 182\u001B[0;31m         \u001B[0;32mraise\u001B[0m \u001B[0mIEXQueryError\u001B[0m\u001B[0;34m(\u001B[0m\u001B[0mresponse\u001B[0m\u001B[0;34m.\u001B[0m\u001B[0mstatus_code\u001B[0m\u001B[0;34m,\u001B[0m \u001B[0mresponse\u001B[0m\u001B[0;34m.\u001B[0m\u001B[0mtext\u001B[0m\u001B[0;34m)\u001B[0m\u001B[0;34m\u001B[0m\u001B[0;34m\u001B[0m\u001B[0m\n\u001B[0m\u001B[1;32m    183\u001B[0m \u001B[0;34m\u001B[0m\u001B[0m\n\u001B[1;32m    184\u001B[0m     \u001B[0;32mdef\u001B[0m \u001B[0m_prepare_query\u001B[0m\u001B[0;34m(\u001B[0m\u001B[0mself\u001B[0m\u001B[0;34m)\u001B[0m\u001B[0;34m:\u001B[0m\u001B[0;34m\u001B[0m\u001B[0;34m\u001B[0m\u001B[0m\n",
      "\u001B[0;31mIEXQueryError\u001B[0m: An error occurred while making the query (403): Consuming additional premium data this month requires the purchase of prepaid premium data credits: https://iexcloud.io/console/add-ons"
     ]
    }
   ]
  },
  {
   "cell_type": "code",
   "metadata": {
    "colab": {
     "base_uri": "https://localhost:8080/",
     "height": 417
    },
    "id": "f1kOE3avpX9-",
    "outputId": "2d7d6c7e-7c82-4253-a6ad-551d45072ca3",
    "pycharm": {
     "name": "#%%\n"
    }
   },
   "source": [
    "getCompanyInfo(stocks)"
   ],
   "execution_count": null,
   "outputs": [
    {
     "output_type": "execute_result",
     "data": {
      "text/html": [
       "<div>\n",
       "<style scoped>\n",
       "    .dataframe tbody tr th:only-of-type {\n",
       "        vertical-align: middle;\n",
       "    }\n",
       "\n",
       "    .dataframe tbody tr th {\n",
       "        vertical-align: top;\n",
       "    }\n",
       "\n",
       "    .dataframe thead th {\n",
       "        text-align: right;\n",
       "    }\n",
       "</style>\n",
       "<table border=\"1\" class=\"dataframe\">\n",
       "  <thead>\n",
       "    <tr style=\"text-align: right;\">\n",
       "      <th></th>\n",
       "      <th>symbol</th>\n",
       "      <th>companyName</th>\n",
       "      <th>exchange</th>\n",
       "      <th>industry</th>\n",
       "      <th>website</th>\n",
       "      <th>description</th>\n",
       "      <th>CEO</th>\n",
       "      <th>securityName</th>\n",
       "      <th>issueType</th>\n",
       "      <th>sector</th>\n",
       "      <th>primarySicCode</th>\n",
       "      <th>employees</th>\n",
       "      <th>tags</th>\n",
       "      <th>address</th>\n",
       "      <th>address2</th>\n",
       "      <th>state</th>\n",
       "      <th>city</th>\n",
       "      <th>zip</th>\n",
       "      <th>country</th>\n",
       "      <th>phone</th>\n",
       "    </tr>\n",
       "  </thead>\n",
       "  <tbody>\n",
       "    <tr>\n",
       "      <th>TSLA</th>\n",
       "      <td>TSLA</td>\n",
       "      <td>Tesla Inc</td>\n",
       "      <td>NASDAQ/NGS (GLOBAL SELECT MARKET)</td>\n",
       "      <td>Automobile Manufacturing</td>\n",
       "      <td>https://www.tesla.com/</td>\n",
       "      <td></td>\n",
       "      <td>Elon Musk</td>\n",
       "      <td>Tesla Inc</td>\n",
       "      <td>cs</td>\n",
       "      <td>Manufacturing</td>\n",
       "      <td>3711</td>\n",
       "      <td>None</td>\n",
       "      <td>[Consumer Durables, Motor Vehicles, Manufactur...</td>\n",
       "      <td>3500 Deer Creek Rd</td>\n",
       "      <td>None</td>\n",
       "      <td>California</td>\n",
       "      <td>Palo alto</td>\n",
       "      <td>94304-1317</td>\n",
       "      <td>US</td>\n",
       "      <td>16506815000</td>\n",
       "    </tr>\n",
       "    <tr>\n",
       "      <th>AMZN</th>\n",
       "      <td>AMZN</td>\n",
       "      <td>Amazon.com Inc.</td>\n",
       "      <td>NASDAQ/NGS (GLOBAL SELECT MARKET)</td>\n",
       "      <td>Electronic Shopping and Mail-Order Houses</td>\n",
       "      <td>http://www.amazon.com/</td>\n",
       "      <td></td>\n",
       "      <td>Jeffrey Bezos</td>\n",
       "      <td>Amazon.com Inc.</td>\n",
       "      <td>cs</td>\n",
       "      <td>Retail Trade</td>\n",
       "      <td>5961</td>\n",
       "      <td>None</td>\n",
       "      <td>[Retail Trade, Internet Retail]</td>\n",
       "      <td>410 Terry Ave N</td>\n",
       "      <td>None</td>\n",
       "      <td>Washington</td>\n",
       "      <td>Seattle</td>\n",
       "      <td>98109-5210</td>\n",
       "      <td>US</td>\n",
       "      <td>12062661000</td>\n",
       "    </tr>\n",
       "    <tr>\n",
       "      <th>MSFT</th>\n",
       "      <td>MSFT</td>\n",
       "      <td>Microsoft Corporation</td>\n",
       "      <td>NASDAQ/NGS (GLOBAL SELECT MARKET)</td>\n",
       "      <td>Data Processing, Hosting, and Related Services</td>\n",
       "      <td>https://www.microsoft.com/en-us</td>\n",
       "      <td></td>\n",
       "      <td>Satya Nadella</td>\n",
       "      <td>Microsoft Corporation</td>\n",
       "      <td>cs</td>\n",
       "      <td>Information</td>\n",
       "      <td>7372</td>\n",
       "      <td>None</td>\n",
       "      <td>[Technology Services, Packaged Software, Infor...</td>\n",
       "      <td>1 Microsoft Way</td>\n",
       "      <td>None</td>\n",
       "      <td>Washington</td>\n",
       "      <td>Redmond</td>\n",
       "      <td>98052-6399</td>\n",
       "      <td>US</td>\n",
       "      <td>14258828080</td>\n",
       "    </tr>\n",
       "    <tr>\n",
       "      <th>SPOT</th>\n",
       "      <td>SPOT</td>\n",
       "      <td>Spotify Technology S.A.</td>\n",
       "      <td>NEW YORK STOCK EXCHANGE, INC.</td>\n",
       "      <td>Software Publishers</td>\n",
       "      <td></td>\n",
       "      <td></td>\n",
       "      <td>Daniel Ek</td>\n",
       "      <td>Spotify Technology S.A.</td>\n",
       "      <td>cs</td>\n",
       "      <td>Information</td>\n",
       "      <td>4832</td>\n",
       "      <td>None</td>\n",
       "      <td>[Technology Services, Internet Software/Servic...</td>\n",
       "      <td>None</td>\n",
       "      <td>None</td>\n",
       "      <td>Luxembourg</td>\n",
       "      <td>42-44 avenue de la gare</td>\n",
       "      <td>1610</td>\n",
       "      <td>Luxembourg</td>\n",
       "      <td>46702204607</td>\n",
       "    </tr>\n",
       "  </tbody>\n",
       "</table>\n",
       "</div>"
      ],
      "text/plain": [
       "     symbol              companyName  ...     country        phone\n",
       "TSLA   TSLA                Tesla Inc  ...          US  16506815000\n",
       "AMZN   AMZN          Amazon.com Inc.  ...          US  12062661000\n",
       "MSFT   MSFT    Microsoft Corporation  ...          US  14258828080\n",
       "SPOT   SPOT  Spotify Technology S.A.  ...  Luxembourg  46702204607\n",
       "\n",
       "[4 rows x 20 columns]"
      ]
     },
     "metadata": {
      "tags": []
     },
     "execution_count": 26
    }
   ]
  },
  {
   "cell_type": "code",
   "metadata": {
    "id": "roOUcoPQrKtG",
    "colab": {
     "base_uri": "https://localhost:8080/",
     "height": 350
    },
    "outputId": "9717368b-dbac-410f-c342-9cf81ca8ceff",
    "pycharm": {
     "name": "#%%\n"
    }
   },
   "source": [
    "from datetime import datetime\n",
    "from iexfinance.stocks import get_historical_data\n",
    "\n",
    "start = datetime(2018, 1, 1)\n",
    "end = datetime(2018, 3, 1)\n",
    "\n",
    "df = get_historical_data(\"TSLA\", start, end,token=api_token)"
   ],
   "execution_count": null,
   "outputs": [
    {
     "output_type": "error",
     "ename": "IEXQueryError",
     "evalue": "ignored",
     "traceback": [
      "\u001B[0;31m---------------------------------------------------------------------------\u001B[0m",
      "\u001B[0;31mIEXQueryError\u001B[0m                             Traceback (most recent call last)",
      "\u001B[0;32m<ipython-input-22-827231f99e20>\u001B[0m in \u001B[0;36m<module>\u001B[0;34m()\u001B[0m\n\u001B[1;32m      5\u001B[0m \u001B[0mend\u001B[0m \u001B[0;34m=\u001B[0m \u001B[0mdatetime\u001B[0m\u001B[0;34m(\u001B[0m\u001B[0;36m2018\u001B[0m\u001B[0;34m,\u001B[0m \u001B[0;36m3\u001B[0m\u001B[0;34m,\u001B[0m \u001B[0;36m1\u001B[0m\u001B[0;34m)\u001B[0m\u001B[0;34m\u001B[0m\u001B[0;34m\u001B[0m\u001B[0m\n\u001B[1;32m      6\u001B[0m \u001B[0;34m\u001B[0m\u001B[0m\n\u001B[0;32m----> 7\u001B[0;31m \u001B[0mdf\u001B[0m \u001B[0;34m=\u001B[0m \u001B[0mget_historical_data\u001B[0m\u001B[0;34m(\u001B[0m\u001B[0;34m\"TSLA\"\u001B[0m\u001B[0;34m,\u001B[0m \u001B[0mstart\u001B[0m\u001B[0;34m,\u001B[0m \u001B[0mend\u001B[0m\u001B[0;34m,\u001B[0m\u001B[0mtoken\u001B[0m\u001B[0;34m=\u001B[0m\u001B[0mapi_token\u001B[0m\u001B[0;34m)\u001B[0m\u001B[0;34m\u001B[0m\u001B[0;34m\u001B[0m\u001B[0m\n\u001B[0m",
      "\u001B[0;32m/usr/local/lib/python3.6/dist-packages/iexfinance/stocks/__init__.py\u001B[0m in \u001B[0;36mget_historical_data\u001B[0;34m(symbols, start, end, close_only, **kwargs)\u001B[0m\n\u001B[1;32m     41\u001B[0m     \"\"\"\n\u001B[1;32m     42\u001B[0m     return HistoricalReader(\n\u001B[0;32m---> 43\u001B[0;31m         \u001B[0msymbols\u001B[0m\u001B[0;34m,\u001B[0m \u001B[0mstart\u001B[0m\u001B[0;34m=\u001B[0m\u001B[0mstart\u001B[0m\u001B[0;34m,\u001B[0m \u001B[0mend\u001B[0m\u001B[0;34m=\u001B[0m\u001B[0mend\u001B[0m\u001B[0;34m,\u001B[0m \u001B[0mclose_only\u001B[0m\u001B[0;34m=\u001B[0m\u001B[0mclose_only\u001B[0m\u001B[0;34m,\u001B[0m \u001B[0;34m**\u001B[0m\u001B[0mkwargs\u001B[0m\u001B[0;34m\u001B[0m\u001B[0;34m\u001B[0m\u001B[0m\n\u001B[0m\u001B[1;32m     44\u001B[0m     ).fetch()\n\u001B[1;32m     45\u001B[0m \u001B[0;34m\u001B[0m\u001B[0m\n",
      "\u001B[0;32m/usr/local/lib/python3.6/dist-packages/iexfinance/base.py\u001B[0m in \u001B[0;36mfetch\u001B[0;34m(self, format)\u001B[0m\n\u001B[1;32m    203\u001B[0m         \"\"\"\n\u001B[1;32m    204\u001B[0m         \u001B[0murl\u001B[0m \u001B[0;34m=\u001B[0m \u001B[0mself\u001B[0m\u001B[0;34m.\u001B[0m\u001B[0m_prepare_query\u001B[0m\u001B[0;34m(\u001B[0m\u001B[0;34m)\u001B[0m\u001B[0;34m\u001B[0m\u001B[0;34m\u001B[0m\u001B[0m\n\u001B[0;32m--> 205\u001B[0;31m         \u001B[0mdata\u001B[0m \u001B[0;34m=\u001B[0m \u001B[0mself\u001B[0m\u001B[0;34m.\u001B[0m\u001B[0m_execute_iex_query\u001B[0m\u001B[0;34m(\u001B[0m\u001B[0murl\u001B[0m\u001B[0;34m)\u001B[0m\u001B[0;34m\u001B[0m\u001B[0;34m\u001B[0m\u001B[0m\n\u001B[0m\u001B[1;32m    206\u001B[0m         \u001B[0;32mreturn\u001B[0m \u001B[0mself\u001B[0m\u001B[0;34m.\u001B[0m\u001B[0m_format_output\u001B[0m\u001B[0;34m(\u001B[0m\u001B[0mdata\u001B[0m\u001B[0;34m,\u001B[0m \u001B[0mformat\u001B[0m\u001B[0;34m=\u001B[0m\u001B[0mformat\u001B[0m\u001B[0;34m)\u001B[0m\u001B[0;34m\u001B[0m\u001B[0;34m\u001B[0m\u001B[0m\n\u001B[1;32m    207\u001B[0m \u001B[0;34m\u001B[0m\u001B[0m\n",
      "\u001B[0;32m/usr/local/lib/python3.6/dist-packages/iexfinance/base.py\u001B[0m in \u001B[0;36m_execute_iex_query\u001B[0;34m(self, url)\u001B[0m\n\u001B[1;32m    174\u001B[0m                 \u001B[0;32mreturn\u001B[0m \u001B[0mself\u001B[0m\u001B[0;34m.\u001B[0m\u001B[0m_validate_response\u001B[0m\u001B[0;34m(\u001B[0m\u001B[0mresponse\u001B[0m\u001B[0;34m)\u001B[0m\u001B[0;34m\u001B[0m\u001B[0;34m\u001B[0m\u001B[0m\n\u001B[1;32m    175\u001B[0m             \u001B[0mtime\u001B[0m\u001B[0;34m.\u001B[0m\u001B[0msleep\u001B[0m\u001B[0;34m(\u001B[0m\u001B[0mself\u001B[0m\u001B[0;34m.\u001B[0m\u001B[0mpause\u001B[0m\u001B[0;34m)\u001B[0m\u001B[0;34m\u001B[0m\u001B[0;34m\u001B[0m\u001B[0m\n\u001B[0;32m--> 176\u001B[0;31m         \u001B[0;32mreturn\u001B[0m \u001B[0mself\u001B[0m\u001B[0;34m.\u001B[0m\u001B[0m_handle_error\u001B[0m\u001B[0;34m(\u001B[0m\u001B[0mresponse\u001B[0m\u001B[0;34m)\u001B[0m\u001B[0;34m\u001B[0m\u001B[0;34m\u001B[0m\u001B[0m\n\u001B[0m\u001B[1;32m    177\u001B[0m \u001B[0;34m\u001B[0m\u001B[0m\n\u001B[1;32m    178\u001B[0m     \u001B[0;32mdef\u001B[0m \u001B[0m_handle_error\u001B[0m\u001B[0;34m(\u001B[0m\u001B[0mself\u001B[0m\u001B[0;34m,\u001B[0m \u001B[0mresponse\u001B[0m\u001B[0;34m)\u001B[0m\u001B[0;34m:\u001B[0m\u001B[0;34m\u001B[0m\u001B[0;34m\u001B[0m\u001B[0m\n",
      "\u001B[0;32m/usr/local/lib/python3.6/dist-packages/iexfinance/base.py\u001B[0m in \u001B[0;36m_handle_error\u001B[0;34m(self, response)\u001B[0m\n\u001B[1;32m    180\u001B[0m         \u001B[0mHandles\u001B[0m \u001B[0mall\u001B[0m \u001B[0mresponses\u001B[0m \u001B[0mwhich\u001B[0m \u001B[0;32mreturn\u001B[0m \u001B[0man\u001B[0m \u001B[0merror\u001B[0m \u001B[0mstatus\u001B[0m \u001B[0mcode\u001B[0m\u001B[0;34m\u001B[0m\u001B[0;34m\u001B[0m\u001B[0m\n\u001B[1;32m    181\u001B[0m         \"\"\"\n\u001B[0;32m--> 182\u001B[0;31m         \u001B[0;32mraise\u001B[0m \u001B[0mIEXQueryError\u001B[0m\u001B[0;34m(\u001B[0m\u001B[0mresponse\u001B[0m\u001B[0;34m.\u001B[0m\u001B[0mstatus_code\u001B[0m\u001B[0;34m,\u001B[0m \u001B[0mresponse\u001B[0m\u001B[0;34m.\u001B[0m\u001B[0mtext\u001B[0m\u001B[0;34m)\u001B[0m\u001B[0;34m\u001B[0m\u001B[0;34m\u001B[0m\u001B[0m\n\u001B[0m\u001B[1;32m    183\u001B[0m \u001B[0;34m\u001B[0m\u001B[0m\n\u001B[1;32m    184\u001B[0m     \u001B[0;32mdef\u001B[0m \u001B[0m_prepare_query\u001B[0m\u001B[0;34m(\u001B[0m\u001B[0mself\u001B[0m\u001B[0;34m)\u001B[0m\u001B[0;34m:\u001B[0m\u001B[0;34m\u001B[0m\u001B[0;34m\u001B[0m\u001B[0m\n",
      "\u001B[0;31mIEXQueryError\u001B[0m: An error occurred while making the query (402): You have exceeded your allotted message quota. Please enable pay-as-you-go to regain access"
     ]
    }
   ]
  },
  {
   "cell_type": "code",
   "metadata": {
    "colab": {
     "base_uri": "https://localhost:8080/",
     "height": 329
    },
    "id": "zd5d-QmKOHg2",
    "outputId": "4f6ad112-4051-42d2-9cac-09f59ae4b122",
    "pycharm": {
     "name": "#%%\n"
    }
   },
   "source": [
    "get_historical_data([\"AAPL\", \"TSLA\", \"MSFT\"], output_format='pandas',token=api_token)"
   ],
   "execution_count": null,
   "outputs": [
    {
     "output_type": "error",
     "ename": "IEXQueryError",
     "evalue": "ignored",
     "traceback": [
      "\u001B[0;31m---------------------------------------------------------------------------\u001B[0m",
      "\u001B[0;31mIEXQueryError\u001B[0m                             Traceback (most recent call last)",
      "\u001B[0;32m<ipython-input-19-0a37b3ab493c>\u001B[0m in \u001B[0;36m<module>\u001B[0;34m()\u001B[0m\n\u001B[0;32m----> 1\u001B[0;31m \u001B[0mget_historical_data\u001B[0m\u001B[0;34m(\u001B[0m\u001B[0;34m[\u001B[0m\u001B[0;34m\"AAPL\"\u001B[0m\u001B[0;34m,\u001B[0m \u001B[0;34m\"TSLA\"\u001B[0m\u001B[0;34m,\u001B[0m \u001B[0;34m\"MSFT\"\u001B[0m\u001B[0;34m]\u001B[0m\u001B[0;34m,\u001B[0m \u001B[0moutput_format\u001B[0m\u001B[0;34m=\u001B[0m\u001B[0;34m'pandas'\u001B[0m\u001B[0;34m,\u001B[0m\u001B[0mtoken\u001B[0m\u001B[0;34m=\u001B[0m\u001B[0mapi_token\u001B[0m\u001B[0;34m)\u001B[0m\u001B[0;34m\u001B[0m\u001B[0;34m\u001B[0m\u001B[0m\n\u001B[0m",
      "\u001B[0;32m/usr/local/lib/python3.6/dist-packages/iexfinance/stocks/__init__.py\u001B[0m in \u001B[0;36mget_historical_data\u001B[0;34m(symbols, start, end, close_only, **kwargs)\u001B[0m\n\u001B[1;32m     41\u001B[0m     \"\"\"\n\u001B[1;32m     42\u001B[0m     return HistoricalReader(\n\u001B[0;32m---> 43\u001B[0;31m         \u001B[0msymbols\u001B[0m\u001B[0;34m,\u001B[0m \u001B[0mstart\u001B[0m\u001B[0;34m=\u001B[0m\u001B[0mstart\u001B[0m\u001B[0;34m,\u001B[0m \u001B[0mend\u001B[0m\u001B[0;34m=\u001B[0m\u001B[0mend\u001B[0m\u001B[0;34m,\u001B[0m \u001B[0mclose_only\u001B[0m\u001B[0;34m=\u001B[0m\u001B[0mclose_only\u001B[0m\u001B[0;34m,\u001B[0m \u001B[0;34m**\u001B[0m\u001B[0mkwargs\u001B[0m\u001B[0;34m\u001B[0m\u001B[0;34m\u001B[0m\u001B[0m\n\u001B[0m\u001B[1;32m     44\u001B[0m     ).fetch()\n\u001B[1;32m     45\u001B[0m \u001B[0;34m\u001B[0m\u001B[0m\n",
      "\u001B[0;32m/usr/local/lib/python3.6/dist-packages/iexfinance/base.py\u001B[0m in \u001B[0;36mfetch\u001B[0;34m(self, format)\u001B[0m\n\u001B[1;32m    203\u001B[0m         \"\"\"\n\u001B[1;32m    204\u001B[0m         \u001B[0murl\u001B[0m \u001B[0;34m=\u001B[0m \u001B[0mself\u001B[0m\u001B[0;34m.\u001B[0m\u001B[0m_prepare_query\u001B[0m\u001B[0;34m(\u001B[0m\u001B[0;34m)\u001B[0m\u001B[0;34m\u001B[0m\u001B[0;34m\u001B[0m\u001B[0m\n\u001B[0;32m--> 205\u001B[0;31m         \u001B[0mdata\u001B[0m \u001B[0;34m=\u001B[0m \u001B[0mself\u001B[0m\u001B[0;34m.\u001B[0m\u001B[0m_execute_iex_query\u001B[0m\u001B[0;34m(\u001B[0m\u001B[0murl\u001B[0m\u001B[0;34m)\u001B[0m\u001B[0;34m\u001B[0m\u001B[0;34m\u001B[0m\u001B[0m\n\u001B[0m\u001B[1;32m    206\u001B[0m         \u001B[0;32mreturn\u001B[0m \u001B[0mself\u001B[0m\u001B[0;34m.\u001B[0m\u001B[0m_format_output\u001B[0m\u001B[0;34m(\u001B[0m\u001B[0mdata\u001B[0m\u001B[0;34m,\u001B[0m \u001B[0mformat\u001B[0m\u001B[0;34m=\u001B[0m\u001B[0mformat\u001B[0m\u001B[0;34m)\u001B[0m\u001B[0;34m\u001B[0m\u001B[0;34m\u001B[0m\u001B[0m\n\u001B[1;32m    207\u001B[0m \u001B[0;34m\u001B[0m\u001B[0m\n",
      "\u001B[0;32m/usr/local/lib/python3.6/dist-packages/iexfinance/base.py\u001B[0m in \u001B[0;36m_execute_iex_query\u001B[0;34m(self, url)\u001B[0m\n\u001B[1;32m    174\u001B[0m                 \u001B[0;32mreturn\u001B[0m \u001B[0mself\u001B[0m\u001B[0;34m.\u001B[0m\u001B[0m_validate_response\u001B[0m\u001B[0;34m(\u001B[0m\u001B[0mresponse\u001B[0m\u001B[0;34m)\u001B[0m\u001B[0;34m\u001B[0m\u001B[0;34m\u001B[0m\u001B[0m\n\u001B[1;32m    175\u001B[0m             \u001B[0mtime\u001B[0m\u001B[0;34m.\u001B[0m\u001B[0msleep\u001B[0m\u001B[0;34m(\u001B[0m\u001B[0mself\u001B[0m\u001B[0;34m.\u001B[0m\u001B[0mpause\u001B[0m\u001B[0;34m)\u001B[0m\u001B[0;34m\u001B[0m\u001B[0;34m\u001B[0m\u001B[0m\n\u001B[0;32m--> 176\u001B[0;31m         \u001B[0;32mreturn\u001B[0m \u001B[0mself\u001B[0m\u001B[0;34m.\u001B[0m\u001B[0m_handle_error\u001B[0m\u001B[0;34m(\u001B[0m\u001B[0mresponse\u001B[0m\u001B[0;34m)\u001B[0m\u001B[0;34m\u001B[0m\u001B[0;34m\u001B[0m\u001B[0m\n\u001B[0m\u001B[1;32m    177\u001B[0m \u001B[0;34m\u001B[0m\u001B[0m\n\u001B[1;32m    178\u001B[0m     \u001B[0;32mdef\u001B[0m \u001B[0m_handle_error\u001B[0m\u001B[0;34m(\u001B[0m\u001B[0mself\u001B[0m\u001B[0;34m,\u001B[0m \u001B[0mresponse\u001B[0m\u001B[0;34m)\u001B[0m\u001B[0;34m:\u001B[0m\u001B[0;34m\u001B[0m\u001B[0;34m\u001B[0m\u001B[0m\n",
      "\u001B[0;32m/usr/local/lib/python3.6/dist-packages/iexfinance/base.py\u001B[0m in \u001B[0;36m_handle_error\u001B[0;34m(self, response)\u001B[0m\n\u001B[1;32m    180\u001B[0m         \u001B[0mHandles\u001B[0m \u001B[0mall\u001B[0m \u001B[0mresponses\u001B[0m \u001B[0mwhich\u001B[0m \u001B[0;32mreturn\u001B[0m \u001B[0man\u001B[0m \u001B[0merror\u001B[0m \u001B[0mstatus\u001B[0m \u001B[0mcode\u001B[0m\u001B[0;34m\u001B[0m\u001B[0;34m\u001B[0m\u001B[0m\n\u001B[1;32m    181\u001B[0m         \"\"\"\n\u001B[0;32m--> 182\u001B[0;31m         \u001B[0;32mraise\u001B[0m \u001B[0mIEXQueryError\u001B[0m\u001B[0;34m(\u001B[0m\u001B[0mresponse\u001B[0m\u001B[0;34m.\u001B[0m\u001B[0mstatus_code\u001B[0m\u001B[0;34m,\u001B[0m \u001B[0mresponse\u001B[0m\u001B[0;34m.\u001B[0m\u001B[0mtext\u001B[0m\u001B[0;34m)\u001B[0m\u001B[0;34m\u001B[0m\u001B[0;34m\u001B[0m\u001B[0m\n\u001B[0m\u001B[1;32m    183\u001B[0m \u001B[0;34m\u001B[0m\u001B[0m\n\u001B[1;32m    184\u001B[0m     \u001B[0;32mdef\u001B[0m \u001B[0m_prepare_query\u001B[0m\u001B[0;34m(\u001B[0m\u001B[0mself\u001B[0m\u001B[0;34m)\u001B[0m\u001B[0;34m:\u001B[0m\u001B[0;34m\u001B[0m\u001B[0;34m\u001B[0m\u001B[0m\n",
      "\u001B[0;31mIEXQueryError\u001B[0m: An error occurred while making the query (402): You have exceeded your allotted message quota. Please enable pay-as-you-go to regain access"
     ]
    }
   ]
  },
  {
   "cell_type": "code",
   "metadata": {
    "colab": {
     "base_uri": "https://localhost:8080/",
     "height": 695
    },
    "id": "nPTS8EiEs9Vd",
    "outputId": "8b06661b-1558-46d9-cccc-f07dc432549e",
    "pycharm": {
     "name": "#%%\n"
    }
   },
   "source": [
    "df "
   ],
   "execution_count": null,
   "outputs": [
    {
     "output_type": "execute_result",
     "data": {
      "text/html": [
       "<div>\n",
       "<style scoped>\n",
       "    .dataframe tbody tr th:only-of-type {\n",
       "        vertical-align: middle;\n",
       "    }\n",
       "\n",
       "    .dataframe tbody tr th {\n",
       "        vertical-align: top;\n",
       "    }\n",
       "\n",
       "    .dataframe thead th {\n",
       "        text-align: right;\n",
       "    }\n",
       "</style>\n",
       "<table border=\"1\" class=\"dataframe\">\n",
       "  <thead>\n",
       "    <tr style=\"text-align: right;\">\n",
       "      <th></th>\n",
       "      <th>close</th>\n",
       "      <th>high</th>\n",
       "      <th>low</th>\n",
       "      <th>open</th>\n",
       "      <th>symbol</th>\n",
       "      <th>volume</th>\n",
       "      <th>id</th>\n",
       "      <th>key</th>\n",
       "      <th>subkey</th>\n",
       "      <th>updated</th>\n",
       "      <th>changeOverTime</th>\n",
       "      <th>marketChangeOverTime</th>\n",
       "      <th>uOpen</th>\n",
       "      <th>uClose</th>\n",
       "      <th>uHigh</th>\n",
       "      <th>uLow</th>\n",
       "      <th>uVolume</th>\n",
       "      <th>fOpen</th>\n",
       "      <th>fClose</th>\n",
       "      <th>fHigh</th>\n",
       "      <th>fLow</th>\n",
       "      <th>fVolume</th>\n",
       "      <th>label</th>\n",
       "      <th>change</th>\n",
       "      <th>changePercent</th>\n",
       "    </tr>\n",
       "  </thead>\n",
       "  <tbody>\n",
       "    <tr>\n",
       "      <th>2017-01-03</th>\n",
       "      <td>43.398</td>\n",
       "      <td>44.066</td>\n",
       "      <td>42.192</td>\n",
       "      <td>42.972</td>\n",
       "      <td>TSLA</td>\n",
       "      <td>29616270</td>\n",
       "      <td>HISTORICAL_PRICES</td>\n",
       "      <td>TSLA</td>\n",
       "      <td></td>\n",
       "      <td>1606830572000</td>\n",
       "      <td>-0.074709</td>\n",
       "      <td>-0.074709</td>\n",
       "      <td>214.86</td>\n",
       "      <td>216.99</td>\n",
       "      <td>220.33</td>\n",
       "      <td>210.96</td>\n",
       "      <td>5923254</td>\n",
       "      <td>42.972</td>\n",
       "      <td>43.398</td>\n",
       "      <td>44.066</td>\n",
       "      <td>42.192</td>\n",
       "      <td>29616270</td>\n",
       "      <td>Jan 3, 17</td>\n",
       "      <td>0.66</td>\n",
       "      <td>0.0154</td>\n",
       "    </tr>\n",
       "    <tr>\n",
       "      <th>2017-01-04</th>\n",
       "      <td>45.398</td>\n",
       "      <td>45.6</td>\n",
       "      <td>42.862</td>\n",
       "      <td>42.95</td>\n",
       "      <td>TSLA</td>\n",
       "      <td>56067355</td>\n",
       "      <td>HISTORICAL_PRICES</td>\n",
       "      <td>TSLA</td>\n",
       "      <td></td>\n",
       "      <td>1606830572000</td>\n",
       "      <td>-0.0320669</td>\n",
       "      <td>-0.0320669</td>\n",
       "      <td>214.75</td>\n",
       "      <td>226.99</td>\n",
       "      <td>228</td>\n",
       "      <td>214.31</td>\n",
       "      <td>11213471</td>\n",
       "      <td>42.95</td>\n",
       "      <td>45.398</td>\n",
       "      <td>45.6</td>\n",
       "      <td>42.862</td>\n",
       "      <td>56067355</td>\n",
       "      <td>Jan 4, 17</td>\n",
       "      <td>2</td>\n",
       "      <td>0.0461</td>\n",
       "    </tr>\n",
       "    <tr>\n",
       "      <th>2017-01-05</th>\n",
       "      <td>45.35</td>\n",
       "      <td>45.496</td>\n",
       "      <td>44.39</td>\n",
       "      <td>45.284</td>\n",
       "      <td>TSLA</td>\n",
       "      <td>29558475</td>\n",
       "      <td>HISTORICAL_PRICES</td>\n",
       "      <td>TSLA</td>\n",
       "      <td></td>\n",
       "      <td>1606830572000</td>\n",
       "      <td>-0.0330903</td>\n",
       "      <td>-0.0330903</td>\n",
       "      <td>226.42</td>\n",
       "      <td>226.75</td>\n",
       "      <td>227.48</td>\n",
       "      <td>221.95</td>\n",
       "      <td>5911695</td>\n",
       "      <td>45.284</td>\n",
       "      <td>45.35</td>\n",
       "      <td>45.496</td>\n",
       "      <td>44.39</td>\n",
       "      <td>29558475</td>\n",
       "      <td>Jan 5, 17</td>\n",
       "      <td>-0.048</td>\n",
       "      <td>-0.0011</td>\n",
       "    </tr>\n",
       "    <tr>\n",
       "      <th>2017-01-06</th>\n",
       "      <td>45.802</td>\n",
       "      <td>46.062</td>\n",
       "      <td>45.09</td>\n",
       "      <td>45.386</td>\n",
       "      <td>TSLA</td>\n",
       "      <td>27639465</td>\n",
       "      <td>HISTORICAL_PRICES</td>\n",
       "      <td>TSLA</td>\n",
       "      <td></td>\n",
       "      <td>1606830572000</td>\n",
       "      <td>-0.0234532</td>\n",
       "      <td>-0.0234532</td>\n",
       "      <td>226.93</td>\n",
       "      <td>229.01</td>\n",
       "      <td>230.31</td>\n",
       "      <td>225.45</td>\n",
       "      <td>5527893</td>\n",
       "      <td>45.386</td>\n",
       "      <td>45.802</td>\n",
       "      <td>46.062</td>\n",
       "      <td>45.09</td>\n",
       "      <td>27639465</td>\n",
       "      <td>Jan 6, 17</td>\n",
       "      <td>0.452</td>\n",
       "      <td>0.01</td>\n",
       "    </tr>\n",
       "    <tr>\n",
       "      <th>2017-01-09</th>\n",
       "      <td>46.256</td>\n",
       "      <td>46.384</td>\n",
       "      <td>45.6</td>\n",
       "      <td>45.794</td>\n",
       "      <td>TSLA</td>\n",
       "      <td>19897420</td>\n",
       "      <td>HISTORICAL_PRICES</td>\n",
       "      <td>TSLA</td>\n",
       "      <td></td>\n",
       "      <td>1606830572000</td>\n",
       "      <td>-0.0137734</td>\n",
       "      <td>-0.0137734</td>\n",
       "      <td>228.97</td>\n",
       "      <td>231.28</td>\n",
       "      <td>231.92</td>\n",
       "      <td>228</td>\n",
       "      <td>3979484</td>\n",
       "      <td>45.794</td>\n",
       "      <td>46.256</td>\n",
       "      <td>46.384</td>\n",
       "      <td>45.6</td>\n",
       "      <td>19897420</td>\n",
       "      <td>Jan 9, 17</td>\n",
       "      <td>0.454</td>\n",
       "      <td>0.0099</td>\n",
       "    </tr>\n",
       "    <tr>\n",
       "      <th>...</th>\n",
       "      <td>...</td>\n",
       "      <td>...</td>\n",
       "      <td>...</td>\n",
       "      <td>...</td>\n",
       "      <td>...</td>\n",
       "      <td>...</td>\n",
       "      <td>...</td>\n",
       "      <td>...</td>\n",
       "      <td>...</td>\n",
       "      <td>...</td>\n",
       "      <td>...</td>\n",
       "      <td>...</td>\n",
       "      <td>...</td>\n",
       "      <td>...</td>\n",
       "      <td>...</td>\n",
       "      <td>...</td>\n",
       "      <td>...</td>\n",
       "      <td>...</td>\n",
       "      <td>...</td>\n",
       "      <td>...</td>\n",
       "      <td>...</td>\n",
       "      <td>...</td>\n",
       "      <td>...</td>\n",
       "      <td>...</td>\n",
       "      <td>...</td>\n",
       "    </tr>\n",
       "    <tr>\n",
       "      <th>2017-12-22</th>\n",
       "      <td>65.04</td>\n",
       "      <td>66.1843</td>\n",
       "      <td>64.964</td>\n",
       "      <td>65.902</td>\n",
       "      <td>TSLA</td>\n",
       "      <td>21079035</td>\n",
       "      <td>HISTORICAL_PRICES</td>\n",
       "      <td>TSLA</td>\n",
       "      <td></td>\n",
       "      <td>1606830572000</td>\n",
       "      <td>0.386721</td>\n",
       "      <td>0.386721</td>\n",
       "      <td>329.51</td>\n",
       "      <td>325.2</td>\n",
       "      <td>330.921</td>\n",
       "      <td>324.82</td>\n",
       "      <td>4215807</td>\n",
       "      <td>65.902</td>\n",
       "      <td>65.04</td>\n",
       "      <td>66.1843</td>\n",
       "      <td>64.964</td>\n",
       "      <td>21079035</td>\n",
       "      <td>Dec 22, 17</td>\n",
       "      <td>-1.292</td>\n",
       "      <td>-0.0195</td>\n",
       "    </tr>\n",
       "    <tr>\n",
       "      <th>2017-12-26</th>\n",
       "      <td>63.458</td>\n",
       "      <td>64.788</td>\n",
       "      <td>63.316</td>\n",
       "      <td>64.766</td>\n",
       "      <td>TSLA</td>\n",
       "      <td>21892065</td>\n",
       "      <td>HISTORICAL_PRICES</td>\n",
       "      <td>TSLA</td>\n",
       "      <td></td>\n",
       "      <td>1606830572000</td>\n",
       "      <td>0.352991</td>\n",
       "      <td>0.352991</td>\n",
       "      <td>323.83</td>\n",
       "      <td>317.29</td>\n",
       "      <td>323.94</td>\n",
       "      <td>316.58</td>\n",
       "      <td>4378413</td>\n",
       "      <td>64.766</td>\n",
       "      <td>63.458</td>\n",
       "      <td>64.788</td>\n",
       "      <td>63.316</td>\n",
       "      <td>21892065</td>\n",
       "      <td>Dec 26, 17</td>\n",
       "      <td>-1.582</td>\n",
       "      <td>-0.0243</td>\n",
       "    </tr>\n",
       "    <tr>\n",
       "      <th>2017-12-27</th>\n",
       "      <td>62.328</td>\n",
       "      <td>63.536</td>\n",
       "      <td>62.15</td>\n",
       "      <td>63.2</td>\n",
       "      <td>TSLA</td>\n",
       "      <td>23560555</td>\n",
       "      <td>HISTORICAL_PRICES</td>\n",
       "      <td>TSLA</td>\n",
       "      <td></td>\n",
       "      <td>1606830572000</td>\n",
       "      <td>0.328899</td>\n",
       "      <td>0.328899</td>\n",
       "      <td>316</td>\n",
       "      <td>311.64</td>\n",
       "      <td>317.68</td>\n",
       "      <td>310.75</td>\n",
       "      <td>4712111</td>\n",
       "      <td>63.2</td>\n",
       "      <td>62.328</td>\n",
       "      <td>63.536</td>\n",
       "      <td>62.15</td>\n",
       "      <td>23560555</td>\n",
       "      <td>Dec 27, 17</td>\n",
       "      <td>-1.13</td>\n",
       "      <td>-0.0178</td>\n",
       "    </tr>\n",
       "    <tr>\n",
       "      <th>2017-12-28</th>\n",
       "      <td>63.072</td>\n",
       "      <td>63.164</td>\n",
       "      <td>61.908</td>\n",
       "      <td>62.35</td>\n",
       "      <td>TSLA</td>\n",
       "      <td>21581735</td>\n",
       "      <td>HISTORICAL_PRICES</td>\n",
       "      <td>TSLA</td>\n",
       "      <td></td>\n",
       "      <td>1606830572000</td>\n",
       "      <td>0.344761</td>\n",
       "      <td>0.344761</td>\n",
       "      <td>311.75</td>\n",
       "      <td>315.36</td>\n",
       "      <td>315.82</td>\n",
       "      <td>309.54</td>\n",
       "      <td>4316347</td>\n",
       "      <td>62.35</td>\n",
       "      <td>63.072</td>\n",
       "      <td>63.164</td>\n",
       "      <td>61.908</td>\n",
       "      <td>21581735</td>\n",
       "      <td>Dec 28, 17</td>\n",
       "      <td>0.744</td>\n",
       "      <td>0.0119</td>\n",
       "    </tr>\n",
       "    <tr>\n",
       "      <th>2017-12-29</th>\n",
       "      <td>62.27</td>\n",
       "      <td>63.282</td>\n",
       "      <td>62</td>\n",
       "      <td>63.236</td>\n",
       "      <td>TSLA</td>\n",
       "      <td>18885775</td>\n",
       "      <td>HISTORICAL_PRICES</td>\n",
       "      <td>TSLA</td>\n",
       "      <td></td>\n",
       "      <td>1606830572000</td>\n",
       "      <td>0.327662</td>\n",
       "      <td>0.327662</td>\n",
       "      <td>316.18</td>\n",
       "      <td>311.35</td>\n",
       "      <td>316.41</td>\n",
       "      <td>310</td>\n",
       "      <td>3777155</td>\n",
       "      <td>63.236</td>\n",
       "      <td>62.27</td>\n",
       "      <td>63.282</td>\n",
       "      <td>62</td>\n",
       "      <td>18885775</td>\n",
       "      <td>Dec 29, 17</td>\n",
       "      <td>-0.802</td>\n",
       "      <td>-0.0127</td>\n",
       "    </tr>\n",
       "  </tbody>\n",
       "</table>\n",
       "<p>251 rows × 25 columns</p>\n",
       "</div>"
      ],
      "text/plain": [
       "             close     high     low  ...       label change changePercent\n",
       "2017-01-03  43.398   44.066  42.192  ...   Jan 3, 17   0.66        0.0154\n",
       "2017-01-04  45.398     45.6  42.862  ...   Jan 4, 17      2        0.0461\n",
       "2017-01-05   45.35   45.496   44.39  ...   Jan 5, 17 -0.048       -0.0011\n",
       "2017-01-06  45.802   46.062   45.09  ...   Jan 6, 17  0.452          0.01\n",
       "2017-01-09  46.256   46.384    45.6  ...   Jan 9, 17  0.454        0.0099\n",
       "...            ...      ...     ...  ...         ...    ...           ...\n",
       "2017-12-22   65.04  66.1843  64.964  ...  Dec 22, 17 -1.292       -0.0195\n",
       "2017-12-26  63.458   64.788  63.316  ...  Dec 26, 17 -1.582       -0.0243\n",
       "2017-12-27  62.328   63.536   62.15  ...  Dec 27, 17  -1.13       -0.0178\n",
       "2017-12-28  63.072   63.164  61.908  ...  Dec 28, 17  0.744        0.0119\n",
       "2017-12-29   62.27   63.282      62  ...  Dec 29, 17 -0.802       -0.0127\n",
       "\n",
       "[251 rows x 25 columns]"
      ]
     },
     "metadata": {
      "tags": []
     },
     "execution_count": 40
    }
   ]
  },
  {
   "cell_type": "code",
   "metadata": {
    "id": "BqA3DHJ2tItW",
    "pycharm": {
     "name": "#%%\n"
    }
   },
   "source": [
    "df1 = df[['close','open','high','low','volume','symbol']]"
   ],
   "execution_count": null,
   "outputs": []
  },
  {
   "cell_type": "code",
   "metadata": {
    "colab": {
     "base_uri": "https://localhost:8080/",
     "height": 415
    },
    "id": "kPAERr-AtRfX",
    "outputId": "c059ee7e-c406-4a34-a417-aa7cb58914a4",
    "pycharm": {
     "name": "#%%\n"
    }
   },
   "source": [
    "df1"
   ],
   "execution_count": null,
   "outputs": [
    {
     "output_type": "execute_result",
     "data": {
      "text/html": [
       "<div>\n",
       "<style scoped>\n",
       "    .dataframe tbody tr th:only-of-type {\n",
       "        vertical-align: middle;\n",
       "    }\n",
       "\n",
       "    .dataframe tbody tr th {\n",
       "        vertical-align: top;\n",
       "    }\n",
       "\n",
       "    .dataframe thead th {\n",
       "        text-align: right;\n",
       "    }\n",
       "</style>\n",
       "<table border=\"1\" class=\"dataframe\">\n",
       "  <thead>\n",
       "    <tr style=\"text-align: right;\">\n",
       "      <th></th>\n",
       "      <th>close</th>\n",
       "      <th>open</th>\n",
       "      <th>high</th>\n",
       "      <th>low</th>\n",
       "      <th>volume</th>\n",
       "      <th>symbol</th>\n",
       "    </tr>\n",
       "  </thead>\n",
       "  <tbody>\n",
       "    <tr>\n",
       "      <th>2017-01-03</th>\n",
       "      <td>43.398</td>\n",
       "      <td>42.972</td>\n",
       "      <td>44.066</td>\n",
       "      <td>42.192</td>\n",
       "      <td>29616270</td>\n",
       "      <td>TSLA</td>\n",
       "    </tr>\n",
       "    <tr>\n",
       "      <th>2017-01-04</th>\n",
       "      <td>45.398</td>\n",
       "      <td>42.95</td>\n",
       "      <td>45.6</td>\n",
       "      <td>42.862</td>\n",
       "      <td>56067355</td>\n",
       "      <td>TSLA</td>\n",
       "    </tr>\n",
       "    <tr>\n",
       "      <th>2017-01-05</th>\n",
       "      <td>45.35</td>\n",
       "      <td>45.284</td>\n",
       "      <td>45.496</td>\n",
       "      <td>44.39</td>\n",
       "      <td>29558475</td>\n",
       "      <td>TSLA</td>\n",
       "    </tr>\n",
       "    <tr>\n",
       "      <th>2017-01-06</th>\n",
       "      <td>45.802</td>\n",
       "      <td>45.386</td>\n",
       "      <td>46.062</td>\n",
       "      <td>45.09</td>\n",
       "      <td>27639465</td>\n",
       "      <td>TSLA</td>\n",
       "    </tr>\n",
       "    <tr>\n",
       "      <th>2017-01-09</th>\n",
       "      <td>46.256</td>\n",
       "      <td>45.794</td>\n",
       "      <td>46.384</td>\n",
       "      <td>45.6</td>\n",
       "      <td>19897420</td>\n",
       "      <td>TSLA</td>\n",
       "    </tr>\n",
       "    <tr>\n",
       "      <th>...</th>\n",
       "      <td>...</td>\n",
       "      <td>...</td>\n",
       "      <td>...</td>\n",
       "      <td>...</td>\n",
       "      <td>...</td>\n",
       "      <td>...</td>\n",
       "    </tr>\n",
       "    <tr>\n",
       "      <th>2017-12-22</th>\n",
       "      <td>65.04</td>\n",
       "      <td>65.902</td>\n",
       "      <td>66.1843</td>\n",
       "      <td>64.964</td>\n",
       "      <td>21079035</td>\n",
       "      <td>TSLA</td>\n",
       "    </tr>\n",
       "    <tr>\n",
       "      <th>2017-12-26</th>\n",
       "      <td>63.458</td>\n",
       "      <td>64.766</td>\n",
       "      <td>64.788</td>\n",
       "      <td>63.316</td>\n",
       "      <td>21892065</td>\n",
       "      <td>TSLA</td>\n",
       "    </tr>\n",
       "    <tr>\n",
       "      <th>2017-12-27</th>\n",
       "      <td>62.328</td>\n",
       "      <td>63.2</td>\n",
       "      <td>63.536</td>\n",
       "      <td>62.15</td>\n",
       "      <td>23560555</td>\n",
       "      <td>TSLA</td>\n",
       "    </tr>\n",
       "    <tr>\n",
       "      <th>2017-12-28</th>\n",
       "      <td>63.072</td>\n",
       "      <td>62.35</td>\n",
       "      <td>63.164</td>\n",
       "      <td>61.908</td>\n",
       "      <td>21581735</td>\n",
       "      <td>TSLA</td>\n",
       "    </tr>\n",
       "    <tr>\n",
       "      <th>2017-12-29</th>\n",
       "      <td>62.27</td>\n",
       "      <td>63.236</td>\n",
       "      <td>63.282</td>\n",
       "      <td>62</td>\n",
       "      <td>18885775</td>\n",
       "      <td>TSLA</td>\n",
       "    </tr>\n",
       "  </tbody>\n",
       "</table>\n",
       "<p>251 rows × 6 columns</p>\n",
       "</div>"
      ],
      "text/plain": [
       "             close    open     high     low    volume symbol\n",
       "2017-01-03  43.398  42.972   44.066  42.192  29616270   TSLA\n",
       "2017-01-04  45.398   42.95     45.6  42.862  56067355   TSLA\n",
       "2017-01-05   45.35  45.284   45.496   44.39  29558475   TSLA\n",
       "2017-01-06  45.802  45.386   46.062   45.09  27639465   TSLA\n",
       "2017-01-09  46.256  45.794   46.384    45.6  19897420   TSLA\n",
       "...            ...     ...      ...     ...       ...    ...\n",
       "2017-12-22   65.04  65.902  66.1843  64.964  21079035   TSLA\n",
       "2017-12-26  63.458  64.766   64.788  63.316  21892065   TSLA\n",
       "2017-12-27  62.328    63.2   63.536   62.15  23560555   TSLA\n",
       "2017-12-28  63.072   62.35   63.164  61.908  21581735   TSLA\n",
       "2017-12-29   62.27  63.236   63.282      62  18885775   TSLA\n",
       "\n",
       "[251 rows x 6 columns]"
      ]
     },
     "metadata": {
      "tags": []
     },
     "execution_count": 44
    }
   ]
  },
  {
   "cell_type": "code",
   "metadata": {
    "id": "YKlpTGgTuboW",
    "pycharm": {
     "name": "#%%\n"
    }
   },
   "source": [],
   "execution_count": null,
   "outputs": []
  },
  {
   "cell_type": "code",
   "metadata": {
    "colab": {
     "base_uri": "https://localhost:8080/",
     "height": 695
    },
    "id": "B9rkiJAFroqE",
    "outputId": "5ce5b62f-f1ef-4b88-cbca-25f98338246a",
    "pycharm": {
     "name": "#%%\n"
    }
   },
   "source": [
    "df"
   ],
   "execution_count": null,
   "outputs": [
    {
     "output_type": "execute_result",
     "data": {
      "text/html": [
       "<div>\n",
       "<style scoped>\n",
       "    .dataframe tbody tr th:only-of-type {\n",
       "        vertical-align: middle;\n",
       "    }\n",
       "\n",
       "    .dataframe tbody tr th {\n",
       "        vertical-align: top;\n",
       "    }\n",
       "\n",
       "    .dataframe thead th {\n",
       "        text-align: right;\n",
       "    }\n",
       "</style>\n",
       "<table border=\"1\" class=\"dataframe\">\n",
       "  <thead>\n",
       "    <tr style=\"text-align: right;\">\n",
       "      <th></th>\n",
       "      <th>close</th>\n",
       "      <th>high</th>\n",
       "      <th>low</th>\n",
       "      <th>open</th>\n",
       "      <th>symbol</th>\n",
       "      <th>volume</th>\n",
       "      <th>id</th>\n",
       "      <th>key</th>\n",
       "      <th>subkey</th>\n",
       "      <th>updated</th>\n",
       "      <th>changeOverTime</th>\n",
       "      <th>marketChangeOverTime</th>\n",
       "      <th>uOpen</th>\n",
       "      <th>uClose</th>\n",
       "      <th>uHigh</th>\n",
       "      <th>uLow</th>\n",
       "      <th>uVolume</th>\n",
       "      <th>fOpen</th>\n",
       "      <th>fClose</th>\n",
       "      <th>fHigh</th>\n",
       "      <th>fLow</th>\n",
       "      <th>fVolume</th>\n",
       "      <th>label</th>\n",
       "      <th>change</th>\n",
       "      <th>changePercent</th>\n",
       "    </tr>\n",
       "  </thead>\n",
       "  <tbody>\n",
       "    <tr>\n",
       "      <th>2017-01-03</th>\n",
       "      <td>43.398</td>\n",
       "      <td>44.066</td>\n",
       "      <td>42.192</td>\n",
       "      <td>42.972</td>\n",
       "      <td>TSLA</td>\n",
       "      <td>29616270</td>\n",
       "      <td>HISTORICAL_PRICES</td>\n",
       "      <td>TSLA</td>\n",
       "      <td></td>\n",
       "      <td>1606830572000</td>\n",
       "      <td>-0.074709</td>\n",
       "      <td>-0.074709</td>\n",
       "      <td>214.86</td>\n",
       "      <td>216.99</td>\n",
       "      <td>220.33</td>\n",
       "      <td>210.96</td>\n",
       "      <td>5923254</td>\n",
       "      <td>42.972</td>\n",
       "      <td>43.398</td>\n",
       "      <td>44.066</td>\n",
       "      <td>42.192</td>\n",
       "      <td>29616270</td>\n",
       "      <td>Jan 3, 17</td>\n",
       "      <td>0.66</td>\n",
       "      <td>0.0154</td>\n",
       "    </tr>\n",
       "    <tr>\n",
       "      <th>2017-01-04</th>\n",
       "      <td>45.398</td>\n",
       "      <td>45.6</td>\n",
       "      <td>42.862</td>\n",
       "      <td>42.95</td>\n",
       "      <td>TSLA</td>\n",
       "      <td>56067355</td>\n",
       "      <td>HISTORICAL_PRICES</td>\n",
       "      <td>TSLA</td>\n",
       "      <td></td>\n",
       "      <td>1606830572000</td>\n",
       "      <td>-0.0320669</td>\n",
       "      <td>-0.0320669</td>\n",
       "      <td>214.75</td>\n",
       "      <td>226.99</td>\n",
       "      <td>228</td>\n",
       "      <td>214.31</td>\n",
       "      <td>11213471</td>\n",
       "      <td>42.95</td>\n",
       "      <td>45.398</td>\n",
       "      <td>45.6</td>\n",
       "      <td>42.862</td>\n",
       "      <td>56067355</td>\n",
       "      <td>Jan 4, 17</td>\n",
       "      <td>2</td>\n",
       "      <td>0.0461</td>\n",
       "    </tr>\n",
       "    <tr>\n",
       "      <th>2017-01-05</th>\n",
       "      <td>45.35</td>\n",
       "      <td>45.496</td>\n",
       "      <td>44.39</td>\n",
       "      <td>45.284</td>\n",
       "      <td>TSLA</td>\n",
       "      <td>29558475</td>\n",
       "      <td>HISTORICAL_PRICES</td>\n",
       "      <td>TSLA</td>\n",
       "      <td></td>\n",
       "      <td>1606830572000</td>\n",
       "      <td>-0.0330903</td>\n",
       "      <td>-0.0330903</td>\n",
       "      <td>226.42</td>\n",
       "      <td>226.75</td>\n",
       "      <td>227.48</td>\n",
       "      <td>221.95</td>\n",
       "      <td>5911695</td>\n",
       "      <td>45.284</td>\n",
       "      <td>45.35</td>\n",
       "      <td>45.496</td>\n",
       "      <td>44.39</td>\n",
       "      <td>29558475</td>\n",
       "      <td>Jan 5, 17</td>\n",
       "      <td>-0.048</td>\n",
       "      <td>-0.0011</td>\n",
       "    </tr>\n",
       "    <tr>\n",
       "      <th>2017-01-06</th>\n",
       "      <td>45.802</td>\n",
       "      <td>46.062</td>\n",
       "      <td>45.09</td>\n",
       "      <td>45.386</td>\n",
       "      <td>TSLA</td>\n",
       "      <td>27639465</td>\n",
       "      <td>HISTORICAL_PRICES</td>\n",
       "      <td>TSLA</td>\n",
       "      <td></td>\n",
       "      <td>1606830572000</td>\n",
       "      <td>-0.0234532</td>\n",
       "      <td>-0.0234532</td>\n",
       "      <td>226.93</td>\n",
       "      <td>229.01</td>\n",
       "      <td>230.31</td>\n",
       "      <td>225.45</td>\n",
       "      <td>5527893</td>\n",
       "      <td>45.386</td>\n",
       "      <td>45.802</td>\n",
       "      <td>46.062</td>\n",
       "      <td>45.09</td>\n",
       "      <td>27639465</td>\n",
       "      <td>Jan 6, 17</td>\n",
       "      <td>0.452</td>\n",
       "      <td>0.01</td>\n",
       "    </tr>\n",
       "    <tr>\n",
       "      <th>2017-01-09</th>\n",
       "      <td>46.256</td>\n",
       "      <td>46.384</td>\n",
       "      <td>45.6</td>\n",
       "      <td>45.794</td>\n",
       "      <td>TSLA</td>\n",
       "      <td>19897420</td>\n",
       "      <td>HISTORICAL_PRICES</td>\n",
       "      <td>TSLA</td>\n",
       "      <td></td>\n",
       "      <td>1606830572000</td>\n",
       "      <td>-0.0137734</td>\n",
       "      <td>-0.0137734</td>\n",
       "      <td>228.97</td>\n",
       "      <td>231.28</td>\n",
       "      <td>231.92</td>\n",
       "      <td>228</td>\n",
       "      <td>3979484</td>\n",
       "      <td>45.794</td>\n",
       "      <td>46.256</td>\n",
       "      <td>46.384</td>\n",
       "      <td>45.6</td>\n",
       "      <td>19897420</td>\n",
       "      <td>Jan 9, 17</td>\n",
       "      <td>0.454</td>\n",
       "      <td>0.0099</td>\n",
       "    </tr>\n",
       "    <tr>\n",
       "      <th>...</th>\n",
       "      <td>...</td>\n",
       "      <td>...</td>\n",
       "      <td>...</td>\n",
       "      <td>...</td>\n",
       "      <td>...</td>\n",
       "      <td>...</td>\n",
       "      <td>...</td>\n",
       "      <td>...</td>\n",
       "      <td>...</td>\n",
       "      <td>...</td>\n",
       "      <td>...</td>\n",
       "      <td>...</td>\n",
       "      <td>...</td>\n",
       "      <td>...</td>\n",
       "      <td>...</td>\n",
       "      <td>...</td>\n",
       "      <td>...</td>\n",
       "      <td>...</td>\n",
       "      <td>...</td>\n",
       "      <td>...</td>\n",
       "      <td>...</td>\n",
       "      <td>...</td>\n",
       "      <td>...</td>\n",
       "      <td>...</td>\n",
       "      <td>...</td>\n",
       "    </tr>\n",
       "    <tr>\n",
       "      <th>2017-12-22</th>\n",
       "      <td>65.04</td>\n",
       "      <td>66.1843</td>\n",
       "      <td>64.964</td>\n",
       "      <td>65.902</td>\n",
       "      <td>TSLA</td>\n",
       "      <td>21079035</td>\n",
       "      <td>HISTORICAL_PRICES</td>\n",
       "      <td>TSLA</td>\n",
       "      <td></td>\n",
       "      <td>1606830572000</td>\n",
       "      <td>0.386721</td>\n",
       "      <td>0.386721</td>\n",
       "      <td>329.51</td>\n",
       "      <td>325.2</td>\n",
       "      <td>330.921</td>\n",
       "      <td>324.82</td>\n",
       "      <td>4215807</td>\n",
       "      <td>65.902</td>\n",
       "      <td>65.04</td>\n",
       "      <td>66.1843</td>\n",
       "      <td>64.964</td>\n",
       "      <td>21079035</td>\n",
       "      <td>Dec 22, 17</td>\n",
       "      <td>-1.292</td>\n",
       "      <td>-0.0195</td>\n",
       "    </tr>\n",
       "    <tr>\n",
       "      <th>2017-12-26</th>\n",
       "      <td>63.458</td>\n",
       "      <td>64.788</td>\n",
       "      <td>63.316</td>\n",
       "      <td>64.766</td>\n",
       "      <td>TSLA</td>\n",
       "      <td>21892065</td>\n",
       "      <td>HISTORICAL_PRICES</td>\n",
       "      <td>TSLA</td>\n",
       "      <td></td>\n",
       "      <td>1606830572000</td>\n",
       "      <td>0.352991</td>\n",
       "      <td>0.352991</td>\n",
       "      <td>323.83</td>\n",
       "      <td>317.29</td>\n",
       "      <td>323.94</td>\n",
       "      <td>316.58</td>\n",
       "      <td>4378413</td>\n",
       "      <td>64.766</td>\n",
       "      <td>63.458</td>\n",
       "      <td>64.788</td>\n",
       "      <td>63.316</td>\n",
       "      <td>21892065</td>\n",
       "      <td>Dec 26, 17</td>\n",
       "      <td>-1.582</td>\n",
       "      <td>-0.0243</td>\n",
       "    </tr>\n",
       "    <tr>\n",
       "      <th>2017-12-27</th>\n",
       "      <td>62.328</td>\n",
       "      <td>63.536</td>\n",
       "      <td>62.15</td>\n",
       "      <td>63.2</td>\n",
       "      <td>TSLA</td>\n",
       "      <td>23560555</td>\n",
       "      <td>HISTORICAL_PRICES</td>\n",
       "      <td>TSLA</td>\n",
       "      <td></td>\n",
       "      <td>1606830572000</td>\n",
       "      <td>0.328899</td>\n",
       "      <td>0.328899</td>\n",
       "      <td>316</td>\n",
       "      <td>311.64</td>\n",
       "      <td>317.68</td>\n",
       "      <td>310.75</td>\n",
       "      <td>4712111</td>\n",
       "      <td>63.2</td>\n",
       "      <td>62.328</td>\n",
       "      <td>63.536</td>\n",
       "      <td>62.15</td>\n",
       "      <td>23560555</td>\n",
       "      <td>Dec 27, 17</td>\n",
       "      <td>-1.13</td>\n",
       "      <td>-0.0178</td>\n",
       "    </tr>\n",
       "    <tr>\n",
       "      <th>2017-12-28</th>\n",
       "      <td>63.072</td>\n",
       "      <td>63.164</td>\n",
       "      <td>61.908</td>\n",
       "      <td>62.35</td>\n",
       "      <td>TSLA</td>\n",
       "      <td>21581735</td>\n",
       "      <td>HISTORICAL_PRICES</td>\n",
       "      <td>TSLA</td>\n",
       "      <td></td>\n",
       "      <td>1606830572000</td>\n",
       "      <td>0.344761</td>\n",
       "      <td>0.344761</td>\n",
       "      <td>311.75</td>\n",
       "      <td>315.36</td>\n",
       "      <td>315.82</td>\n",
       "      <td>309.54</td>\n",
       "      <td>4316347</td>\n",
       "      <td>62.35</td>\n",
       "      <td>63.072</td>\n",
       "      <td>63.164</td>\n",
       "      <td>61.908</td>\n",
       "      <td>21581735</td>\n",
       "      <td>Dec 28, 17</td>\n",
       "      <td>0.744</td>\n",
       "      <td>0.0119</td>\n",
       "    </tr>\n",
       "    <tr>\n",
       "      <th>2017-12-29</th>\n",
       "      <td>62.27</td>\n",
       "      <td>63.282</td>\n",
       "      <td>62</td>\n",
       "      <td>63.236</td>\n",
       "      <td>TSLA</td>\n",
       "      <td>18885775</td>\n",
       "      <td>HISTORICAL_PRICES</td>\n",
       "      <td>TSLA</td>\n",
       "      <td></td>\n",
       "      <td>1606830572000</td>\n",
       "      <td>0.327662</td>\n",
       "      <td>0.327662</td>\n",
       "      <td>316.18</td>\n",
       "      <td>311.35</td>\n",
       "      <td>316.41</td>\n",
       "      <td>310</td>\n",
       "      <td>3777155</td>\n",
       "      <td>63.236</td>\n",
       "      <td>62.27</td>\n",
       "      <td>63.282</td>\n",
       "      <td>62</td>\n",
       "      <td>18885775</td>\n",
       "      <td>Dec 29, 17</td>\n",
       "      <td>-0.802</td>\n",
       "      <td>-0.0127</td>\n",
       "    </tr>\n",
       "  </tbody>\n",
       "</table>\n",
       "<p>251 rows × 25 columns</p>\n",
       "</div>"
      ],
      "text/plain": [
       "             close     high     low  ...       label change changePercent\n",
       "2017-01-03  43.398   44.066  42.192  ...   Jan 3, 17   0.66        0.0154\n",
       "2017-01-04  45.398     45.6  42.862  ...   Jan 4, 17      2        0.0461\n",
       "2017-01-05   45.35   45.496   44.39  ...   Jan 5, 17 -0.048       -0.0011\n",
       "2017-01-06  45.802   46.062   45.09  ...   Jan 6, 17  0.452          0.01\n",
       "2017-01-09  46.256   46.384    45.6  ...   Jan 9, 17  0.454        0.0099\n",
       "...            ...      ...     ...  ...         ...    ...           ...\n",
       "2017-12-22   65.04  66.1843  64.964  ...  Dec 22, 17 -1.292       -0.0195\n",
       "2017-12-26  63.458   64.788  63.316  ...  Dec 26, 17 -1.582       -0.0243\n",
       "2017-12-27  62.328   63.536   62.15  ...  Dec 27, 17  -1.13       -0.0178\n",
       "2017-12-28  63.072   63.164  61.908  ...  Dec 28, 17  0.744        0.0119\n",
       "2017-12-29   62.27   63.282      62  ...  Dec 29, 17 -0.802       -0.0127\n",
       "\n",
       "[251 rows x 25 columns]"
      ]
     },
     "metadata": {
      "tags": []
     },
     "execution_count": 35
    }
   ]
  },
  {
   "cell_type": "code",
   "metadata": {
    "id": "CCjG-_W5w-JP",
    "pycharm": {
     "name": "#%%\n"
    }
   },
   "source": [
    "from iexfinance.stocks import Stock\n",
    "aapl = Stock(\"AAPL\", output_format='pandas',token=api_token)\n"
   ],
   "execution_count": null,
   "outputs": []
  },
  {
   "cell_type": "code",
   "metadata": {
    "colab": {
     "base_uri": "https://localhost:8080/",
     "height": 151
    },
    "id": "FQhMdUPsM4dm",
    "outputId": "72117ded-7cdf-4941-8ae9-4ec345de256f",
    "pycharm": {
     "name": "#%%\n"
    }
   },
   "source": [
    "aapl.get_quote()"
   ],
   "execution_count": null,
   "outputs": [
    {
     "output_type": "execute_result",
     "data": {
      "text/html": [
       "<div>\n",
       "<style scoped>\n",
       "    .dataframe tbody tr th:only-of-type {\n",
       "        vertical-align: middle;\n",
       "    }\n",
       "\n",
       "    .dataframe tbody tr th {\n",
       "        vertical-align: top;\n",
       "    }\n",
       "\n",
       "    .dataframe thead th {\n",
       "        text-align: right;\n",
       "    }\n",
       "</style>\n",
       "<table border=\"1\" class=\"dataframe\">\n",
       "  <thead>\n",
       "    <tr style=\"text-align: right;\">\n",
       "      <th></th>\n",
       "      <th>avgTotalVolume</th>\n",
       "      <th>calculationPrice</th>\n",
       "      <th>change</th>\n",
       "      <th>changePercent</th>\n",
       "      <th>close</th>\n",
       "      <th>closeSource</th>\n",
       "      <th>closeTime</th>\n",
       "      <th>companyName</th>\n",
       "      <th>delayedPrice</th>\n",
       "      <th>delayedPriceTime</th>\n",
       "      <th>extendedChange</th>\n",
       "      <th>extendedChangePercent</th>\n",
       "      <th>extendedPrice</th>\n",
       "      <th>extendedPriceTime</th>\n",
       "      <th>high</th>\n",
       "      <th>highSource</th>\n",
       "      <th>highTime</th>\n",
       "      <th>iexAskPrice</th>\n",
       "      <th>iexAskSize</th>\n",
       "      <th>iexBidPrice</th>\n",
       "      <th>iexBidSize</th>\n",
       "      <th>iexClose</th>\n",
       "      <th>iexCloseTime</th>\n",
       "      <th>iexLastUpdated</th>\n",
       "      <th>iexMarketPercent</th>\n",
       "      <th>iexOpen</th>\n",
       "      <th>iexOpenTime</th>\n",
       "      <th>iexRealtimePrice</th>\n",
       "      <th>iexRealtimeSize</th>\n",
       "      <th>iexVolume</th>\n",
       "      <th>isUSMarketOpen</th>\n",
       "      <th>lastTradeTime</th>\n",
       "      <th>latestPrice</th>\n",
       "      <th>latestSource</th>\n",
       "      <th>latestTime</th>\n",
       "      <th>latestUpdate</th>\n",
       "      <th>latestVolume</th>\n",
       "      <th>low</th>\n",
       "      <th>lowSource</th>\n",
       "      <th>lowTime</th>\n",
       "      <th>marketCap</th>\n",
       "      <th>oddLotDelayedPrice</th>\n",
       "      <th>oddLotDelayedPriceTime</th>\n",
       "      <th>open</th>\n",
       "      <th>openSource</th>\n",
       "      <th>openTime</th>\n",
       "      <th>peRatio</th>\n",
       "      <th>previousClose</th>\n",
       "      <th>previousVolume</th>\n",
       "      <th>primaryExchange</th>\n",
       "      <th>symbol</th>\n",
       "      <th>volume</th>\n",
       "      <th>week52High</th>\n",
       "      <th>week52Low</th>\n",
       "      <th>ytdChange</th>\n",
       "    </tr>\n",
       "  </thead>\n",
       "  <tbody>\n",
       "    <tr>\n",
       "      <th>AAPL</th>\n",
       "      <td>96000409</td>\n",
       "      <td>close</td>\n",
       "      <td>-0.07</td>\n",
       "      <td>-0.00055</td>\n",
       "      <td>None</td>\n",
       "      <td>official</td>\n",
       "      <td>None</td>\n",
       "      <td>Apple Inc</td>\n",
       "      <td>None</td>\n",
       "      <td>None</td>\n",
       "      <td>None</td>\n",
       "      <td>None</td>\n",
       "      <td>None</td>\n",
       "      <td>None</td>\n",
       "      <td>None</td>\n",
       "      <td>None</td>\n",
       "      <td>None</td>\n",
       "      <td>0</td>\n",
       "      <td>0</td>\n",
       "      <td>0</td>\n",
       "      <td>0</td>\n",
       "      <td>127.715</td>\n",
       "      <td>1608152396696</td>\n",
       "      <td>1608152396696</td>\n",
       "      <td>47.8788</td>\n",
       "      <td>127.715</td>\n",
       "      <td>1608152396696</td>\n",
       "      <td>127.715</td>\n",
       "      <td>3</td>\n",
       "      <td>1615095</td>\n",
       "      <td>False</td>\n",
       "      <td>1608152396696</td>\n",
       "      <td>127.81</td>\n",
       "      <td>Close</td>\n",
       "      <td>December 16, 2020</td>\n",
       "      <td>1608152400539</td>\n",
       "      <td>None</td>\n",
       "      <td>None</td>\n",
       "      <td>None</td>\n",
       "      <td>None</td>\n",
       "      <td>2173000313620</td>\n",
       "      <td>None</td>\n",
       "      <td>None</td>\n",
       "      <td>None</td>\n",
       "      <td>official</td>\n",
       "      <td>None</td>\n",
       "      <td>38.97</td>\n",
       "      <td>127.88</td>\n",
       "      <td>157572262</td>\n",
       "      <td>NASDAQ/NGS (GLOBAL SELECT MARKET)</td>\n",
       "      <td>AAPL</td>\n",
       "      <td>None</td>\n",
       "      <td>133.95</td>\n",
       "      <td>55.74</td>\n",
       "      <td>0.75547</td>\n",
       "    </tr>\n",
       "  </tbody>\n",
       "</table>\n",
       "</div>"
      ],
      "text/plain": [
       "     avgTotalVolume calculationPrice change  ... week52High week52Low ytdChange\n",
       "AAPL       96000409            close  -0.07  ...     133.95     55.74   0.75547\n",
       "\n",
       "[1 rows x 55 columns]"
      ]
     },
     "metadata": {
      "tags": []
     },
     "execution_count": 14
    }
   ]
  },
  {
   "cell_type": "code",
   "metadata": {
    "colab": {
     "base_uri": "https://localhost:8080/",
     "height": 282
    },
    "id": "zd8YB65qNH7-",
    "outputId": "a8db0c2d-0b87-4360-ce6a-eb571aae3e38",
    "pycharm": {
     "name": "#%%\n"
    }
   },
   "source": [
    "air = Stock([\"AAL\", \"LUV\", \"DAL\"], output_format='pandas',token=api_token)\n",
    "air.get_quote()"
   ],
   "execution_count": null,
   "outputs": [
    {
     "output_type": "execute_result",
     "data": {
      "text/html": [
       "<div>\n",
       "<style scoped>\n",
       "    .dataframe tbody tr th:only-of-type {\n",
       "        vertical-align: middle;\n",
       "    }\n",
       "\n",
       "    .dataframe tbody tr th {\n",
       "        vertical-align: top;\n",
       "    }\n",
       "\n",
       "    .dataframe thead th {\n",
       "        text-align: right;\n",
       "    }\n",
       "</style>\n",
       "<table border=\"1\" class=\"dataframe\">\n",
       "  <thead>\n",
       "    <tr style=\"text-align: right;\">\n",
       "      <th></th>\n",
       "      <th>symbol</th>\n",
       "      <th>companyName</th>\n",
       "      <th>primaryExchange</th>\n",
       "      <th>calculationPrice</th>\n",
       "      <th>open</th>\n",
       "      <th>openTime</th>\n",
       "      <th>openSource</th>\n",
       "      <th>close</th>\n",
       "      <th>closeTime</th>\n",
       "      <th>closeSource</th>\n",
       "      <th>high</th>\n",
       "      <th>highTime</th>\n",
       "      <th>highSource</th>\n",
       "      <th>low</th>\n",
       "      <th>lowTime</th>\n",
       "      <th>lowSource</th>\n",
       "      <th>latestPrice</th>\n",
       "      <th>latestSource</th>\n",
       "      <th>latestTime</th>\n",
       "      <th>latestUpdate</th>\n",
       "      <th>latestVolume</th>\n",
       "      <th>iexRealtimePrice</th>\n",
       "      <th>iexRealtimeSize</th>\n",
       "      <th>iexLastUpdated</th>\n",
       "      <th>delayedPrice</th>\n",
       "      <th>delayedPriceTime</th>\n",
       "      <th>oddLotDelayedPrice</th>\n",
       "      <th>oddLotDelayedPriceTime</th>\n",
       "      <th>extendedPrice</th>\n",
       "      <th>extendedChange</th>\n",
       "      <th>extendedChangePercent</th>\n",
       "      <th>extendedPriceTime</th>\n",
       "      <th>previousClose</th>\n",
       "      <th>previousVolume</th>\n",
       "      <th>change</th>\n",
       "      <th>changePercent</th>\n",
       "      <th>volume</th>\n",
       "      <th>iexMarketPercent</th>\n",
       "      <th>iexVolume</th>\n",
       "      <th>avgTotalVolume</th>\n",
       "      <th>iexBidPrice</th>\n",
       "      <th>iexBidSize</th>\n",
       "      <th>iexAskPrice</th>\n",
       "      <th>iexAskSize</th>\n",
       "      <th>iexOpen</th>\n",
       "      <th>iexOpenTime</th>\n",
       "      <th>iexClose</th>\n",
       "      <th>iexCloseTime</th>\n",
       "      <th>marketCap</th>\n",
       "      <th>peRatio</th>\n",
       "      <th>week52High</th>\n",
       "      <th>week52Low</th>\n",
       "      <th>ytdChange</th>\n",
       "      <th>lastTradeTime</th>\n",
       "      <th>isUSMarketOpen</th>\n",
       "    </tr>\n",
       "  </thead>\n",
       "  <tbody>\n",
       "    <tr>\n",
       "      <th>AAL</th>\n",
       "      <td>AAL</td>\n",
       "      <td>American Airlines Group Inc</td>\n",
       "      <td>NASDAQ/NGS (GLOBAL SELECT MARKET)</td>\n",
       "      <td>close</td>\n",
       "      <td>None</td>\n",
       "      <td>None</td>\n",
       "      <td>official</td>\n",
       "      <td>None</td>\n",
       "      <td>None</td>\n",
       "      <td>official</td>\n",
       "      <td>None</td>\n",
       "      <td>None</td>\n",
       "      <td>None</td>\n",
       "      <td>None</td>\n",
       "      <td>None</td>\n",
       "      <td>None</td>\n",
       "      <td>16.86</td>\n",
       "      <td>Close</td>\n",
       "      <td>December 16, 2020</td>\n",
       "      <td>1608152400448</td>\n",
       "      <td>None</td>\n",
       "      <td>16.855</td>\n",
       "      <td>140</td>\n",
       "      <td>1608152396189</td>\n",
       "      <td>None</td>\n",
       "      <td>None</td>\n",
       "      <td>None</td>\n",
       "      <td>None</td>\n",
       "      <td>None</td>\n",
       "      <td>None</td>\n",
       "      <td>None</td>\n",
       "      <td>None</td>\n",
       "      <td>17.01</td>\n",
       "      <td>89217037</td>\n",
       "      <td>-0.15</td>\n",
       "      <td>-0.00882</td>\n",
       "      <td>None</td>\n",
       "      <td>6.9631</td>\n",
       "      <td>514650</td>\n",
       "      <td>99996841</td>\n",
       "      <td>0</td>\n",
       "      <td>0</td>\n",
       "      <td>0</td>\n",
       "      <td>0</td>\n",
       "      <td>16.855</td>\n",
       "      <td>1608152396189</td>\n",
       "      <td>16.855</td>\n",
       "      <td>1608152396189</td>\n",
       "      <td>10200279937</td>\n",
       "      <td>-1.21</td>\n",
       "      <td>30.47</td>\n",
       "      <td>9.04</td>\n",
       "      <td>-0.418781</td>\n",
       "      <td>1608152398002</td>\n",
       "      <td>False</td>\n",
       "    </tr>\n",
       "    <tr>\n",
       "      <th>LUV</th>\n",
       "      <td>LUV</td>\n",
       "      <td>Southwest Airlines Co</td>\n",
       "      <td>NEW YORK STOCK EXCHANGE, INC.</td>\n",
       "      <td>close</td>\n",
       "      <td>None</td>\n",
       "      <td>None</td>\n",
       "      <td>official</td>\n",
       "      <td>None</td>\n",
       "      <td>None</td>\n",
       "      <td>official</td>\n",
       "      <td>None</td>\n",
       "      <td>1608152389079</td>\n",
       "      <td>15 minute delayed price</td>\n",
       "      <td>None</td>\n",
       "      <td>1608133825170</td>\n",
       "      <td>15 minute delayed price</td>\n",
       "      <td>45.73</td>\n",
       "      <td>Close</td>\n",
       "      <td>December 16, 2020</td>\n",
       "      <td>1608152402265</td>\n",
       "      <td>None</td>\n",
       "      <td>45.705</td>\n",
       "      <td>30</td>\n",
       "      <td>1608152392776</td>\n",
       "      <td>None</td>\n",
       "      <td>None</td>\n",
       "      <td>None</td>\n",
       "      <td>None</td>\n",
       "      <td>None</td>\n",
       "      <td>None</td>\n",
       "      <td>None</td>\n",
       "      <td>None</td>\n",
       "      <td>46.42</td>\n",
       "      <td>5975746</td>\n",
       "      <td>-0.69</td>\n",
       "      <td>-0.01486</td>\n",
       "      <td>None</td>\n",
       "      <td>0.0141654</td>\n",
       "      <td>91251</td>\n",
       "      <td>8569411</td>\n",
       "      <td>0</td>\n",
       "      <td>0</td>\n",
       "      <td>0</td>\n",
       "      <td>0</td>\n",
       "      <td>45.705</td>\n",
       "      <td>1608152392776</td>\n",
       "      <td>45.705</td>\n",
       "      <td>1608152392776</td>\n",
       "      <td>26993187354</td>\n",
       "      <td>-15.19</td>\n",
       "      <td>58.32</td>\n",
       "      <td>23.87</td>\n",
       "      <td>-0.164433</td>\n",
       "      <td>1608152392776</td>\n",
       "      <td>False</td>\n",
       "    </tr>\n",
       "    <tr>\n",
       "      <th>DAL</th>\n",
       "      <td>DAL</td>\n",
       "      <td>Delta Air Lines, Inc.</td>\n",
       "      <td>NEW YORK STOCK EXCHANGE, INC.</td>\n",
       "      <td>close</td>\n",
       "      <td>None</td>\n",
       "      <td>None</td>\n",
       "      <td>official</td>\n",
       "      <td>None</td>\n",
       "      <td>None</td>\n",
       "      <td>official</td>\n",
       "      <td>None</td>\n",
       "      <td>1608152389089</td>\n",
       "      <td>15 minute delayed price</td>\n",
       "      <td>None</td>\n",
       "      <td>1608134057064</td>\n",
       "      <td>15 minute delayed price</td>\n",
       "      <td>41.08</td>\n",
       "      <td>Close</td>\n",
       "      <td>December 16, 2020</td>\n",
       "      <td>1608152402525</td>\n",
       "      <td>None</td>\n",
       "      <td>41.07</td>\n",
       "      <td>100</td>\n",
       "      <td>1608152386709</td>\n",
       "      <td>None</td>\n",
       "      <td>None</td>\n",
       "      <td>None</td>\n",
       "      <td>None</td>\n",
       "      <td>None</td>\n",
       "      <td>None</td>\n",
       "      <td>None</td>\n",
       "      <td>None</td>\n",
       "      <td>41.85</td>\n",
       "      <td>11453773</td>\n",
       "      <td>-0.77</td>\n",
       "      <td>-0.0184</td>\n",
       "      <td>None</td>\n",
       "      <td>1858.19</td>\n",
       "      <td>711686</td>\n",
       "      <td>14806618</td>\n",
       "      <td>0</td>\n",
       "      <td>0</td>\n",
       "      <td>0</td>\n",
       "      <td>0</td>\n",
       "      <td>41.07</td>\n",
       "      <td>1608152386709</td>\n",
       "      <td>41.07</td>\n",
       "      <td>1608152386709</td>\n",
       "      <td>26198125085</td>\n",
       "      <td>-2.49</td>\n",
       "      <td>61.6</td>\n",
       "      <td>19.19</td>\n",
       "      <td>-0.311089</td>\n",
       "      <td>1608152389088</td>\n",
       "      <td>False</td>\n",
       "    </tr>\n",
       "  </tbody>\n",
       "</table>\n",
       "</div>"
      ],
      "text/plain": [
       "    symbol                  companyName  ...  lastTradeTime isUSMarketOpen\n",
       "AAL    AAL  American Airlines Group Inc  ...  1608152398002          False\n",
       "LUV    LUV        Southwest Airlines Co  ...  1608152392776          False\n",
       "DAL    DAL        Delta Air Lines, Inc.  ...  1608152389088          False\n",
       "\n",
       "[3 rows x 55 columns]"
      ]
     },
     "metadata": {
      "tags": []
     },
     "execution_count": 16
    }
   ]
  },
  {
   "cell_type": "code",
   "metadata": {
    "colab": {
     "base_uri": "https://localhost:8080/",
     "height": 311
    },
    "id": "hPTDE7rAMuY_",
    "outputId": "fe079900-89cc-4394-b2a3-93cddfce91d0",
    "pycharm": {
     "name": "#%%\n"
    }
   },
   "source": [],
   "execution_count": null,
   "outputs": [
    {
     "output_type": "error",
     "ename": "IEXAuthenticationError",
     "evalue": "ignored",
     "traceback": [
      "\u001B[0;31m---------------------------------------------------------------------------\u001B[0m",
      "\u001B[0;31mIEXAuthenticationError\u001B[0m                    Traceback (most recent call last)",
      "\u001B[0;32m<ipython-input-18-ea159381d1b3>\u001B[0m in \u001B[0;36m<module>\u001B[0;34m()\u001B[0m\n\u001B[0;32m----> 1\u001B[0;31m \u001B[0mget_historical_data\u001B[0m\u001B[0;34m(\u001B[0m\u001B[0;34m\"AAPL\"\u001B[0m\u001B[0;34m,\u001B[0m \u001B[0moutput_format\u001B[0m\u001B[0;34m=\u001B[0m\u001B[0;34m'pandas'\u001B[0m\u001B[0;34m)\u001B[0m\u001B[0;34m.\u001B[0m\u001B[0mhead\u001B[0m\u001B[0;34m(\u001B[0m\u001B[0;34m)\u001B[0m\u001B[0;34m\u001B[0m\u001B[0;34m\u001B[0m\u001B[0m\n\u001B[0m",
      "\u001B[0;32m/usr/local/lib/python3.6/dist-packages/iexfinance/stocks/__init__.py\u001B[0m in \u001B[0;36mget_historical_data\u001B[0;34m(symbols, start, end, close_only, **kwargs)\u001B[0m\n\u001B[1;32m     41\u001B[0m     \"\"\"\n\u001B[1;32m     42\u001B[0m     return HistoricalReader(\n\u001B[0;32m---> 43\u001B[0;31m         \u001B[0msymbols\u001B[0m\u001B[0;34m,\u001B[0m \u001B[0mstart\u001B[0m\u001B[0;34m=\u001B[0m\u001B[0mstart\u001B[0m\u001B[0;34m,\u001B[0m \u001B[0mend\u001B[0m\u001B[0;34m=\u001B[0m\u001B[0mend\u001B[0m\u001B[0;34m,\u001B[0m \u001B[0mclose_only\u001B[0m\u001B[0;34m=\u001B[0m\u001B[0mclose_only\u001B[0m\u001B[0;34m,\u001B[0m \u001B[0;34m**\u001B[0m\u001B[0mkwargs\u001B[0m\u001B[0;34m\u001B[0m\u001B[0;34m\u001B[0m\u001B[0m\n\u001B[0m\u001B[1;32m     44\u001B[0m     ).fetch()\n\u001B[1;32m     45\u001B[0m \u001B[0;34m\u001B[0m\u001B[0m\n",
      "\u001B[0;32m/usr/local/lib/python3.6/dist-packages/iexfinance/stocks/historical.py\u001B[0m in \u001B[0;36m__init__\u001B[0;34m(self, symbols, start, end, close_only, **kwargs)\u001B[0m\n\u001B[1;32m     18\u001B[0m         \u001B[0mself\u001B[0m\u001B[0;34m.\u001B[0m\u001B[0mstart\u001B[0m\u001B[0;34m,\u001B[0m \u001B[0mself\u001B[0m\u001B[0;34m.\u001B[0m\u001B[0mend\u001B[0m \u001B[0;34m=\u001B[0m \u001B[0m_sanitize_dates\u001B[0m\u001B[0;34m(\u001B[0m\u001B[0mstart\u001B[0m\u001B[0;34m,\u001B[0m \u001B[0mend\u001B[0m\u001B[0;34m)\u001B[0m\u001B[0;34m\u001B[0m\u001B[0;34m\u001B[0m\u001B[0m\n\u001B[1;32m     19\u001B[0m         \u001B[0mself\u001B[0m\u001B[0;34m.\u001B[0m\u001B[0mclose_only\u001B[0m \u001B[0;34m=\u001B[0m \u001B[0mclose_only\u001B[0m\u001B[0;34m\u001B[0m\u001B[0;34m\u001B[0m\u001B[0m\n\u001B[0;32m---> 20\u001B[0;31m         \u001B[0msuper\u001B[0m\u001B[0;34m(\u001B[0m\u001B[0mHistoricalReader\u001B[0m\u001B[0;34m,\u001B[0m \u001B[0mself\u001B[0m\u001B[0;34m)\u001B[0m\u001B[0;34m.\u001B[0m\u001B[0m__init__\u001B[0m\u001B[0;34m(\u001B[0m\u001B[0msymbols\u001B[0m\u001B[0;34m,\u001B[0m \u001B[0;34m**\u001B[0m\u001B[0mkwargs\u001B[0m\u001B[0;34m)\u001B[0m\u001B[0;34m\u001B[0m\u001B[0;34m\u001B[0m\u001B[0m\n\u001B[0m\u001B[1;32m     21\u001B[0m \u001B[0;34m\u001B[0m\u001B[0m\n\u001B[1;32m     22\u001B[0m     \u001B[0;34m@\u001B[0m\u001B[0mproperty\u001B[0m\u001B[0;34m\u001B[0m\u001B[0;34m\u001B[0m\u001B[0m\n",
      "\u001B[0;32m/usr/local/lib/python3.6/dist-packages/iexfinance/stocks/base.py\u001B[0m in \u001B[0;36m__init__\u001B[0;34m(self, symbols, **kwargs)\u001B[0m\n\u001B[1;32m     32\u001B[0m         \u001B[0mself\u001B[0m\u001B[0;34m.\u001B[0m\u001B[0msymbols\u001B[0m \u001B[0;34m=\u001B[0m \u001B[0mlist\u001B[0m\u001B[0;34m(\u001B[0m\u001B[0mmap\u001B[0m\u001B[0;34m(\u001B[0m\u001B[0;32mlambda\u001B[0m \u001B[0mx\u001B[0m\u001B[0;34m:\u001B[0m \u001B[0mx\u001B[0m\u001B[0;34m.\u001B[0m\u001B[0mupper\u001B[0m\u001B[0;34m(\u001B[0m\u001B[0;34m)\u001B[0m\u001B[0;34m,\u001B[0m \u001B[0m_handle_lists\u001B[0m\u001B[0;34m(\u001B[0m\u001B[0msymbols\u001B[0m\u001B[0;34m)\u001B[0m\u001B[0;34m)\u001B[0m\u001B[0;34m)\u001B[0m\u001B[0;34m\u001B[0m\u001B[0;34m\u001B[0m\u001B[0m\n\u001B[1;32m     33\u001B[0m         \u001B[0mself\u001B[0m\u001B[0;34m.\u001B[0m\u001B[0mendpoints\u001B[0m \u001B[0;34m=\u001B[0m \u001B[0;34m[\u001B[0m\u001B[0;34m]\u001B[0m\u001B[0;34m\u001B[0m\u001B[0;34m\u001B[0m\u001B[0m\n\u001B[0;32m---> 34\u001B[0;31m         \u001B[0msuper\u001B[0m\u001B[0;34m(\u001B[0m\u001B[0mStock\u001B[0m\u001B[0;34m,\u001B[0m \u001B[0mself\u001B[0m\u001B[0;34m)\u001B[0m\u001B[0;34m.\u001B[0m\u001B[0m__init__\u001B[0m\u001B[0;34m(\u001B[0m\u001B[0;34m**\u001B[0m\u001B[0mkwargs\u001B[0m\u001B[0;34m)\u001B[0m\u001B[0;34m\u001B[0m\u001B[0;34m\u001B[0m\u001B[0m\n\u001B[0m\u001B[1;32m     35\u001B[0m \u001B[0;34m\u001B[0m\u001B[0m\n\u001B[1;32m     36\u001B[0m     \u001B[0;32mdef\u001B[0m \u001B[0m__repr__\u001B[0m\u001B[0;34m(\u001B[0m\u001B[0mself\u001B[0m\u001B[0;34m)\u001B[0m\u001B[0;34m:\u001B[0m\u001B[0;34m\u001B[0m\u001B[0;34m\u001B[0m\u001B[0m\n",
      "\u001B[0;32m/usr/local/lib/python3.6/dist-packages/iexfinance/base.py\u001B[0m in \u001B[0;36m__init__\u001B[0;34m(self, **kwargs)\u001B[0m\n\u001B[1;32m     79\u001B[0m         \u001B[0;32mif\u001B[0m \u001B[0;32mnot\u001B[0m \u001B[0mself\u001B[0m\u001B[0;34m.\u001B[0m\u001B[0mtoken\u001B[0m \u001B[0;32mor\u001B[0m \u001B[0;32mnot\u001B[0m \u001B[0misinstance\u001B[0m\u001B[0;34m(\u001B[0m\u001B[0mself\u001B[0m\u001B[0;34m.\u001B[0m\u001B[0mtoken\u001B[0m\u001B[0;34m,\u001B[0m \u001B[0mstr\u001B[0m\u001B[0;34m)\u001B[0m\u001B[0;34m:\u001B[0m\u001B[0;34m\u001B[0m\u001B[0;34m\u001B[0m\u001B[0m\n\u001B[1;32m     80\u001B[0m             raise auth_error(\n\u001B[0;32m---> 81\u001B[0;31m                 \u001B[0;34m\"The IEX Cloud API key must be provided \"\u001B[0m\u001B[0;34m\u001B[0m\u001B[0;34m\u001B[0m\u001B[0m\n\u001B[0m\u001B[1;32m     82\u001B[0m                 \u001B[0;34m\"either through the token variable or \"\u001B[0m\u001B[0;34m\u001B[0m\u001B[0;34m\u001B[0m\u001B[0m\n\u001B[1;32m     83\u001B[0m                 \u001B[0;34m\"through the environmental variable \"\u001B[0m\u001B[0;34m\u001B[0m\u001B[0;34m\u001B[0m\u001B[0m\n",
      "\u001B[0;31mIEXAuthenticationError\u001B[0m: The IEX Cloud API key must be provided either through the token variable or through the environmental variable IEX_TOKEN."
     ]
    }
   ]
  },
  {
   "cell_type": "markdown",
   "metadata": {
    "id": "Y_GDmfhGef_g",
    "pycharm": {
     "name": "#%% md\n"
    }
   },
   "source": [
    "# Alphavantage"
   ]
  },
  {
   "cell_type": "markdown",
   "metadata": {
    "id": "LWQ4CPvni4-T",
    "pycharm": {
     "name": "#%% md\n"
    }
   },
   "source": [
    "# ¿Por que AlphaVantage?\n",
    "\n",
    "\n",
    "*   Capa gratuita.(5 peticiones por minuto y 500 peticiones en un día)\n",
    "*   Nos da cierta información de manera gratuita que IEX no(Información  sobre sectoress)\n",
    "* Información sobre Criptomonedas y Forex de manera gratuita\n",
    "\n",
    "\n",
    "\n",
    "\n",
    "\n"
   ]
  },
  {
   "cell_type": "code",
   "metadata": {
    "colab": {
     "base_uri": "https://localhost:8080/"
    },
    "id": "cCvCluk_ejxA",
    "outputId": "f03bbbca-aeef-49b7-b5ea-b30a481c3416",
    "pycharm": {
     "name": "#%%\n"
    }
   },
   "source": [
    "!pip install alpha_vantage\n",
    "api_key ='VQDF8G5G0NBESG0D'"
   ],
   "execution_count": null,
   "outputs": [
    {
     "output_type": "stream",
     "text": [
      "Collecting alpha_vantage\n",
      "  Downloading https://files.pythonhosted.org/packages/12/e3/72ec32d859a363c2eebaa42e0d4abb5ac7172a7a77a2307576ceb5fc1b42/alpha_vantage-2.2.0.tar.gz\n",
      "Collecting aiohttp\n",
      "\u001B[?25l  Downloading https://files.pythonhosted.org/packages/ad/e6/d4b6235d776c9b33f853e603efede5aac5a34f71ca9d3877adb30492eb4e/aiohttp-3.7.3-cp36-cp36m-manylinux2014_x86_64.whl (1.3MB)\n",
      "\u001B[K     |████████████████████████████████| 1.3MB 6.5MB/s \n",
      "\u001B[?25hRequirement already satisfied: requests in /usr/local/lib/python3.6/dist-packages (from alpha_vantage) (2.23.0)\n",
      "Collecting multidict<7.0,>=4.5\n",
      "\u001B[?25l  Downloading https://files.pythonhosted.org/packages/a1/35/b22524d6b9cacfb4c5eff413a069bbc17c6ea628e54da5c6c989998ced5f/multidict-5.1.0-cp36-cp36m-manylinux2014_x86_64.whl (141kB)\n",
      "\u001B[K     |████████████████████████████████| 143kB 18.9MB/s \n",
      "\u001B[?25hCollecting async-timeout<4.0,>=3.0\n",
      "  Downloading https://files.pythonhosted.org/packages/e1/1e/5a4441be21b0726c4464f3f23c8b19628372f606755a9d2e46c187e65ec4/async_timeout-3.0.1-py3-none-any.whl\n",
      "Requirement already satisfied: attrs>=17.3.0 in /usr/local/lib/python3.6/dist-packages (from aiohttp->alpha_vantage) (20.3.0)\n",
      "Collecting yarl<2.0,>=1.0\n",
      "\u001B[?25l  Downloading https://files.pythonhosted.org/packages/da/08/52b26b44bce7b818b410aee37c5e424c9ea420c557bca97dc2adac29b151/yarl-1.6.3-cp36-cp36m-manylinux2014_x86_64.whl (293kB)\n",
      "\u001B[K     |████████████████████████████████| 296kB 14.9MB/s \n",
      "\u001B[?25hRequirement already satisfied: typing-extensions>=3.6.5 in /usr/local/lib/python3.6/dist-packages (from aiohttp->alpha_vantage) (3.7.4.3)\n",
      "Collecting idna-ssl>=1.0; python_version < \"3.7\"\n",
      "  Downloading https://files.pythonhosted.org/packages/46/03/07c4894aae38b0de52b52586b24bf189bb83e4ddabfe2e2c8f2419eec6f4/idna-ssl-1.1.0.tar.gz\n",
      "Requirement already satisfied: chardet<4.0,>=2.0 in /usr/local/lib/python3.6/dist-packages (from aiohttp->alpha_vantage) (3.0.4)\n",
      "Requirement already satisfied: certifi>=2017.4.17 in /usr/local/lib/python3.6/dist-packages (from requests->alpha_vantage) (2020.12.5)\n",
      "Requirement already satisfied: idna<3,>=2.5 in /usr/local/lib/python3.6/dist-packages (from requests->alpha_vantage) (2.10)\n",
      "Requirement already satisfied: urllib3!=1.25.0,!=1.25.1,<1.26,>=1.21.1 in /usr/local/lib/python3.6/dist-packages (from requests->alpha_vantage) (1.24.3)\n",
      "Building wheels for collected packages: alpha-vantage, idna-ssl\n",
      "  Building wheel for alpha-vantage (setup.py) ... \u001B[?25l\u001B[?25hdone\n",
      "  Created wheel for alpha-vantage: filename=alpha_vantage-2.2.0-cp36-none-any.whl size=25705 sha256=eb0674aed0437bcd6cf0a4ff126b42d4900010901cbab65db3d392d42873a04b\n",
      "  Stored in directory: /root/.cache/pip/wheels/3a/fa/05/80b0afcbd2a4de8bd2a0c5cd77084e3d3a9cc12c48be9b7f84\n",
      "  Building wheel for idna-ssl (setup.py) ... \u001B[?25l\u001B[?25hdone\n",
      "  Created wheel for idna-ssl: filename=idna_ssl-1.1.0-cp36-none-any.whl size=3163 sha256=2d135ca6856411df255b733ee8d080c4919d58d76395cce473fa9bcb3bf3e83d\n",
      "  Stored in directory: /root/.cache/pip/wheels/d3/00/b3/32d613e19e08a739751dd6bf998cfed277728f8b2127ad4eb7\n",
      "Successfully built alpha-vantage idna-ssl\n",
      "Installing collected packages: multidict, async-timeout, yarl, idna-ssl, aiohttp, alpha-vantage\n",
      "Successfully installed aiohttp-3.7.3 alpha-vantage-2.2.0 async-timeout-3.0.1 idna-ssl-1.1.0 multidict-5.1.0 yarl-1.6.3\n"
     ],
     "name": "stdout"
    }
   ]
  },
  {
   "cell_type": "code",
   "metadata": {
    "id": "VE2mFQpyeom_",
    "colab": {
     "base_uri": "https://localhost:8080/",
     "height": 225
    },
    "outputId": "0e5d5af6-f02c-4abc-c65e-907b2f2f011e",
    "pycharm": {
     "name": "#%%\n"
    }
   },
   "source": [
    "from alpha_vantage.timeseries import TimeSeries\n",
    "ts = TimeSeries(key=api_key, output_format='pandas')\n",
    "data, meta_data = ts.get_intraday(symbol='AMZN',interval='60min', outputsize='compact')\n",
    "data.head()"
   ],
   "execution_count": null,
   "outputs": [
    {
     "output_type": "execute_result",
     "data": {
      "text/html": [
       "<div>\n",
       "<style scoped>\n",
       "    .dataframe tbody tr th:only-of-type {\n",
       "        vertical-align: middle;\n",
       "    }\n",
       "\n",
       "    .dataframe tbody tr th {\n",
       "        vertical-align: top;\n",
       "    }\n",
       "\n",
       "    .dataframe thead th {\n",
       "        text-align: right;\n",
       "    }\n",
       "</style>\n",
       "<table border=\"1\" class=\"dataframe\">\n",
       "  <thead>\n",
       "    <tr style=\"text-align: right;\">\n",
       "      <th></th>\n",
       "      <th>1. open</th>\n",
       "      <th>2. high</th>\n",
       "      <th>3. low</th>\n",
       "      <th>4. close</th>\n",
       "      <th>5. volume</th>\n",
       "    </tr>\n",
       "    <tr>\n",
       "      <th>date</th>\n",
       "      <th></th>\n",
       "      <th></th>\n",
       "      <th></th>\n",
       "      <th></th>\n",
       "      <th></th>\n",
       "    </tr>\n",
       "  </thead>\n",
       "  <tbody>\n",
       "    <tr>\n",
       "      <th>2020-12-18 20:00:00</th>\n",
       "      <td>3220.310</td>\n",
       "      <td>3229.45</td>\n",
       "      <td>3220.31</td>\n",
       "      <td>3229.45</td>\n",
       "      <td>11193.0</td>\n",
       "    </tr>\n",
       "    <tr>\n",
       "      <th>2020-12-18 19:00:00</th>\n",
       "      <td>3214.560</td>\n",
       "      <td>3221.50</td>\n",
       "      <td>3213.98</td>\n",
       "      <td>3221.50</td>\n",
       "      <td>11609.0</td>\n",
       "    </tr>\n",
       "    <tr>\n",
       "      <th>2020-12-18 18:00:00</th>\n",
       "      <td>3211.100</td>\n",
       "      <td>3215.00</td>\n",
       "      <td>3201.65</td>\n",
       "      <td>3214.50</td>\n",
       "      <td>94323.0</td>\n",
       "    </tr>\n",
       "    <tr>\n",
       "      <th>2020-12-18 17:00:00</th>\n",
       "      <td>3201.650</td>\n",
       "      <td>3212.08</td>\n",
       "      <td>3200.00</td>\n",
       "      <td>3212.08</td>\n",
       "      <td>320966.0</td>\n",
       "    </tr>\n",
       "    <tr>\n",
       "      <th>2020-12-18 16:00:00</th>\n",
       "      <td>3185.185</td>\n",
       "      <td>3207.03</td>\n",
       "      <td>3175.00</td>\n",
       "      <td>3201.07</td>\n",
       "      <td>1286401.0</td>\n",
       "    </tr>\n",
       "  </tbody>\n",
       "</table>\n",
       "</div>"
      ],
      "text/plain": [
       "                      1. open  2. high   3. low  4. close  5. volume\n",
       "date                                                                \n",
       "2020-12-18 20:00:00  3220.310  3229.45  3220.31   3229.45    11193.0\n",
       "2020-12-18 19:00:00  3214.560  3221.50  3213.98   3221.50    11609.0\n",
       "2020-12-18 18:00:00  3211.100  3215.00  3201.65   3214.50    94323.0\n",
       "2020-12-18 17:00:00  3201.650  3212.08  3200.00   3212.08   320966.0\n",
       "2020-12-18 16:00:00  3185.185  3207.03  3175.00   3201.07  1286401.0"
      ]
     },
     "metadata": {
      "tags": []
     },
     "execution_count": 2
    }
   ]
  },
  {
   "cell_type": "code",
   "metadata": {
    "colab": {
     "base_uri": "https://localhost:8080/"
    },
    "id": "UyeLmpOw4AVH",
    "outputId": "bee98f1e-93a0-4f7d-98a8-5a46cb8aefba",
    "pycharm": {
     "name": "#%%\n"
    }
   },
   "source": [
    "data.info()"
   ],
   "execution_count": null,
   "outputs": [
    {
     "output_type": "stream",
     "text": [
      "<class 'pandas.core.frame.DataFrame'>\n",
      "DatetimeIndex: 100 entries, 2020-12-18 20:00:00 to 2020-12-10 09:00:00\n",
      "Data columns (total 5 columns):\n",
      " #   Column     Non-Null Count  Dtype  \n",
      "---  ------     --------------  -----  \n",
      " 0   1. open    100 non-null    float64\n",
      " 1   2. high    100 non-null    float64\n",
      " 2   3. low     100 non-null    float64\n",
      " 3   4. close   100 non-null    float64\n",
      " 4   5. volume  100 non-null    float64\n",
      "dtypes: float64(5)\n",
      "memory usage: 4.7 KB\n"
     ],
     "name": "stdout"
    }
   ]
  },
  {
   "cell_type": "code",
   "metadata": {
    "colab": {
     "base_uri": "https://localhost:8080/"
    },
    "id": "M7CExE_Co4jq",
    "outputId": "76617ece-65ff-48bd-edf2-0647ebf32f24",
    "pycharm": {
     "name": "#%%\n"
    }
   },
   "source": [
    "meta_data"
   ],
   "execution_count": null,
   "outputs": [
    {
     "output_type": "execute_result",
     "data": {
      "text/plain": [
       "{'1. Information': 'Intraday (60min) open, high, low, close prices and volume',\n",
       " '2. Symbol': 'AMZN',\n",
       " '3. Last Refreshed': '2020-12-18 20:00:00',\n",
       " '4. Interval': '60min',\n",
       " '5. Output Size': 'Compact',\n",
       " '6. Time Zone': 'US/Eastern'}"
      ]
     },
     "metadata": {
      "tags": []
     },
     "execution_count": 4
    }
   ]
  },
  {
   "cell_type": "markdown",
   "metadata": {
    "id": "cgaeM5GXo5qq",
    "pycharm": {
     "name": "#%% md\n"
    }
   },
   "source": [
    "# Intervalos en dataday \n",
    "1min, 5min, 15min, 30min, 60min"
   ]
  },
  {
   "cell_type": "code",
   "metadata": {
    "id": "Ev3s_J1V3i0l",
    "colab": {
     "base_uri": "https://localhost:8080/"
    },
    "outputId": "dc79339a-7ccf-4c75-d30f-3dee684491f5",
    "pycharm": {
     "name": "#%%\n"
    }
   },
   "source": [
    "ts.get_daily(symbol='AMZN')"
   ],
   "execution_count": null,
   "outputs": [
    {
     "output_type": "execute_result",
     "data": {
      "text/plain": [
       "(            1. open    2. high   3. low  4. close  5. volume\n",
       " date                                                        \n",
       " 2020-12-18  3243.99  3249.4200  3171.60   3201.65  5995713.0\n",
       " 2020-12-17  3250.00  3263.5100  3221.00   3236.08  3474347.0\n",
       " 2020-12-16  3176.01  3247.0000  3163.68   3240.96  4427616.0\n",
       " 2020-12-15  3181.01  3188.4999  3130.49   3165.12  3323686.0\n",
       " 2020-12-14  3143.00  3190.4700  3126.00   3156.97  4155794.0\n",
       " ...             ...        ...      ...       ...        ...\n",
       " 2020-08-05  3143.77  3213.5859  3127.30   3205.03  3930025.0\n",
       " 2020-08-04  3101.21  3167.2400  3101.21   3138.83  4694294.0\n",
       " 2020-08-03  3180.51  3184.0000  3104.00   3111.89  5074663.0\n",
       " 2020-07-31  3244.00  3246.8200  3151.00   3164.68  8083369.0\n",
       " 2020-07-30  3014.00  3092.0000  3005.00   3051.88  6128265.0\n",
       " \n",
       " [100 rows x 5 columns],\n",
       " {'1. Information': 'Daily Prices (open, high, low, close) and Volumes',\n",
       "  '2. Symbol': 'AMZN',\n",
       "  '3. Last Refreshed': '2020-12-18',\n",
       "  '4. Output Size': 'Compact',\n",
       "  '5. Time Zone': 'US/Eastern'})"
      ]
     },
     "metadata": {
      "tags": []
     },
     "execution_count": 5
    }
   ]
  },
  {
   "cell_type": "code",
   "metadata": {
    "id": "9IebZ8PW5gUK",
    "pycharm": {
     "name": "#%%\n"
    }
   },
   "source": [],
   "execution_count": null,
   "outputs": []
  },
  {
   "cell_type": "code",
   "metadata": {
    "id": "AuwS5yTpqE9i",
    "pycharm": {
     "name": "#%%\n"
    }
   },
   "source": [
    "data, meta_data = ts.get_intraday(symbol='MSFT',interval='1min',outputsize='compact')"
   ],
   "execution_count": null,
   "outputs": []
  },
  {
   "cell_type": "code",
   "metadata": {
    "colab": {
     "base_uri": "https://localhost:8080/",
     "height": 233
    },
    "id": "NKRl_XAaqbOB",
    "outputId": "653fa8a4-6527-49cf-a2e5-7e449ae18876",
    "pycharm": {
     "name": "#%%\n"
    }
   },
   "source": [
    "data.head()"
   ],
   "execution_count": null,
   "outputs": [
    {
     "output_type": "execute_result",
     "data": {
      "text/html": [
       "<div>\n",
       "<style scoped>\n",
       "    .dataframe tbody tr th:only-of-type {\n",
       "        vertical-align: middle;\n",
       "    }\n",
       "\n",
       "    .dataframe tbody tr th {\n",
       "        vertical-align: top;\n",
       "    }\n",
       "\n",
       "    .dataframe thead th {\n",
       "        text-align: right;\n",
       "    }\n",
       "</style>\n",
       "<table border=\"1\" class=\"dataframe\">\n",
       "  <thead>\n",
       "    <tr style=\"text-align: right;\">\n",
       "      <th></th>\n",
       "      <th>1. open</th>\n",
       "      <th>2. high</th>\n",
       "      <th>3. low</th>\n",
       "      <th>4. close</th>\n",
       "      <th>5. volume</th>\n",
       "    </tr>\n",
       "    <tr>\n",
       "      <th>date</th>\n",
       "      <th></th>\n",
       "      <th></th>\n",
       "      <th></th>\n",
       "      <th></th>\n",
       "      <th></th>\n",
       "    </tr>\n",
       "  </thead>\n",
       "  <tbody>\n",
       "    <tr>\n",
       "      <th>2020-12-17 20:00:00</th>\n",
       "      <td>218.45</td>\n",
       "      <td>218.50</td>\n",
       "      <td>218.45</td>\n",
       "      <td>218.50</td>\n",
       "      <td>841.0</td>\n",
       "    </tr>\n",
       "    <tr>\n",
       "      <th>2020-12-17 19:59:00</th>\n",
       "      <td>218.50</td>\n",
       "      <td>218.50</td>\n",
       "      <td>218.45</td>\n",
       "      <td>218.45</td>\n",
       "      <td>1023.0</td>\n",
       "    </tr>\n",
       "    <tr>\n",
       "      <th>2020-12-17 19:57:00</th>\n",
       "      <td>218.45</td>\n",
       "      <td>218.45</td>\n",
       "      <td>218.45</td>\n",
       "      <td>218.45</td>\n",
       "      <td>443.0</td>\n",
       "    </tr>\n",
       "    <tr>\n",
       "      <th>2020-12-17 19:50:00</th>\n",
       "      <td>218.40</td>\n",
       "      <td>218.40</td>\n",
       "      <td>218.40</td>\n",
       "      <td>218.40</td>\n",
       "      <td>343.0</td>\n",
       "    </tr>\n",
       "    <tr>\n",
       "      <th>2020-12-17 19:49:00</th>\n",
       "      <td>218.34</td>\n",
       "      <td>218.34</td>\n",
       "      <td>218.34</td>\n",
       "      <td>218.34</td>\n",
       "      <td>509.0</td>\n",
       "    </tr>\n",
       "  </tbody>\n",
       "</table>\n",
       "</div>"
      ],
      "text/plain": [
       "                     1. open  2. high  3. low  4. close  5. volume\n",
       "date                                                              \n",
       "2020-12-17 20:00:00   218.45   218.50  218.45    218.50      841.0\n",
       "2020-12-17 19:59:00   218.50   218.50  218.45    218.45     1023.0\n",
       "2020-12-17 19:57:00   218.45   218.45  218.45    218.45      443.0\n",
       "2020-12-17 19:50:00   218.40   218.40  218.40    218.40      343.0\n",
       "2020-12-17 19:49:00   218.34   218.34  218.34    218.34      509.0"
      ]
     },
     "metadata": {
      "tags": []
     },
     "execution_count": 8
    }
   ]
  },
  {
   "cell_type": "markdown",
   "metadata": {
    "id": "7My8o0t-eZ_r",
    "pycharm": {
     "name": "#%% md\n"
    }
   },
   "source": [
    "# Uso de Request"
   ]
  },
  {
   "cell_type": "code",
   "metadata": {
    "id": "utR5zwvdqs3C",
    "pycharm": {
     "name": "#%%\n"
    }
   },
   "source": [
    "import requests as rq\n",
    "params ={'function':'TIME_SERIES_INTRADAY_EXTENDED','symbol':'MSFT','interval':'15min','slice':'year1month1','apikey':api_key,'datatype':'json'}\n",
    "data = rq.get('https://www.alphavantage.co/query',params=params)"
   ],
   "execution_count": null,
   "outputs": []
  },
  {
   "cell_type": "code",
   "metadata": {
    "colab": {
     "base_uri": "https://localhost:8080/"
    },
    "id": "9YKOxzu9tq28",
    "outputId": "fdda3e76-72f4-4111-e666-7a8ba1ffdff5",
    "pycharm": {
     "name": "#%%\n"
    }
   },
   "source": [
    "data.content\n"
   ],
   "execution_count": null,
   "outputs": [
    {
     "output_type": "execute_result",
     "data": {
      "text/plain": [
       "b'time,open,high,low,close,volume\\r\\n2020-12-17 20:00:00,218.34,218.5,218.34,218.5,4929\\r\\n2020-12-17 19:45:00,218.12,218.35,218.01,218.35,1575\\r\\n2020-12-17 19:30:00,218.3201,218.36,218.24,218.25,1870\\r\\n2020-12-17 19:15:00,218.4,218.4,218.36,218.37,3839\\r\\n2020-12-17 19:00:00,218.4,218.4,218.36,218.4,10862\\r\\n2020-12-17 18:45:00,218.38,218.4,218.14,218.4,4595\\r\\n2020-12-17 18:30:00,218.65,218.72,218.2,218.2,10571\\r\\n2020-12-17 18:15:00,218.25,218.73,218.25,218.6299,4809\\r\\n2020-12-17 18:00:00,217.75,218.43,217.66,218.2,20197\\r\\n2020-12-17 17:45:00,219.29,219.29,217.5,217.76,41634\\r\\n2020-12-17 17:30:00,219.27,219.28,219.25,219.25,1084\\r\\n2020-12-17 17:15:00,219.31,219.3102,219.26,219.26,1826\\r\\n2020-12-17 17:00:00,219.3,219.3602,219.3,219.3602,1241482\\r\\n2020-12-17 16:45:00,219.25,219.3,219.25,219.2575,75763\\r\\n2020-12-17 16:30:00,219.42,219.45,219.3,219.3,335267\\r\\n2020-12-17 16:15:00,219.42,219.68,219.25,219.42,1758833\\r\\n2020-12-17 16:00:00,218.785,219.5,218.6,219.42,2221577\\r\\n2020-12-17 15:45:00,218.555,218.83,218.31,218.78,794149\\r\\n2020-12-17 15:30:00,218.571,218.92,218.5,218.55,563137\\r\\n2020-12-17 15:15:00,218.66,218.7465,218.27,218.57,580101\\r\\n2020-12-17 15:00:00,218.685,218.9099,218.53,218.66,558375\\r\\n2020-12-17 14:45:00,218.88,219.02,218.48,218.69,646514\\r\\n2020-12-17 14:30:00,219.175,219.35,218.87,218.8729,489001\\r\\n2020-12-17 14:15:00,219.32,219.35,219.07,219.175,420317\\r\\n2020-12-17 14:00:00,219.19,219.37,219.17,219.33,459145\\r\\n2020-12-17 13:45:00,219.28,219.31,219.06,219.19,556673\\r\\n2020-12-17 13:30:00,219.4576,219.61,219.2,219.27,652537\\r\\n2020-12-17 13:15:00,218.88,219.72,218.88,219.4612,780997\\r\\n2020-12-17 13:00:00,218.79,218.95,218.77,218.87,466391\\r\\n2020-12-17 12:45:00,218.62,218.91,218.45,218.78,489988\\r\\n2020-12-17 12:30:00,218.3761,218.77,218.29,218.63,466679\\r\\n2020-12-17 12:15:00,218.6597,218.789,218.28,218.38,724045\\r\\n2020-12-17 12:00:00,218.11,218.66,217.92,218.65,897880\\r\\n2020-12-17 11:45:00,218.48,218.53,218.05,218.125,679597\\r\\n2020-12-17 11:30:00,218.1889,218.57,218.13,218.48,661366\\r\\n2020-12-17 11:15:00,218.13,218.54,218.0721,218.18,799811\\r\\n2020-12-17 11:00:00,218.51,218.67,218.07,218.1379,1089346\\r\\n2020-12-17 10:45:00,219.24,219.28,218.33,218.505,1328757\\r\\n2020-12-17 10:30:00,218.45,219.24,218.17,219.22,1485791\\r\\n2020-12-17 10:15:00,219.56,219.64,218.3076,218.435,1408439\\r\\n2020-12-17 10:00:00,220.16,220.19,219.23,219.56,2286052\\r\\n2020-12-17 09:45:00,219.87,220.89,219.7,220.17,2335135\\r\\n2020-12-17 09:30:00,219.79,220.0,219.52,219.77,43043\\r\\n2020-12-17 09:15:00,219.63,219.81,219.6,219.79,19757\\r\\n2020-12-17 09:00:00,219.6135,219.8,219.6135,219.6862,6577\\r\\n2020-12-17 08:45:00,219.51,219.72,219.4,219.62,14028\\r\\n2020-12-17 08:30:00,219.82,219.82,219.47,219.63,14688\\r\\n2020-12-17 08:15:00,219.8001,219.95,218.82,219.8,25914\\r\\n2020-12-17 08:00:00,219.82,220.0,219.82,219.9,15388\\r\\n2020-12-17 07:45:00,219.77,219.89,219.77,219.81,5793\\r\\n2020-12-17 07:30:00,219.8,219.85,219.64,219.69,5896\\r\\n2020-12-17 07:15:00,219.86,219.91,219.71,219.86,16234\\r\\n2020-12-17 07:00:00,219.9,219.9,219.7,219.74,2824\\r\\n2020-12-17 06:45:00,220.3,220.3,219.8,219.8,4605\\r\\n2020-12-17 06:30:00,220.1,220.3,220.1,220.3,1083\\r\\n2020-12-17 06:15:00,220.12,220.12,220.1,220.1,300\\r\\n2020-12-17 06:00:00,220.21,220.21,220.2,220.2,475\\r\\n2020-12-17 05:45:00,220.22,220.22,220.22,220.22,300\\r\\n2020-12-17 05:30:00,220.3,220.3,220.3,220.3,221\\r\\n2020-12-17 05:15:00,220.62,220.62,220.61,220.61,300\\r\\n2020-12-17 05:00:00,220.61,220.72,220.61,220.71,868\\r\\n2020-12-17 04:45:00,220.6,220.6,220.6,220.6,171\\r\\n2020-12-17 04:30:00,220.51,220.51,220.44,220.51,316\\r\\n2020-12-17 04:15:00,219.9,220.73,219.9,220.6,2503\\r\\n2020-12-16 20:00:00,219.4,219.4,219.2,219.22,4653\\r\\n2020-12-16 19:45:00,219.26,219.46,219.26,219.46,1537\\r\\n2020-12-16 19:30:00,219.3,219.3,219.16,219.25,1877\\r\\n2020-12-16 19:15:00,219.35,219.38,219.25,219.38,3466\\r\\n2020-12-16 19:00:00,219.4,219.45,219.38,219.38,1515\\r\\n2020-12-16 18:45:00,219.45,219.45,219.35,219.45,1756\\r\\n2020-12-16 18:30:00,219.31,219.4,219.31,219.4,1682\\r\\n2020-12-16 18:15:00,219.3,219.5,219.29,219.29,5105\\r\\n2020-12-16 18:00:00,219.2,219.2,219.2,219.2,935\\r\\n2020-12-16 17:45:00,219.2,219.72,219.14,219.2,14313\\r\\n2020-12-16 17:30:00,219.18,219.28,219.15,219.18,1233\\r\\n2020-12-16 17:15:00,219.14,219.14,219.05,219.1,1890\\r\\n2020-12-16 17:00:00,219.21,219.2767,219.03,219.03,1290\\r\\n2020-12-16 16:45:00,218.9965,219.44,218.9513,219.38,55618\\r\\n2020-12-16 16:30:00,219.1,219.12,218.9002,218.95,77065\\r\\n2020-12-16 16:15:00,219.28,219.28,219.04,219.06,2024497\\r\\n2020-12-16 16:00:00,219.88,219.91,219.0,219.19,2569426\\r\\n2020-12-16 15:45:00,219.93,220.11,219.75,219.88,1514591\\r\\n2020-12-16 15:30:00,219.67,220.0,219.535,219.92,805601\\r\\n2020-12-16 15:15:00,219.76,219.95,219.59,219.6702,676423\\r\\n2020-12-16 15:00:00,219.78,219.8699,219.5501,219.75,714252\\r\\n2020-12-16 14:45:00,219.075,219.93,219.0716,219.7835,827189\\r\\n2020-12-16 14:30:00,218.9201,219.14,218.66,219.065,726098\\r\\n2020-12-16 14:15:00,219.78,219.96,218.61,218.92,1258045\\r\\n2020-12-16 14:00:00,219.4779,219.96,219.4121,219.77,846345\\r\\n2020-12-16 13:45:00,218.93,219.5,218.9277,219.48,785956\\r\\n2020-12-16 13:30:00,219.16,219.28,218.86,218.93,514875\\r\\n2020-12-16 13:15:00,218.8836,219.16,218.79,219.155,539289\\r\\n2020-12-16 13:00:00,218.948,219.03,218.46,218.9,950183\\r\\n2020-12-16 12:45:00,218.77,219.0,218.42,218.93,872649\\r\\n2020-12-16 12:30:00,218.97,219.15,218.6002,218.77,688024\\r\\n2020-12-16 12:15:00,219.19,219.35,218.81,218.975,948871\\r\\n2020-12-16 12:00:00,218.9,219.19,218.71,219.18,1117600\\r\\n2020-12-16 11:45:00,217.99,218.9,217.9338,218.89,1104998\\r\\n2020-12-16 11:30:00,218.0571,218.17,217.46,217.995,894298\\r\\n2020-12-16 11:15:00,217.13,218.1,217.13,218.06,1015757\\r\\n2020-12-16 11:00:00,217.41,217.6601,217.05,217.13,1040078\\r\\n2020-12-16 10:45:00,216.66,217.45,216.572,217.4191,1347841\\r\\n2020-12-16 10:30:00,216.14,216.74,215.83,216.6724,1032826\\r\\n2020-12-16 10:15:00,215.9086,216.5,215.72,216.1429,984708\\r\\n2020-12-16 10:00:00,215.58,216.643,215.51,215.98,1823263\\r\\n2020-12-16 09:45:00,214.75,215.62,214.72,215.5711,1984521\\r\\n2020-12-16 09:30:00,214.65,214.85,214.5,214.73,16489\\r\\n2020-12-16 09:15:00,214.5,214.6396,214.45,214.5284,10001\\r\\n2020-12-16 09:00:00,214.48,214.6,214.4091,214.5,7632\\r\\n2020-12-16 08:45:00,214.48,214.64,214.43,214.48,10223\\r\\n2020-12-16 08:30:00,214.88,214.9,214.5,214.5,6439\\r\\n2020-12-16 08:15:00,214.83,214.969,213.6,214.95,15584\\r\\n2020-12-16 08:00:00,214.85,214.85,214.8,214.8,1957\\r\\n2020-12-16 07:45:00,214.7,214.98,214.7,214.85,4067\\r\\n2020-12-16 07:30:00,214.75,214.75,214.7,214.7,3116\\r\\n2020-12-16 07:15:00,215.0,215.0,214.64,214.8,10948\\r\\n2020-12-16 07:00:00,214.97,215.01,214.91,215.01,2645\\r\\n2020-12-16 06:45:00,214.77,215.1,214.77,214.9,7803\\r\\n2020-12-16 06:30:00,214.61,214.77,214.39,214.77,2943\\r\\n2020-12-16 06:15:00,214.31,214.95,214.3,214.59,9214\\r\\n2020-12-16 06:00:00,214.19,214.22,214.19,214.22,907\\r\\n2020-12-16 05:45:00,214.32,214.32,214.18,214.18,1866\\r\\n2020-12-16 04:45:00,214.49,214.5,214.49,214.5,1030\\r\\n2020-12-16 04:15:00,214.4,214.4,214.4,214.4,2000\\r\\n2020-12-15 20:00:00,214.0,214.19,214.0,214.1,5112\\r\\n2020-12-15 19:45:00,214.1,214.1,214.0,214.08,1602\\r\\n2020-12-15 19:30:00,214.06,214.06,214.02,214.04,953\\r\\n2020-12-15 19:15:00,214.1,214.15,214.06,214.06,3070\\r\\n2020-12-15 19:00:00,214.05,214.09,214.04,214.09,1740\\r\\n2020-12-15 18:45:00,214.04,214.05,214.03,214.03,1786\\r\\n2020-12-15 18:30:00,214.1,214.1,214.06,214.06,905\\r\\n2020-12-15 18:15:00,214.19,214.3,214.1,214.1,221938\\r\\n2020-12-15 18:00:00,214.1,214.2,214.06,214.2,1586\\r\\n2020-12-15 17:45:00,214.06,214.15,214.05,214.12,3130\\r\\n2020-12-15 17:30:00,214.13,214.13,214.04,214.13,1436\\r\\n2020-12-15 17:15:00,214.4645,214.4645,214.04,214.06,1881\\r\\n2020-12-15 17:00:00,214.06,214.13,214.05,214.1,80129\\r\\n2020-12-15 16:45:00,214.0,214.08,214.0,214.02,1182\\r\\n2020-12-15 16:30:00,214.1,214.15,214.0,214.13,8898\\r\\n2020-12-15 16:15:00,214.13,214.24,214.04,214.1,2577670\\r\\n2020-12-15 16:00:00,214.01,214.21,213.7,214.16,1798485\\r\\n2020-12-15 15:45:00,213.95,214.07,213.61,214.0101,702734\\r\\n2020-12-15 15:30:00,213.61,214.05,213.5,213.95,761835\\r\\n2020-12-15 15:15:00,213.415,213.7199,213.33,213.6,604758\\r\\n2020-12-15 15:00:00,213.39,213.53,213.3,213.41,457499\\r\\n2020-12-15 14:45:00,213.275,213.53,213.2521,213.41,503486\\r\\n2020-12-15 14:30:00,213.21,213.32,213.07,213.2701,463787\\r\\n2020-12-15 14:15:00,213.11,213.28,212.9346,213.21,594293\\r\\n2020-12-15 14:00:00,212.99,213.21,212.9501,213.1127,780221\\r\\n2020-12-15 13:45:00,213.2,213.33,212.91,212.98,940553\\r\\n2020-12-15 13:30:00,213.56,213.61,213.14,213.1953,496863\\r\\n2020-12-15 13:15:00,213.39,213.77,213.31,213.57,449423\\r\\n2020-12-15 13:00:00,213.185,213.46,213.13,213.4,533889\\r\\n2020-12-15 12:45:00,212.975,213.39,212.895,213.17,470260\\r\\n2020-12-15 12:30:00,212.77,213.26,212.74,212.97,607577\\r\\n2020-12-15 12:15:00,212.81,213.02,212.6901,212.78,499137\\r\\n2020-12-15 12:00:00,212.9,212.93,212.4,212.8,470654\\r\\n2020-12-15 11:45:00,212.98,212.99,212.66,212.9,524592\\r\\n2020-12-15 11:30:00,212.595,213.03,212.39,212.99,855102\\r\\n2020-12-15 11:15:00,212.8816,212.91,212.24,212.59,873227\\r\\n2020-12-15 11:00:00,213.2,213.47,212.76,212.89,1037943\\r\\n2020-12-15 10:45:00,213.6767,213.68,213.05,213.19,1086814\\r\\n2020-12-15 10:30:00,213.9,214.04,213.61,213.67,705525\\r\\n2020-12-15 10:15:00,213.655,214.2,213.41,213.91,992854\\r\\n2020-12-15 10:00:00,213.76,214.09,213.58,213.635,999730\\r\\n2020-12-15 09:45:00,215.165,215.42,213.6,213.77,1781508\\r\\n2020-12-15 09:30:00,215.2,215.36,215.0,215.36,11712\\r\\n2020-12-15 09:15:00,215.0,215.29,214.99,215.2,9662\\r\\n2020-12-15 09:00:00,214.85,214.99,214.78,214.99,6857\\r\\n2020-12-15 08:45:00,214.7939,214.94,214.7202,214.91,6705\\r\\n2020-12-15 08:30:00,214.64,214.88,214.63,214.81,12071\\r\\n2020-12-15 08:15:00,214.214,215.0329,213.67,214.69,12198\\r\\n2020-12-15 08:00:00,214.81,214.86,214.41,214.7,11355\\r\\n2020-12-15 07:45:00,214.9,215.13,214.57,214.89,12681\\r\\n2020-12-15 07:30:00,214.77,214.88,214.76,214.88,4444\\r\\n2020-12-15 07:15:00,214.35,214.87,214.16,214.87,13532\\r\\n2020-12-15 07:00:00,214.49,214.49,214.1,214.16,2631\\r\\n2020-12-15 06:45:00,214.33,214.33,213.52,214.29,3296\\r\\n2020-12-15 05:45:00,215.18,215.18,215.18,215.18,1000\\r\\n2020-12-15 04:45:00,215.3,215.3,214.8,214.8,656\\r\\n2020-12-15 04:30:00,214.9,215.2,214.9,215.2,205\\r\\n2020-12-15 04:15:00,215.0,215.0,215.0,215.0,107\\r\\n2020-12-14 20:00:00,214.14,214.2,214.02,214.19,567\\r\\n2020-12-14 19:45:00,214.0,214.0,214.0,214.0,150\\r\\n2020-12-14 19:30:00,214.1,214.21,213.9,214.05,4038\\r\\n2020-12-14 19:15:00,214.1,214.19,214.1,214.19,859\\r\\n2020-12-14 19:00:00,214.06,214.06,214.0,214.01,741\\r\\n2020-12-14 18:45:00,214.15,214.17,214.1,214.17,2376\\r\\n2020-12-14 18:30:00,214.06,214.18,214.06,214.18,1582\\r\\n2020-12-14 18:15:00,214.0,214.0,213.98,213.98,770\\r\\n2020-12-14 18:00:00,214.03,214.08,214.0,214.0,777\\r\\n2020-12-14 17:45:00,213.95,214.0,213.95,214.0,977\\r\\n2020-12-14 17:30:00,213.84,213.92,213.84,213.92,3485\\r\\n2020-12-14 17:15:00,213.96,213.96,213.77,213.84,315127\\r\\n2020-12-14 17:00:00,214.05,214.08,214.05,214.07,681\\r\\n2020-12-14 16:45:00,214.0,214.06,213.9,213.9,4157\\r\\n2020-12-14 16:30:00,214.1786,214.1786,213.92,214.0,8718\\r\\n2020-12-14 16:15:00,214.2,214.2,214.01,214.01,1148222\\r\\n2020-12-14 16:00:00,214.06,214.75,213.51,214.19,2203745\\r\\n2020-12-14 15:45:00,214.91,214.91,214.06,214.0643,718016\\r\\n2020-12-14 15:30:00,214.9,215.2,214.76,214.91,506736\\r\\n2020-12-14 15:15:00,215.135,215.2,214.654,214.89,476311\\r\\n2020-12-14 15:00:00,214.73,215.27,214.54,215.14,530313\\r\\n2020-12-14 14:45:00,215.0201,215.0399,214.4,214.74,445952\\r\\n2020-12-14 14:30:00,214.77,215.27,214.71,215.04,429766\\r\\n2020-12-14 14:15:00,215.08,215.27,214.71,214.77,383185\\r\\n2020-12-14 14:00:00,214.915,215.23,214.61,215.0581,419987\\r\\n2020-12-14 13:45:00,214.78,215.15,214.7481,214.92,342303\\r\\n2020-12-14 13:30:00,214.68,215.08,214.67,214.775,506519\\r\\n2020-12-14 13:15:00,214.58,214.81,214.0201,214.6999,716167\\r\\n2020-12-14 13:00:00,214.92,214.93,214.382,214.57,579921\\r\\n2020-12-14 12:45:00,215.27,215.41,214.85,214.92,575054\\r\\n2020-12-14 12:30:00,215.79,215.83,215.24,215.24,801769\\r\\n2020-12-14 12:15:00,216.16,216.21,215.68,215.8144,639982\\r\\n2020-12-14 12:00:00,215.47,216.2,215.4,216.15,1040244\\r\\n2020-12-14 11:45:00,215.4,215.7,215.24,215.45,672000\\r\\n2020-12-14 11:30:00,215.26,215.685,215.16,215.4,802659\\r\\n2020-12-14 11:15:00,214.57,215.3,214.51,215.25,1612074\\r\\n2020-12-14 11:00:00,215.01,215.16,214.56,214.57,832131\\r\\n2020-12-14 10:45:00,215.09,215.13,214.78,215.02,896941\\r\\n2020-12-14 10:30:00,215.01,215.67,214.96,215.1,1228212\\r\\n2020-12-14 10:15:00,214.73,215.3,214.54,215.0059,1356948\\r\\n2020-12-14 10:00:00,214.32,214.79,214.29,214.74,1352745\\r\\n2020-12-14 09:45:00,213.1,214.35,212.88,214.32,2263438\\r\\n2020-12-14 09:30:00,213.35,213.62,212.85,212.96,25642\\r\\n2020-12-14 09:15:00,213.38,213.52,213.3,213.35,13043\\r\\n2020-12-14 09:00:00,213.1524,213.4,213.1524,213.38,9194\\r\\n2020-12-14 08:45:00,213.2035,213.3,213.05,213.11,9185\\r\\n2020-12-14 08:30:00,213.01,213.474,212.9,213.2244,21729\\r\\n2020-12-14 08:15:00,213.8005,213.99,212.73,213.0,35240\\r\\n2020-12-14 08:00:00,213.84,213.89,213.81,213.81,1066\\r\\n2020-12-14 07:45:00,213.9,213.97,213.8,213.86,3671\\r\\n2020-12-14 07:30:00,213.89,214.0,213.89,214.0,1245\\r\\n2020-12-14 07:15:00,213.93,213.93,213.79,213.8,5724\\r\\n2020-12-14 06:45:00,213.92,213.93,213.92,213.93,452\\r\\n2020-12-14 06:30:00,213.93,213.93,213.93,213.93,357\\r\\n2020-12-14 06:15:00,213.81,213.81,213.81,213.81,280\\r\\n2020-12-14 06:00:00,213.8,213.8,213.8,213.8,403\\r\\n2020-12-14 05:30:00,214.01,214.01,213.57,213.57,2260\\r\\n2020-12-14 05:15:00,213.4,214.0,213.4,214.0,4393\\r\\n2020-12-14 04:30:00,213.06,213.06,213.06,213.06,138\\r\\n2020-12-14 04:15:00,213.38,213.38,212.99,212.99,1871\\r\\n2020-12-11 20:00:00,213.0,213.0,212.98,213.0,1767\\r\\n2020-12-11 19:45:00,213.02,213.02,213.02,213.02,285\\r\\n2020-12-11 19:15:00,213.0,213.24,213.0,213.24,318\\r\\n2020-12-11 19:00:00,212.0,213.01,212.0,213.01,1245\\r\\n2020-12-11 18:45:00,213.2,213.2,213.05,213.05,478\\r\\n2020-12-11 18:30:00,213.11,213.11,213.05,213.05,478\\r\\n2020-12-11 18:15:00,213.06,213.11,213.06,213.11,721\\r\\n2020-12-11 18:00:00,213.08,213.1,213.08,213.1,436\\r\\n2020-12-11 17:45:00,213.22,213.25,213.22,213.22,2464\\r\\n2020-12-11 17:30:00,213.22,213.26,213.22,213.22,112560\\r\\n2020-12-11 17:15:00,213.22,213.2498,213.22,213.22,82592\\r\\n2020-12-11 17:00:00,213.25,213.25,213.22,213.22,2924\\r\\n2020-12-11 16:45:00,213.26,213.27,213.06,213.18,6462\\r\\n2020-12-11 16:30:00,213.1005,213.27,213.1,213.26,29854\\r\\n2020-12-11 16:15:00,213.26,213.29,209.522,212.155004,2314650\\r\\n2020-12-11 16:00:00,212.65,213.32,212.285,213.27,2280248\\r\\n2020-12-11 15:45:00,212.82,213.03,212.5867,212.65,759119\\r\\n2020-12-11 15:30:00,212.66,213.16,212.66,212.815,1002996\\r\\n2020-12-11 15:15:00,212.36,212.68,212.1501,212.67,651098\\r\\n2020-12-11 15:00:00,212.26,212.5,212.13,212.37,505483\\r\\n2020-12-11 14:45:00,212.04,212.48,212.03,212.26,542139\\r\\n2020-12-11 14:30:00,212.205,212.39,211.88,212.0425,494671\\r\\n2020-12-11 14:15:00,212.45,212.63,212.18,212.205,557777\\r\\n2020-12-11 14:00:00,212.31,212.96,212.06,212.44,747044\\r\\n2020-12-11 13:45:00,211.77,212.75,211.72,212.3001,708284\\r\\n2020-12-11 13:30:00,211.855,211.869,211.5,211.7701,340251\\r\\n2020-12-11 13:15:00,211.545,211.92,211.51,211.86,450929\\r\\n2020-12-11 13:00:00,211.06,211.5779,211.01,211.545,448247\\r\\n2020-12-11 12:45:00,211.25,211.355,210.92,211.0611,660285\\r\\n2020-12-11 12:30:00,211.43,211.76,211.1405,211.255,693416\\r\\n2020-12-11 12:15:00,210.87,211.7,210.8401,211.43,1821466\\r\\n2020-12-11 12:00:00,210.36,210.88,210.23,210.8699,641125\\r\\n2020-12-11 11:45:00,210.71,210.89,210.34,210.366,1017235\\r\\n2020-12-11 11:30:00,211.181,211.2801,210.69,210.71,776102\\r\\n2020-12-11 11:15:00,211.07,211.7701,211.07,211.175,576556\\r\\n2020-12-11 11:00:00,211.3221,211.345,210.71,211.05,766792\\r\\n2020-12-11 10:45:00,212.0,212.0,211.09,211.31,846758\\r\\n2020-12-11 10:30:00,210.94,212.11,210.73,211.981,2209967\\r\\n2020-12-11 10:15:00,210.58,211.37,210.04,210.93,1532494\\r\\n2020-12-11 10:00:00,209.19,210.78,209.11,210.55,1738508\\r\\n2020-12-11 09:45:00,210.05,210.4527,209.12,209.18,1982170\\r\\n2020-12-11 09:30:00,210.02,210.35,209.9,210.17,27402\\r\\n2020-12-11 09:15:00,210.1,210.2593,210.0,210.0894,11701\\r\\n2020-12-11 09:00:00,209.95,210.1,209.75,210.1,18293\\r\\n2020-12-11 08:45:00,209.96,210.0,209.89,209.9589,14624\\r\\n2020-12-11 08:30:00,209.95,209.96,209.9,209.9,14597\\r\\n2020-12-11 08:15:00,209.785,210.0,209.5162,209.973,29089\\r\\n2020-12-11 08:00:00,209.71,210.0,209.71,209.77,4120\\r\\n2020-12-11 07:45:00,209.5,209.7,209.4,209.7,2987\\r\\n2020-12-11 07:30:00,209.77,209.77,209.65,209.68,8852\\r\\n2020-12-11 07:15:00,209.77,209.97,209.65,209.72,8191\\r\\n2020-12-11 07:00:00,209.61,209.61,209.6,209.6,1073\\r\\n2020-12-11 06:45:00,209.1,209.89,209.01,209.89,3340\\r\\n2020-12-11 06:30:00,209.6,209.6,209.03,209.1,6671\\r\\n2020-12-11 06:15:00,209.85,209.85,209.3,209.3,2500\\r\\n2020-12-11 06:00:00,209.8,209.83,209.51,209.51,2564\\r\\n2020-12-11 05:45:00,210.08,210.08,210.0,210.0,16244\\r\\n2020-12-11 05:30:00,210.11,210.11,210.08,210.08,1000\\r\\n2020-12-11 05:15:00,210.09,210.25,210.09,210.25,380\\r\\n2020-12-11 05:00:00,210.78,210.82,210.25,210.25,5729\\r\\n2020-12-11 04:45:00,210.54,210.7,210.54,210.7,629\\r\\n2020-12-11 04:15:00,210.45,210.45,210.07,210.25,2377\\r\\n2020-12-10 20:00:00,210.67,210.67,210.5,210.5899,7315\\r\\n2020-12-10 19:45:00,210.69,210.75,210.69,210.7,10000\\r\\n2020-12-10 19:30:00,210.69,210.69,210.61,210.69,1555\\r\\n2020-12-10 19:15:00,210.69,210.7,210.65,210.69,1266\\r\\n2020-12-10 19:00:00,210.7,210.7,210.68,210.7,1337\\r\\n2020-12-10 18:45:00,210.62,210.69,210.6,210.64,3542\\r\\n2020-12-10 18:30:00,210.6,210.62,210.6,210.62,6148\\r\\n2020-12-10 18:15:00,210.62,210.62,210.41,210.55,12792\\r\\n2020-12-10 18:00:00,210.58,210.62,210.56,210.62,7616\\r\\n2020-12-10 17:45:00,210.55,210.58,210.52,210.58,7089\\r\\n2020-12-10 17:30:00,210.55,210.61,210.55,210.58,3598\\r\\n2020-12-10 17:15:00,210.58,210.59,210.55,210.55,1208\\r\\n2020-12-10 17:00:00,210.52,210.53,210.5,210.53,5126\\r\\n2020-12-10 16:45:00,210.52,210.65,210.49,210.52,14164\\r\\n2020-12-10 16:30:00,210.5,210.5411,210.49,210.5,196025\\r\\n2020-12-10 16:15:00,210.52,210.69,210.48,210.52,1692373\\r\\n2020-12-10 16:00:00,211.37,211.575,210.37,210.515,2633040\\r\\n2020-12-10 15:45:00,210.94,211.45,210.91,211.38,833191\\r\\n2020-12-10 15:30:00,210.8101,211.035,210.75,210.93,665058\\r\\n2020-12-10 15:15:00,210.5,210.87,210.46,210.82,625723\\r\\n2020-12-10 15:00:00,210.71,210.87,210.3701,210.49,608441\\r\\n2020-12-10 14:45:00,210.67,210.91,210.62,210.698,567162\\r\\n2020-12-10 14:30:00,210.85,210.85,210.54,210.68,488026\\r\\n2020-12-10 14:15:00,211.29,211.35,210.8,210.86,561808\\r\\n2020-12-10 14:00:00,211.25,211.35,210.9801,211.23,415835\\r\\n2020-12-10 13:45:00,211.5779,211.62,211.12,211.2664,357679\\r\\n2020-12-10 13:30:00,211.44,211.75,211.27,211.58,383226\\r\\n2020-12-10 13:15:00,210.94,211.48,210.86,211.43,488992\\r\\n2020-12-10 13:00:00,211.07,211.19,210.73,210.93,526974\\r\\n2020-12-10 12:45:00,211.24,211.5,210.95,211.07,586570\\r\\n2020-12-10 12:30:00,211.11,211.335,211.0,211.23,498420\\r\\n2020-12-10 12:15:00,211.19,211.395,211.06,211.0921,536832\\r\\n2020-12-10 12:00:00,211.77,211.84,211.08,211.2,770137\\r\\n2020-12-10 11:45:00,211.97,212.03,211.6647,211.78,625924\\r\\n2020-12-10 11:30:00,212.07,212.38,211.915,211.97,784292\\r\\n2020-12-10 11:15:00,212.62,212.66,211.906,212.05,664908\\r\\n2020-12-10 11:00:00,212.6,213.0,212.29,212.6,593134\\r\\n2020-12-10 10:45:00,212.29,212.8295,211.95,212.63,670876\\r\\n2020-12-10 10:30:00,212.38,212.958,212.19,212.27,747464\\r\\n2020-12-10 10:15:00,212.55,213.04,212.13,212.4,1185608\\r\\n2020-12-10 10:00:00,212.44,213.08,212.35,212.55,1261647\\r\\n2020-12-10 09:45:00,211.77,212.75,210.36,212.41,2517711\\r\\n2020-12-10 09:30:00,210.8,212.04,210.8,211.85,90236\\r\\n2020-12-10 09:15:00,210.73,210.92,210.73,210.9,58854\\r\\n2020-12-10 09:00:00,211.07,211.29,210.72,210.87,83558\\r\\n2020-12-10 08:45:00,211.2,211.43,211.0,211.11,15265\\r\\n2020-12-10 08:30:00,211.12,211.44,211.06,211.22,15573\\r\\n2020-12-10 08:15:00,212.2005,212.49,210.8,211.24,38958\\r\\n2020-12-10 08:00:00,211.22,211.4,211.1,211.11,11980\\r\\n2020-12-10 07:45:00,211.34,211.44,210.88,211.21,34181\\r\\n2020-12-10 07:30:00,211.89,211.9,211.3,211.3,7264\\r\\n2020-12-10 07:15:00,212.35,212.35,211.81,211.85,9000\\r\\n2020-12-10 07:00:00,212.31,212.59,212.21,212.21,1655\\r\\n2020-12-10 06:30:00,212.6,212.63,212.4,212.4,742\\r\\n2020-12-10 06:15:00,212.73,212.73,212.7,212.7,728\\r\\n2020-12-10 06:00:00,212.85,212.9,212.72,212.9,4325\\r\\n2020-12-10 05:45:00,212.78,212.85,212.78,212.85,637\\r\\n2020-12-10 05:30:00,212.71,212.71,212.68,212.7,3331\\r\\n2020-12-10 05:15:00,212.65,212.73,212.65,212.7,4614\\r\\n2020-12-10 05:00:00,212.25,212.5,212.25,212.31,3544\\r\\n2020-12-10 04:45:00,212.08,212.5,212.08,212.25,7654\\r\\n2020-12-10 04:30:00,212.01,212.05,212.0,212.05,2329\\r\\n2020-12-10 04:15:00,212.2,212.2,212.0,212.0,1056\\r\\n2020-12-09 20:00:00,212.35,212.46,212.02,212.02,5904\\r\\n2020-12-09 19:45:00,212.11,212.46,212.11,212.42,4975\\r\\n2020-12-09 19:30:00,212.0,212.34,211.97,212.34,3407\\r\\n2020-12-09 19:15:00,212.25,212.3,212.25,212.3,804\\r\\n2020-12-09 19:00:00,212.0,212.0,211.9,211.97,2687\\r\\n2020-12-09 18:45:00,212.1,212.2,212.0,212.2,3357\\r\\n2020-12-09 18:30:00,212.23,212.25,212.19,212.19,1659\\r\\n2020-12-09 18:15:00,212.0,212.22,212.0,212.22,5327\\r\\n2020-12-09 18:00:00,211.9999,212.0,211.87,212.0,2335\\r\\n2020-12-09 17:45:00,212.06,212.1,212.0,212.0,6766\\r\\n2020-12-09 17:30:00,212.15,212.18,212.1,212.18,1906\\r\\n2020-12-09 17:15:00,212.15,212.15,212.08,212.15,2445\\r\\n2020-12-09 17:00:00,212.0001,212.25,211.8,212.15,32167\\r\\n2020-12-09 16:45:00,211.7788,212.33,211.7788,212.15,55171\\r\\n2020-12-09 16:30:00,211.99,212.145,211.8,212.0,37311\\r\\n2020-12-09 16:15:00,211.8,212.48,211.5,211.97,2286000\\r\\n2020-12-09 16:00:00,211.9272,212.37,211.35,211.41,2606942\\r\\n2020-12-09 15:45:00,211.37,212.03,211.35,211.93,1055672\\r\\n2020-12-09 15:30:00,212.15,212.21,211.214,211.37,893234\\r\\n2020-12-09 15:15:00,212.31,212.6,212.06,212.15,734703\\r\\n2020-12-09 15:00:00,211.93,212.3818,211.87,212.32,703242\\r\\n2020-12-09 14:45:00,212.69,212.76,211.83,211.9364,823820\\r\\n2020-12-09 14:30:00,212.74,212.81,212.2,212.72,833091\\r\\n2020-12-09 14:15:00,212.29,213.04,212.28,212.8,832720\\r\\n2020-12-09 14:00:00,212.8,212.86,212.185,212.29,711350\\r\\n2020-12-09 13:45:00,212.74,213.0,212.23,212.79,848878\\r\\n2020-12-09 13:30:00,213.26,213.48,212.58,212.75,758352\\r\\n2020-12-09 13:15:00,213.35,213.64,212.93,213.26,841319\\r\\n2020-12-09 13:00:00,213.525,213.68,213.06,213.39,914452\\r\\n2020-12-09 12:45:00,213.9911,213.9911,213.51,213.525,543601\\r\\n2020-12-09 12:30:00,214.06,214.11,213.62,213.99,477743\\r\\n2020-12-09 12:15:00,214.26,214.2653,213.79,214.07,507131\\r\\n2020-12-09 12:00:00,214.32,214.32,213.97,214.2672,409660\\r\\n2020-12-09 11:45:00,214.66,214.7,214.12,214.33,497510\\r\\n2020-12-09 11:30:00,214.45,214.7,214.24,214.66,565690\\r\\n2020-12-09 11:15:00,214.59,214.64,213.93,214.445,700205\\r\\n2020-12-09 11:00:00,213.99,214.69,213.819,214.58,874456\\r\\n2020-12-09 10:45:00,213.97,214.4,213.68,213.97,884022\\r\\n2020-12-09 10:30:00,213.325,214.2,213.18,213.95,1313147\\r\\n2020-12-09 10:15:00,214.19,214.23,213.18,213.33,1604418\\r\\n2020-12-09 10:00:00,214.41,214.66,214.1,214.21,1428771\\r\\n2020-12-09 09:45:00,215.16,215.225,214.09,214.43,2148151\\r\\n2020-12-09 09:30:00,215.7,215.76,215.15,215.22,27470\\r\\n2020-12-09 09:15:00,215.45,215.79,215.44,215.7,15995\\r\\n2020-12-09 09:00:00,215.3,215.4425,215.3,215.43,2202\\r\\n2020-12-09 08:45:00,215.34,215.4,215.25,215.31,16804\\r\\n2020-12-09 08:30:00,215.29,215.53,215.25,215.35,9503\\r\\n2020-12-09 08:15:00,215.78,215.78,215.24,215.27,19840\\r\\n2020-12-09 08:00:00,215.31,215.51,215.27,215.3,5699\\r\\n2020-12-09 07:45:00,215.41,215.41,215.32,215.35,6735\\r\\n2020-12-09 07:30:00,215.62,215.73,215.4,215.4,7044\\r\\n2020-12-09 07:15:00,215.76,215.76,215.7,215.7,1234\\r\\n2020-12-09 06:00:00,215.4,215.4,215.4,215.4,544\\r\\n2020-12-09 05:45:00,215.42,215.42,215.4,215.4,1088\\r\\n2020-12-09 05:30:00,215.7,215.7,215.42,215.42,1003\\r\\n2020-12-09 05:15:00,215.85,215.91,215.7,215.7,2038\\r\\n2020-12-09 04:45:00,215.68,215.76,215.68,215.76,408\\r\\n2020-12-09 04:15:00,216.48,216.69,215.54,215.69,4567\\r\\n2020-12-08 20:00:00,216.18,216.7,216.1,216.5,5254\\r\\n2020-12-08 19:45:00,216.18,216.18,216.18,216.18,1025\\r\\n2020-12-08 19:30:00,216.18,216.2,216.0501,216.2,1816\\r\\n2020-12-08 19:15:00,216.07,216.16,216.07,216.16,560\\r\\n2020-12-08 19:00:00,215.9,215.97,215.85,215.96,2165\\r\\n2020-12-08 18:45:00,216.01,216.01,215.85,215.85,2462\\r\\n2020-12-08 18:30:00,216.01,216.03,216.01,216.02,741\\r\\n2020-12-08 18:15:00,216.0,216.26,216.0,216.26,16836\\r\\n2020-12-08 18:00:00,215.99,216.0,215.95,215.95,1135\\r\\n2020-12-08 17:45:00,215.89,216.01,215.89,215.89,61917\\r\\n2020-12-08 17:30:00,215.96,215.96,215.8898,215.89,1127\\r\\n2020-12-08 17:15:00,215.9101,216.0,215.9101,216.0,3761\\r\\n2020-12-08 17:00:00,215.86,215.94,215.86,215.94,3313\\r\\n2020-12-08 16:45:00,215.98,216.01,215.9,215.9,9934\\r\\n2020-12-08 16:30:00,216.1,216.1,215.91,215.98,4021\\r\\n2020-12-08 16:15:00,216.01,216.1,215.76,216.05,2131562\\r\\n2020-12-08 16:00:00,216.1068,216.26,215.77,215.99,1509159\\r\\n2020-12-08 15:45:00,216.39,216.52,215.9,216.09,572921\\r\\n2020-12-08 15:30:00,216.38,216.56,216.18,216.399,469973\\r\\n2020-12-08 15:15:00,216.43,216.6182,216.27,216.37,482364\\r\\n2020-12-08 15:00:00,216.3332,216.42,216.1,216.42,491872\\r\\n2020-12-08 14:45:00,216.64,216.7,216.28,216.34,384281\\r\\n2020-12-08 14:30:00,216.545,216.7,216.3601,216.639,371024\\r\\n2020-12-08 14:15:00,216.56,216.74,216.42,216.5471,385889\\r\\n2020-12-08 14:00:00,216.88,216.88,216.39,216.57,365624\\r\\n2020-12-08 13:45:00,216.65,216.95,216.65,216.8918,380968\\r\\n2020-12-08 13:30:00,216.8,216.9,216.52,216.65,702469\\r\\n2020-12-08 13:15:00,216.19,216.88,216.12,216.8199,701407\\r\\n2020-12-08 13:00:00,216.09,216.3,215.86,216.18,446935\\r\\n2020-12-08 12:45:00,216.27,216.27,216.0,216.09,407679\\r\\n2020-12-08 12:30:00,215.86,216.29,215.86,216.25,484944\\r\\n2020-12-08 12:15:00,215.97,216.36,215.8,215.86,740590\\r\\n2020-12-08 12:00:00,215.43,216.03,215.3,215.96,812888\\r\\n2020-12-08 11:45:00,214.9,215.52,214.83,215.42,739251\\r\\n2020-12-08 11:30:00,214.7301,215.15,214.68,214.88,792960\\r\\n2020-12-08 11:15:00,214.8136,214.925,214.48,214.74,581430\\r\\n2020-12-08 11:00:00,214.82,214.965,214.57,214.82,679573\\r\\n2020-12-08 10:45:00,213.802,214.82,213.6701,214.81,816152\\r\\n2020-12-08 10:30:00,214.33,214.33,213.26,213.8225,835808\\r\\n2020-12-08 10:15:00,213.51,214.48,213.4,214.325,973748\\r\\n2020-12-08 10:00:00,213.58,213.67,212.89,213.53,990733\\r\\n2020-12-08 09:45:00,213.97,214.99,213.08,213.58,1793299\\r\\n2020-12-08 09:30:00,213.72,214.21,213.7,214.07,28757\\r\\n2020-12-08 09:15:00,213.6545,213.75,213.52,213.71,9037\\r\\n2020-12-08 09:00:00,213.5551,213.7,213.5,213.62,5239\\r\\n2020-12-08 08:45:00,213.61,213.75,213.53,213.53,16178\\r\\n2020-12-08 08:30:00,213.57,213.7628,213.51,213.61,5979\\r\\n2020-12-08 08:15:00,213.5669,213.78,213.41,213.55,15994\\r\\n2020-12-08 08:00:00,213.55,213.55,213.34,213.47,2656\\r\\n2020-12-08 07:45:00,213.64,213.75,213.5,213.61,4822\\r\\n2020-12-08 07:30:00,213.64,213.68,213.64,213.68,1405\\r\\n2020-12-08 07:15:00,213.78,213.78,213.58,213.58,3898\\r\\n2020-12-08 07:00:00,213.9,214.1,213.78,213.78,4438\\r\\n2020-12-08 06:45:00,214.14,214.2,213.93,214.0,1972\\r\\n2020-12-08 06:30:00,214.0,214.0,214.0,214.0,931\\r\\n2020-12-08 06:15:00,214.11,214.24,214.1,214.24,1260\\r\\n2020-12-08 06:00:00,214.36,214.36,214.36,214.36,371\\r\\n2020-12-08 05:45:00,214.3,214.36,214.3,214.36,449\\r\\n2020-12-08 05:30:00,214.15,214.15,214.15,214.15,236\\r\\n2020-12-08 05:00:00,214.18,214.18,214.18,214.18,251\\r\\n2020-12-08 04:45:00,214.3,214.3,214.04,214.04,1317\\r\\n2020-12-08 04:30:00,214.3,214.3,214.3,214.3,635\\r\\n2020-12-08 04:15:00,214.5,214.5,214.3,214.3,6331\\r\\n2020-12-07 20:00:00,213.7,213.7899,213.7,213.7,5819\\r\\n2020-12-07 19:45:00,213.8,213.8,213.8,213.8,150\\r\\n2020-12-07 19:30:00,213.8,213.8,213.75,213.8,437\\r\\n2020-12-07 19:15:00,213.8,213.8,213.67,213.7,7503\\r\\n2020-12-07 19:00:00,213.95,213.95,213.7,213.7,3034\\r\\n2020-12-07 18:45:00,213.88,213.99,213.88,213.99,2547\\r\\n2020-12-07 18:30:00,213.88,213.88,213.88,213.88,741\\r\\n2020-12-07 18:15:00,213.84,213.86,213.84,213.86,815\\r\\n2020-12-07 18:00:00,213.9,213.9,213.8,213.8,357\\r\\n2020-12-07 17:45:00,213.73,213.9,213.73,213.9,874\\r\\n2020-12-07 17:30:00,213.8,213.9,213.7301,213.7301,2152\\r\\n2020-12-07 17:15:00,213.7,213.8,213.7,213.7,1560\\r\\n2020-12-07 17:00:00,213.83,213.88,213.65,213.7,6504\\r\\n2020-12-07 16:45:00,214.14,214.14,213.86,214.01,9014\\r\\n2020-12-07 16:30:00,214.09,214.29,214.09,214.15,11099\\r\\n2020-12-07 16:15:00,214.29,214.32,214.0,214.09,3895143\\r\\n2020-12-07 16:00:00,213.45,214.33,213.03,214.32,2367828\\r\\n2020-12-07 15:45:00,213.7741,213.8185,213.34,213.452,510341\\r\\n2020-12-07 15:30:00,213.55,213.89,213.54,213.7817,389357\\r\\n2020-12-07 15:15:00,213.6,213.74,213.456,213.5409,433345\\r\\n2020-12-07 15:00:00,213.61,213.74,213.55,213.6,398601\\r\\n2020-12-07 14:45:00,213.47,213.63,213.4,213.62,292296\\r\\n2020-12-07 14:30:00,213.3,213.6,213.22,213.47,415825\\r\\n2020-12-07 14:15:00,213.36,213.4,213.08,213.3,380733\\r\\n2020-12-07 14:00:00,213.04,213.48,213.0,213.3718,430946\\r\\n2020-12-07 13:45:00,213.27,213.3899,212.99,213.035,508510\\r\\n2020-12-07 13:30:00,213.28,213.4499,213.2,213.28,447206\\r\\n2020-12-07 13:15:00,213.68,213.76,213.23,213.2832,499954\\r\\n2020-12-07 13:00:00,213.925,214.08,213.67,213.685,459238\\r\\n2020-12-07 12:45:00,213.86,213.95,213.623,213.93,422034\\r\\n2020-12-07 12:30:00,213.56,213.88,213.46,213.86,435433\\r\\n2020-12-07 12:15:00,213.82,213.82,213.4,213.565,566012\\r\\n2020-12-07 12:00:00,213.9501,214.09,213.75,213.83,512742\\r\\n2020-12-07 11:45:00,214.09,214.12,213.77,213.96,499920\\r\\n2020-12-07 11:30:00,214.15,214.285,214.0,214.09,398685\\r\\n2020-12-07 11:15:00,213.79,214.27,213.72,214.14,553433\\r\\n2020-12-07 11:00:00,213.9759,214.1738,213.77,213.795,647596\\r\\n2020-12-07 10:45:00,214.42,214.69,213.84,213.98,724218\\r\\n2020-12-07 10:30:00,213.93,214.91,213.8,214.43,958115\\r\\n2020-12-07 10:15:00,215.08,215.29,213.81,213.93,998223\\r\\n2020-12-07 10:00:00,215.01,215.16,214.601,215.08,878799\\r\\n2020-12-07 09:45:00,214.37,215.54,214.12,215.01,1862414\\r\\n2020-12-07 09:30:00,214.74,214.77,214.41,214.41,20211\\r\\n2020-12-07 09:15:00,214.67,214.78,214.52,214.6,13609\\r\\n2020-12-07 09:00:00,214.5749,214.8,214.5749,214.8,10221\\r\\n2020-12-07 08:45:00,214.6514,214.7,214.54,214.65,7334\\r\\n2020-12-07 08:30:00,214.69,214.81,214.63,214.78,7756\\r\\n2020-12-07 08:15:00,214.95,215.2,214.71,214.71,18077\\r\\n2020-12-07 08:00:00,214.95,214.96,214.8,214.95,5277\\r\\n2020-12-07 07:45:00,215.09,215.09,214.86,214.9,8861\\r\\n2020-12-07 07:30:00,215.18,215.2,215.06,215.06,7173\\r\\n2020-12-07 07:15:00,215.65,215.74,215.04,215.2,36464\\r\\n2020-12-07 07:00:00,216.05,216.05,216.0,216.0,852\\r\\n2020-12-07 06:45:00,216.0,216.15,216.0,216.06,3507\\r\\n2020-12-07 06:30:00,216.05,216.05,216.05,216.05,300\\r\\n2020-12-07 06:15:00,216.13,216.13,216.0,216.03,3797\\r\\n2020-12-07 06:00:00,216.31,216.31,216.13,216.2,2492\\r\\n2020-12-07 05:45:00,216.4,216.4,216.26,216.4,7442\\r\\n2020-12-07 05:30:00,215.25,216.25,215.25,216.25,14393\\r\\n2020-12-07 05:15:00,214.98,215.25,214.98,215.25,5635\\r\\n2020-12-07 05:00:00,215.17,215.2,215.0,215.02,2280\\r\\n2020-12-07 04:45:00,214.61,215.2,214.61,214.81,3560\\r\\n2020-12-07 04:30:00,214.33,214.62,214.3,214.6,4460\\r\\n2020-12-07 04:15:00,214.1,214.5,214.01,214.4,7374\\r\\n2020-12-04 20:00:00,213.96,214.04,213.96,214.0299,1025\\r\\n2020-12-04 19:45:00,214.03,214.03,214.0,214.0,2184\\r\\n2020-12-04 19:30:00,214.0,214.04,214.0,214.0,5596\\r\\n2020-12-04 19:15:00,214.0,214.0,214.0,214.0,1505\\r\\n2020-12-04 19:00:00,214.1,214.1,214.1,214.1,508\\r\\n2020-12-04 18:45:00,214.1,214.1,214.1,214.1,252\\r\\n2020-12-04 18:30:00,214.1,214.1,214.1,214.1,2356\\r\\n2020-12-04 18:15:00,214.1,214.1,214.05,214.1,823\\r\\n2020-12-04 18:00:00,214.05,214.1748,214.05,214.1748,3805\\r\\n2020-12-04 17:45:00,214.01,214.09,214.01,214.05,1195\\r\\n2020-12-04 17:30:00,214.0,214.0,214.0,214.0,219\\r\\n2020-12-04 17:15:00,214.18,214.36,214.0,214.0,33245\\r\\n2020-12-04 17:00:00,214.12,214.2,213.82,214.1799,127222\\r\\n2020-12-04 16:45:00,214.22,214.22,214.19,214.1998,3819\\r\\n2020-12-04 16:30:00,214.28,214.36,214.2,214.2,7548\\r\\n2020-12-04 16:15:00,214.36,214.4,214.14,214.22,1541146\\r\\n2020-12-04 16:00:00,213.62,214.4,213.43,214.4,1983301\\r\\n2020-12-04 15:45:00,213.35,213.755,213.2919,213.63,715895\\r\\n2020-12-04 15:30:00,213.5,213.554,213.23,213.34,703493\\r\\n2020-12-04 15:15:00,213.61,213.8,213.4003,213.5017,463462\\r\\n2020-12-04 15:00:00,213.56,213.71,213.5,213.6035,391091\\r\\n2020-12-04 14:45:00,213.28,213.57,213.24,213.55,491947\\r\\n2020-12-04 14:30:00,213.31,213.51,213.18,213.27,651001\\r\\n2020-12-04 14:15:00,213.51,213.59,213.3,213.315,660938\\r\\n2020-12-04 14:00:00,213.9753,213.9771,213.51,213.51,600697\\r\\n2020-12-04 13:45:00,213.972,214.19,213.94,213.9771,413906\\r\\n2020-12-04 13:30:00,214.065,214.14,213.88,213.975,508634\\r\\n2020-12-04 13:15:00,214.142,214.29,214.05,214.05,406400\\r\\n2020-12-04 13:00:00,214.095,214.19,214.0,214.1456,1456501\\r\\n2020-12-04 12:45:00,214.09,214.38,214.01,214.1,597750\\r\\n2020-12-04 12:30:00,214.185,214.22,214.02,214.08,484609\\r\\n2020-12-04 12:15:00,214.09,214.26,213.9201,214.189,685059\\r\\n2020-12-04 12:00:00,214.18,214.21,213.99,214.08,526667\\r\\n2020-12-04 11:45:00,214.26,214.54,214.08,214.16,606873\\r\\n2020-12-04 11:30:00,214.35,214.38,214.12,214.27,561977\\r\\n2020-12-04 11:15:00,214.89,215.01,214.22,214.35,621299\\r\\n2020-12-04 11:00:00,214.79,215.075,214.7,214.89,529846\\r\\n2020-12-04 10:45:00,214.19,214.86,214.08,214.78,820518\\r\\n2020-12-04 10:30:00,215.02,215.25,214.11,214.19,803445\\r\\n2020-12-04 10:15:00,214.78,215.38,214.74,215.0,797527\\r\\n2020-12-04 10:00:00,214.55,215.31,214.46,214.795,1023979\\r\\n2020-12-04 09:45:00,214.22,214.6,213.92,214.5604,1373531\\r\\n2020-12-04 09:30:00,214.3,214.79,214.02,214.25,44902\\r\\n2020-12-04 09:15:00,214.41,214.45,214.3,214.39,9547\\r\\n2020-12-04 09:00:00,214.35,214.4,214.26,214.38,9123\\r\\n2020-12-04 08:45:00,214.36,214.6,214.0,214.5,17726\\r\\n2020-12-04 08:30:00,214.45,214.58,214.39,214.39,4765\\r\\n2020-12-04 08:15:00,214.6001,214.8,213.71,214.6,15900\\r\\n2020-12-04 08:00:00,214.51,214.53,214.41,214.41,1829\\r\\n2020-12-04 07:45:00,214.55,214.6,214.51,214.55,4024\\r\\n2020-12-04 07:30:00,214.61,214.7,214.51,214.51,3963\\r\\n2020-12-04 07:15:00,214.71,214.75,214.5,214.5,3951\\r\\n2020-12-04 06:00:00,214.87,214.87,214.87,214.87,280\\r\\n2020-12-04 05:45:00,215.0,215.0,215.0,215.0,131\\r\\n2020-12-04 05:15:00,215.08,215.13,215.0,215.0,1712\\r\\n2020-12-04 04:30:00,214.87,215.19,214.87,215.19,1161\\r\\n2020-12-04 04:15:00,214.7,214.7,214.7,214.7,334\\r\\n2020-12-03 20:00:00,214.4,214.42,214.33,214.35,4171\\r\\n2020-12-03 19:30:00,214.33,214.38,214.3,214.38,7820\\r\\n2020-12-03 19:15:00,214.49,214.49,214.33,214.33,1599\\r\\n2020-12-03 19:00:00,214.5,214.55,214.41,214.41,2676\\r\\n2020-12-03 18:45:00,214.45,214.58,214.4,214.5,3227\\r\\n2020-12-03 18:30:00,214.41,214.5,214.41,214.5,2227\\r\\n2020-12-03 18:15:00,214.35,214.58,214.31,214.35,5159\\r\\n2020-12-03 18:00:00,214.3,214.3,214.24,214.24,2018\\r\\n2020-12-03 17:45:00,214.3,214.3,214.24,214.3,1196\\r\\n2020-12-03 17:30:00,214.3,214.3,214.25,214.27,1154\\r\\n2020-12-03 17:15:00,214.24,214.33,214.22,214.24,67961\\r\\n2020-12-03 17:00:00,214.43,214.64,214.24,214.3,89601\\r\\n2020-12-03 16:45:00,214.4,214.53,214.24,214.36,11261\\r\\n2020-12-03 16:30:00,214.35,214.4,214.24,214.3401,16219\\r\\n2020-12-03 16:15:00,214.24,214.4,214.18,214.3001,2651175\\r\\n2020-12-03 16:00:00,214.5,214.77,213.65,214.27,1877664\\r\\n2020-12-03 15:45:00,215.15,215.2,214.2101,214.5,800472\\r\\n2020-12-03 15:30:00,215.26,215.39,215.01,215.1479,598480\\r\\n2020-12-03 15:15:00,214.88,215.32,214.79,215.27,650365\\r\\n2020-12-03 15:00:00,214.6001,215.05,214.41,214.89,521435\\r\\n2020-12-03 14:45:00,214.49,214.9,214.44,214.6056,412333\\r\\n2020-12-03 14:30:00,214.47,214.6,214.38,214.49,291309\\r\\n2020-12-03 14:15:00,214.07,214.549,214.02,214.46,462319\\r\\n2020-12-03 14:00:00,214.32,214.47,214.01,214.0713,483948\\r\\n2020-12-03 13:45:00,214.37,214.41,214.1,214.325,391248\\r\\n2020-12-03 13:30:00,214.48,214.57,214.12,214.38,475853\\r\\n2020-12-03 13:15:00,214.47,214.59,214.37,214.48,579288\\r\\n2020-12-03 13:00:00,214.38,214.56,214.27,214.45,367006\\r\\n2020-12-03 12:45:00,214.47,214.94,214.32,214.38,521463\\r\\n2020-12-03 12:30:00,214.58,214.74,214.32,214.48,395585\\r\\n2020-12-03 12:15:00,214.69,214.99,214.54,214.59,491333\\r\\n2020-12-03 12:00:00,214.73,214.87,214.23,214.68,540082\\r\\n2020-12-03 11:45:00,214.52,214.9618,214.515,214.71,563208\\r\\n2020-12-03 11:30:00,214.37,214.82,214.33,214.53,652086\\r\\n2020-12-03 11:15:00,214.6,214.8,213.95,214.38,1257674\\r\\n2020-12-03 11:00:00,214.84,215.23,214.51,214.6,1011393\\r\\n2020-12-03 10:45:00,215.55,215.74,214.25,214.83,1046919\\r\\n2020-12-03 10:30:00,216.09,216.28,215.49,215.5415,767731\\r\\n2020-12-03 10:15:00,214.96,216.3757,214.84,216.0879,1378250\\r\\n2020-12-03 10:00:00,214.55,215.0,214.33,214.96,920015\\r\\n2020-12-03 09:45:00,214.61,215.22,214.4601,214.55,1846960\\r\\n2020-12-03 09:30:00,215.19,215.19,214.6,214.61,27215\\r\\n2020-12-03 09:15:00,215.2,215.24,215.0,215.15,6121\\r\\n2020-12-03 09:00:00,215.09,215.29,215.01,215.1,13788\\r\\n2020-12-03 08:45:00,215.32,215.37,214.85,214.9,16946\\r\\n2020-12-03 08:30:00,215.19,215.28,215.1869,215.1869,3625\\r\\n2020-12-03 08:15:00,214.8003,215.3358,214.7501,215.1143,19725\\r\\n2020-12-03 08:00:00,215.02,215.16,215.02,215.07,1860\\r\\n2020-12-03 07:45:00,214.95,215.0,214.9,215.0,4530\\r\\n2020-12-03 07:30:00,215.0,215.01,214.9,214.95,2351\\r\\n2020-12-03 07:15:00,215.25,215.37,215.01,215.02,6545\\r\\n2020-12-03 07:00:00,215.3,215.48,215.3,215.48,2082\\r\\n2020-12-03 06:45:00,215.19,215.19,215.19,215.19,304\\r\\n2020-12-03 06:00:00,214.89,215.0,214.89,215.0,322\\r\\n2020-12-03 05:15:00,215.25,215.25,215.25,215.25,208\\r\\n2020-12-03 05:00:00,215.19,215.2,215.19,215.2,300\\r\\n2020-12-03 04:30:00,215.2,215.2,215.05,215.05,301\\r\\n2020-12-03 04:15:00,215.45,215.45,215.45,215.45,542\\r\\n2020-12-02 20:00:00,215.32,215.38,215.15,215.38,1347\\r\\n2020-12-02 19:45:00,215.2,215.2,215.2,215.2,1105\\r\\n2020-12-02 19:30:00,215.21,215.34,215.2,215.34,1857\\r\\n2020-12-02 19:15:00,215.26,215.26,215.15,215.23,756\\r\\n2020-12-02 19:00:00,215.29,215.29,215.26,215.26,1596\\r\\n2020-12-02 18:45:00,215.37,215.4,215.32,215.32,3165\\r\\n2020-12-02 18:30:00,215.3,215.32,215.3,215.32,1518\\r\\n2020-12-02 18:15:00,215.45,215.45,215.37,215.42,2715\\r\\n2020-12-02 18:00:00,215.39,215.5,215.39,215.39,7894\\r\\n2020-12-02 17:45:00,215.26,215.35,215.26,215.35,535\\r\\n2020-12-02 17:30:00,215.3799,215.3799,215.3,215.35,4141\\r\\n2020-12-02 17:15:00,215.3,215.4,215.3,215.37,3250\\r\\n2020-12-02 17:00:00,215.3,215.46,215.3,215.3,5665\\r\\n2020-12-02 16:45:00,215.3,215.46,215.3,215.3,253302\\r\\n2020-12-02 16:30:00,215.22,215.45,215.22,215.45,4017\\r\\n2020-12-02 16:15:00,215.37,215.53,215.15,215.4979,1599938\\r\\n2020-12-02 16:00:00,214.98,215.44,214.74,215.42,1268904\\r\\n2020-12-02 15:45:00,214.94,215.0793,214.7,214.99,495822\\r\\n2020-12-02 15:30:00,215.25,215.31,214.88,214.94,423922\\r\\n2020-12-02 15:15:00,215.125,215.47,215.08,215.25,475408\\r\\n2020-12-02 15:00:00,214.901,215.12,214.77,215.12,433536\\r\\n2020-12-02 14:45:00,214.79,215.11,214.72,214.89,726078\\r\\n2020-12-02 14:30:00,214.4886,214.87,214.46,214.78,433548\\r\\n2020-12-02 14:15:00,214.33,214.78,214.25,214.482,410280\\r\\n2020-12-02 14:00:00,214.23,214.48,214.13,214.3236,312708\\r\\n2020-12-02 13:45:00,214.31,214.455,214.05,214.23,386062\\r\\n2020-12-02 13:30:00,214.4,214.5,214.16,214.32,355456\\r\\n2020-12-02 13:15:00,213.96,214.43,213.77,214.38,428135\\r\\n2020-12-02 13:00:00,213.94,214.35,213.8601,213.9577,504956\\r\\n2020-12-02 12:45:00,214.29,214.3369,213.87,213.94,423591\\r\\n2020-12-02 12:30:00,214.2499,214.385,214.09,214.282,361488\\r\\n2020-12-02 12:15:00,214.725,214.75,214.2121,214.24,476542\\r\\n2020-12-02 12:00:00,214.2793,214.84,214.23,214.73,610581\\r\\n2020-12-02 11:45:00,213.94,214.46,213.79,214.28,558679\\r\\n2020-12-02 11:30:00,214.16,214.17,213.75,213.925,607181\\r\\n2020-12-02 11:15:00,214.12,214.32,213.91,214.1609,611428\\r\\n2020-12-02 11:00:00,214.51,214.6664,213.9121,214.11,671892\\r\\n2020-12-02 10:45:00,214.44,214.54,213.81,214.5299,772558\\r\\n2020-12-02 10:30:00,213.97,214.59,213.79,214.45,898059\\r\\n2020-12-02 10:15:00,213.82,214.2,213.115,213.99,1353268\\r\\n2020-12-02 10:00:00,212.9647,213.9,212.8,213.835,1471069\\r\\n2020-12-02 09:45:00,214.88,215.085,212.93,212.95,2337561\\r\\n2020-12-02 09:30:00,215.1,215.1736,214.8,215.0,25054\\r\\n2020-12-02 09:15:00,215.65,215.69,215.2,215.2,11616\\r\\n2020-12-02 09:00:00,215.3732,215.6,215.31,215.6,7501\\r\\n2020-12-02 08:45:00,215.35,215.6,215.1,215.35,6263\\r\\n2020-12-02 08:30:00,215.5,215.5,215.2285,215.4,2919\\r\\n2020-12-02 08:15:00,215.8,215.9599,215.1,215.42,31596\\r\\n2020-12-02 08:00:00,215.12,215.3,215.0,215.3,7041\\r\\n2020-12-02 07:45:00,215.57,215.57,215.13,215.13,7395\\r\\n2020-12-02 07:30:00,215.92,215.92,215.58,215.58,7354\\r\\n2020-12-02 07:15:00,216.18,216.19,215.8,215.8,5890\\r\\n2020-12-02 07:00:00,216.13,216.22,216.1,216.18,3435\\r\\n2020-12-02 06:45:00,216.06,216.08,215.94,215.94,1057\\r\\n2020-12-02 06:00:00,216.35,216.36,216.35,216.35,903\\r\\n2020-12-02 05:45:00,216.37,216.37,216.37,216.37,100\\r\\n2020-12-02 05:15:00,216.5,216.5,216.5,216.5,255\\r\\n2020-12-02 04:45:00,216.48,216.5,216.48,216.5,1483\\r\\n2020-12-02 04:30:00,216.7,216.7,216.52,216.52,1784\\r\\n2020-12-02 04:15:00,216.5,216.73,216.5,216.51,4263\\r\\n2020-12-01 20:00:00,215.69,215.69,215.53,215.55,1640\\r\\n2020-12-01 19:45:00,215.76,215.8,215.55,215.58,4438\\r\\n2020-12-01 19:30:00,215.55,215.78,215.4,215.78,7855\\r\\n2020-12-01 19:15:00,215.7,215.78,215.52,215.52,2263\\r\\n2020-12-01 19:00:00,215.86,215.88,215.71,215.71,1566\\r\\n2020-12-01 18:45:00,215.71,215.72,215.52,215.72,2990\\r\\n2020-12-01 18:30:00,215.89,215.89,215.55,215.75,2957\\r\\n2020-12-01 18:15:00,215.75,215.9,215.75,215.75,5066\\r\\n2020-12-01 18:00:00,215.9,215.9,215.71,215.71,2165\\r\\n2020-12-01 17:45:00,215.84,216.21,215.75,215.9,2575\\r\\n2020-12-01 17:30:00,215.94,215.94,215.76,215.85,1762\\r\\n2020-12-01 17:15:00,215.75,215.95,215.74,215.8,6763\\r\\n2020-12-01 17:00:00,215.95,215.95,215.75,215.75,5589\\r\\n2020-12-01 16:45:00,215.95,216.27,215.85,216.21,358766\\r\\n2020-12-01 16:30:00,216.13,216.866,215.8,215.9,1004197\\r\\n2020-12-01 16:15:00,216.21,216.31,215.99,216.0,1410621\\r\\n2020-12-01 16:00:00,215.9581,216.56,215.56,216.21,2047653\\r\\n2020-12-01 15:45:00,216.17,216.41,215.83,215.95,794931\\r\\n2020-12-01 15:30:00,216.29,216.334,215.7684,216.17,670526\\r\\n2020-12-01 15:15:00,216.83,216.83,215.9,216.29,801934\\r\\n2020-12-01 15:00:00,216.85,216.88,216.48,216.82,679443\\r\\n2020-12-01 14:45:00,216.89,217.02,216.72,216.845,1140758\\r\\n2020-12-01 14:30:00,217.17,217.2,216.76,216.88,670981\\r\\n2020-12-01 14:15:00,216.685,217.32,216.6,217.19,793793\\r\\n2020-12-01 14:00:00,216.28,216.98,216.17,216.685,933962\\r\\n2020-12-01 13:45:00,216.11,216.275,215.9985,216.27,529855\\r\\n2020-12-01 13:30:00,215.66,216.13,215.65,216.1,744204\\r\\n2020-12-01 13:15:00,215.46,215.97,215.41,215.66,499721\\r\\n2020-12-01 13:00:00,215.32,215.69,215.1,215.46,530142\\r\\n2020-12-01 12:45:00,215.45,215.89,215.2122,215.32,933338\\r\\n2020-12-01 12:30:00,215.34,215.49,215.0,215.46,756531\\r\\n2020-12-01 12:15:00,214.68,215.43,214.62,215.35,1050922\\r\\n2020-12-01 12:00:00,214.35,214.72,214.06,214.68,750932\\r\\n2020-12-01 11:45:00,213.98,214.45,213.65,214.3461,912312\\r\\n2020-12-01 11:30:00,214.2,214.42,213.94,213.99,726716\\r\\n2020-12-01 11:15:00,213.92,214.35,213.9092,214.1867,940824\\r\\n2020-12-01 11:00:00,213.68,214.02,213.4018,213.91,843582\\r\\n2020-12-01 10:45:00,213.89,214.29,213.6,213.68,1058045\\r\\n2020-12-01 10:30:00,213.81,214.6,213.64,213.8521,1013352\\r\\n2020-12-01 10:15:00,213.715,214.18,213.43,213.8,1335497\\r\\n2020-12-01 10:00:00,214.04,214.34,213.51,213.72,1571363\\r\\n2020-12-01 09:45:00,214.51,215.08,213.35,214.03,2395966\\r\\n2020-12-01 09:30:00,214.8,214.98,214.5,214.5,24162\\r\\n2020-12-01 09:15:00,214.92,215.0,214.5,214.6,23723\\r\\n2020-12-01 09:00:00,214.99,215.15,214.9,215.0,12139\\r\\n2020-12-01 08:45:00,215.0,215.15,214.5,214.9,13656\\r\\n2020-12-01 08:30:00,215.05,215.2,214.9,214.91,9097\\r\\n2020-12-01 08:15:00,215.2897,215.52,213.54,215.1,32864\\r\\n2020-12-01 08:00:00,215.4,215.5,215.34,215.5,4256\\r\\n2020-12-01 07:45:00,215.45,215.45,215.26,215.3,3368\\r\\n2020-12-01 07:30:00,215.29,215.41,215.17,215.41,9660\\r\\n2020-12-01 07:15:00,215.1,215.35,215.1,215.29,12662\\r\\n2020-12-01 07:00:00,215.63,215.63,215.5,215.5,6411\\r\\n2020-12-01 06:45:00,215.45,215.86,215.45,215.63,17683\\r\\n2020-12-01 06:30:00,215.49,215.63,215.3,215.3,1765\\r\\n2020-12-01 06:15:00,215.19,215.35,215.19,215.35,1131\\r\\n2020-12-01 06:00:00,214.95,215.34,214.93,215.34,4755\\r\\n2020-12-01 05:30:00,214.75,214.75,214.75,214.75,155\\r\\n2020-12-01 05:00:00,214.82,214.82,214.5,214.66,2284\\r\\n2020-12-01 04:45:00,214.96,214.96,214.94,214.94,709\\r\\n2020-12-01 04:15:00,214.73,214.75,214.72,214.75,1182\\r\\n2020-11-30 20:00:00,214.5,214.55,214.4,214.4,1886\\r\\n2020-11-30 19:45:00,214.42,214.6,214.11,214.4,6996\\r\\n2020-11-30 19:30:00,214.52,214.52,214.52,214.52,462\\r\\n2020-11-30 19:15:00,214.37,214.68,214.37,214.68,1338\\r\\n2020-11-30 19:00:00,214.4,214.57,214.4,214.57,2944\\r\\n2020-11-30 18:45:00,213.99,214.25,213.99,214.25,2619\\r\\n2020-11-30 18:30:00,214.0,214.11,214.0,214.0,6512\\r\\n2020-11-30 18:15:00,214.3,214.3,214.0,214.0,7871\\r\\n2020-11-30 18:00:00,214.12,214.25,214.1,214.11,1325\\r\\n2020-11-30 17:45:00,214.09,214.24,214.09,214.24,4129\\r\\n2020-11-30 17:30:00,214.27,214.27,214.1,214.1,5839\\r\\n2020-11-30 17:15:00,214.24,214.32,214.043241,214.32,185677\\r\\n2020-11-30 17:00:00,214.24,214.4,214.13,214.33,11552\\r\\n2020-11-30 16:45:00,214.34,214.34,214.0,214.14,75595\\r\\n2020-11-30 16:30:00,214.45,214.45,214.07,214.32,57404\\r\\n2020-11-30 16:15:00,214.25,214.77,213.94,214.45,3023803\\r\\n2020-11-30 16:00:00,213.06,214.5,212.7,214.24,2978813\\r\\n2020-11-30 15:45:00,212.5,213.19,212.49,213.0568,604790\\r\\n2020-11-30 15:30:00,212.59,212.91,212.43,212.5096,639091\\r\\n2020-11-30 15:15:00,213.24,213.44,212.53,212.59,843108\\r\\n2020-11-30 15:00:00,212.865,213.27,212.7,213.22,791094\\r\\n2020-11-30 14:45:00,212.64,212.91,212.615,212.865,636213\\r\\n2020-11-30 14:30:00,212.37,212.67,212.27,212.64,474406\\r\\n2020-11-30 14:15:00,212.25,212.4,212.05,212.37,748713\\r\\n2020-11-30 14:00:00,212.28,212.64,212.21,212.25,517962\\r\\n2020-11-30 13:45:00,212.53,212.59,212.24,212.275,413790\\r\\n2020-11-30 13:30:00,212.31,212.89,212.235,212.53,441715\\r\\n2020-11-30 13:15:00,212.4,212.6899,212.29,212.315,406665\\r\\n2020-11-30 13:00:00,212.13,212.58,212.12,212.405,402948\\r\\n2020-11-30 12:45:00,212.37,212.42,212.1144,212.14,470600\\r\\n2020-11-30 12:30:00,212.07,212.45,211.83,212.36,735083\\r\\n2020-11-30 12:15:00,211.575,212.1534,211.36,212.06,795485\\r\\n2020-11-30 12:00:00,211.54,212.03,211.3,211.58,826775\\r\\n2020-11-30 11:45:00,211.36,211.73,210.835,211.55,1052151\\r\\n2020-11-30 11:30:00,211.525,213.0,211.3631,211.38,1534818\\r\\n2020-11-30 11:15:00,211.92,212.2,211.46,211.53,759179\\r\\n2020-11-30 11:00:00,211.21,212.18,210.93,211.93,1078016\\r\\n2020-11-30 10:45:00,213.27,213.3,211.14,211.22,1291059\\r\\n2020-11-30 10:30:00,213.015,213.43,212.62,213.295,1564927\\r\\n2020-11-30 10:15:00,213.94,214.17,212.91,213.02,955441\\r\\n2020-11-30 10:00:00,213.38,214.46,212.96,213.94,1386443\\r\\n2020-11-30 09:45:00,214.1,214.76,212.92,213.4,2199484\\r\\n2020-11-30 09:30:00,215.11,215.11,214.09,214.16,45248\\r\\n2020-11-30 09:15:00,214.8047,215.15,214.8047,215.0202,7069\\r\\n2020-11-30 09:00:00,214.98,215.1927,214.5,214.98,8464\\r\\n2020-11-30 08:45:00,215.0,215.35,215.0,215.01,4461\\r\\n2020-11-30 08:30:00,215.0303,215.1451,214.39,215.04,11131\\r\\n2020-11-30 08:15:00,215.32,215.9399,214.7,215.06,22210\\r\\n2020-11-30 08:00:00,215.41,215.45,215.3,215.39,11690\\r\\n2020-11-30 07:45:00,215.5,215.5,215.32,215.42,1675\\r\\n2020-11-30 07:30:00,214.9,215.81,214.89,215.53,9467\\r\\n2020-11-30 07:15:00,214.94,215.05,214.77,214.9,8340\\r\\n2020-11-30 06:45:00,214.76,214.82,214.62,214.82,861\\r\\n2020-11-30 06:30:00,214.81,214.97,214.68,214.97,2396\\r\\n2020-11-30 05:45:00,214.72,214.9,214.6,214.9,1139\\r\\n2020-11-30 05:30:00,214.67,214.67,214.67,214.67,698\\r\\n2020-11-30 05:00:00,215.0,215.0,215.0,215.0,200\\r\\n2020-11-30 04:15:00,214.98,214.98,214.9,214.9,281\\r\\n2020-11-27 17:00:00,215.17,215.24,215.01,215.24,2125\\r\\n2020-11-27 16:45:00,215.2,215.2,215.2,215.2,1010\\r\\n2020-11-27 16:30:00,215.12,215.23,215.12,215.23,1428\\r\\n2020-11-27 16:15:00,215.12,215.12,215.12,215.12,500\\r\\n2020-11-27 13:15:00,215.35,215.35,215.23,215.23,1480168\\r\\n2020-11-27 13:00:00,215.345,215.37,214.87,215.29,1134791\\r\\n2020-11-27 12:45:00,215.03,215.49,214.95,215.3425,640552\\r\\n2020-11-27 12:30:00,214.945,215.24,214.7,215.0492,644729\\r\\n2020-11-27 12:15:00,215.08,215.46,214.91,214.96,633707\\r\\n2020-11-27 12:00:00,215.62,215.62,214.93,215.08,643912\\r\\n2020-11-27 11:45:00,216.04,216.15,215.47,215.6169,608046\\r\\n2020-11-27 11:30:00,216.1,216.19,215.84,216.03,600570\\r\\n2020-11-27 11:15:00,215.82,216.18,215.77,216.1,698726\\r\\n2020-11-27 11:00:00,215.74,215.89,215.59,215.82,501840\\r\\n2020-11-27 10:45:00,215.63,216.27,215.62,215.735,897255\\r\\n2020-11-27 10:30:00,215.18,215.97,215.1,215.62,1118096\\r\\n2020-11-27 10:15:00,214.42,215.2,214.41,215.17,803931\\r\\n2020-11-27 10:00:00,214.475,214.65,214.0899,214.42,674823\\r\\n2020-11-27 09:45:00,214.85,215.2,214.04,214.45,1650148\\r\\n2020-11-27 09:30:00,215.1,215.22,214.3,214.6,30002\\r\\n2020-11-27 09:15:00,214.8012,215.15,214.8,215.15,11852\\r\\n2020-11-27 09:00:00,214.94,215.2,214.7,214.95,18197\\r\\n2020-11-27 08:45:00,214.7,215.0,214.69,215.0,13166\\r\\n2020-11-27 08:30:00,214.7,214.73,214.61,214.69,7604\\r\\n2020-11-27 08:15:00,214.75,214.828,213.34,214.66,13509\\r\\n2020-11-27 08:00:00,214.48,214.65,214.48,214.65,5434\\r\\n2020-11-27 07:45:00,214.5,214.65,214.45,214.55,3418\\r\\n2020-11-27 07:30:00,214.6,214.6,214.4,214.6,4047\\r\\n2020-11-27 07:15:00,214.77,214.92,214.6,214.61,4391\\r\\n2020-11-27 06:00:00,214.69,214.69,214.69,214.69,653\\r\\n2020-11-27 05:15:00,214.75,214.75,214.75,214.75,660\\r\\n2020-11-27 04:15:00,214.61,214.75,214.61,214.75,2514\\r\\n2020-11-25 20:00:00,214.14,214.27,213.9,213.9,18391\\r\\n2020-11-25 19:45:00,214.25,214.25,214.13,214.13,1008\\r\\n2020-11-25 19:30:00,214.3,214.3,214.3,214.3,305\\r\\n2020-11-25 19:00:00,214.27,214.43,214.27,214.42,1830\\r\\n2020-11-25 18:45:00,214.25,214.25,214.25,214.25,639\\r\\n2020-11-25 18:30:00,214.2,214.2,214.2,214.2,251\\r\\n2020-11-25 18:15:00,214.08,214.39,214.08,214.39,1688\\r\\n2020-11-25 18:00:00,214.09,214.1,214.07,214.1,1073\\r\\n2020-11-25 17:45:00,214.1,214.11,214.08,214.08,1583\\r\\n2020-11-25 17:30:00,214.1,214.16,214.07,214.07,28080\\r\\n2020-11-25 17:15:00,214.01,214.1,214.0,214.1,2729\\r\\n2020-11-25 17:00:00,214.17,214.17,214.1,214.1,2448\\r\\n2020-11-25 16:45:00,213.95,214.3,213.9,214.01,11536\\r\\n2020-11-25 16:30:00,213.95,213.9999,213.87,213.95,3602\\r\\n2020-11-25 16:15:00,213.74,214.14,213.74,214.1,1536792\\r\\n2020-11-25 16:00:00,214.29,214.45,213.44,213.75,1896251\\r\\n2020-11-25 15:45:00,214.37,214.5,214.13,214.29,611047\\r\\n2020-11-25 15:30:00,214.18,214.39,213.86,214.38,551967\\r\\n2020-11-25 15:15:00,213.97,214.21,213.77,214.175,507873\\r\\n2020-11-25 15:00:00,213.7918,214.112,213.7918,213.97,448354\\r\\n2020-11-25 14:45:00,213.85,213.99,213.72,213.79,364851\\r\\n2020-11-25 14:30:00,213.47,213.93,213.41,213.86,372393\\r\\n2020-11-25 14:15:00,213.81,213.83,213.3,213.47,392558\\r\\n2020-11-25 14:00:00,213.6,213.96,213.414,213.8212,319483\\r\\n2020-11-25 13:45:00,213.25,213.7,213.1044,213.65,391397\\r\\n2020-11-25 13:30:00,213.79,213.88,213.225,213.27,361407\\r\\n2020-11-25 13:15:00,213.59,213.99,213.55,213.77,384036\\r\\n2020-11-25 13:00:00,213.37,213.68,213.29,213.59,331680\\r\\n2020-11-25 12:45:00,213.28,213.5,213.09,213.38,361873\\r\\n2020-11-25 12:30:00,213.04,213.47,212.96,213.2667,416554\\r\\n2020-11-25 12:15:00,212.82,213.1,212.7001,213.02,499576\\r\\n2020-11-25 12:00:00,212.88,212.99,212.56,212.83,726822\\r\\n2020-11-25 11:45:00,213.52,213.9099,212.46,212.89,830899\\r\\n2020-11-25 11:30:00,213.9,213.95,213.3,213.53,547714\\r\\n2020-11-25 11:15:00,213.675,213.96,213.58,213.91,656599\\r\\n2020-11-25 11:00:00,213.62,214.0688,213.53,213.67,582999\\r\\n2020-11-25 10:45:00,213.3801,213.85,213.2761,213.625,574246\\r\\n2020-11-25 10:30:00,213.62,213.915,213.13,213.35,789487\\r\\n2020-11-25 10:15:00,213.91,214.11,213.16,213.63,858234\\r\\n2020-11-25 10:00:00,213.96,214.45,213.5,213.93,1150210\\r\\n2020-11-25 09:45:00,215.11,215.29,213.87,213.945,2334390\\r\\n2020-11-25 09:30:00,215.01,215.5,214.8622,215.29,23941\\r\\n2020-11-25 09:15:00,214.7101,215.03,214.65,214.85,23026\\r\\n2020-11-25 09:00:00,214.987,214.987,214.6,214.7151,11145\\r\\n2020-11-25 08:45:00,214.44,215.2,214.44,214.95,31063\\r\\n2020-11-25 08:30:00,214.7,214.85,214.2398,214.45,20725\\r\\n2020-11-25 08:15:00,214.75,214.98,213.33,214.7,21797\\r\\n2020-11-25 08:00:00,214.75,214.98,214.51,214.69,11580\\r\\n2020-11-25 07:45:00,214.74,214.75,214.67,214.75,6722\\r\\n2020-11-25 07:30:00,214.68,214.7,214.55,214.69,3216\\r\\n2020-11-25 07:15:00,214.6,214.75,214.54,214.54,2279\\r\\n2020-11-25 07:00:00,214.8,214.97,214.53,214.75,3766\\r\\n2020-11-25 06:45:00,214.39,214.8,214.39,214.8,2112\\r\\n2020-11-25 06:30:00,214.32,214.32,214.32,214.32,193\\r\\n2020-11-25 06:15:00,214.78,214.78,214.32,214.32,1347\\r\\n2020-11-25 05:45:00,214.47,214.55,214.47,214.47,1310\\r\\n2020-11-25 05:30:00,214.25,214.5,214.25,214.48,3329\\r\\n2020-11-25 05:15:00,214.25,214.26,214.25,214.26,1758\\r\\n2020-11-25 05:00:00,214.2,214.2,214.16,214.16,1991\\r\\n2020-11-25 04:30:00,214.18,214.18,214.18,214.18,1284\\r\\n2020-11-25 04:15:00,214.19,214.19,214.19,214.19,181\\r\\n2020-11-24 20:00:00,214.54,214.84,214.54,214.75,8497\\r\\n2020-11-24 19:45:00,214.55,214.6,214.5,214.6,1605\\r\\n2020-11-24 19:30:00,214.65,214.9,214.62,214.75,17446\\r\\n2020-11-24 19:15:00,214.33,214.7,214.25,214.63,8949\\r\\n2020-11-24 19:00:00,214.38,214.6,214.28,214.35,16734\\r\\n2020-11-24 18:45:00,214.37,214.5,214.37,214.4,2990\\r\\n2020-11-24 18:30:00,214.4,214.59,214.35,214.54,6393\\r\\n2020-11-24 18:15:00,213.9,214.59,213.9,214.56,20499\\r\\n2020-11-24 18:00:00,213.8,213.9,213.8,213.9,927\\r\\n2020-11-24 17:45:00,213.8,213.93,213.8,213.93,840\\r\\n2020-11-24 17:30:00,213.7,213.93,213.7,213.93,5195\\r\\n2020-11-24 17:15:00,213.9,213.9,213.7,213.7,14944\\r\\n2020-11-24 17:00:00,213.78,213.9631,213.7,213.9631,26547\\r\\n2020-11-24 16:45:00,213.8,213.86,213.54,213.54,9222\\r\\n2020-11-24 16:30:00,213.6,213.98,213.56,213.98,8837\\r\\n2020-11-24 16:15:00,213.86,213.86,213.55,213.69,822710\\r\\n2020-11-24 16:00:00,212.96,214.0,212.915,213.86,2071559\\r\\n2020-11-24 15:45:00,213.08,213.36,212.94,212.98,721313\\r\\n2020-11-24 15:30:00,212.89,213.25,212.7305,213.099,613002\\r\\n2020-11-24 15:15:00,213.065,213.065,212.46,212.9,764614\\r\\n2020-11-24 15:00:00,213.045,213.09,212.81,213.07,558525\\r\\n2020-11-24 14:45:00,213.1858,213.24,212.92,213.045,654034\\r\\n2020-11-24 14:30:00,213.99,213.99,213.17,213.19,670178\\r\\n2020-11-24 14:15:00,214.0,214.21,213.79,213.98,600863\\r\\n2020-11-24 14:00:00,214.16,214.25,213.76,213.99,598583\\r\\n2020-11-24 13:45:00,213.44,214.19,213.41,214.165,779329\\r\\n2020-11-24 13:30:00,213.675,213.735,213.19,213.44,746006\\r\\n2020-11-24 13:15:00,213.8,213.91,213.55,213.67,541268\\r\\n2020-11-24 13:00:00,213.56,213.81,213.31,213.81,478234\\r\\n2020-11-24 12:45:00,213.36,214.02,213.3521,213.55,1294447\\r\\n2020-11-24 12:30:00,212.6863,213.38,212.67,213.3679,720894\\r\\n2020-11-24 12:15:00,212.6429,212.84,212.36,212.69,728261\\r\\n2020-11-24 12:00:00,212.06,212.65,211.83,212.65,876596\\r\\n2020-11-24 11:45:00,212.0711,212.34,211.63,212.0901,919070\\r\\n2020-11-24 11:30:00,211.6399,212.36,211.6362,212.07,1074493\\r\\n2020-11-24 11:15:00,211.15,211.68,211.07,211.63,789746\\r\\n2020-11-24 11:00:00,210.87,211.59,210.85,211.1499,1180226\\r\\n2020-11-24 10:45:00,209.77,210.92,209.45,210.8601,1086218\\r\\n2020-11-24 10:30:00,209.245,210.12,209.09,209.7503,1247528\\r\\n2020-11-24 10:15:00,209.3068,209.48,208.96,209.24,1332307\\r\\n2020-11-24 10:00:00,209.18,209.569,208.86,209.33,1405922\\r\\n2020-11-24 09:45:00,209.59,210.81,208.96,209.19,6210788\\r\\n2020-11-24 09:30:00,210.56,210.98,209.45,209.49,140534\\r\\n2020-11-24 09:15:00,210.6116,210.7,210.35,210.4183,20677\\r\\n2020-11-24 09:00:00,210.65,210.74,210.59,210.64,49407\\r\\n2020-11-24 08:45:00,210.43,210.7,210.42,210.5,23383\\r\\n2020-11-24 08:30:00,210.5,210.6368,210.258,210.37,16274\\r\\n2020-11-24 08:15:00,210.15,210.56,209.7174,210.22,31546\\r\\n2020-11-24 08:00:00,209.87,210.11,209.75,210.11,9442\\r\\n2020-11-24 07:45:00,210.0,210.2,209.8,209.8,9883\\r\\n2020-11-24 07:30:00,210.16,210.2,209.66,209.99,12663\\r\\n2020-11-24 07:15:00,210.59,210.59,210.02,210.13,16074\\r\\n2020-11-24 07:00:00,210.3,210.3,210.02,210.02,1612\\r\\n2020-11-24 06:45:00,210.42,210.5,210.26,210.26,820\\r\\n2020-11-24 06:30:00,210.38,210.42,210.3,210.42,1746\\r\\n2020-11-24 06:00:00,210.01,210.29,210.0,210.12,1600\\r\\n2020-11-24 05:45:00,210.5,210.5,209.93,209.93,3351\\r\\n2020-11-24 05:30:00,210.52,210.52,210.5,210.5,793\\r\\n2020-11-24 05:15:00,210.88,210.9,210.88,210.9,600\\r\\n2020-11-24 04:45:00,210.4,210.97,210.4,210.9,2011\\r\\n2020-11-24 04:30:00,210.21,210.57,210.21,210.31,2501\\r\\n2020-11-24 04:15:00,211.48,211.48,210.42,210.42,2789\\r\\n2020-11-23 20:00:00,210.95,211.0,210.9,211.0,6482\\r\\n2020-11-23 19:45:00,210.9,210.9,210.86,210.9,4973\\r\\n2020-11-23 19:30:00,210.84,210.95,210.82,210.95,8620\\r\\n2020-11-23 19:15:00,210.78,210.84,210.75,210.84,3276\\r\\n2020-11-23 19:00:00,210.93,210.94,210.7,210.85,6105\\r\\n2020-11-23 18:45:00,210.82,211.0,210.56,210.9,11974\\r\\n2020-11-23 18:30:00,210.49,210.85,210.49,210.85,5768\\r\\n2020-11-23 18:15:00,210.5,210.5,210.36,210.36,451\\r\\n2020-11-23 18:00:00,210.4,210.45,210.3,210.4,1550\\r\\n2020-11-23 17:45:00,210.2546,210.5,210.2546,210.2701,967\\r\\n2020-11-23 17:30:00,210.42,210.47,210.42,210.47,2662\\r\\n2020-11-23 17:15:00,210.5,210.5,210.26,210.26,775\\r\\n2020-11-23 17:00:00,210.48,210.5,210.16,210.16,2339\\r\\n2020-11-23 16:45:00,210.3,210.55,210.3,210.55,3390\\r\\n2020-11-23 16:30:00,210.15,210.2501,210.11,210.2501,5795\\r\\n2020-11-23 16:15:00,210.11,210.52,210.0,210.131,2815191\\r\\n2020-11-23 16:00:00,210.36,210.53,209.56,210.09,1851302\\r\\n2020-11-23 15:45:00,210.6452,210.695,210.0529,210.36,585077\\r\\n2020-11-23 15:30:00,210.48,210.64,210.195,210.64,626902\\r\\n2020-11-23 15:15:00,210.22,210.712,210.09,210.48,761752\\r\\n2020-11-23 15:00:00,209.5568,210.22,209.2,210.2101,704892\\r\\n2020-11-23 14:45:00,209.365,209.75,209.28,209.57,376843\\r\\n2020-11-23 14:30:00,209.52,209.7084,209.16,209.361,326537\\r\\n2020-11-23 14:15:00,209.6301,209.67,209.35,209.5101,391750\\r\\n2020-11-23 14:00:00,209.69,210.03,209.61,209.635,376416\\r\\n2020-11-23 13:45:00,209.94,210.08,209.6,209.69,370974\\r\\n2020-11-23 13:30:00,210.02,210.04,209.76,209.94,438424\\r\\n2020-11-23 13:15:00,209.66,210.07,209.6,210.015,519187\\r\\n2020-11-23 13:00:00,209.26,209.66,209.15,209.63,401928\\r\\n2020-11-23 12:45:00,209.25,209.35,209.0,209.27,400161\\r\\n2020-11-23 12:30:00,208.73,209.33,208.66,209.21,509092\\r\\n2020-11-23 12:15:00,208.58,208.79,208.31,208.75,510482\\r\\n2020-11-23 12:00:00,208.325,208.88,208.17,208.6,664339\\r\\n2020-11-23 11:45:00,208.69,208.92,208.16,208.328,911317\\r\\n2020-11-23 11:30:00,208.42,208.89,208.36,208.66,718281\\r\\n2020-11-23 11:15:00,210.385,210.44,208.35,208.4,1220977\\r\\n2020-11-23 11:00:00,209.75,210.4,209.43,210.4,839535\\r\\n2020-11-23 10:45:00,209.5,210.09,209.36,209.7637,746797\\r\\n2020-11-23 10:30:00,210.06,210.18,209.26,209.5159,1101867\\r\\n2020-11-23 10:15:00,211.66,211.84,209.6489,210.08,1132192\\r\\n2020-11-23 10:00:00,211.57,212.29,211.55,211.66,803716\\r\\n2020-11-23 09:45:00,210.95,211.96,210.93,211.555,1533872\\r\\n2020-11-23 09:30:00,210.7,211.0,210.7,210.85,22749\\r\\n2020-11-23 09:15:00,210.65,210.82,210.65,210.75,14164\\r\\n2020-11-23 09:00:00,210.52,210.8344,210.4507,210.7,8389\\r\\n2020-11-23 08:45:00,210.66,210.9767,210.39,210.75,32365\\r\\n2020-11-23 08:30:00,210.81,210.95,210.62,210.71,13196\\r\\n2020-11-23 08:15:00,210.581,211.0,210.5499,210.86,29858\\r\\n2020-11-23 08:00:00,210.7,210.95,210.6,210.9,13057\\r\\n2020-11-23 07:45:00,210.84,210.87,210.58,210.6,7200\\r\\n2020-11-23 07:30:00,210.6,210.71,210.55,210.6,14967\\r\\n2020-11-23 07:15:00,210.7,210.75,210.52,210.6,18292\\r\\n2020-11-23 07:00:00,210.88,210.88,210.6,210.6,4242\\r\\n2020-11-23 06:45:00,210.7,210.7,210.67,210.67,1518\\r\\n2020-11-23 06:15:00,211.13,211.13,210.91,211.01,2327\\r\\n2020-11-23 06:00:00,211.2,211.2,211.12,211.13,1651\\r\\n2020-11-23 05:45:00,211.27,211.27,211.18,211.27,1230\\r\\n2020-11-23 05:30:00,211.12,211.12,211.12,211.12,210\\r\\n2020-11-23 05:15:00,211.19,211.19,211.12,211.12,1953\\r\\n2020-11-23 04:45:00,211.23,211.29,211.23,211.29,604\\r\\n2020-11-23 04:30:00,211.3,211.31,211.3,211.3,1210\\r\\n2020-11-23 04:15:00,211.5,211.5,211.35,211.35,387\\r\\n2020-11-20 20:00:00,210.6,210.6,210.41,210.49,4654\\r\\n2020-11-20 19:45:00,210.7,210.7,210.52,210.52,2418\\r\\n2020-11-20 19:30:00,210.68,210.72,210.68,210.72,701\\r\\n2020-11-20 19:15:00,210.75,210.75,210.65,210.65,442\\r\\n2020-11-20 19:00:00,210.71,210.71,210.67,210.71,970\\r\\n2020-11-20 18:45:00,210.67,210.67,210.67,210.67,100\\r\\n2020-11-20 18:30:00,210.55,210.67,210.55,210.67,2013\\r\\n2020-11-20 18:15:00,210.59,210.65,210.52,210.65,4901\\r\\n2020-11-20 18:00:00,210.57,210.57,210.5,210.55,39906\\r\\n2020-11-20 17:45:00,210.6,210.6,210.5,210.5,17006\\r\\n2020-11-20 17:30:00,210.4898,210.5,210.48,210.5,5752\\r\\n2020-11-20 17:15:00,210.49,210.5,210.42,210.48,3146\\r\\n2020-11-20 17:00:00,210.37,210.46,210.36,210.46,44270\\r\\n2020-11-20 16:45:00,210.3498,210.45,210.16,210.18,19369\\r\\n2020-11-20 16:30:00,210.2,210.39,210.1,210.35,18148\\r\\n2020-11-20 16:15:00,210.39,210.49,210.0956,210.2398,928370\\r\\n2020-11-20 16:00:00,211.47,211.81,210.0,210.34,2238778\\r\\n2020-11-20 15:45:00,211.42,211.56,211.03,211.45,1116980\\r\\n2020-11-20 15:30:00,211.85,211.85,211.34,211.434,813844\\r\\n2020-11-20 15:15:00,212.39,212.5,211.74,211.84,602226\\r\\n2020-11-20 15:00:00,212.31,212.5,212.159,212.37,367094\\r\\n2020-11-20 14:45:00,212.21,212.525,212.11,212.3,934109\\r\\n2020-11-20 14:30:00,212.09,212.27,212.01,212.21,266720\\r\\n2020-11-20 14:15:00,212.14,212.33,212.03,212.07,338291\\r\\n2020-11-20 14:00:00,212.04,212.15,211.82,212.12,341407\\r\\n2020-11-20 13:45:00,212.12,212.169,211.95,212.05,296544\\r\\n2020-11-20 13:30:00,211.97,212.22,211.83,212.13,379111\\r\\n2020-11-20 13:15:00,212.03,212.18,211.6727,211.96,492762\\r\\n2020-11-20 13:00:00,212.13,212.1479,211.8,212.05,447118\\r\\n2020-11-20 12:45:00,212.25,212.43,211.95,212.1336,386353\\r\\n2020-11-20 12:30:00,212.1481,212.34,211.97,212.27,340960\\r\\n2020-11-20 12:15:00,212.0,212.246,211.88,212.14,358553\\r\\n2020-11-20 12:00:00,212.53,212.596,211.83,212.0,636497\\r\\n2020-11-20 11:45:00,212.88,213.285,212.51,212.53,783246\\r\\n2020-11-20 11:30:00,212.8,212.93,212.62,212.89,514003\\r\\n2020-11-20 11:15:00,212.13,212.9919,212.1,212.8021,575983\\r\\n2020-11-20 11:00:00,212.4163,212.72,211.95,212.1402,517606\\r\\n2020-11-20 10:45:00,211.87,212.52,211.66,212.41,580442\\r\\n2020-11-20 10:30:00,212.095,212.135,211.67,211.87,498617\\r\\n2020-11-20 10:15:00,212.19,212.34,211.8,212.08,715835\\r\\n2020-11-20 10:00:00,211.74,212.3618,211.66,212.19,822209\\r\\n2020-11-20 09:45:00,212.2,212.7,211.3372,211.74,2406629\\r\\n2020-11-20 09:30:00,212.43,213.0,212.19,212.2,50575\\r\\n2020-11-20 09:15:00,212.62,212.69,212.42,212.43,31379\\r\\n2020-11-20 09:00:00,212.66,212.72,212.62,212.62,5275\\r\\n2020-11-20 08:45:00,212.8,212.8,212.62,212.7,8138\\r\\n2020-11-20 08:30:00,212.75,212.8,212.7,212.7,8077\\r\\n2020-11-20 08:15:00,213.0,213.05,212.7,212.7,21727\\r\\n2020-11-20 08:00:00,212.9,212.9,212.7,212.79,2693\\r\\n2020-11-20 07:45:00,212.9,213.18,212.83,212.92,13517\\r\\n2020-11-20 07:30:00,212.95,213.07,212.95,213.0,2934\\r\\n2020-11-20 07:15:00,213.04,213.04,212.7,212.89,15581\\r\\n2020-11-20 07:00:00,212.94,213.2,212.94,213.18,1001\\r\\n2020-11-20 06:45:00,212.99,212.99,212.99,212.99,100\\r\\n2020-11-20 06:30:00,212.98,213.0,212.98,213.0,768\\r\\n2020-11-20 06:15:00,212.98,212.98,212.96,212.96,402\\r\\n2020-11-20 06:00:00,212.96,212.98,212.96,212.98,2684\\r\\n2020-11-20 05:45:00,212.7,212.7,212.7,212.7,280\\r\\n2020-11-20 05:15:00,212.7,212.7,212.7,212.7,357\\r\\n2020-11-20 04:45:00,212.93,212.93,212.93,212.93,100\\r\\n2020-11-20 04:30:00,212.7,212.93,212.7,212.93,2853\\r\\n2020-11-20 04:15:00,212.95,213.0,212.7,212.82,2950\\r\\n2020-11-19 20:00:00,212.0,212.0,211.85,211.85,1336\\r\\n2020-11-19 19:45:00,211.9,212.15,211.65,212.1,7639\\r\\n2020-11-19 19:30:00,212.0,212.1,211.81,211.9,2933\\r\\n2020-11-19 19:15:00,211.99,212.03,211.99,212.03,1104\\r\\n2020-11-19 19:00:00,211.81,211.81,211.81,211.81,641\\r\\n2020-11-19 18:45:00,211.9,211.9,211.7,211.75,1764\\r\\n2020-11-19 18:30:00,212.0,212.05,211.9,211.92,5601\\r\\n2020-11-19 18:15:00,212.17,212.17,211.99,212.0,9081\\r\\n2020-11-19 18:00:00,212.29,212.3,212.29,212.3,641\\r\\n2020-11-19 17:45:00,212.22,212.22,212.15,212.2,648\\r\\n2020-11-19 17:30:00,212.3499,212.42,212.22,212.22,32652\\r\\n2020-11-19 17:15:00,212.15,212.36,212.15,212.35,9274\\r\\n2020-11-19 17:00:00,212.39,212.39,212.15,212.24,2991\\r\\n2020-11-19 16:45:00,212.5,212.5,212.25,212.25,9288\\r\\n2020-11-19 16:30:00,212.5,212.5398,212.42,212.5,2717\\r\\n2020-11-19 16:15:00,212.42,212.7,212.35,212.55,1326852\\r\\n2020-11-19 16:00:00,212.75,212.98,212.27,212.31,1483340\\r\\n2020-11-19 15:45:00,212.6,213.03,212.28,212.74,777955\\r\\n2020-11-19 15:30:00,212.7621,212.769,212.27,212.6,545429\\r\\n2020-11-19 15:15:00,212.99,212.99,212.44,212.77,543494\\r\\n2020-11-19 15:00:00,212.8644,212.99,212.71,212.99,464909\\r\\n2020-11-19 14:45:00,212.26,212.97,212.23,212.87,528856\\r\\n2020-11-19 14:30:00,212.19,212.29,212.03,212.25,323896\\r\\n2020-11-19 14:15:00,212.199,212.33,212.1021,212.187,298442\\r\\n2020-11-19 14:00:00,211.705,212.37,211.67,212.191,393928\\r\\n2020-11-19 13:45:00,211.47,211.8,211.29,211.7009,289414\\r\\n2020-11-19 13:30:00,211.3,211.84,211.03,211.48,370875\\r\\n2020-11-19 13:15:00,211.26,211.58,211.18,211.3,276354\\r\\n2020-11-19 13:00:00,211.65,211.7711,211.22,211.28,308030\\r\\n2020-11-19 12:45:00,212.07,212.38,211.58,211.66,1526286\\r\\n2020-11-19 12:30:00,212.12,212.43,211.94,212.079,803142\\r\\n2020-11-19 12:15:00,211.31,212.17,211.2,212.125,830210\\r\\n2020-11-19 12:00:00,211.08,211.34,210.66,211.315,390695\\r\\n2020-11-19 11:45:00,211.13,211.32,210.885,211.09,522161\\r\\n2020-11-19 11:30:00,210.8,211.14,210.6,211.115,581598\\r\\n2020-11-19 11:15:00,211.25,211.4797,210.79,210.8,580534\\r\\n2020-11-19 11:00:00,211.19,211.54,211.17,211.22,732185\\r\\n2020-11-19 10:45:00,210.6,211.26,209.93,211.19,1856271\\r\\n2020-11-19 10:30:00,211.3911,211.7199,210.12,210.58,1454796\\r\\n2020-11-19 10:15:00,212.25,212.6,211.29,211.39,1003965\\r\\n2020-11-19 10:00:00,211.25,212.37,211.1301,212.23,1127022\\r\\n2020-11-19 09:45:00,211.38,211.64,210.02,211.24,2030603\\r\\n2020-11-19 09:30:00,211.2,211.42,211.08,211.39,9184\\r\\n2020-11-19 09:15:00,211.37,211.45,211.15,211.38,36749\\r\\n2020-11-19 09:00:00,210.78,211.3899,210.7,211.24,28767\\r\\n2020-11-19 08:45:00,210.91,210.91,210.5,210.65,28486\\r\\n2020-11-19 08:30:00,210.82,211.1872,210.82,210.91,18207\\r\\n2020-11-19 08:15:00,210.8,211.0697,210.55,210.9,26607\\r\\n2020-11-19 08:00:00,210.71,211.06,210.71,210.85,11200\\r\\n2020-11-19 07:45:00,210.75,210.85,210.66,210.81,2161\\r\\n2020-11-19 07:30:00,210.78,210.78,210.74,210.74,3427\\r\\n2020-11-19 07:15:00,210.89,211.0,210.71,210.76,7797\\r\\n2020-11-19 07:00:00,210.7,210.7,210.7,210.7,995\\r\\n2020-11-19 06:45:00,210.6,210.7,210.6,210.7,2389\\r\\n2020-11-19 06:30:00,210.5,210.5,210.31,210.31,2279\\r\\n2020-11-19 05:45:00,210.65,210.65,210.65,210.65,100\\r\\n2020-11-19 05:15:00,210.89,210.99,210.84,210.84,1000\\r\\n2020-11-19 04:45:00,210.52,210.52,210.27,210.27,1425\\r\\n2020-11-19 04:30:00,210.68,210.8,210.68,210.8,1145\\r\\n2020-11-19 04:15:00,210.4,210.61,210.0,210.57,4546\\r\\n2020-11-18 20:00:00,211.15,211.15,210.91,211.15,3187\\r\\n2020-11-18 19:45:00,211.08,211.15,211.0,211.14,4295\\r\\n2020-11-18 19:30:00,211.06,211.2,210.97,210.97,9974\\r\\n2020-11-18 19:15:00,211.2,211.25,211.08,211.08,4472\\r\\n2020-11-18 19:00:00,211.17,211.3,211.17,211.25,2136\\r\\n2020-11-18 18:45:00,211.3,211.3,211.22,211.2499,2229\\r\\n2020-11-18 18:30:00,211.28,211.34,211.27,211.34,2071\\r\\n2020-11-18 18:15:00,211.15,211.28,211.15,211.28,1441\\r\\n2020-11-18 18:00:00,211.07,211.2323,211.0,211.2323,4062\\r\\n2020-11-18 17:45:00,211.15,211.15,211.0,211.0,2481\\r\\n2020-11-18 17:30:00,211.08,211.14,211.0,211.14,287034\\r\\n2020-11-18 17:15:00,211.07,211.08,211.05,211.0502,5535\\r\\n2020-11-18 17:00:00,211.08,211.32,211.0,211.01,143393\\r\\n2020-11-18 16:45:00,211.02,211.09,210.7,210.88,35522\\r\\n2020-11-18 16:30:00,210.87,211.3,210.87,210.95,48981\\r\\n2020-11-18 16:15:00,211.08,211.58,210.89,210.98,1027045\\r\\n2020-11-18 16:00:00,212.07,212.27,210.93,210.97,2417717\\r\\n2020-11-18 15:45:00,212.86,212.94,211.91,212.08,1009047\\r\\n2020-11-18 15:30:00,212.95,213.2,212.76,212.87,720149\\r\\n2020-11-18 15:15:00,212.61,213.04,212.41,212.945,657790\\r\\n2020-11-18 15:00:00,212.51,212.75,212.49,212.62,417371\\r\\n2020-11-18 14:45:00,212.28,212.53,212.17,212.52,578350\\r\\n2020-11-18 14:30:00,212.03,212.3287,211.82,212.29,676626\\r\\n2020-11-18 14:15:00,212.15,212.19,211.94,212.03,473347\\r\\n2020-11-18 14:00:00,212.13,212.2901,211.93,212.21,640418\\r\\n2020-11-18 13:45:00,212.27,213.03,212.0511,212.135,630508\\r\\n2020-11-18 13:30:00,212.7136,212.87,212.25,212.265,523542\\r\\n2020-11-18 13:15:00,212.96,213.1,212.576,212.71,376528\\r\\n2020-11-18 13:00:00,213.17,213.19,212.76,212.9721,334328\\r\\n2020-11-18 12:45:00,213.41,213.45,213.11,213.18,374574\\r\\n2020-11-18 12:30:00,213.42,213.5801,213.28,213.41,610639\\r\\n2020-11-18 12:15:00,213.05,213.56,213.02,213.42,1852202\\r\\n2020-11-18 12:00:00,212.57,213.0608,212.35,213.0608,531981\\r\\n2020-11-18 11:45:00,212.79,213.0,212.48,212.576,466934\\r\\n2020-11-18 11:30:00,212.9943,213.03,212.65,212.77,542552\\r\\n2020-11-18 11:15:00,212.6698,213.01,212.43,212.99,531657\\r\\n2020-11-18 11:00:00,211.98,212.8,211.9281,212.68,1046914\\r\\n2020-11-18 10:45:00,212.32,212.39,211.89,211.98,1339397\\r\\n2020-11-18 10:30:00,212.575,213.43,212.2,212.3,1273816\\r\\n2020-11-18 10:15:00,213.24,213.27,211.88,212.6078,1783181\\r\\n2020-11-18 10:00:00,215.015,215.1,213.05,213.289,1370821\\r\\n2020-11-18 09:45:00,213.65,215.17,213.5,215.02,2215627\\r\\n2020-11-18 09:30:00,214.01,214.21,213.48,213.48,52287\\r\\n2020-11-18 09:15:00,214.3,214.4,213.91,214.0,40922\\r\\n2020-11-18 09:00:00,214.39,214.55,214.35,214.35,7178\\r\\n2020-11-18 08:45:00,214.45,214.56,214.2,214.35,19785\\r\\n2020-11-18 08:30:00,214.4,214.51,214.4,214.4888,4105\\r\\n2020-11-18 08:15:00,214.3,214.7,214.2531,214.2531,28974\\r\\n2020-11-18 08:00:00,214.42,214.46,214.41,214.46,8645\\r\\n2020-11-18 07:45:00,214.6,214.68,214.41,214.42,6826\\r\\n2020-11-18 07:30:00,214.52,214.6,214.52,214.58,877\\r\\n2020-11-18 07:15:00,214.58,214.58,214.25,214.5,13266\\r\\n2020-11-18 07:00:00,214.52,214.65,214.3,214.3,5115\\r\\n2020-11-18 06:30:00,214.5,214.74,214.5,214.74,741\\r\\n2020-11-18 06:15:00,214.06,214.51,214.05,214.51,960\\r\\n2020-11-18 06:00:00,214.9,214.9,214.56,214.62,757\\r\\n2020-11-18 05:45:00,214.96,214.97,214.96,214.97,600\\r\\n2020-11-18 05:15:00,214.83,214.83,214.83,214.83,281\\r\\n2020-11-18 05:00:00,214.32,214.54,214.32,214.5,1129\\r\\n2020-11-18 04:45:00,214.64,214.64,214.64,214.64,462\\r\\n2020-11-18 04:30:00,214.57,214.57,214.57,214.57,316\\r\\n'"
      ]
     },
     "metadata": {
      "tags": []
     },
     "execution_count": 10
    }
   ]
  },
  {
   "cell_type": "markdown",
   "metadata": {
    "id": "0WZyIYojeoW6",
    "pycharm": {
     "name": "#%% md\n"
    }
   },
   "source": [
    "# Información por Sectores."
   ]
  },
  {
   "cell_type": "code",
   "metadata": {
    "colab": {
     "base_uri": "https://localhost:8080/",
     "height": 301
    },
    "id": "ycVJ-0Z9etcq",
    "outputId": "5c2f8ecb-8067-48a3-e757-77e38bbb10de",
    "pycharm": {
     "name": "#%%\n"
    }
   },
   "source": [
    "from alpha_vantage.sectorperformance import SectorPerformances\n",
    "import matplotlib.pyplot as plt\n",
    "sp = SectorPerformances(key=api_key, output_format='pandas')\n",
    "data, meta_data = sp.get_sector()\n",
    "data.describe()"
   ],
   "execution_count": null,
   "outputs": [
    {
     "output_type": "execute_result",
     "data": {
      "text/html": [
       "<div>\n",
       "<style scoped>\n",
       "    .dataframe tbody tr th:only-of-type {\n",
       "        vertical-align: middle;\n",
       "    }\n",
       "\n",
       "    .dataframe tbody tr th {\n",
       "        vertical-align: top;\n",
       "    }\n",
       "\n",
       "    .dataframe thead th {\n",
       "        text-align: right;\n",
       "    }\n",
       "</style>\n",
       "<table border=\"1\" class=\"dataframe\">\n",
       "  <thead>\n",
       "    <tr style=\"text-align: right;\">\n",
       "      <th></th>\n",
       "      <th>Rank A: Real-Time Performance</th>\n",
       "      <th>Rank B: Day Performance</th>\n",
       "      <th>Rank C: Day Performance</th>\n",
       "      <th>Rank D: Month Performance</th>\n",
       "      <th>Rank E: Month Performance</th>\n",
       "      <th>Rank F: Year-to-Date (YTD) Performance</th>\n",
       "      <th>Rank G: Year Performance</th>\n",
       "      <th>Rank H: Year Performance</th>\n",
       "      <th>Rank I: Year Performance</th>\n",
       "      <th>Rank J: Year Performance</th>\n",
       "    </tr>\n",
       "  </thead>\n",
       "  <tbody>\n",
       "    <tr>\n",
       "      <th>count</th>\n",
       "      <td>11.000000</td>\n",
       "      <td>11.000000</td>\n",
       "      <td>11.000000</td>\n",
       "      <td>11.000000</td>\n",
       "      <td>11.000000</td>\n",
       "      <td>11.000000</td>\n",
       "      <td>11.000000</td>\n",
       "      <td>11.000000</td>\n",
       "      <td>10.000000</td>\n",
       "      <td>10.000000</td>\n",
       "    </tr>\n",
       "    <tr>\n",
       "      <th>mean</th>\n",
       "      <td>-0.005064</td>\n",
       "      <td>-0.005064</td>\n",
       "      <td>0.004591</td>\n",
       "      <td>0.017236</td>\n",
       "      <td>0.093073</td>\n",
       "      <td>0.074318</td>\n",
       "      <td>0.088827</td>\n",
       "      <td>0.250709</td>\n",
       "      <td>0.644460</td>\n",
       "      <td>1.685590</td>\n",
       "    </tr>\n",
       "    <tr>\n",
       "      <th>std</th>\n",
       "      <td>0.007553</td>\n",
       "      <td>0.007553</td>\n",
       "      <td>0.019287</td>\n",
       "      <td>0.036715</td>\n",
       "      <td>0.048101</td>\n",
       "      <td>0.207630</td>\n",
       "      <td>0.210446</td>\n",
       "      <td>0.362588</td>\n",
       "      <td>0.622244</td>\n",
       "      <td>1.442732</td>\n",
       "    </tr>\n",
       "    <tr>\n",
       "      <th>min</th>\n",
       "      <td>-0.018300</td>\n",
       "      <td>-0.018300</td>\n",
       "      <td>-0.042600</td>\n",
       "      <td>-0.050900</td>\n",
       "      <td>0.000700</td>\n",
       "      <td>-0.357400</td>\n",
       "      <td>-0.344500</td>\n",
       "      <td>-0.424000</td>\n",
       "      <td>-0.341900</td>\n",
       "      <td>-0.402300</td>\n",
       "    </tr>\n",
       "    <tr>\n",
       "      <th>25%</th>\n",
       "      <td>-0.008250</td>\n",
       "      <td>-0.008250</td>\n",
       "      <td>0.000700</td>\n",
       "      <td>0.007450</td>\n",
       "      <td>0.064400</td>\n",
       "      <td>-0.053900</td>\n",
       "      <td>-0.028800</td>\n",
       "      <td>0.107150</td>\n",
       "      <td>0.442575</td>\n",
       "      <td>0.949350</td>\n",
       "    </tr>\n",
       "    <tr>\n",
       "      <th>50%</th>\n",
       "      <td>-0.003400</td>\n",
       "      <td>-0.003400</td>\n",
       "      <td>0.002100</td>\n",
       "      <td>0.028200</td>\n",
       "      <td>0.086800</td>\n",
       "      <td>0.088600</td>\n",
       "      <td>0.092000</td>\n",
       "      <td>0.188400</td>\n",
       "      <td>0.533200</td>\n",
       "      <td>1.272100</td>\n",
       "    </tr>\n",
       "    <tr>\n",
       "      <th>75%</th>\n",
       "      <td>0.000300</td>\n",
       "      <td>0.000300</td>\n",
       "      <td>0.015050</td>\n",
       "      <td>0.031300</td>\n",
       "      <td>0.127650</td>\n",
       "      <td>0.192800</td>\n",
       "      <td>0.206850</td>\n",
       "      <td>0.346500</td>\n",
       "      <td>0.663025</td>\n",
       "      <td>2.312750</td>\n",
       "    </tr>\n",
       "    <tr>\n",
       "      <th>max</th>\n",
       "      <td>0.005100</td>\n",
       "      <td>0.005100</td>\n",
       "      <td>0.032000</td>\n",
       "      <td>0.076700</td>\n",
       "      <td>0.156800</td>\n",
       "      <td>0.397800</td>\n",
       "      <td>0.427300</td>\n",
       "      <td>1.010000</td>\n",
       "      <td>2.106500</td>\n",
       "      <td>4.586900</td>\n",
       "    </tr>\n",
       "  </tbody>\n",
       "</table>\n",
       "</div>"
      ],
      "text/plain": [
       "       Rank A: Real-Time Performance  ...  Rank J: Year Performance\n",
       "count                      11.000000  ...                 10.000000\n",
       "mean                       -0.005064  ...                  1.685590\n",
       "std                         0.007553  ...                  1.442732\n",
       "min                        -0.018300  ...                 -0.402300\n",
       "25%                        -0.008250  ...                  0.949350\n",
       "50%                        -0.003400  ...                  1.272100\n",
       "75%                         0.000300  ...                  2.312750\n",
       "max                         0.005100  ...                  4.586900\n",
       "\n",
       "[8 rows x 10 columns]"
      ]
     },
     "metadata": {
      "tags": []
     },
     "execution_count": 10
    }
   ]
  },
  {
   "cell_type": "code",
   "metadata": {
    "colab": {
     "base_uri": "https://localhost:8080/",
     "height": 395
    },
    "id": "6GvSmA49fCEy",
    "outputId": "974e548b-7666-46f7-e512-af4dfcb6437d",
    "pycharm": {
     "name": "#%%\n"
    }
   },
   "source": [
    "(data['Rank D: Month Performance']*100).plot(kind='bar')\n",
    "plt.title('Evolución diario por Sectores %')\n",
    "plt.grid()\n",
    "plt.show()"
   ],
   "execution_count": null,
   "outputs": [
    {
     "output_type": "display_data",
     "data": {
      "image/png": "[encoded data removed]",
      "text/plain": [
       "<Figure size 432x288 with 1 Axes>"
      ]
     },
     "metadata": {
      "tags": [],
      "needs_background": "light"
     }
    }
   ]
  },
  {
   "cell_type": "markdown",
   "metadata": {
    "id": "z0mpJ1656cvU",
    "pycharm": {
     "name": "#%% md\n"
    }
   },
   "source": [
    "# Indicadores Tecnicos"
   ]
  },
  {
   "cell_type": "code",
   "metadata": {
    "id": "Rfxp3aWRuqbH",
    "colab": {
     "base_uri": "https://localhost:8080/",
     "height": 301
    },
    "outputId": "4d6009e5-308d-4fe6-f652-8c78626e50d5",
    "pycharm": {
     "name": "#%%\n"
    }
   },
   "source": [
    "from alpha_vantage.techindicators import TechIndicators\n",
    "import matplotlib.pyplot as plt\n",
    "\n",
    "ti = TechIndicators(key=api_key, output_format='pandas')\n",
    "data, meta_data = ti.get_bbands(symbol='AMZN', interval='60min', time_period=60)\n",
    "data.plot()\n",
    "plt.title('Bandas de Bolinger en AMZN 60 min')\n",
    "plt.show()"
   ],
   "execution_count": null,
   "outputs": [
    {
     "output_type": "display_data",
     "data": {
      "image/png": "[encoded data removed]",
      "text/plain": [
       "<Figure size 432x288 with 1 Axes>"
      ]
     },
     "metadata": {
      "tags": [],
      "needs_background": "light"
     }
    }
   ]
  },
  {
   "cell_type": "code",
   "metadata": {
    "id": "qagIomGyrXjB",
    "pycharm": {
     "name": "#%%\n"
    }
   },
   "source": [],
   "execution_count": null,
   "outputs": []
  },
  {
   "cell_type": "code",
   "metadata": {
    "colab": {
     "base_uri": "https://localhost:8080/",
     "height": 318
    },
    "id": "qo9cEM9-8JF1",
    "outputId": "30aa6b78-56a9-45e1-f697-53abb2dc415b",
    "pycharm": {
     "name": "#%%\n"
    }
   },
   "source": [
    "data , meta_data = ti.get_atr(symbol='AMZN',interval='60min',time_period=60)\n",
    "data.plot()\n",
    "plt.title('ATR AMZN en Intervalo de 60 min calculado segun 60 Periodos.')"
   ],
   "execution_count": null,
   "outputs": [
    {
     "output_type": "execute_result",
     "data": {
      "text/plain": [
       "Text(0.5, 1.0, 'ATR AMZN en Intervalo de 60 min calculado segun 60 Periodos.')"
      ]
     },
     "metadata": {
      "tags": []
     },
     "execution_count": 15
    },
    {
     "output_type": "display_data",
     "data": {
      "image/png": "[encoded data removed]",
      "text/plain": [
       "<Figure size 432x288 with 1 Axes>"
      ]
     },
     "metadata": {
      "tags": [],
      "needs_background": "light"
     }
    }
   ]
  },
  {
   "cell_type": "markdown",
   "metadata": {
    "id": "ae4Q1IdW90wW",
    "pycharm": {
     "name": "#%% md\n"
    }
   },
   "source": [
    "El ATR(Averge True Range) mide la flutación del precio, es decir la volatilidad.\n",
    "* Nos ayuda para establecer los stops de ventas.\n",
    "* Es útil para en operaciones de corta duración establecer los take profits.\n",
    "* Ejemplo: Viendo el gráfico de AMZN vemos que el ATR está entorno a 15 de media en las ultimas sesiones. Podemos definir nuestro stop en 3 ATR es decir estaremos ariesgado en la operaci\n",
    "45/3240"
   ]
  },
  {
   "cell_type": "code",
   "metadata": {
    "id": "iD0R53cIC99T",
    "colab": {
     "base_uri": "https://localhost:8080/"
    },
    "outputId": "fe602522-c971-4bfc-ce2e-ffebbd43e495",
    "pycharm": {
     "name": "#%%\n"
    }
   },
   "source": [
    "((3*15)/3240)*100"
   ],
   "execution_count": null,
   "outputs": [
    {
     "output_type": "execute_result",
     "data": {
      "text/plain": [
       "1.3888888888888888"
      ]
     },
     "metadata": {
      "tags": []
     },
     "execution_count": 17
    }
   ]
  },
  {
   "cell_type": "code",
   "metadata": {
    "id": "kzjsKOxl9610",
    "colab": {
     "base_uri": "https://localhost:8080/",
     "height": 431
    },
    "outputId": "b64a0905-e1a2-43b7-c133-49b9503a4cd9",
    "pycharm": {
     "name": "#%%\n"
    }
   },
   "source": [
    "data"
   ],
   "execution_count": null,
   "outputs": [
    {
     "output_type": "execute_result",
     "data": {
      "text/html": [
       "<div>\n",
       "<style scoped>\n",
       "    .dataframe tbody tr th:only-of-type {\n",
       "        vertical-align: middle;\n",
       "    }\n",
       "\n",
       "    .dataframe tbody tr th {\n",
       "        vertical-align: top;\n",
       "    }\n",
       "\n",
       "    .dataframe thead th {\n",
       "        text-align: right;\n",
       "    }\n",
       "</style>\n",
       "<table border=\"1\" class=\"dataframe\">\n",
       "  <thead>\n",
       "    <tr style=\"text-align: right;\">\n",
       "      <th></th>\n",
       "      <th>ATR</th>\n",
       "    </tr>\n",
       "    <tr>\n",
       "      <th>date</th>\n",
       "      <th></th>\n",
       "    </tr>\n",
       "  </thead>\n",
       "  <tbody>\n",
       "    <tr>\n",
       "      <th>2020-10-30 08:00:00</th>\n",
       "      <td>26.8813</td>\n",
       "    </tr>\n",
       "    <tr>\n",
       "      <th>2020-10-30 09:00:00</th>\n",
       "      <td>26.7499</td>\n",
       "    </tr>\n",
       "    <tr>\n",
       "      <th>2020-10-30 10:00:00</th>\n",
       "      <td>27.8538</td>\n",
       "    </tr>\n",
       "    <tr>\n",
       "      <th>2020-10-30 11:00:00</th>\n",
       "      <td>28.1338</td>\n",
       "    </tr>\n",
       "    <tr>\n",
       "      <th>2020-10-30 12:00:00</th>\n",
       "      <td>28.3387</td>\n",
       "    </tr>\n",
       "    <tr>\n",
       "      <th>...</th>\n",
       "      <td>...</td>\n",
       "    </tr>\n",
       "    <tr>\n",
       "      <th>2020-12-18 16:00:00</th>\n",
       "      <td>14.5286</td>\n",
       "    </tr>\n",
       "    <tr>\n",
       "      <th>2020-12-18 17:00:00</th>\n",
       "      <td>14.4878</td>\n",
       "    </tr>\n",
       "    <tr>\n",
       "      <th>2020-12-18 18:00:00</th>\n",
       "      <td>14.4689</td>\n",
       "    </tr>\n",
       "    <tr>\n",
       "      <th>2020-12-18 19:00:00</th>\n",
       "      <td>14.3530</td>\n",
       "    </tr>\n",
       "    <tr>\n",
       "      <th>2020-12-18 20:00:00</th>\n",
       "      <td>14.2662</td>\n",
       "    </tr>\n",
       "  </tbody>\n",
       "</table>\n",
       "<p>516 rows × 1 columns</p>\n",
       "</div>"
      ],
      "text/plain": [
       "                         ATR\n",
       "date                        \n",
       "2020-10-30 08:00:00  26.8813\n",
       "2020-10-30 09:00:00  26.7499\n",
       "2020-10-30 10:00:00  27.8538\n",
       "2020-10-30 11:00:00  28.1338\n",
       "2020-10-30 12:00:00  28.3387\n",
       "...                      ...\n",
       "2020-12-18 16:00:00  14.5286\n",
       "2020-12-18 17:00:00  14.4878\n",
       "2020-12-18 18:00:00  14.4689\n",
       "2020-12-18 19:00:00  14.3530\n",
       "2020-12-18 20:00:00  14.2662\n",
       "\n",
       "[516 rows x 1 columns]"
      ]
     },
     "metadata": {
      "tags": []
     },
     "execution_count": 16
    }
   ]
  },
  {
   "cell_type": "markdown",
   "metadata": {
    "id": "YH9dJyDVCZwd",
    "pycharm": {
     "name": "#%% md\n"
    }
   },
   "source": [
    "# Media Movil"
   ]
  },
  {
   "cell_type": "code",
   "metadata": {
    "id": "iKrbFbaOFA-o",
    "pycharm": {
     "name": "#%%\n"
    }
   },
   "source": [
    "data,meta_data= ti.get_sma(symbol='AMZN',interval='daily',time_period=10,series_type='close')\n",
    "price = data_p, meta_data = ts.get_daily(symbol='AMZN',outputsize='compact')"
   ],
   "execution_count": null,
   "outputs": []
  },
  {
   "cell_type": "code",
   "metadata": {
    "colab": {
     "base_uri": "https://localhost:8080/"
    },
    "id": "6oRc4MnrFzwU",
    "outputId": "efe7f9bd-8b0a-46f9-d48c-9875c2bd8dcb",
    "pycharm": {
     "name": "#%%\n"
    }
   },
   "source": [
    "price"
   ],
   "execution_count": null,
   "outputs": [
    {
     "output_type": "execute_result",
     "data": {
      "text/plain": [
       "(            1. open    2. high   3. low  4. close  5. volume\n",
       " date                                                        \n",
       " 2020-12-18  3243.99  3249.4200  3171.60   3201.65  5995713.0\n",
       " 2020-12-17  3250.00  3263.5100  3221.00   3236.08  3474347.0\n",
       " 2020-12-16  3176.01  3247.0000  3163.68   3240.96  4427616.0\n",
       " 2020-12-15  3181.01  3188.4999  3130.49   3165.12  3323686.0\n",
       " 2020-12-14  3143.00  3190.4700  3126.00   3156.97  4155794.0\n",
       " ...             ...        ...      ...       ...        ...\n",
       " 2020-08-05  3143.77  3213.5859  3127.30   3205.03  3930025.0\n",
       " 2020-08-04  3101.21  3167.2400  3101.21   3138.83  4694294.0\n",
       " 2020-08-03  3180.51  3184.0000  3104.00   3111.89  5074663.0\n",
       " 2020-07-31  3244.00  3246.8200  3151.00   3164.68  8083369.0\n",
       " 2020-07-30  3014.00  3092.0000  3005.00   3051.88  6128265.0\n",
       " \n",
       " [100 rows x 5 columns],\n",
       " {'1. Information': 'Daily Prices (open, high, low, close) and Volumes',\n",
       "  '2. Symbol': 'AMZN',\n",
       "  '3. Last Refreshed': '2020-12-18',\n",
       "  '4. Output Size': 'Compact',\n",
       "  '5. Time Zone': 'US/Eastern'})"
      ]
     },
     "metadata": {
      "tags": []
     },
     "execution_count": 19
    }
   ]
  },
  {
   "cell_type": "code",
   "metadata": {
    "id": "D6vb4i6zVLx8",
    "colab": {
     "base_uri": "https://localhost:8080/",
     "height": 431
    },
    "outputId": "95a158d8-a693-436a-e968-2bc299518e29",
    "pycharm": {
     "name": "#%%\n"
    }
   },
   "source": [
    "data"
   ],
   "execution_count": null,
   "outputs": [
    {
     "output_type": "execute_result",
     "data": {
      "text/html": [
       "<div>\n",
       "<style scoped>\n",
       "    .dataframe tbody tr th:only-of-type {\n",
       "        vertical-align: middle;\n",
       "    }\n",
       "\n",
       "    .dataframe tbody tr th {\n",
       "        vertical-align: top;\n",
       "    }\n",
       "\n",
       "    .dataframe thead th {\n",
       "        text-align: right;\n",
       "    }\n",
       "</style>\n",
       "<table border=\"1\" class=\"dataframe\">\n",
       "  <thead>\n",
       "    <tr style=\"text-align: right;\">\n",
       "      <th></th>\n",
       "      <th>SMA</th>\n",
       "    </tr>\n",
       "    <tr>\n",
       "      <th>date</th>\n",
       "      <th></th>\n",
       "    </tr>\n",
       "  </thead>\n",
       "  <tbody>\n",
       "    <tr>\n",
       "      <th>1999-11-12</th>\n",
       "      <td>69.813</td>\n",
       "    </tr>\n",
       "    <tr>\n",
       "      <th>1999-11-15</th>\n",
       "      <td>70.250</td>\n",
       "    </tr>\n",
       "    <tr>\n",
       "      <th>1999-11-16</th>\n",
       "      <td>71.500</td>\n",
       "    </tr>\n",
       "    <tr>\n",
       "      <th>1999-11-17</th>\n",
       "      <td>72.569</td>\n",
       "    </tr>\n",
       "    <tr>\n",
       "      <th>1999-11-18</th>\n",
       "      <td>74.057</td>\n",
       "    </tr>\n",
       "    <tr>\n",
       "      <th>...</th>\n",
       "      <td>...</td>\n",
       "    </tr>\n",
       "    <tr>\n",
       "      <th>2020-12-14</th>\n",
       "      <td>3158.729</td>\n",
       "    </tr>\n",
       "    <tr>\n",
       "      <th>2020-12-15</th>\n",
       "      <td>3153.233</td>\n",
       "    </tr>\n",
       "    <tr>\n",
       "      <th>2020-12-16</th>\n",
       "      <td>3156.976</td>\n",
       "    </tr>\n",
       "    <tr>\n",
       "      <th>2020-12-17</th>\n",
       "      <td>3161.911</td>\n",
       "    </tr>\n",
       "    <tr>\n",
       "      <th>2020-12-18</th>\n",
       "      <td>3165.818</td>\n",
       "    </tr>\n",
       "  </tbody>\n",
       "</table>\n",
       "<p>5310 rows × 1 columns</p>\n",
       "</div>"
      ],
      "text/plain": [
       "                 SMA\n",
       "date                \n",
       "1999-11-12    69.813\n",
       "1999-11-15    70.250\n",
       "1999-11-16    71.500\n",
       "1999-11-17    72.569\n",
       "1999-11-18    74.057\n",
       "...              ...\n",
       "2020-12-14  3158.729\n",
       "2020-12-15  3153.233\n",
       "2020-12-16  3156.976\n",
       "2020-12-17  3161.911\n",
       "2020-12-18  3165.818\n",
       "\n",
       "[5310 rows x 1 columns]"
      ]
     },
     "metadata": {
      "tags": []
     },
     "execution_count": 20
    }
   ]
  },
  {
   "cell_type": "markdown",
   "metadata": {
    "id": "ADXxv5LGWOwE",
    "pycharm": {
     "name": "#%% md\n"
    }
   },
   "source": [
    "# Obter Información de Criptomonedas"
   ]
  },
  {
   "cell_type": "code",
   "metadata": {
    "colab": {
     "base_uri": "https://localhost:8080/",
     "height": 313
    },
    "id": "qlVC2Q4EWStY",
    "outputId": "6411f43f-f70a-45b8-ec9e-be7f56b83b1b",
    "pycharm": {
     "name": "#%%\n"
    }
   },
   "source": [
    "from alpha_vantage.cryptocurrencies import CryptoCurrencies\n",
    "import matplotlib.pyplot as plt\n",
    "\n",
    "cc = CryptoCurrencies(key=api_key, output_format='pandas')\n",
    "data, meta_data = cc.get_digital_currency_daily(symbol='BTC', market='CNY')\n",
    "data['4b. close (USD)'].plot()\n",
    "plt.tight_layout()\n",
    "plt.title('Precio diarios del Bitcoin (BTC)')\n",
    "plt.grid()\n",
    "plt.show()"
   ],
   "execution_count": null,
   "outputs": [
    {
     "output_type": "display_data",
     "data": {
      "image/png": "[encoded data removed]",
      "text/plain": [
       "<Figure size 432x288 with 1 Axes>"
      ]
     },
     "metadata": {
      "tags": [],
      "needs_background": "light"
     }
    }
   ]
  },
  {
   "cell_type": "code",
   "metadata": {
    "colab": {
     "base_uri": "https://localhost:8080/",
     "height": 431
    },
    "id": "WRkKig_ssg8C",
    "outputId": "c9cdb8ed-8f5e-4d0e-fb0b-9abefe3e0d28",
    "pycharm": {
     "name": "#%%\n"
    }
   },
   "source": [
    "data"
   ],
   "execution_count": null,
   "outputs": [
    {
     "output_type": "execute_result",
     "data": {
      "text/html": [
       "<div>\n",
       "<style scoped>\n",
       "    .dataframe tbody tr th:only-of-type {\n",
       "        vertical-align: middle;\n",
       "    }\n",
       "\n",
       "    .dataframe tbody tr th {\n",
       "        vertical-align: top;\n",
       "    }\n",
       "\n",
       "    .dataframe thead th {\n",
       "        text-align: right;\n",
       "    }\n",
       "</style>\n",
       "<table border=\"1\" class=\"dataframe\">\n",
       "  <thead>\n",
       "    <tr style=\"text-align: right;\">\n",
       "      <th></th>\n",
       "      <th>1a. open (CNY)</th>\n",
       "      <th>1b. open (USD)</th>\n",
       "      <th>2a. high (CNY)</th>\n",
       "      <th>2b. high (USD)</th>\n",
       "      <th>3a. low (CNY)</th>\n",
       "      <th>3b. low (USD)</th>\n",
       "      <th>4a. close (CNY)</th>\n",
       "      <th>4b. close (USD)</th>\n",
       "      <th>5. volume</th>\n",
       "      <th>6. market cap (USD)</th>\n",
       "    </tr>\n",
       "    <tr>\n",
       "      <th>date</th>\n",
       "      <th></th>\n",
       "      <th></th>\n",
       "      <th></th>\n",
       "      <th></th>\n",
       "      <th></th>\n",
       "      <th></th>\n",
       "      <th></th>\n",
       "      <th></th>\n",
       "      <th></th>\n",
       "      <th></th>\n",
       "    </tr>\n",
       "  </thead>\n",
       "  <tbody>\n",
       "    <tr>\n",
       "      <th>2020-12-20</th>\n",
       "      <td>155793.2640</td>\n",
       "      <td>23821.60</td>\n",
       "      <td>155890.5792</td>\n",
       "      <td>23836.48</td>\n",
       "      <td>151924.2000</td>\n",
       "      <td>23230.00</td>\n",
       "      <td>153784.1106</td>\n",
       "      <td>23514.39</td>\n",
       "      <td>6233.745210</td>\n",
       "      <td>6233.745210</td>\n",
       "    </tr>\n",
       "    <tr>\n",
       "      <th>2020-12-19</th>\n",
       "      <td>151122.3306</td>\n",
       "      <td>23107.39</td>\n",
       "      <td>158081.4138</td>\n",
       "      <td>24171.47</td>\n",
       "      <td>148785.0000</td>\n",
       "      <td>22750.00</td>\n",
       "      <td>155793.3294</td>\n",
       "      <td>23821.61</td>\n",
       "      <td>86045.064677</td>\n",
       "      <td>86045.064677</td>\n",
       "    </tr>\n",
       "    <tr>\n",
       "      <th>2020-12-18</th>\n",
       "      <td>149093.3610</td>\n",
       "      <td>22797.15</td>\n",
       "      <td>152285.0772</td>\n",
       "      <td>23285.18</td>\n",
       "      <td>146169.0000</td>\n",
       "      <td>22350.00</td>\n",
       "      <td>151122.3306</td>\n",
       "      <td>23107.39</td>\n",
       "      <td>79646.134315</td>\n",
       "      <td>79646.134315</td>\n",
       "    </tr>\n",
       "    <tr>\n",
       "      <th>2020-12-17</th>\n",
       "      <td>139534.3008</td>\n",
       "      <td>21335.52</td>\n",
       "      <td>155652.0000</td>\n",
       "      <td>23800.00</td>\n",
       "      <td>138844.2000</td>\n",
       "      <td>21230.00</td>\n",
       "      <td>149093.4264</td>\n",
       "      <td>22797.16</td>\n",
       "      <td>184882.476748</td>\n",
       "      <td>184882.476748</td>\n",
       "    </tr>\n",
       "    <tr>\n",
       "      <th>2020-12-16</th>\n",
       "      <td>127048.8522</td>\n",
       "      <td>19426.43</td>\n",
       "      <td>141002.4000</td>\n",
       "      <td>21560.00</td>\n",
       "      <td>126082.0440</td>\n",
       "      <td>19278.60</td>\n",
       "      <td>139534.3008</td>\n",
       "      <td>21335.52</td>\n",
       "      <td>114306.335570</td>\n",
       "      <td>114306.335570</td>\n",
       "    </tr>\n",
       "    <tr>\n",
       "      <th>...</th>\n",
       "      <td>...</td>\n",
       "      <td>...</td>\n",
       "      <td>...</td>\n",
       "      <td>...</td>\n",
       "      <td>...</td>\n",
       "      <td>...</td>\n",
       "      <td>...</td>\n",
       "      <td>...</td>\n",
       "      <td>...</td>\n",
       "      <td>...</td>\n",
       "    </tr>\n",
       "    <tr>\n",
       "      <th>2018-03-31</th>\n",
       "      <td>44735.1696</td>\n",
       "      <td>6840.24</td>\n",
       "      <td>47240.7744</td>\n",
       "      <td>7223.36</td>\n",
       "      <td>44321.5800</td>\n",
       "      <td>6777.00</td>\n",
       "      <td>45282.3714</td>\n",
       "      <td>6923.91</td>\n",
       "      <td>36868.539087</td>\n",
       "      <td>36868.539087</td>\n",
       "    </tr>\n",
       "    <tr>\n",
       "      <th>2018-03-30</th>\n",
       "      <td>46369.6464</td>\n",
       "      <td>7090.16</td>\n",
       "      <td>47692.4922</td>\n",
       "      <td>7292.43</td>\n",
       "      <td>43164.6540</td>\n",
       "      <td>6600.10</td>\n",
       "      <td>44735.1042</td>\n",
       "      <td>6840.23</td>\n",
       "      <td>65306.031976</td>\n",
       "      <td>65306.031976</td>\n",
       "    </tr>\n",
       "    <tr>\n",
       "      <th>2018-03-29</th>\n",
       "      <td>51988.4220</td>\n",
       "      <td>7949.30</td>\n",
       "      <td>52156.5000</td>\n",
       "      <td>7975.00</td>\n",
       "      <td>45394.8594</td>\n",
       "      <td>6941.11</td>\n",
       "      <td>46369.5156</td>\n",
       "      <td>7090.14</td>\n",
       "      <td>54620.915125</td>\n",
       "      <td>54620.915125</td>\n",
       "    </tr>\n",
       "    <tr>\n",
       "      <th>2018-03-28</th>\n",
       "      <td>50982.6354</td>\n",
       "      <td>7795.51</td>\n",
       "      <td>53032.8600</td>\n",
       "      <td>8109.00</td>\n",
       "      <td>50541.1200</td>\n",
       "      <td>7728.00</td>\n",
       "      <td>51988.4220</td>\n",
       "      <td>7949.30</td>\n",
       "      <td>26401.331670</td>\n",
       "      <td>26401.331670</td>\n",
       "    </tr>\n",
       "    <tr>\n",
       "      <th>2018-03-27</th>\n",
       "      <td>53197.7988</td>\n",
       "      <td>8134.22</td>\n",
       "      <td>53732.2476</td>\n",
       "      <td>8215.94</td>\n",
       "      <td>50554.2000</td>\n",
       "      <td>7730.00</td>\n",
       "      <td>50982.6354</td>\n",
       "      <td>7795.51</td>\n",
       "      <td>37427.648050</td>\n",
       "      <td>37427.648050</td>\n",
       "    </tr>\n",
       "  </tbody>\n",
       "</table>\n",
       "<p>1000 rows × 10 columns</p>\n",
       "</div>"
      ],
      "text/plain": [
       "            1a. open (CNY)  1b. open (USD)  ...      5. volume  6. market cap (USD)\n",
       "date                                        ...                                    \n",
       "2020-12-20     155793.2640        23821.60  ...    6233.745210          6233.745210\n",
       "2020-12-19     151122.3306        23107.39  ...   86045.064677         86045.064677\n",
       "2020-12-18     149093.3610        22797.15  ...   79646.134315         79646.134315\n",
       "2020-12-17     139534.3008        21335.52  ...  184882.476748        184882.476748\n",
       "2020-12-16     127048.8522        19426.43  ...  114306.335570        114306.335570\n",
       "...                    ...             ...  ...            ...                  ...\n",
       "2018-03-31      44735.1696         6840.24  ...   36868.539087         36868.539087\n",
       "2018-03-30      46369.6464         7090.16  ...   65306.031976         65306.031976\n",
       "2018-03-29      51988.4220         7949.30  ...   54620.915125         54620.915125\n",
       "2018-03-28      50982.6354         7795.51  ...   26401.331670         26401.331670\n",
       "2018-03-27      53197.7988         8134.22  ...   37427.648050         37427.648050\n",
       "\n",
       "[1000 rows x 10 columns]"
      ]
     },
     "metadata": {
      "tags": []
     },
     "execution_count": 22
    }
   ]
  },
  {
   "cell_type": "code",
   "metadata": {
    "id": "qxsQByNpWi3m",
    "pycharm": {
     "name": "#%%\n"
    }
   },
   "source": [
    "cc = CryptoCurrencies(key=api_key, output_format='pandas')\n",
    "data, meta_data = cc.get_digital_currency_daily(symbol='ETH', market='CNY')\n",
    "data['4b. close (USD)'].plot()\n",
    "plt.tight_layout()\n",
    "plt.title('Precio diarios del Etherum (ETC)')\n",
    "plt.grid()\n",
    "plt.show()"
   ],
   "execution_count": null,
   "outputs": []
  },
  {
   "cell_type": "markdown",
   "metadata": {
    "id": "ny0EhKkjW2tt",
    "pycharm": {
     "name": "#%% md\n"
    }
   },
   "source": [
    "# Forex"
   ]
  },
  {
   "cell_type": "code",
   "metadata": {
    "id": "26d0rBElWzSE",
    "pycharm": {
     "name": "#%%\n"
    }
   },
   "source": [
    "from alpha_vantage.foreignexchange import ForeignExchange\n",
    "cc = ForeignExchange(key=api_key)\n",
    "# There is no metadata in this call\n",
    "data, _ = cc.get_currency_exchange_intraday(from_symbol='EUR',to_symbol='USD',interval='1min',outputsize='full')"
   ],
   "execution_count": null,
   "outputs": []
  },
  {
   "cell_type": "code",
   "metadata": {
    "id": "BeA731eVXp3r",
    "colab": {
     "base_uri": "https://localhost:8080/"
    },
    "outputId": "048a2957-19d5-484f-c093-24fc570bc10e",
    "pycharm": {
     "name": "#%%\n"
    }
   },
   "source": [
    "data"
   ],
   "execution_count": null,
   "outputs": [
    {
     "output_type": "execute_result",
     "data": {
      "text/plain": [
       "{'2020-12-20 17:57:00': {'1. open': '1.2252',\n",
       "  '2. high': '1.2252',\n",
       "  '3. low': '1.2252',\n",
       "  '4. close': '1.2252'},\n",
       " '2020-12-20 17:58:00': {'1. open': '1.2251',\n",
       "  '2. high': '1.2251',\n",
       "  '3. low': '1.2250',\n",
       "  '4. close': '1.2250'},\n",
       " '2020-12-20 17:59:00': {'1. open': '1.2250',\n",
       "  '2. high': '1.2250',\n",
       "  '3. low': '1.2250',\n",
       "  '4. close': '1.2250'},\n",
       " '2020-12-20 18:00:00': {'1. open': '1.2248',\n",
       "  '2. high': '1.2248',\n",
       "  '3. low': '1.2248',\n",
       "  '4. close': '1.2248'},\n",
       " '2020-12-20 18:01:00': {'1. open': '1.2247',\n",
       "  '2. high': '1.2247',\n",
       "  '3. low': '1.2247',\n",
       "  '4. close': '1.2247'},\n",
       " '2020-12-20 18:02:00': {'1. open': '1.2247',\n",
       "  '2. high': '1.2247',\n",
       "  '3. low': '1.2247',\n",
       "  '4. close': '1.2247'},\n",
       " '2020-12-20 18:03:00': {'1. open': '1.2247',\n",
       "  '2. high': '1.2247',\n",
       "  '3. low': '1.2247',\n",
       "  '4. close': '1.2247'},\n",
       " '2020-12-20 18:04:00': {'1. open': '1.2247',\n",
       "  '2. high': '1.2247',\n",
       "  '3. low': '1.2247',\n",
       "  '4. close': '1.2247'},\n",
       " '2020-12-20 18:05:00': {'1. open': '1.2247',\n",
       "  '2. high': '1.2247',\n",
       "  '3. low': '1.2247',\n",
       "  '4. close': '1.2247'},\n",
       " '2020-12-20 18:06:00': {'1. open': '1.2247',\n",
       "  '2. high': '1.2247',\n",
       "  '3. low': '1.2247',\n",
       "  '4. close': '1.2247'},\n",
       " '2020-12-20 18:07:00': {'1. open': '1.2247',\n",
       "  '2. high': '1.2247',\n",
       "  '3. low': '1.2247',\n",
       "  '4. close': '1.2247'},\n",
       " '2020-12-20 18:08:00': {'1. open': '1.2247',\n",
       "  '2. high': '1.2247',\n",
       "  '3. low': '1.2247',\n",
       "  '4. close': '1.2247'},\n",
       " '2020-12-20 18:09:00': {'1. open': '1.2247',\n",
       "  '2. high': '1.2247',\n",
       "  '3. low': '1.2247',\n",
       "  '4. close': '1.2247'},\n",
       " '2020-12-20 18:10:00': {'1. open': '1.2247',\n",
       "  '2. high': '1.2247',\n",
       "  '3. low': '1.2247',\n",
       "  '4. close': '1.2247'},\n",
       " '2020-12-20 18:11:00': {'1. open': '1.2246',\n",
       "  '2. high': '1.2246',\n",
       "  '3. low': '1.2246',\n",
       "  '4. close': '1.2246'},\n",
       " '2020-12-20 18:12:00': {'1. open': '1.2246',\n",
       "  '2. high': '1.2246',\n",
       "  '3. low': '1.2246',\n",
       "  '4. close': '1.2246'},\n",
       " '2020-12-20 18:13:00': {'1. open': '1.2246',\n",
       "  '2. high': '1.2246',\n",
       "  '3. low': '1.2246',\n",
       "  '4. close': '1.2246'},\n",
       " '2020-12-20 18:14:00': {'1. open': '1.2246',\n",
       "  '2. high': '1.2246',\n",
       "  '3. low': '1.2246',\n",
       "  '4. close': '1.2246'},\n",
       " '2020-12-20 18:15:00': {'1. open': '1.2244',\n",
       "  '2. high': '1.2244',\n",
       "  '3. low': '1.2244',\n",
       "  '4. close': '1.2244'},\n",
       " '2020-12-20 18:16:00': {'1. open': '1.2243',\n",
       "  '2. high': '1.2243',\n",
       "  '3. low': '1.2243',\n",
       "  '4. close': '1.2243'},\n",
       " '2020-12-20 18:17:00': {'1. open': '1.2243',\n",
       "  '2. high': '1.2243',\n",
       "  '3. low': '1.2243',\n",
       "  '4. close': '1.2243'},\n",
       " '2020-12-20 18:18:00': {'1. open': '1.2242',\n",
       "  '2. high': '1.2242',\n",
       "  '3. low': '1.2242',\n",
       "  '4. close': '1.2242'},\n",
       " '2020-12-20 18:19:00': {'1. open': '1.2242',\n",
       "  '2. high': '1.2242',\n",
       "  '3. low': '1.2242',\n",
       "  '4. close': '1.2242'},\n",
       " '2020-12-20 18:20:00': {'1. open': '1.2242',\n",
       "  '2. high': '1.2242',\n",
       "  '3. low': '1.2242',\n",
       "  '4. close': '1.2242'},\n",
       " '2020-12-20 18:21:00': {'1. open': '1.2242',\n",
       "  '2. high': '1.2242',\n",
       "  '3. low': '1.2242',\n",
       "  '4. close': '1.2242'},\n",
       " '2020-12-20 18:22:00': {'1. open': '1.2242',\n",
       "  '2. high': '1.2242',\n",
       "  '3. low': '1.2242',\n",
       "  '4. close': '1.2242'},\n",
       " '2020-12-20 18:23:00': {'1. open': '1.2242',\n",
       "  '2. high': '1.2242',\n",
       "  '3. low': '1.2242',\n",
       "  '4. close': '1.2242'},\n",
       " '2020-12-20 18:24:00': {'1. open': '1.2242',\n",
       "  '2. high': '1.2242',\n",
       "  '3. low': '1.2242',\n",
       "  '4. close': '1.2242'},\n",
       " '2020-12-20 18:25:00': {'1. open': '1.2242',\n",
       "  '2. high': '1.2242',\n",
       "  '3. low': '1.2242',\n",
       "  '4. close': '1.2242'},\n",
       " '2020-12-20 18:26:00': {'1. open': '1.2242',\n",
       "  '2. high': '1.2242',\n",
       "  '3. low': '1.2242',\n",
       "  '4. close': '1.2242'},\n",
       " '2020-12-20 18:27:00': {'1. open': '1.2227',\n",
       "  '2. high': '1.2227',\n",
       "  '3. low': '1.2227',\n",
       "  '4. close': '1.2227'},\n",
       " '2020-12-20 18:28:00': {'1. open': '1.2225',\n",
       "  '2. high': '1.2225',\n",
       "  '3. low': '1.2220',\n",
       "  '4. close': '1.2220'},\n",
       " '2020-12-20 18:29:00': {'1. open': '1.2221',\n",
       "  '2. high': '1.2224',\n",
       "  '3. low': '1.2221',\n",
       "  '4. close': '1.2221'},\n",
       " '2020-12-20 18:30:00': {'1. open': '1.2218',\n",
       "  '2. high': '1.2223',\n",
       "  '3. low': '1.2218',\n",
       "  '4. close': '1.2223'},\n",
       " '2020-12-20 18:31:00': {'1. open': '1.2223',\n",
       "  '2. high': '1.2223',\n",
       "  '3. low': '1.2223',\n",
       "  '4. close': '1.2223'},\n",
       " '2020-12-20 18:32:00': {'1. open': '1.2223',\n",
       "  '2. high': '1.2223',\n",
       "  '3. low': '1.2223',\n",
       "  '4. close': '1.2223'},\n",
       " '2020-12-20 18:33:00': {'1. open': '1.2220',\n",
       "  '2. high': '1.2221',\n",
       "  '3. low': '1.2220',\n",
       "  '4. close': '1.2221'},\n",
       " '2020-12-20 18:34:00': {'1. open': '1.2222',\n",
       "  '2. high': '1.2223',\n",
       "  '3. low': '1.2222',\n",
       "  '4. close': '1.2223'},\n",
       " '2020-12-20 18:35:00': {'1. open': '1.2223',\n",
       "  '2. high': '1.2223',\n",
       "  '3. low': '1.2223',\n",
       "  '4. close': '1.2223'},\n",
       " '2020-12-20 18:36:00': {'1. open': '1.2223',\n",
       "  '2. high': '1.2223',\n",
       "  '3. low': '1.2223',\n",
       "  '4. close': '1.2223'},\n",
       " '2020-12-20 18:37:00': {'1. open': '1.2223',\n",
       "  '2. high': '1.2223',\n",
       "  '3. low': '1.2223',\n",
       "  '4. close': '1.2223'},\n",
       " '2020-12-20 18:38:00': {'1. open': '1.2223',\n",
       "  '2. high': '1.2223',\n",
       "  '3. low': '1.2223',\n",
       "  '4. close': '1.2223'},\n",
       " '2020-12-20 18:39:00': {'1. open': '1.2223',\n",
       "  '2. high': '1.2223',\n",
       "  '3. low': '1.2223',\n",
       "  '4. close': '1.2223'},\n",
       " '2020-12-20 18:40:00': {'1. open': '1.2223',\n",
       "  '2. high': '1.2223',\n",
       "  '3. low': '1.2223',\n",
       "  '4. close': '1.2223'},\n",
       " '2020-12-20 18:41:00': {'1. open': '1.2223',\n",
       "  '2. high': '1.2223',\n",
       "  '3. low': '1.2223',\n",
       "  '4. close': '1.2223'},\n",
       " '2020-12-20 18:42:00': {'1. open': '1.2223',\n",
       "  '2. high': '1.2223',\n",
       "  '3. low': '1.2223',\n",
       "  '4. close': '1.2223'},\n",
       " '2020-12-20 18:43:00': {'1. open': '1.2223',\n",
       "  '2. high': '1.2223',\n",
       "  '3. low': '1.2223',\n",
       "  '4. close': '1.2223'},\n",
       " '2020-12-20 18:44:00': {'1. open': '1.2223',\n",
       "  '2. high': '1.2223',\n",
       "  '3. low': '1.2223',\n",
       "  '4. close': '1.2223'},\n",
       " '2020-12-20 18:45:00': {'1. open': '1.2223',\n",
       "  '2. high': '1.2223',\n",
       "  '3. low': '1.2223',\n",
       "  '4. close': '1.2223'},\n",
       " '2020-12-20 18:46:00': {'1. open': '1.2223',\n",
       "  '2. high': '1.2223',\n",
       "  '3. low': '1.2223',\n",
       "  '4. close': '1.2223'},\n",
       " '2020-12-20 18:47:00': {'1. open': '1.2223',\n",
       "  '2. high': '1.2223',\n",
       "  '3. low': '1.2223',\n",
       "  '4. close': '1.2223'},\n",
       " '2020-12-20 18:48:00': {'1. open': '1.2223',\n",
       "  '2. high': '1.2223',\n",
       "  '3. low': '1.2223',\n",
       "  '4. close': '1.2223'},\n",
       " '2020-12-20 18:49:00': {'1. open': '1.2223',\n",
       "  '2. high': '1.2223',\n",
       "  '3. low': '1.2223',\n",
       "  '4. close': '1.2223'},\n",
       " '2020-12-20 18:50:00': {'1. open': '1.2223',\n",
       "  '2. high': '1.2223',\n",
       "  '3. low': '1.2223',\n",
       "  '4. close': '1.2223'},\n",
       " '2020-12-20 18:51:00': {'1. open': '1.2229',\n",
       "  '2. high': '1.2229',\n",
       "  '3. low': '1.2229',\n",
       "  '4. close': '1.2229'},\n",
       " '2020-12-20 18:52:00': {'1. open': '1.2226',\n",
       "  '2. high': '1.2226',\n",
       "  '3. low': '1.2226',\n",
       "  '4. close': '1.2226'},\n",
       " '2020-12-20 18:53:00': {'1. open': '1.2226',\n",
       "  '2. high': '1.2226',\n",
       "  '3. low': '1.2226',\n",
       "  '4. close': '1.2226'},\n",
       " '2020-12-20 18:54:00': {'1. open': '1.2226',\n",
       "  '2. high': '1.2226',\n",
       "  '3. low': '1.2226',\n",
       "  '4. close': '1.2226'},\n",
       " '2020-12-20 18:55:00': {'1. open': '1.2226',\n",
       "  '2. high': '1.2226',\n",
       "  '3. low': '1.2226',\n",
       "  '4. close': '1.2226'},\n",
       " '2020-12-20 18:56:00': {'1. open': '1.2228',\n",
       "  '2. high': '1.2230',\n",
       "  '3. low': '1.2228',\n",
       "  '4. close': '1.2230'},\n",
       " '2020-12-20 18:57:00': {'1. open': '1.2227',\n",
       "  '2. high': '1.2228',\n",
       "  '3. low': '1.2227',\n",
       "  '4. close': '1.2228'},\n",
       " '2020-12-20 18:58:00': {'1. open': '1.2231',\n",
       "  '2. high': '1.2231',\n",
       "  '3. low': '1.2231',\n",
       "  '4. close': '1.2231'},\n",
       " '2020-12-20 18:59:00': {'1. open': '1.2228',\n",
       "  '2. high': '1.2228',\n",
       "  '3. low': '1.2228',\n",
       "  '4. close': '1.2228'},\n",
       " '2020-12-20 19:00:00': {'1. open': '1.2231',\n",
       "  '2. high': '1.2231',\n",
       "  '3. low': '1.2228',\n",
       "  '4. close': '1.2229'},\n",
       " '2020-12-20 19:01:00': {'1. open': '1.2230',\n",
       "  '2. high': '1.2230',\n",
       "  '3. low': '1.2225',\n",
       "  '4. close': '1.2225'},\n",
       " '2020-12-20 19:02:00': {'1. open': '1.2226',\n",
       "  '2. high': '1.2226',\n",
       "  '3. low': '1.2226',\n",
       "  '4. close': '1.2226'},\n",
       " '2020-12-20 19:03:00': {'1. open': '1.2219',\n",
       "  '2. high': '1.2223',\n",
       "  '3. low': '1.2218',\n",
       "  '4. close': '1.2218'},\n",
       " '2020-12-20 19:04:00': {'1. open': '1.2215',\n",
       "  '2. high': '1.2215',\n",
       "  '3. low': '1.2214',\n",
       "  '4. close': '1.2214'},\n",
       " '2020-12-20 19:05:00': {'1. open': '1.2215',\n",
       "  '2. high': '1.2220',\n",
       "  '3. low': '1.2215',\n",
       "  '4. close': '1.2217'},\n",
       " '2020-12-20 19:06:00': {'1. open': '1.2217',\n",
       "  '2. high': '1.2217',\n",
       "  '3. low': '1.2217',\n",
       "  '4. close': '1.2217'},\n",
       " '2020-12-20 19:07:00': {'1. open': '1.2216',\n",
       "  '2. high': '1.2216',\n",
       "  '3. low': '1.2213',\n",
       "  '4. close': '1.2213'},\n",
       " '2020-12-20 19:08:00': {'1. open': '1.2215',\n",
       "  '2. high': '1.2215',\n",
       "  '3. low': '1.2215',\n",
       "  '4. close': '1.2215'},\n",
       " '2020-12-20 19:09:00': {'1. open': '1.2215',\n",
       "  '2. high': '1.2215',\n",
       "  '3. low': '1.2215',\n",
       "  '4. close': '1.2215'},\n",
       " '2020-12-20 19:10:00': {'1. open': '1.2214',\n",
       "  '2. high': '1.2216',\n",
       "  '3. low': '1.2214',\n",
       "  '4. close': '1.2216'},\n",
       " '2020-12-20 19:11:00': {'1. open': '1.2216',\n",
       "  '2. high': '1.2217',\n",
       "  '3. low': '1.2216',\n",
       "  '4. close': '1.2217'},\n",
       " '2020-12-20 19:12:00': {'1. open': '1.2215',\n",
       "  '2. high': '1.2215',\n",
       "  '3. low': '1.2213',\n",
       "  '4. close': '1.2213'},\n",
       " '2020-12-20 19:13:00': {'1. open': '1.2213',\n",
       "  '2. high': '1.2213',\n",
       "  '3. low': '1.2213',\n",
       "  '4. close': '1.2213'},\n",
       " '2020-12-20 19:14:00': {'1. open': '1.2213',\n",
       "  '2. high': '1.2215',\n",
       "  '3. low': '1.2213',\n",
       "  '4. close': '1.2213'},\n",
       " '2020-12-20 19:15:00': {'1. open': '1.2215',\n",
       "  '2. high': '1.2215',\n",
       "  '3. low': '1.2213',\n",
       "  '4. close': '1.2213'},\n",
       " '2020-12-20 19:16:00': {'1. open': '1.2213',\n",
       "  '2. high': '1.2213',\n",
       "  '3. low': '1.2213',\n",
       "  '4. close': '1.2213'},\n",
       " '2020-12-20 19:17:00': {'1. open': '1.2216',\n",
       "  '2. high': '1.2218',\n",
       "  '3. low': '1.2216',\n",
       "  '4. close': '1.2216'},\n",
       " '2020-12-20 19:18:00': {'1. open': '1.2213',\n",
       "  '2. high': '1.2213',\n",
       "  '3. low': '1.2213',\n",
       "  '4. close': '1.2213'},\n",
       " '2020-12-20 19:19:00': {'1. open': '1.2215',\n",
       "  '2. high': '1.2215',\n",
       "  '3. low': '1.2213',\n",
       "  '4. close': '1.2213'},\n",
       " '2020-12-20 19:20:00': {'1. open': '1.2213',\n",
       "  '2. high': '1.2213',\n",
       "  '3. low': '1.2213',\n",
       "  '4. close': '1.2213'},\n",
       " '2020-12-20 19:21:00': {'1. open': '1.2213',\n",
       "  '2. high': '1.2213',\n",
       "  '3. low': '1.2213',\n",
       "  '4. close': '1.2213'},\n",
       " '2020-12-20 19:22:00': {'1. open': '1.2213',\n",
       "  '2. high': '1.2213',\n",
       "  '3. low': '1.2213',\n",
       "  '4. close': '1.2213'},\n",
       " '2020-12-20 19:23:00': {'1. open': '1.2215',\n",
       "  '2. high': '1.2215',\n",
       "  '3. low': '1.2213',\n",
       "  '4. close': '1.2213'},\n",
       " '2020-12-20 19:24:00': {'1. open': '1.2216',\n",
       "  '2. high': '1.2217',\n",
       "  '3. low': '1.2216',\n",
       "  '4. close': '1.2216'},\n",
       " '2020-12-20 19:25:00': {'1. open': '1.2216',\n",
       "  '2. high': '1.2217',\n",
       "  '3. low': '1.2216',\n",
       "  '4. close': '1.2216'},\n",
       " '2020-12-20 19:26:00': {'1. open': '1.2214',\n",
       "  '2. high': '1.2216',\n",
       "  '3. low': '1.2214',\n",
       "  '4. close': '1.2216'},\n",
       " '2020-12-20 19:27:00': {'1. open': '1.2216',\n",
       "  '2. high': '1.2216',\n",
       "  '3. low': '1.2216',\n",
       "  '4. close': '1.2216'},\n",
       " '2020-12-20 19:28:00': {'1. open': '1.2216',\n",
       "  '2. high': '1.2216',\n",
       "  '3. low': '1.2216',\n",
       "  '4. close': '1.2216'},\n",
       " '2020-12-20 19:29:00': {'1. open': '1.2216',\n",
       "  '2. high': '1.2216',\n",
       "  '3. low': '1.2216',\n",
       "  '4. close': '1.2216'},\n",
       " '2020-12-20 19:30:00': {'1. open': '1.2216',\n",
       "  '2. high': '1.2216',\n",
       "  '3. low': '1.2214',\n",
       "  '4. close': '1.2214'},\n",
       " '2020-12-20 19:31:00': {'1. open': '1.2214',\n",
       "  '2. high': '1.2218',\n",
       "  '3. low': '1.2214',\n",
       "  '4. close': '1.2218'},\n",
       " '2020-12-20 19:32:00': {'1. open': '1.2218',\n",
       "  '2. high': '1.2218',\n",
       "  '3. low': '1.2218',\n",
       "  '4. close': '1.2218'},\n",
       " '2020-12-20 19:33:00': {'1. open': '1.2218',\n",
       "  '2. high': '1.2218',\n",
       "  '3. low': '1.2218',\n",
       "  '4. close': '1.2218'},\n",
       " '2020-12-20 19:34:00': {'1. open': '1.2218',\n",
       "  '2. high': '1.2218',\n",
       "  '3. low': '1.2218',\n",
       "  '4. close': '1.2218'},\n",
       " '2020-12-20 19:35:00': {'1. open': '1.2218',\n",
       "  '2. high': '1.2218',\n",
       "  '3. low': '1.2218',\n",
       "  '4. close': '1.2218'},\n",
       " '2020-12-20 19:36:00': {'1. open': '1.2218',\n",
       "  '2. high': '1.2218',\n",
       "  '3. low': '1.2218',\n",
       "  '4. close': '1.2218'},\n",
       " '2020-12-20 19:37:00': {'1. open': '1.2218',\n",
       "  '2. high': '1.2218',\n",
       "  '3. low': '1.2218',\n",
       "  '4. close': '1.2218'},\n",
       " '2020-12-20 19:38:00': {'1. open': '1.2212',\n",
       "  '2. high': '1.2214',\n",
       "  '3. low': '1.2212',\n",
       "  '4. close': '1.2214'},\n",
       " '2020-12-20 19:39:00': {'1. open': '1.2214',\n",
       "  '2. high': '1.2214',\n",
       "  '3. low': '1.2214',\n",
       "  '4. close': '1.2214'},\n",
       " '2020-12-20 19:40:00': {'1. open': '1.2214',\n",
       "  '2. high': '1.2214',\n",
       "  '3. low': '1.2214',\n",
       "  '4. close': '1.2214'},\n",
       " '2020-12-20 19:41:00': {'1. open': '1.2214',\n",
       "  '2. high': '1.2214',\n",
       "  '3. low': '1.2214',\n",
       "  '4. close': '1.2214'},\n",
       " '2020-12-20 19:42:00': {'1. open': '1.2214',\n",
       "  '2. high': '1.2214',\n",
       "  '3. low': '1.2214',\n",
       "  '4. close': '1.2214'},\n",
       " '2020-12-20 19:43:00': {'1. open': '1.2215',\n",
       "  '2. high': '1.2217',\n",
       "  '3. low': '1.2213',\n",
       "  '4. close': '1.2215'},\n",
       " '2020-12-20 19:44:00': {'1. open': '1.2215',\n",
       "  '2. high': '1.2215',\n",
       "  '3. low': '1.2215',\n",
       "  '4. close': '1.2215'},\n",
       " '2020-12-20 19:45:00': {'1. open': '1.2216',\n",
       "  '2. high': '1.2216',\n",
       "  '3. low': '1.2216',\n",
       "  '4. close': '1.2216'},\n",
       " '2020-12-20 19:46:00': {'1. open': '1.2213',\n",
       "  '2. high': '1.2215',\n",
       "  '3. low': '1.2213',\n",
       "  '4. close': '1.2213'},\n",
       " '2020-12-20 19:47:00': {'1. open': '1.2213',\n",
       "  '2. high': '1.2213',\n",
       "  '3. low': '1.2213',\n",
       "  '4. close': '1.2213'},\n",
       " '2020-12-20 19:48:00': {'1. open': '1.2213',\n",
       "  '2. high': '1.2213',\n",
       "  '3. low': '1.2213',\n",
       "  '4. close': '1.2213'},\n",
       " '2020-12-20 19:49:00': {'1. open': '1.2211',\n",
       "  '2. high': '1.2211',\n",
       "  '3. low': '1.2211',\n",
       "  '4. close': '1.2211'}}"
      ]
     },
     "metadata": {
      "tags": []
     },
     "execution_count": 24
    }
   ]
  },
  {
   "cell_type": "markdown",
   "metadata": {
    "id": "S6cl--OYvo3F",
    "pycharm": {
     "name": "#%% md\n"
    }
   },
   "source": [
    "# Uso de Yahoo Finance"
   ]
  },
  {
   "cell_type": "code",
   "metadata": {
    "colab": {
     "base_uri": "https://localhost:8080/"
    },
    "id": "6pZGFZBOv1GP",
    "executionInfo": {
     "status": "ok",
     "timestamp": 1627484938767,
     "user_tz": -60,
     "elapsed": 7226,
     "user": {
      "displayName": "PythonIA",
      "photoUrl": "https://lh3.googleusercontent.com/a-/AOh14Gi0li2k6-iaCbZOAAaGnKUKEQzh0VlQ40qWbVlelA=s64",
      "userId": "11703084203318322732"
     }
    },
    "outputId": "0ba541c8-73ae-4a7b-dac1-9159d9556b68",
    "pycharm": {
     "name": "#%%\n"
    }
   },
   "source": [
    "!pip install yfinance"
   ],
   "execution_count": 1,
   "outputs": [
    {
     "output_type": "stream",
     "text": [
      "Collecting yfinance\n",
      "  Downloading yfinance-0.1.63.tar.gz (26 kB)\n",
      "Requirement already satisfied: pandas>=0.24 in /usr/local/lib/python3.7/dist-packages (from yfinance) (1.1.5)\n",
      "Requirement already satisfied: numpy>=1.15 in /usr/local/lib/python3.7/dist-packages (from yfinance) (1.19.5)\n",
      "Requirement already satisfied: requests>=2.20 in /usr/local/lib/python3.7/dist-packages (from yfinance) (2.23.0)\n",
      "Requirement already satisfied: multitasking>=0.0.7 in /usr/local/lib/python3.7/dist-packages (from yfinance) (0.0.9)\n",
      "Collecting lxml>=4.5.1\n",
      "  Downloading lxml-4.6.3-cp37-cp37m-manylinux2014_x86_64.whl (6.3 MB)\n",
      "\u001B[K     |████████████████████████████████| 6.3 MB 10.3 MB/s \n",
      "\u001B[?25hRequirement already satisfied: pytz>=2017.2 in /usr/local/lib/python3.7/dist-packages (from pandas>=0.24->yfinance) (2018.9)\n",
      "Requirement already satisfied: python-dateutil>=2.7.3 in /usr/local/lib/python3.7/dist-packages (from pandas>=0.24->yfinance) (2.8.1)\n",
      "Requirement already satisfied: six>=1.5 in /usr/local/lib/python3.7/dist-packages (from python-dateutil>=2.7.3->pandas>=0.24->yfinance) (1.15.0)\n",
      "Requirement already satisfied: certifi>=2017.4.17 in /usr/local/lib/python3.7/dist-packages (from requests>=2.20->yfinance) (2021.5.30)\n",
      "Requirement already satisfied: idna<3,>=2.5 in /usr/local/lib/python3.7/dist-packages (from requests>=2.20->yfinance) (2.10)\n",
      "Requirement already satisfied: chardet<4,>=3.0.2 in /usr/local/lib/python3.7/dist-packages (from requests>=2.20->yfinance) (3.0.4)\n",
      "Requirement already satisfied: urllib3!=1.25.0,!=1.25.1,<1.26,>=1.21.1 in /usr/local/lib/python3.7/dist-packages (from requests>=2.20->yfinance) (1.24.3)\n",
      "Building wheels for collected packages: yfinance\n",
      "  Building wheel for yfinance (setup.py) ... \u001B[?25l\u001B[?25hdone\n",
      "  Created wheel for yfinance: filename=yfinance-0.1.63-py2.py3-none-any.whl size=23919 sha256=3d7f170bd71d784a08237d4f78752e53703982ffa2f4516403f5f2b2e2573c6e\n",
      "  Stored in directory: /root/.cache/pip/wheels/fe/87/8b/7ec24486e001d3926537f5f7801f57a74d181be25b11157983\n",
      "Successfully built yfinance\n",
      "Installing collected packages: lxml, yfinance\n",
      "  Attempting uninstall: lxml\n",
      "    Found existing installation: lxml 4.2.6\n",
      "    Uninstalling lxml-4.2.6:\n",
      "      Successfully uninstalled lxml-4.2.6\n",
      "Successfully installed lxml-4.6.3 yfinance-0.1.63\n"
     ],
     "name": "stdout"
    }
   ]
  },
  {
   "cell_type": "code",
   "metadata": {
    "colab": {
     "base_uri": "https://localhost:8080/"
    },
    "id": "zkpKuc3ovoHQ",
    "executionInfo": {
     "status": "ok",
     "timestamp": 1627484942291,
     "user_tz": -60,
     "elapsed": 2301,
     "user": {
      "displayName": "PythonIA",
      "photoUrl": "https://lh3.googleusercontent.com/a-/AOh14Gi0li2k6-iaCbZOAAaGnKUKEQzh0VlQ40qWbVlelA=s64",
      "userId": "11703084203318322732"
     }
    },
    "outputId": "9baae394-aaef-4166-e878-7ef1235d145c",
    "pycharm": {
     "name": "#%%\n"
    }
   },
   "source": [
    "import yfinance as yf\n",
    "\n",
    "msft = yf.Ticker(\"MSFT\")\n",
    "\n",
    "# get stock info\n",
    "msft.info"
   ],
   "execution_count": 2,
   "outputs": [
    {
     "output_type": "execute_result",
     "data": {
      "text/plain": [
       "{'52WeekChange': 0.40419483,\n",
       " 'SandP52WeekChange': 0.35078752,\n",
       " 'address1': 'One Microsoft Way',\n",
       " 'algorithm': None,\n",
       " 'annualHoldingsTurnover': None,\n",
       " 'annualReportExpenseRatio': None,\n",
       " 'ask': 289.54,\n",
       " 'askSize': 1200,\n",
       " 'averageDailyVolume10Day': 26505885,\n",
       " 'averageVolume': 24938322,\n",
       " 'averageVolume10days': 26505885,\n",
       " 'beta': 0.787812,\n",
       " 'beta3Year': None,\n",
       " 'bid': 289.52,\n",
       " 'bidSize': 800,\n",
       " 'bookValue': 17.853,\n",
       " 'category': None,\n",
       " 'circulatingSupply': None,\n",
       " 'city': 'Redmond',\n",
       " 'companyOfficers': [],\n",
       " 'country': 'United States',\n",
       " 'currency': 'USD',\n",
       " 'currentPrice': 289.1,\n",
       " 'currentRatio': 2.294,\n",
       " 'dateShortInterest': 1626307200,\n",
       " 'dayHigh': 290.15,\n",
       " 'dayLow': 283.8303,\n",
       " 'debtToEquity': 60.414,\n",
       " 'dividendRate': 2.24,\n",
       " 'dividendYield': 0.0077,\n",
       " 'earningsGrowth': 0.45,\n",
       " 'earningsQuarterlyGrowth': 0.438,\n",
       " 'ebitda': 75577999360,\n",
       " 'ebitdaMargins': 0.47245,\n",
       " 'enterpriseToEbitda': 28.226,\n",
       " 'enterpriseToRevenue': 13.335,\n",
       " 'enterpriseValue': 2133248573440,\n",
       " 'exDividendDate': 1629244800,\n",
       " 'exchange': 'NMS',\n",
       " 'exchangeTimezoneName': 'America/New_York',\n",
       " 'exchangeTimezoneShortName': 'EDT',\n",
       " 'expireDate': None,\n",
       " 'fiftyDayAverage': 271.63742,\n",
       " 'fiftyTwoWeekHigh': 290.15,\n",
       " 'fiftyTwoWeekLow': 196.25,\n",
       " 'financialCurrency': 'USD',\n",
       " 'fiveYearAverageReturn': None,\n",
       " 'fiveYearAvgDividendYield': 1.57,\n",
       " 'floatShares': 7523741713,\n",
       " 'forwardEps': 8.37,\n",
       " 'forwardPE': 34.540024,\n",
       " 'freeCashflow': 37776875520,\n",
       " 'fromCurrency': None,\n",
       " 'fullTimeEmployees': 163000,\n",
       " 'fundFamily': None,\n",
       " 'fundInceptionDate': None,\n",
       " 'gmtOffSetMilliseconds': '-14400000',\n",
       " 'grossMargins': 0.68381,\n",
       " 'grossProfits': 96937000000,\n",
       " 'heldPercentInsiders': 0.00074,\n",
       " 'heldPercentInstitutions': 0.72036004,\n",
       " 'impliedSharesOutstanding': None,\n",
       " 'industry': 'Software—Infrastructure',\n",
       " 'isEsgPopulated': False,\n",
       " 'lastCapGain': None,\n",
       " 'lastDividendDate': 1621382400,\n",
       " 'lastDividendValue': 0.56,\n",
       " 'lastFiscalYearEnd': 1593475200,\n",
       " 'lastMarket': None,\n",
       " 'lastSplitDate': 1045526400,\n",
       " 'lastSplitFactor': '2:1',\n",
       " 'legalType': None,\n",
       " 'logo_url': 'https://logo.clearbit.com/microsoft.com',\n",
       " 'longBusinessSummary': 'Microsoft Corporation develops, licenses, and supports software, services, devices, and solutions worldwide. Its Productivity and Business Processes segment offers Office, Exchange, SharePoint, Microsoft Teams, Office 365 Security and Compliance, and Skype for Business, as well as related Client Access Licenses (CAL); Skype, Outlook.com, OneDrive, and LinkedIn; and Dynamics 365, a set of cloud-based and on-premises business solutions for small and medium businesses, organizations, and enterprise divisions. Its Intelligent Cloud segment licenses SQL and Windows Servers, Visual Studio, System Center, and related CALs; GitHub that provides a collaboration platform and code hosting service for developers; and Azure, a cloud platform. It also offers support services and Microsoft consulting services to assist customers in developing, deploying, and managing Microsoft server and desktop solutions; and training and certification to developers and IT professionals on Microsoft products. Its More Personal Computing segment provides Windows original equipment manufacturer (OEM) licensing and other non-volume licensing of the Windows operating system; Windows Commercial, such as volume licensing of the Windows operating system, Windows cloud services, and other Windows commercial offerings; patent licensing; Windows Internet of Things; and MSN advertising. It also offers Surface, PC accessories, PCs, tablets, gaming and entertainment consoles, and other devices; Gaming, including Xbox hardware, and Xbox content and services; video games and third-party video game royalties; and Search, including Bing and Microsoft advertising. It sells its products through OEMs, distributors, and resellers; and directly through digital marketplaces, online stores, and retail stores. It has a collaboration with DXC Technology, Dynatrace, Inc., Morgan Stanley, Micro Focus, WPP plc, and iCIMS, Inc. The company was founded in 1975 and is headquartered in Redmond, Washington.',\n",
       " 'longName': 'Microsoft Corporation',\n",
       " 'market': 'us_market',\n",
       " 'marketCap': 2177376976896,\n",
       " 'maxAge': 1,\n",
       " 'maxSupply': None,\n",
       " 'messageBoardId': 'finmb_21835',\n",
       " 'morningStarOverallRating': None,\n",
       " 'morningStarRiskRating': None,\n",
       " 'mostRecentQuarter': 1617148800,\n",
       " 'navPrice': None,\n",
       " 'netIncomeToCommon': 56014999552,\n",
       " 'nextFiscalYearEnd': 1656547200,\n",
       " 'numberOfAnalystOpinions': 33,\n",
       " 'open': 288.99,\n",
       " 'openInterest': None,\n",
       " 'operatingCashflow': 72703000576,\n",
       " 'operatingMargins': 0.40150002,\n",
       " 'payoutRatio': 0.2916,\n",
       " 'pegRatio': 2.07,\n",
       " 'phone': '425 882 8080',\n",
       " 'previousClose': 286.54,\n",
       " 'priceHint': 2,\n",
       " 'priceToBook': 16.193357,\n",
       " 'priceToSalesTrailing12Months': 13.611243,\n",
       " 'profitMargins': 0.35016,\n",
       " 'quickRatio': 2.096,\n",
       " 'quoteType': 'EQUITY',\n",
       " 'recommendationKey': 'buy',\n",
       " 'recommendationMean': 1.6,\n",
       " 'regularMarketDayHigh': 290.15,\n",
       " 'regularMarketDayLow': 283.8303,\n",
       " 'regularMarketOpen': 288.99,\n",
       " 'regularMarketPreviousClose': 286.54,\n",
       " 'regularMarketPrice': 289.1,\n",
       " 'regularMarketVolume': 15520695,\n",
       " 'returnOnAssets': 0.13508001,\n",
       " 'returnOnEquity': 0.44991,\n",
       " 'revenueGrowth': 0.191,\n",
       " 'revenuePerShare': 21.156,\n",
       " 'revenueQuarterlyGrowth': None,\n",
       " 'sector': 'Technology',\n",
       " 'sharesOutstanding': 7531570176,\n",
       " 'sharesPercentSharesOut': 0.0075,\n",
       " 'sharesShort': 56416544,\n",
       " 'sharesShortPreviousMonthDate': 1623715200,\n",
       " 'sharesShortPriorMonth': 48137624,\n",
       " 'shortName': 'Microsoft Corporation',\n",
       " 'shortPercentOfFloat': 0.0075,\n",
       " 'shortRatio': 2.36,\n",
       " 'startDate': None,\n",
       " 'state': 'WA',\n",
       " 'strikePrice': None,\n",
       " 'symbol': 'MSFT',\n",
       " 'targetHighPrice': 340,\n",
       " 'targetLowPrice': 256.7,\n",
       " 'targetMeanPrice': 298.92,\n",
       " 'targetMedianPrice': 300,\n",
       " 'threeYearAverageReturn': None,\n",
       " 'toCurrency': None,\n",
       " 'totalAssets': None,\n",
       " 'totalCash': 125013000192,\n",
       " 'totalCashPerShare': 16.599,\n",
       " 'totalDebt': 81260003328,\n",
       " 'totalRevenue': 159969001472,\n",
       " 'tradeable': False,\n",
       " 'trailingAnnualDividendRate': 2.19,\n",
       " 'trailingAnnualDividendYield': 0.0076429117,\n",
       " 'trailingEps': 7.338,\n",
       " 'trailingPE': 39.39766,\n",
       " 'twoHundredDayAverage': 249.16037,\n",
       " 'volume': 15520695,\n",
       " 'volume24Hr': None,\n",
       " 'volumeAllCurrencies': None,\n",
       " 'website': 'http://www.microsoft.com',\n",
       " 'yield': None,\n",
       " 'ytdReturn': None,\n",
       " 'zip': '98052-6399'}"
      ]
     },
     "metadata": {
      "tags": []
     },
     "execution_count": 2
    }
   ]
  },
  {
   "cell_type": "code",
   "metadata": {
    "id": "nX_RxNIYwBNg",
    "executionInfo": {
     "status": "ok",
     "timestamp": 1627484952826,
     "user_tz": -60,
     "elapsed": 739,
     "user": {
      "displayName": "PythonIA",
      "photoUrl": "https://lh3.googleusercontent.com/a-/AOh14Gi0li2k6-iaCbZOAAaGnKUKEQzh0VlQ40qWbVlelA=s64",
      "userId": "11703084203318322732"
     }
    },
    "pycharm": {
     "name": "#%%\n"
    }
   },
   "source": [
    "hist = msft.history(period=\"max\") # Es interesante observar como tenemos datos desde 1986!!!!"
   ],
   "execution_count": 3,
   "outputs": []
  },
  {
   "cell_type": "code",
   "metadata": {
    "colab": {
     "base_uri": "https://localhost:8080/",
     "height": 431
    },
    "id": "f3xKRve5wKMn",
    "outputId": "b63b664c-aa97-4147-ec37-81d838f1f0b1",
    "pycharm": {
     "name": "#%%\n"
    }
   },
   "source": [
    "hist"
   ],
   "execution_count": null,
   "outputs": [
    {
     "output_type": "execute_result",
     "data": {
      "text/html": [
       "<div>\n",
       "<style scoped>\n",
       "    .dataframe tbody tr th:only-of-type {\n",
       "        vertical-align: middle;\n",
       "    }\n",
       "\n",
       "    .dataframe tbody tr th {\n",
       "        vertical-align: top;\n",
       "    }\n",
       "\n",
       "    .dataframe thead th {\n",
       "        text-align: right;\n",
       "    }\n",
       "</style>\n",
       "<table border=\"1\" class=\"dataframe\">\n",
       "  <thead>\n",
       "    <tr style=\"text-align: right;\">\n",
       "      <th></th>\n",
       "      <th>Open</th>\n",
       "      <th>High</th>\n",
       "      <th>Low</th>\n",
       "      <th>Close</th>\n",
       "      <th>Volume</th>\n",
       "      <th>Dividends</th>\n",
       "      <th>Stock Splits</th>\n",
       "    </tr>\n",
       "    <tr>\n",
       "      <th>Date</th>\n",
       "      <th></th>\n",
       "      <th></th>\n",
       "      <th></th>\n",
       "      <th></th>\n",
       "      <th></th>\n",
       "      <th></th>\n",
       "      <th></th>\n",
       "    </tr>\n",
       "  </thead>\n",
       "  <tbody>\n",
       "    <tr>\n",
       "      <th>1986-03-13</th>\n",
       "      <td>0.056367</td>\n",
       "      <td>0.064656</td>\n",
       "      <td>0.056367</td>\n",
       "      <td>0.061893</td>\n",
       "      <td>1031788800</td>\n",
       "      <td>0.0</td>\n",
       "      <td>0.0</td>\n",
       "    </tr>\n",
       "    <tr>\n",
       "      <th>1986-03-14</th>\n",
       "      <td>0.061893</td>\n",
       "      <td>0.065209</td>\n",
       "      <td>0.061893</td>\n",
       "      <td>0.064103</td>\n",
       "      <td>308160000</td>\n",
       "      <td>0.0</td>\n",
       "      <td>0.0</td>\n",
       "    </tr>\n",
       "    <tr>\n",
       "      <th>1986-03-17</th>\n",
       "      <td>0.064103</td>\n",
       "      <td>0.065761</td>\n",
       "      <td>0.064103</td>\n",
       "      <td>0.065209</td>\n",
       "      <td>133171200</td>\n",
       "      <td>0.0</td>\n",
       "      <td>0.0</td>\n",
       "    </tr>\n",
       "    <tr>\n",
       "      <th>1986-03-18</th>\n",
       "      <td>0.065209</td>\n",
       "      <td>0.065761</td>\n",
       "      <td>0.062998</td>\n",
       "      <td>0.063551</td>\n",
       "      <td>67766400</td>\n",
       "      <td>0.0</td>\n",
       "      <td>0.0</td>\n",
       "    </tr>\n",
       "    <tr>\n",
       "      <th>1986-03-19</th>\n",
       "      <td>0.063551</td>\n",
       "      <td>0.064103</td>\n",
       "      <td>0.061893</td>\n",
       "      <td>0.062446</td>\n",
       "      <td>47894400</td>\n",
       "      <td>0.0</td>\n",
       "      <td>0.0</td>\n",
       "    </tr>\n",
       "    <tr>\n",
       "      <th>...</th>\n",
       "      <td>...</td>\n",
       "      <td>...</td>\n",
       "      <td>...</td>\n",
       "      <td>...</td>\n",
       "      <td>...</td>\n",
       "      <td>...</td>\n",
       "      <td>...</td>\n",
       "    </tr>\n",
       "    <tr>\n",
       "      <th>2020-12-14</th>\n",
       "      <td>213.100006</td>\n",
       "      <td>216.210007</td>\n",
       "      <td>212.880005</td>\n",
       "      <td>214.199997</td>\n",
       "      <td>28798400</td>\n",
       "      <td>0.0</td>\n",
       "      <td>0.0</td>\n",
       "    </tr>\n",
       "    <tr>\n",
       "      <th>2020-12-15</th>\n",
       "      <td>215.169998</td>\n",
       "      <td>215.419998</td>\n",
       "      <td>212.240005</td>\n",
       "      <td>214.130005</td>\n",
       "      <td>27018100</td>\n",
       "      <td>0.0</td>\n",
       "      <td>0.0</td>\n",
       "    </tr>\n",
       "    <tr>\n",
       "      <th>2020-12-16</th>\n",
       "      <td>214.750000</td>\n",
       "      <td>220.110001</td>\n",
       "      <td>214.720001</td>\n",
       "      <td>219.279999</td>\n",
       "      <td>35023300</td>\n",
       "      <td>0.0</td>\n",
       "      <td>0.0</td>\n",
       "    </tr>\n",
       "    <tr>\n",
       "      <th>2020-12-17</th>\n",
       "      <td>219.869995</td>\n",
       "      <td>220.889999</td>\n",
       "      <td>217.919998</td>\n",
       "      <td>219.419998</td>\n",
       "      <td>32515800</td>\n",
       "      <td>0.0</td>\n",
       "      <td>0.0</td>\n",
       "    </tr>\n",
       "    <tr>\n",
       "      <th>2020-12-18</th>\n",
       "      <td>218.589996</td>\n",
       "      <td>219.690002</td>\n",
       "      <td>216.020004</td>\n",
       "      <td>218.589996</td>\n",
       "      <td>63320100</td>\n",
       "      <td>0.0</td>\n",
       "      <td>0.0</td>\n",
       "    </tr>\n",
       "  </tbody>\n",
       "</table>\n",
       "<p>8766 rows × 7 columns</p>\n",
       "</div>"
      ],
      "text/plain": [
       "                  Open        High  ...  Dividends  Stock Splits\n",
       "Date                                ...                         \n",
       "1986-03-13    0.056367    0.064656  ...        0.0           0.0\n",
       "1986-03-14    0.061893    0.065209  ...        0.0           0.0\n",
       "1986-03-17    0.064103    0.065761  ...        0.0           0.0\n",
       "1986-03-18    0.065209    0.065761  ...        0.0           0.0\n",
       "1986-03-19    0.063551    0.064103  ...        0.0           0.0\n",
       "...                ...         ...  ...        ...           ...\n",
       "2020-12-14  213.100006  216.210007  ...        0.0           0.0\n",
       "2020-12-15  215.169998  215.419998  ...        0.0           0.0\n",
       "2020-12-16  214.750000  220.110001  ...        0.0           0.0\n",
       "2020-12-17  219.869995  220.889999  ...        0.0           0.0\n",
       "2020-12-18  218.589996  219.690002  ...        0.0           0.0\n",
       "\n",
       "[8766 rows x 7 columns]"
      ]
     },
     "metadata": {
      "tags": []
     },
     "execution_count": 29
    }
   ]
  },
  {
   "cell_type": "code",
   "metadata": {
    "colab": {
     "base_uri": "https://localhost:8080/",
     "height": 373
    },
    "id": "0hy5pUi8wT43",
    "outputId": "06e23b74-712e-4f7a-cd92-d8444975969b",
    "pycharm": {
     "name": "#%%\n"
    }
   },
   "source": [
    "msft.recommendations.tail(10)"
   ],
   "execution_count": null,
   "outputs": [
    {
     "output_type": "execute_result",
     "data": {
      "text/html": [
       "<div>\n",
       "<style scoped>\n",
       "    .dataframe tbody tr th:only-of-type {\n",
       "        vertical-align: middle;\n",
       "    }\n",
       "\n",
       "    .dataframe tbody tr th {\n",
       "        vertical-align: top;\n",
       "    }\n",
       "\n",
       "    .dataframe thead th {\n",
       "        text-align: right;\n",
       "    }\n",
       "</style>\n",
       "<table border=\"1\" class=\"dataframe\">\n",
       "  <thead>\n",
       "    <tr style=\"text-align: right;\">\n",
       "      <th></th>\n",
       "      <th>Firm</th>\n",
       "      <th>To Grade</th>\n",
       "      <th>From Grade</th>\n",
       "      <th>Action</th>\n",
       "    </tr>\n",
       "    <tr>\n",
       "      <th>Date</th>\n",
       "      <th></th>\n",
       "      <th></th>\n",
       "      <th></th>\n",
       "      <th></th>\n",
       "    </tr>\n",
       "  </thead>\n",
       "  <tbody>\n",
       "    <tr>\n",
       "      <th>2020-10-13 16:40:00</th>\n",
       "      <td>RBC Capital</td>\n",
       "      <td>Outperform</td>\n",
       "      <td></td>\n",
       "      <td>main</td>\n",
       "    </tr>\n",
       "    <tr>\n",
       "      <th>2020-10-14 10:49:23</th>\n",
       "      <td>UBS</td>\n",
       "      <td>Buy</td>\n",
       "      <td></td>\n",
       "      <td>init</td>\n",
       "    </tr>\n",
       "    <tr>\n",
       "      <th>2020-10-20 16:25:09</th>\n",
       "      <td>Stifel</td>\n",
       "      <td>Buy</td>\n",
       "      <td></td>\n",
       "      <td>main</td>\n",
       "    </tr>\n",
       "    <tr>\n",
       "      <th>2020-10-23 16:26:29</th>\n",
       "      <td>Barclays</td>\n",
       "      <td>Overweight</td>\n",
       "      <td></td>\n",
       "      <td>main</td>\n",
       "    </tr>\n",
       "    <tr>\n",
       "      <th>2020-10-28 09:02:04</th>\n",
       "      <td>Piper Sandler</td>\n",
       "      <td>Overweight</td>\n",
       "      <td></td>\n",
       "      <td>main</td>\n",
       "    </tr>\n",
       "    <tr>\n",
       "      <th>2020-10-28 12:00:17</th>\n",
       "      <td>Morgan Stanley</td>\n",
       "      <td>Overweight</td>\n",
       "      <td></td>\n",
       "      <td>main</td>\n",
       "    </tr>\n",
       "    <tr>\n",
       "      <th>2020-10-28 13:22:56</th>\n",
       "      <td>Credit Suisse</td>\n",
       "      <td>Outperform</td>\n",
       "      <td></td>\n",
       "      <td>main</td>\n",
       "    </tr>\n",
       "    <tr>\n",
       "      <th>2020-10-29 16:00:20</th>\n",
       "      <td>Deutsche Bank</td>\n",
       "      <td>Buy</td>\n",
       "      <td></td>\n",
       "      <td>main</td>\n",
       "    </tr>\n",
       "    <tr>\n",
       "      <th>2020-11-05 10:48:37</th>\n",
       "      <td>Oppenheimer</td>\n",
       "      <td>Outperform</td>\n",
       "      <td>Perform</td>\n",
       "      <td>up</td>\n",
       "    </tr>\n",
       "    <tr>\n",
       "      <th>2020-11-24 11:17:51</th>\n",
       "      <td>KeyBanc</td>\n",
       "      <td>Overweight</td>\n",
       "      <td></td>\n",
       "      <td>init</td>\n",
       "    </tr>\n",
       "  </tbody>\n",
       "</table>\n",
       "</div>"
      ],
      "text/plain": [
       "                               Firm    To Grade From Grade Action\n",
       "Date                                                             \n",
       "2020-10-13 16:40:00     RBC Capital  Outperform              main\n",
       "2020-10-14 10:49:23             UBS         Buy              init\n",
       "2020-10-20 16:25:09          Stifel         Buy              main\n",
       "2020-10-23 16:26:29        Barclays  Overweight              main\n",
       "2020-10-28 09:02:04   Piper Sandler  Overweight              main\n",
       "2020-10-28 12:00:17  Morgan Stanley  Overweight              main\n",
       "2020-10-28 13:22:56   Credit Suisse  Outperform              main\n",
       "2020-10-29 16:00:20   Deutsche Bank         Buy              main\n",
       "2020-11-05 10:48:37     Oppenheimer  Outperform    Perform     up\n",
       "2020-11-24 11:17:51         KeyBanc  Overweight              init"
      ]
     },
     "metadata": {
      "tags": []
     },
     "execution_count": 33
    }
   ]
  },
  {
   "cell_type": "code",
   "metadata": {
    "colab": {
     "base_uri": "https://localhost:8080/",
     "height": 431
    },
    "id": "KApd5tGExLlQ",
    "outputId": "9810459e-5ba4-43a1-e62f-f0a25b50fdd6",
    "pycharm": {
     "name": "#%%\n"
    }
   },
   "source": [
    "msft.get_actions()"
   ],
   "execution_count": null,
   "outputs": [
    {
     "output_type": "execute_result",
     "data": {
      "text/html": [
       "<div>\n",
       "<style scoped>\n",
       "    .dataframe tbody tr th:only-of-type {\n",
       "        vertical-align: middle;\n",
       "    }\n",
       "\n",
       "    .dataframe tbody tr th {\n",
       "        vertical-align: top;\n",
       "    }\n",
       "\n",
       "    .dataframe thead th {\n",
       "        text-align: right;\n",
       "    }\n",
       "</style>\n",
       "<table border=\"1\" class=\"dataframe\">\n",
       "  <thead>\n",
       "    <tr style=\"text-align: right;\">\n",
       "      <th></th>\n",
       "      <th>Dividends</th>\n",
       "      <th>Stock Splits</th>\n",
       "    </tr>\n",
       "    <tr>\n",
       "      <th>Date</th>\n",
       "      <th></th>\n",
       "      <th></th>\n",
       "    </tr>\n",
       "  </thead>\n",
       "  <tbody>\n",
       "    <tr>\n",
       "      <th>1987-09-21</th>\n",
       "      <td>0.00</td>\n",
       "      <td>2.0</td>\n",
       "    </tr>\n",
       "    <tr>\n",
       "      <th>1990-04-16</th>\n",
       "      <td>0.00</td>\n",
       "      <td>2.0</td>\n",
       "    </tr>\n",
       "    <tr>\n",
       "      <th>1991-06-27</th>\n",
       "      <td>0.00</td>\n",
       "      <td>1.5</td>\n",
       "    </tr>\n",
       "    <tr>\n",
       "      <th>1992-06-15</th>\n",
       "      <td>0.00</td>\n",
       "      <td>1.5</td>\n",
       "    </tr>\n",
       "    <tr>\n",
       "      <th>1994-05-23</th>\n",
       "      <td>0.00</td>\n",
       "      <td>2.0</td>\n",
       "    </tr>\n",
       "    <tr>\n",
       "      <th>...</th>\n",
       "      <td>...</td>\n",
       "      <td>...</td>\n",
       "    </tr>\n",
       "    <tr>\n",
       "      <th>2019-11-20</th>\n",
       "      <td>0.51</td>\n",
       "      <td>0.0</td>\n",
       "    </tr>\n",
       "    <tr>\n",
       "      <th>2020-02-19</th>\n",
       "      <td>0.51</td>\n",
       "      <td>0.0</td>\n",
       "    </tr>\n",
       "    <tr>\n",
       "      <th>2020-05-20</th>\n",
       "      <td>0.51</td>\n",
       "      <td>0.0</td>\n",
       "    </tr>\n",
       "    <tr>\n",
       "      <th>2020-08-19</th>\n",
       "      <td>0.51</td>\n",
       "      <td>0.0</td>\n",
       "    </tr>\n",
       "    <tr>\n",
       "      <th>2020-11-18</th>\n",
       "      <td>0.56</td>\n",
       "      <td>0.0</td>\n",
       "    </tr>\n",
       "  </tbody>\n",
       "</table>\n",
       "<p>77 rows × 2 columns</p>\n",
       "</div>"
      ],
      "text/plain": [
       "            Dividends  Stock Splits\n",
       "Date                               \n",
       "1987-09-21       0.00           2.0\n",
       "1990-04-16       0.00           2.0\n",
       "1991-06-27       0.00           1.5\n",
       "1992-06-15       0.00           1.5\n",
       "1994-05-23       0.00           2.0\n",
       "...               ...           ...\n",
       "2019-11-20       0.51           0.0\n",
       "2020-02-19       0.51           0.0\n",
       "2020-05-20       0.51           0.0\n",
       "2020-08-19       0.51           0.0\n",
       "2020-11-18       0.56           0.0\n",
       "\n",
       "[77 rows x 2 columns]"
      ]
     },
     "metadata": {
      "tags": []
     },
     "execution_count": 34
    }
   ]
  },
  {
   "cell_type": "code",
   "metadata": {
    "colab": {
     "base_uri": "https://localhost:8080/",
     "height": 195
    },
    "id": "KWCFQRj8xT5_",
    "outputId": "025384c8-d150-4dde-ad52-b64d1a103f09",
    "pycharm": {
     "name": "#%%\n"
    }
   },
   "source": [
    "msft.get_mutualfund_holders().tail()"
   ],
   "execution_count": null,
   "outputs": [
    {
     "output_type": "execute_result",
     "data": {
      "text/html": [
       "<div>\n",
       "<style scoped>\n",
       "    .dataframe tbody tr th:only-of-type {\n",
       "        vertical-align: middle;\n",
       "    }\n",
       "\n",
       "    .dataframe tbody tr th {\n",
       "        vertical-align: top;\n",
       "    }\n",
       "\n",
       "    .dataframe thead th {\n",
       "        text-align: right;\n",
       "    }\n",
       "</style>\n",
       "<table border=\"1\" class=\"dataframe\">\n",
       "  <thead>\n",
       "    <tr style=\"text-align: right;\">\n",
       "      <th></th>\n",
       "      <th>Holder</th>\n",
       "      <th>Shares</th>\n",
       "      <th>Date Reported</th>\n",
       "      <th>% Out</th>\n",
       "      <th>Value</th>\n",
       "    </tr>\n",
       "  </thead>\n",
       "  <tbody>\n",
       "    <tr>\n",
       "      <th>5</th>\n",
       "      <td>Vanguard Institutional Index Fund-Institutiona...</td>\n",
       "      <td>64948753</td>\n",
       "      <td>2020-09-29</td>\n",
       "      <td>0.0086</td>\n",
       "      <td>13660671218</td>\n",
       "    </tr>\n",
       "    <tr>\n",
       "      <th>6</th>\n",
       "      <td>Vanguard Growth Index Fund</td>\n",
       "      <td>59952438</td>\n",
       "      <td>2020-09-29</td>\n",
       "      <td>0.0079</td>\n",
       "      <td>12609796284</td>\n",
       "    </tr>\n",
       "    <tr>\n",
       "      <th>7</th>\n",
       "      <td>iShares Core S&amp;P 500 ETF</td>\n",
       "      <td>59107487</td>\n",
       "      <td>2020-11-29</td>\n",
       "      <td>0.0078</td>\n",
       "      <td>12653139742</td>\n",
       "    </tr>\n",
       "    <tr>\n",
       "      <th>8</th>\n",
       "      <td>Growth Fund Of America Inc</td>\n",
       "      <td>53569352</td>\n",
       "      <td>2020-09-29</td>\n",
       "      <td>0.0071</td>\n",
       "      <td>11267241806</td>\n",
       "    </tr>\n",
       "    <tr>\n",
       "      <th>9</th>\n",
       "      <td>Washington Mutual Investors Fund</td>\n",
       "      <td>35049830</td>\n",
       "      <td>2020-09-29</td>\n",
       "      <td>0.0046</td>\n",
       "      <td>7372030743</td>\n",
       "    </tr>\n",
       "  </tbody>\n",
       "</table>\n",
       "</div>"
      ],
      "text/plain": [
       "                                              Holder  ...        Value\n",
       "5  Vanguard Institutional Index Fund-Institutiona...  ...  13660671218\n",
       "6                         Vanguard Growth Index Fund  ...  12609796284\n",
       "7                           iShares Core S&P 500 ETF  ...  12653139742\n",
       "8                         Growth Fund Of America Inc  ...  11267241806\n",
       "9                   Washington Mutual Investors Fund  ...   7372030743\n",
       "\n",
       "[5 rows x 5 columns]"
      ]
     },
     "metadata": {
      "tags": []
     },
     "execution_count": 36
    }
   ]
  },
  {
   "cell_type": "code",
   "metadata": {
    "colab": {
     "base_uri": "https://localhost:8080/",
     "height": 254
    },
    "id": "kXRblLSm07CE",
    "outputId": "feaad614-6914-47a1-de73-4b29e97baee6",
    "pycharm": {
     "name": "#%%\n"
    }
   },
   "source": [
    "msft.calendar"
   ],
   "execution_count": null,
   "outputs": [
    {
     "output_type": "execute_result",
     "data": {
      "text/html": [
       "<div>\n",
       "<style scoped>\n",
       "    .dataframe tbody tr th:only-of-type {\n",
       "        vertical-align: middle;\n",
       "    }\n",
       "\n",
       "    .dataframe tbody tr th {\n",
       "        vertical-align: top;\n",
       "    }\n",
       "\n",
       "    .dataframe thead th {\n",
       "        text-align: right;\n",
       "    }\n",
       "</style>\n",
       "<table border=\"1\" class=\"dataframe\">\n",
       "  <thead>\n",
       "    <tr style=\"text-align: right;\">\n",
       "      <th></th>\n",
       "      <th>0</th>\n",
       "      <th>1</th>\n",
       "    </tr>\n",
       "  </thead>\n",
       "  <tbody>\n",
       "    <tr>\n",
       "      <th>Earnings Date</th>\n",
       "      <td>2021-01-27 00:00:00</td>\n",
       "      <td>2021-02-01 00:00:00</td>\n",
       "    </tr>\n",
       "    <tr>\n",
       "      <th>Earnings Average</th>\n",
       "      <td>1.64</td>\n",
       "      <td>1.64</td>\n",
       "    </tr>\n",
       "    <tr>\n",
       "      <th>Earnings Low</th>\n",
       "      <td>1.57</td>\n",
       "      <td>1.57</td>\n",
       "    </tr>\n",
       "    <tr>\n",
       "      <th>Earnings High</th>\n",
       "      <td>1.86</td>\n",
       "      <td>1.86</td>\n",
       "    </tr>\n",
       "    <tr>\n",
       "      <th>Revenue Average</th>\n",
       "      <td>40190400000</td>\n",
       "      <td>40190400000</td>\n",
       "    </tr>\n",
       "    <tr>\n",
       "      <th>Revenue Low</th>\n",
       "      <td>39888000000</td>\n",
       "      <td>39888000000</td>\n",
       "    </tr>\n",
       "    <tr>\n",
       "      <th>Revenue High</th>\n",
       "      <td>41145000000</td>\n",
       "      <td>41145000000</td>\n",
       "    </tr>\n",
       "  </tbody>\n",
       "</table>\n",
       "</div>"
      ],
      "text/plain": [
       "                                    0                    1\n",
       "Earnings Date     2021-01-27 00:00:00  2021-02-01 00:00:00\n",
       "Earnings Average                 1.64                 1.64\n",
       "Earnings Low                     1.57                 1.57\n",
       "Earnings High                    1.86                 1.86\n",
       "Revenue Average           40190400000          40190400000\n",
       "Revenue Low               39888000000          39888000000\n",
       "Revenue High              41145000000          41145000000"
      ]
     },
     "metadata": {
      "tags": []
     },
     "execution_count": 37
    }
   ]
  },
  {
   "cell_type": "code",
   "metadata": {
    "id": "EypYGHQr0DJ_",
    "pycharm": {
     "name": "#%%\n"
    }
   },
   "source": [
    "msft."
   ],
   "execution_count": null,
   "outputs": []
  },
  {
   "cell_type": "markdown",
   "metadata": {
    "id": "8WjyaqVaPtkJ",
    "pycharm": {
     "name": "#%% md\n"
    }
   },
   "source": [
    "# Finhub"
   ]
  },
  {
   "cell_type": "code",
   "metadata": {
    "id": "2iyjfmYuPtIy",
    "pycharm": {
     "name": "#%%\n"
    }
   },
   "source": [
    "\n",
    "api='br38tm7rh5rai6tgfp40'"
   ],
   "execution_count": null,
   "outputs": []
  },
  {
   "cell_type": "code",
   "metadata": {
    "id": "sanGU9PJQMB2",
    "pycharm": {
     "name": "#%%\n"
    }
   },
   "source": [],
   "execution_count": null,
   "outputs": []
  },
  {
   "cell_type": "markdown",
   "metadata": {
    "id": "qtlPkYg3QMRF",
    "pycharm": {
     "name": "#%% md\n"
    }
   },
   "source": [
    "# ¿Por que Fibhub?"
   ]
  },
  {
   "cell_type": "markdown",
   "metadata": {
    "id": "0uIK1EKZQURm",
    "pycharm": {
     "name": "#%% md\n"
    }
   },
   "source": [
    "* Capa Gratuita\n",
    "* STOCK ESTIMATES Data\n",
    "* STOCK PRICE data\n",
    "* ETFS & INDICES data \n",
    "* FOREX \n",
    "* Crypto \n",
    "* TECHNICAL ANALYSIS\n"
   ]
  },
  {
   "cell_type": "code",
   "metadata": {
    "colab": {
     "base_uri": "https://localhost:8080/"
    },
    "id": "1xOQPaqRpog-",
    "outputId": "523b0065-64a5-4734-86c3-caef44daaac1",
    "pycharm": {
     "name": "#%%\n"
    }
   },
   "source": [
    "import requests\n",
    "import pandas as pd\n",
    "r = requests.get('https://finnhub.io/api/v1/stock/profile2?symbol=AAPL&token=br38tm7rh5rai6tgfp40')\n",
    "a = r.json()\n",
    "print(r.json())"
   ],
   "execution_count": null,
   "outputs": [
    {
     "output_type": "stream",
     "text": [
      "{'country': 'US', 'currency': 'USD', 'exchange': 'NASDAQ NMS - GLOBAL MARKET', 'finnhubIndustry': 'Technology', 'ipo': '1980-12-12', 'logo': 'https://static.finnhub.io/logo/87cb30d8-80df-11ea-8951-00000000092a.png', 'marketCapitalization': 2103973, 'name': 'Apple Inc', 'phone': '14089961010', 'shareOutstanding': 17001.802, 'ticker': 'AAPL', 'weburl': 'https://www.apple.com/'}\n"
     ],
     "name": "stdout"
    }
   ]
  },
  {
   "cell_type": "code",
   "metadata": {
    "colab": {
     "base_uri": "https://localhost:8080/",
     "height": 35
    },
    "id": "ZKEU5DgHqOAv",
    "outputId": "8b73b99a-dda5-4aed-e894-d6223372e420",
    "pycharm": {
     "name": "#%%\n"
    }
   },
   "source": [
    "a.get('name')"
   ],
   "execution_count": null,
   "outputs": [
    {
     "output_type": "execute_result",
     "data": {
      "application/vnd.google.colaboratory.intrinsic+json": {
       "type": "string"
      },
      "text/plain": [
       "'Apple Inc'"
      ]
     },
     "metadata": {
      "tags": []
     },
     "execution_count": 44
    }
   ]
  },
  {
   "cell_type": "code",
   "metadata": {
    "colab": {
     "base_uri": "https://localhost:8080/",
     "height": 195
    },
    "id": "gQ6_7kunqhB4",
    "outputId": "edf9e446-03d9-4950-c04d-39fde745f3e8",
    "pycharm": {
     "name": "#%%\n"
    }
   },
   "source": [
    "df=pd.DataFrame.from_dict(a,orient=\"index\")\n",
    "df.tail()"
   ],
   "execution_count": null,
   "outputs": [
    {
     "output_type": "execute_result",
     "data": {
      "text/html": [
       "<div>\n",
       "<style scoped>\n",
       "    .dataframe tbody tr th:only-of-type {\n",
       "        vertical-align: middle;\n",
       "    }\n",
       "\n",
       "    .dataframe tbody tr th {\n",
       "        vertical-align: top;\n",
       "    }\n",
       "\n",
       "    .dataframe thead th {\n",
       "        text-align: right;\n",
       "    }\n",
       "</style>\n",
       "<table border=\"1\" class=\"dataframe\">\n",
       "  <thead>\n",
       "    <tr style=\"text-align: right;\">\n",
       "      <th></th>\n",
       "      <th>0</th>\n",
       "    </tr>\n",
       "  </thead>\n",
       "  <tbody>\n",
       "    <tr>\n",
       "      <th>name</th>\n",
       "      <td>Apple Inc</td>\n",
       "    </tr>\n",
       "    <tr>\n",
       "      <th>phone</th>\n",
       "      <td>14089961010</td>\n",
       "    </tr>\n",
       "    <tr>\n",
       "      <th>shareOutstanding</th>\n",
       "      <td>17001.8</td>\n",
       "    </tr>\n",
       "    <tr>\n",
       "      <th>ticker</th>\n",
       "      <td>AAPL</td>\n",
       "    </tr>\n",
       "    <tr>\n",
       "      <th>weburl</th>\n",
       "      <td>https://www.apple.com/</td>\n",
       "    </tr>\n",
       "  </tbody>\n",
       "</table>\n",
       "</div>"
      ],
      "text/plain": [
       "                                       0\n",
       "name                           Apple Inc\n",
       "phone                        14089961010\n",
       "shareOutstanding                 17001.8\n",
       "ticker                              AAPL\n",
       "weburl            https://www.apple.com/"
      ]
     },
     "metadata": {
      "tags": []
     },
     "execution_count": 45
    }
   ]
  },
  {
   "cell_type": "code",
   "metadata": {
    "id": "F9RVfYScbaRA",
    "pycharm": {
     "name": "#%%\n"
    }
   },
   "source": [],
   "execution_count": null,
   "outputs": []
  },
  {
   "cell_type": "code",
   "metadata": {
    "id": "58bU4SuiZzmQ",
    "pycharm": {
     "name": "#%%\n"
    }
   },
   "source": [],
   "execution_count": null,
   "outputs": []
  },
  {
   "cell_type": "markdown",
   "metadata": {
    "id": "NRyyvSx7WiSa",
    "pycharm": {
     "name": "#%% md\n"
    }
   },
   "source": [
    "# Noticias Empresas"
   ]
  },
  {
   "cell_type": "code",
   "metadata": {
    "colab": {
     "base_uri": "https://localhost:8080/"
    },
    "id": "AksCEpHTWhSa",
    "outputId": "875209e8-1b04-494d-f513-fb9a24387b4e",
    "pycharm": {
     "name": "#%%\n"
    }
   },
   "source": [
    "r = requests.get('https://finnhub.io/api/v1/company-news?symbol=AAPL&from=2020-11-10&to=2020-12-20&token=br38tm7rh5rai6tgfp40')\n",
    "print(r.json())"
   ],
   "execution_count": null,
   "outputs": [
    {
     "output_type": "stream",
     "text": [
      "[{'category': 'company', 'datetime': 1608508800, 'headline': 'Apple vs Tesla? Apple Self-Driving Car To Hit Market In 2024, Says Reuters', 'id': 61811172, 'image': 'https://thumbor.forbes.com/thumbor/fit-in/1200x0/filters%3Aformat%28jpg%29/https%3A%2F%2Fspecials-images.forbesimg.com%2Fimageserve%2F5fe111abcd65b06171600516%2F0x0.jpg', 'related': 'AAPL', 'source': 'https://www.forbes.com', 'summary': 'Project Titan lives? Get ready for the clash of the titans: Apple vs Tesla.', 'url': 'https://www.forbes.com/sites/johnkoetsier/2020/12/21/apple-vs-tesla-apple-self-driving-car-to-hit-market-in-2024-says-reuters/'}, {'category': 'company', 'datetime': 1608508800, 'headline': 'Apple Hospitality REIT Enhances Corporate Responsibility Disclosures', 'id': 61803462, 'image': 'https://mms.businesswire.com/media/20201221005386/en/466699/21/AHREIT_rgb_for_Business_Wire.jpg', 'related': 'AAPL', 'source': 'businesswire', 'summary': 'Apple Hospitality REIT Enhances Corporate Responsibility Disclosures', 'url': 'https://www.businesswire.com/news/home/20201221005386/en/Apple-Hospitality-REIT-Enhances-Corporate-Responsibility-Disclosures'}, {'category': 'company', 'datetime': 1608505500, 'headline': 'L.A. hospitals consider rationing care as coronavirus cases threaten to overwhelm', 'id': 61799599, 'image': 'https://images.mktw.net/im-275966/social', 'related': 'AAPL', 'source': 'marketwatch', 'summary': 'Medical staffing is stretched increasingly thin as California hospitals scramble to find beds for patients amid an explosion of coronavirus cases that...', 'url': 'https://www.marketwatch.com/story/l-a-hospitals-consider-rationing-care-as-coronavirus-cases-threaten-to-overwhelm-01608505544'}, {'category': 'company', 'datetime': 1608500072, 'headline': 'Apple puts supplier Wistron on notice after Indian factory violence', 'id': 61800042, 'image': 'https://www.theglobeandmail.com/resizer/INaPUfAlo8D_nCJjYwfNKEDbwuc=/1200x0/filters:quality(80)/cloudfront-us-east-1.images.arcpublishing.com/tgam/XLYRK6ZA7JLODJ6CU4QHVJ7EWI.JPG', 'related': 'AAPL', 'source': 'https://www.theglobeandmail.com', 'summary': 'Contract workers angry over unpaid wages destroyed property, gear and iPhones on Dec. 12, causing millions of dollars in losses', 'url': 'https://www.theglobeandmail.com/business/international-business/article-apple-puts-supplier-wistron-on-notice-after-indian-factory-violence/'}, {'category': 'company', 'datetime': 1608497379, 'headline': \"Report: gov't spyware targets phones of Al-Jazeera reporters\", 'id': 61798371, 'image': 'https://s.abcnews.com/images/International/WireAP_e0fc5a7ae0cc494187e8081a319a8bde_16x9_992.jpg', 'related': 'AAPL', 'source': 'abcnews', 'summary': 'A cybersecurity watchdog says dozens of journalists at Al-Jazeera, the Qatari state-owned media company, have been targeted by advanced spyware', 'url': 'https://abcnews.go.com/Business/wireStory/report-govt-spyware-targets-phones-al-jazeera-reporters-74833280'}, {'category': 'company', 'datetime': 1608497100, 'headline': 'Apple Closes About 80 Stores Due To Rising Covid-19 Cases', 'id': 61798354, 'image': 'https://s.wsj.net/public/resources/images/BP-AB635_Apple_M_20180802114800.jpg', 'related': 'AAPL', 'source': 'marketwatch', 'summary': 'Apple closed about 80 of its 508 retail stores, including all in California, Tennessee, Minnesota, Utah, and Oklahoma. It’s also shuttered international...', 'url': 'https://www.marketwatch.com/articles/apple-closes-about-80-stores-due-to-rising-covid-19-cases-51608497158'}, {'category': 'company', 'datetime': 1608497041, 'headline': \"Report: gov't spyware targets phones of Al-Jazeera reporters\", 'id': 61798343, 'image': 'https://s.abcnews.com/images/International/WireAP_e0fc5a7ae0cc494187e8081a319a8bde_16x9_992.jpg', 'related': 'AAPL', 'source': 'abcnews', 'summary': 'A cybersecurity watchdog says dozens of journalists at Al-Jazeera, the Qatari state-owned media company, have been targeted by advanced spyware', 'url': 'https://abcnews.go.com/International/wireStory/report-govt-spyware-targets-phones-al-jazeera-reporters-74833006'}, {'category': 'company', 'datetime': 1608495045, 'headline': \"Taiwan's Wistron sees no major financial impact from India plant damage\", 'id': 61804813, 'image': 'https://www.nasdaq.com/sites/acquia.prod/files/2020-12-15T233016Z_2066111622_RC2ZNK94SY1Z_RTRMADP_2_APPLE-INDIA-WISTRON.JPG?232660980', 'related': 'AAPL', 'source': 'Nasdaq', 'summary': 'An Indian factory damaged by violence this month was a new facility with limited production and so there will be limited financial impact, Taiwanese Apple Inc supplier Wistron Corp, which runs the plant, said late on Sunday.', 'url': 'https://www.nasdaq.com/articles/taiwans-wistron-sees-no-major-financial-impact-from-india-plant-damage-2020-12-20'}, {'category': 'company', 'datetime': 1608494726, 'headline': \"Dozens of Al Jazeera journalists allegedly hacked using Israeli firm's spyware\", 'id': 61810880, 'image': 'https://i.guim.co.uk/img/media/7c09b66f8c90054c2d5a8e962665572fa195c998/0_232_3500_2101/master/3500.jpg?width=1200&height=630&quality=85&auto=format&fit=crop&overlay-align=bottom%2Cleft&overlay-width=100p&overlay-base64=L2ltZy9zdGF0aWMvb3ZlcmxheXMvdGctZGVmYXVsdC5wbmc&enable=upscale&s=ea50247b22ccf51782077e6a70a3108b', 'related': 'AAPL', 'source': 'theguardian', 'summary': 'Citizen Lab researchers say cyber-attack using NSO Group software likely ordered by Saudia Arabia and UAE', 'url': 'https://www.theguardian.com/media/2020/dec/20/citizen-lab-nso-dozens-of-aljazeera-journalists-allegedly-hacked-using-israeli-firm-spyware'}, {'category': 'company', 'datetime': 1608494726, 'headline': 'iPhones vulnerable to hacking tool for months, researchers say', 'id': 61798382, 'image': 'https://i.guim.co.uk/img/media/8c1521b9f52f93f27cc5c693ede3077dc32cc97c/216_444_5645_3387/master/5645.jpg?width=1200&height=630&quality=85&auto=format&fit=crop&overlay-align=bottom%2Cleft&overlay-width=100p&overlay-base64=L2ltZy9zdGF0aWMvb3ZlcmxheXMvdGctZGVmYXVsdC5wbmc&enable=upscale&s=c1b7d7f9e4e679d5de5cad98cb7d9d5b', 'related': 'AAPL', 'source': 'theguardian', 'summary': 'NSO Group’s Pegasus spyware could allegedly track locations and access passwords', 'url': 'https://www.theguardian.com/technology/2020/dec/20/iphones-vulnerable-to-hacking-tool-for-months-researchers-say'}, {'category': 'company', 'datetime': 1608490825, 'headline': 'Facebook/Apple Spat - The Big Picture', 'id': 61799867, 'image': 'https://ritholtz.com/wp-content/uploads/2020/12/Apple-vs-Facebook-feature.jpg', 'related': 'AAPL', 'source': 'https://ritholtz.com', 'summary': 'Source: MacRumours \\xa0 \\xa0 \\xa0 “Facebook Attacks Apple Software Changes in Newspaper Ads“ Your business model is not inviolate. Now let me get this straight… The techies disrupted music, retail, seemingly every walk of life, but when it comes to them disruption is off limits, they must be protected? Who protected MySpace when Facebook disrupted…Read More', 'url': 'https://ritholtz.com/2020/12/facebook-apple-spat/'}, {'category': 'company', 'datetime': 1608484701, 'headline': 'iOS 14.3 Brings A New Game Changing Feature!', 'id': 61798614, 'image': 'https://1734811051.rsc.cdn77.org/data/images/full/377533/ios-14-3-releases-new-game-changing-security-feature-heres-how-to-use-privacy-nutrition-labels.jpg', 'related': 'AAPL', 'source': 'https://www.techtimes.com', 'summary': \"Here's how to use Apple's new privacy nutrition labels!\", 'url': 'https://www.techtimes.com/articles/255238/20201220/ios-14-3-advanced-trick-use-apples-new-privacy-nutrition-labels.htm'}, {'category': 'company', 'datetime': 1608484306, 'headline': \"This week's top stories: Apple vs Facebook, AirPods Max, iOS 14.3 features, and more - 9to5Mac\", 'id': 61800017, 'image': 'https://i2.wp.com/9to5mac.com/wp-content/uploads/sites/6/2019/03/top-stories-header-steeber.jpg?resize=1200%2C628&quality=82&strip=all&ssl=1', 'related': 'AAPL', 'source': 'https://9to5mac.com', 'summary': 'In this week’s top stories: iOS 14.3 released to everyone, Apple vs Facebook, new features for the Apple Watch, additional AirPods Max tidbits, and more. Read on for all of this week’s top stories. AirPods Max Apple’s new AirPods Max over-ear headphones are officially available. Over the last week, we’ve learned more about the headphones, […]', 'url': 'https://9to5mac.com/2020/12/20/top-stories-ios-14-3-airpods-max/'}, {'category': 'company', 'datetime': 1608472855, 'headline': \"Judge Orders Apple to Produce Documentation from CEO Tim Cook in 'Fortnite' Lawsuit\", 'id': 61798270, 'image': 'https://media.breitbart.com/media/2020/07/timapple-640x335.png', 'related': 'AAPL', 'source': 'https://www.breitbart.com', 'summary': 'A judge has ordered Apple to produce extensive documentation from CEO Tim Cook and Senior VP Craig Federighi in the lawsuit filed by Epic Games over its megapopular game Fortnite.', 'url': 'https://www.breitbart.com/tech/2020/12/20/judge-orders-apple-to-produce-documentation-from-ceo-tim-cook-in-fortnite-lawsuit/'}, {'category': 'company', 'datetime': 1608472289, 'headline': 'Explained: How Apple’s reaction to labour challenges in India is different from China', 'id': 61798086, 'image': 'https://images.indianexpress.com/2020/12/Apple_LOGO_BLOOM2-1.jpg', 'related': 'AAPL', 'source': 'https://indianexpress.com', 'summary': 'The Narasapura unit employs about 2,000 regular employees and some 7,000 contractual employees, while the old Peenya unit employs about 3,500 people on a permanent basis.', 'url': 'https://indianexpress.com/article/explained/how-apples-reaction-to-labour-challenges-in-india-is-different-from-china-7111723/'}, {'category': 'company', 'datetime': 1608468540, 'headline': 'Lawmakers on Verge of Passing New Stimulus Bill', 'id': 61798193, 'image': 'https://images.barrons.com/im-275914/social', 'related': 'AAPL', 'source': 'MarketWatch', 'summary': 'Everything you need to know to navigate the markets today.', 'url': 'https://www.marketwatch.com/articles/news-updates-stimulus-bill-vote-expected-soon-51608486546'}, {'category': 'company', 'datetime': 1608466140, 'headline': \"The 1 Mega-Cap Tech Stock That Doesn't Fear Washington\", 'id': 61798441, 'image': 'https://www.nasdaq.com/sites/acquia.prod/files/2019-05/0902-Q19%20Total%20Markets%20photos%20and%20gif_CC8.jpg?1187083071', 'related': 'AAPL', 'source': 'Nasdaq', 'summary': \"What a wild ride it's been for Big Tech. After decades of Washington applying a relatively soft-touch regulatory approach to the sector's leaders, there's been a sharp turn toward much fiercer rhetoric over the last two years. The sentiment that it's time to rein in those compani\", 'url': 'https://www.nasdaq.com/articles/the-1-mega-cap-tech-stock-that-doesnt-fear-washington-2020-12-20'}, {'category': 'company', 'datetime': 1608465739, 'headline': 'Apple to suspend new orders to Wistron after India workers riot', 'id': 61798081, 'image': 'https://images.indianexpress.com/2020/12/Wistron-1.jpg', 'related': 'AAPL', 'source': 'https://indianexpress.com', 'summary': 'Earlier this month, Wistron workers at a plant in Narasapura near Bengaluru rioted over unpaid wages, with many arrested for violence and vandalism.', 'url': 'https://indianexpress.com/article/technology/tech-news-technology/apple-suspend-new-orders-wistron-india-workers-riot-7112085/'}, {'category': 'company', 'datetime': 1608461706, 'headline': 'Apple : ferme tous ses magasins en Californie à cause du COVID-19 | Zone bourse', 'id': 61804565, 'image': 'https://img.zonebourse.com/reuters/2020-12-20T105506Z_1_LYNXMPEGBJ082_RTROPTP_3_APPLE-APP-STORE.JPG', 'related': 'AAPL', 'source': 'https://www.zonebourse.com', 'summary': '', 'url': 'https://www.zonebourse.com/cours/action/APPLE-INC-4849/actualite/Apple-ferme-tous-ses-magasins-en-Californie-a-cause-du-COVID-19-32054545/'}, {'category': 'company', 'datetime': 1608461400, 'headline': 'Put Your Coronavirus Stimulus Check to Work With These 3 Stocks', 'id': 61798406, 'image': 'https://www.nasdaq.com/sites/acquia.prod/files/2019-05/0902-Q19%20Total%20Markets%20photos%20and%20gif_CC8.jpg?442960887', 'related': 'AAPL', 'source': 'Nasdaq', 'summary': 'After months of pointing fingers and blaming each other for the impasse, legislators are finally moving forward on a coronavirus relief bill. One of the recent developments is that the $900 billion bill will likely include another round of stimulus checks, smaller than the first', 'url': 'https://www.nasdaq.com/articles/put-your-coronavirus-stimulus-check-to-work-with-these-3-stocks-2020-12-20'}, {'category': 'company', 'datetime': 1608460140, 'headline': 'Apple is closing its 53 California stores through Christmas, as COVID-19 cases soar to record highs', 'id': 61799792, 'image': 'https://www.businessinsider.in/photo/79824604/apple-is-closing-its-53-california-stores-through-christmas-as-covid-19-cases-soar-to-record-highs.jpg?imgsize=739132', 'related': 'AAPL', 'source': 'https://www.businessinsider.in', 'summary': '', 'url': 'https://www.businessinsider.in/retail/news/apple-is-closing-its-53-california-stores-through-christmas-as-covid-19-cases-soar-to-record-highs/articleshow/79824604.cms'}, {'category': 'company', 'datetime': 1608458400, 'headline': 'Should You Buy or Sell Intel Stock Right Now?', 'id': 61798446, 'image': 'https://www.nasdaq.com/sites/acquia.prod/files/2019-05/0902-Q19%20Total%20Markets%20photos%20and%20gif_CC8.jpg?189179325', 'related': 'AAPL', 'source': 'Nasdaq', 'summary': \"Intel (NASDAQ: INTC) was once considered a stable tech stock that generated reliable returns. Its position as the world's largest manufacturer of x86 CPUs for PCs and data centers gave it a wide moat, and its robust cash flow growth comfortably funded its big buybacks and dividen\", 'url': 'https://www.nasdaq.com/articles/should-you-buy-or-sell-intel-stock-right-now-2020-12-20'}, {'category': 'company', 'datetime': 1608455700, 'headline': '3 Things to Expect From Berkshire Hathaway in 2021', 'id': 61798396, 'image': 'https://www.nasdaq.com/sites/acquia.prod/files/2019-05/0902-Q19%20Total%20Markets%20photos%20and%20gif_CC8.jpg?41524841', 'related': 'AAPL', 'source': 'Nasdaq', 'summary': \"If you're a fan and follower of legendary investor Warren Buffett, then you're certainly aware of Berkshire Hathaway (NYSE: BRK-A) (NYSE: BRK-B). When people talk about mirroring Buffett's buys and sells, they're actually talking about Berkshire's trades. The holdings of the comp\", 'url': 'https://www.nasdaq.com/articles/3-things-to-expect-from-berkshire-hathaway-in-2021-2020-12-20'}, {'category': 'company', 'datetime': 1608451200, 'headline': 'Apple and 5 More Stocks That Benefit as China’s Economy Keeps Surging', 'id': 61797767, 'image': 'https://images.barrons.com/im-275722/social', 'related': 'AAPL', 'source': 'MarketWatch', 'summary': 'While most countries’ economies will shrink as a result of the coronavirus crisis, China’s gross domestic product is expected to grow 1.9% for 2020.', 'url': 'https://www.marketwatch.com/articles/apple-stock-and-5-more-that-benefit-as-chinas-economy-surges-51608469200'}, {'category': 'company', 'datetime': 1608449040, 'headline': 'This ETF Could Help Grow Any Retirement Account', 'id': 61797898, 'image': 'https://www.nasdaq.com/sites/acquia.prod/files/2019-05/0902-Q19%20Total%20Markets%20photos%20and%20gif_CC8.jpg?1140115677', 'related': 'AAPL', 'source': 'Nasdaq', 'summary': \"When you're building a retirement portfolio, exchange-traded funds (ETFs) are the perfect place to start. You get an instantly diversified portfolio, plus you can buy and sell them the same way you would a regular stock.Investing across the stock market using an S&P 500 index\", 'url': 'https://www.nasdaq.com/articles/this-etf-could-help-grow-any-retirement-account-2020-12-20'}, {'category': 'company', 'datetime': 1608445800, 'headline': 'Can Cisco Be a Better Stock Than Zoom Over the Next 5 Years?', 'id': 61797896, 'image': 'https://www.nasdaq.com/sites/acquia.prod/files/2019-05/0902-Q19%20Total%20Markets%20photos%20and%20gif_CC8.jpg?1548460070', 'related': 'AAPL', 'source': 'Nasdaq', 'summary': 'Zoom Video Communications (NASDAQ: ZM) has grown revenue at an enormous clip this year, and while it certainly trades for a high valuation, it has proven incredibly profitable. Cisco Systems (NASDAQ: CSCO), on the other hand, is facing serious competitive threats from just about', 'url': 'https://www.nasdaq.com/articles/can-cisco-be-a-better-stock-than-zoom-over-the-next-5-years-2020-12-20'}, {'category': 'company', 'datetime': 1608442486, 'headline': 'Apple Inc. (NASDAQ:AAPL) Shares Acquired by Sprott Inc.', 'id': 61798264, 'image': 'https://www.marketbeat.com/logos/apple-inc-logo.png', 'related': 'AAPL', 'source': 'https://www.thelincolnianonline.com', 'summary': 'Sprott Inc. increased its position in shares of Apple Inc. (NASDAQ:AAPL) by 301.3% during the third quarter, Holdings Channel reports. The fund owned 2,440 shares of the iPhone maker’s stock after acquiring an additional 1,832 shares during the quarter. Sprott Inc.’s holdings in Apple were worth $283,000 at the end of the most recent quarter. […]', 'url': 'https://www.thelincolnianonline.com/2020/12/20/apple-inc-nasdaqaapl-shares-acquired-by-sprott-inc.html'}, {'category': 'company', 'datetime': 1608442200, 'headline': 'Chip Giants Intel and Nvidia Face New Threats From Amazon to Google to Apple ', 'id': 61797651, 'image': 'https://images.wsj.net/im-274391/social', 'related': 'AAPL', 'source': 'DowJones', 'summary': 'Big tech companies are getting into the custom chip-making game in the hunt for improved performance and lower costs, shifting the balance of power in the industry.', 'url': 'https://www.wsj.com/articles/chip-giants-intel-and-nvidia-face-new-threats-from-amazon-to-google-to-apple-11608460201'}, {'category': 'company', 'datetime': 1608441318, 'headline': 'Apple shuts stores in California and London as Covid surges', 'id': 61798082, 'image': 'https://images.indianexpress.com/2020/12/AP20343625851864.jpg', 'related': 'AAPL', 'source': 'https://indianexpress.com', 'summary': 'The closures come in the middle of the holiday shopping season. Apple had been looking to top $100 billion in quarterly revenue for the first time on sales of the iPhone 12, its latest iPads, and new Apple Watches.', 'url': 'https://indianexpress.com/article/technology/tech-news-technology/apple-stores-shut-california-london-covid-19-impact-7112074/'}, {'category': 'company', 'datetime': 1608440400, 'headline': 'Los expertos en iOS que tuvieron que aprender Android por solidaridad', 'id': 61798070, 'image': 'https://www.lavanguardia.com/files/og_thumbnail/uploads/2020/12/19/5fde52dddeab3.jpeg', 'related': 'AAPL', 'source': 'https://www.lavanguardia.com', 'summary': 'El confinamiento y los momentos críticos de la primera ola de la pandemia sacó lo mejor de muchos. Apple, a diferencia de otras empresas, no hizo ertes pese a tener que', 'url': 'https://www.lavanguardia.com/tecnologia/20201220/6136004/expertos-ios-tuvieron-aprender-android.html'}, {'category': 'company', 'datetime': 1608433869, 'headline': 'Apple temporarily shuts 53 stores in California as Covid-19 pandemic worsens', 'id': 61797593, 'image': 'https://images.livemint.com/img/2020/12/20/600x338/2020-12-19T093143Z_1_LYNXMPEGBI06N_RTROPTP_3_FACEBOOK-APPLE_1608433790653_1608433801401.JPG', 'related': 'AAPL', 'source': 'https://www.livemint.com', 'summary': 'Apple said on its website that it’s closing all 53 locations across the Golden State.The closures come in the middle of the holiday shopping season', 'url': 'https://www.livemint.com/companies/news/apple-temporarily-shuts-53-stores-in-california-as-covid-19-pandemic-worsens-11608432127747.html'}, {'category': 'company', 'datetime': 1608429076, 'headline': 'Apple tutup sementara 53 toko di California dan 16 toko di Inggris', 'id': 61798073, 'image': 'https://cdn.antaranews.com/cache/800x533/2020/12/20/IMG_0316.jpg', 'related': 'AAPL', 'source': 'https://www.antaranews.com', 'summary': 'Apple menutup sementara semua toko, berjumlah 53 toko, di California karena pandemi COVID-19, dan juga menutup 16 toko di Inggris, menyusul pembatasan yang ...', 'url': 'https://www.antaranews.com/berita/1904876/apple-tutup-sementara-53-toko-di-california-dan-16-toko-di-inggris'}, {'category': 'company', 'datetime': 1608425094, 'headline': 'Apple temporarily closes all California, London stores as pandemic worsens', 'id': 61797690, 'image': 'https://www.presstelegram.com/wp-content/uploads/2020/12/OCR-Z-CVAPPLE-1220-16x9-1-1.jpg?w=1024&h=579', 'related': 'AAPL', 'source': 'https://www.presstelegram.com', 'summary': 'The iPhone maker will also close its stores in Mexico and Brazil temporarily as cases increase in both countries.', 'url': 'https://www.presstelegram.com/2020/12/19/apple-temporarily-closes-all-california-london-stores-as-pandemic-worsens/'}, {'category': 'company', 'datetime': 1608422400, 'headline': \"Barron's Picks And Pans: Bank Mergers, Comcast, Dogs of the Dow, Square And More\", 'id': 61969804, 'image': 'https://cdn.benzinga.com/files/imagecache/og_image_social_share_1200x630/images/story/2012/presskit-comcast-logo-photo-2017_1_2_0.png', 'related': 'AAPL', 'source': 'benzinga', 'summary': \"This weekend's Barron's cover story shares thoughts from a panel of experts on what to expect for stocks in 2021.\\nOther featured articles examine Barron's picks for...\", 'url': 'https://www.benzinga.com/media/20/12/18868021/barrons-picks-and-pans-bank-mergers-comcast-dogs-of-the-dow-square-and-more'}, {'category': 'company', 'datetime': 1608422400, 'headline': 'iOS 14.3: How To Use Apple’s Game-Changing New iPhone Privacy Feature', 'id': 61799835, 'image': 'https://thumbor.forbes.com/thumbor/fit-in/1200x0/filters%3Aformat%28jpg%29/https%3A%2F%2Fspecials-images.forbesimg.com%2Fimageserve%2F5f8ab5c07bdfce7eac675e02%2F0x0.jpg', 'related': 'AAPL', 'source': 'https://www.forbes.com', 'summary': 'Apple’s iOS 14.3 has launched, including a game-changing new privacy feature. Here’s how to use it.', 'url': 'https://www.forbes.com/sites/kateoflahertyuk/2020/12/20/ios-143-how-to-use-apples-game-changing-new-iphone-privacy-feature/'}, {'category': 'company', 'datetime': 1608422400, 'headline': 'iOS 14 Mysteries Explained: The iPhone’s Orange Dot, Privacy Labels And More', 'id': 61799834, 'image': 'https://thumbor.forbes.com/thumbor/fit-in/1200x0/filters%3Aformat%28jpg%29/https%3A%2F%2Fspecials-images.forbesimg.com%2Fimageserve%2F5ec7fa2cd3c4750006900547%2F0x0.jpg', 'related': 'AAPL', 'source': 'https://www.forbes.com', 'summary': 'Apple’s iOS 14 comes with multiple new features, including an orange or green dot on your iPhone and privacy labels. Here’s what they mean and how they work.', 'url': 'https://www.forbes.com/sites/kateoflahertyuk/2020/12/20/ios-14-mysteries-explained-the-iphones-orange-dot-privacy-labels-and-more/'}, {'category': 'company', 'datetime': 1608413908, 'headline': 'Apple shuts California, London stores as coronavirus pandemic worsens', 'id': 61797577, 'image': 'https://www.straitstimes.com/sites/default/files/styles/x_large/public/articles/2020/12/20/calif-virus.jpg?itok=gZL_i-DD', 'related': 'AAPL', 'source': 'https://www.straitstimes.com', 'summary': \"Apple's move follows\\xa0a surge in Covid-19 cases in the state.. Read more at straitstimes.com.\", 'url': 'https://www.straitstimes.com/world/united-states/apple-temporarily-shuts-all-california-stores-amid-covid-19-outbreak'}, {'category': 'company', 'datetime': 1608413022, 'headline': 'COVID-19 closes nearly 100 Apple Stores during holiday season peak - 9to5Mac', 'id': 61797980, 'image': 'https://i2.wp.com/9to5mac.com/wp-content/uploads/sites/6/2020/12/apvc_easel.jpg?resize=1200%2C628&quality=82&strip=all&ssl=1', 'related': 'AAPL', 'source': 'https://9to5mac.com', 'summary': 'New COVID-19 restrictions and worsening outbreaks have compelled Apple to temporarily close nearly one fifth of its retail stores during one of the busiest shopping weeks of the holiday season. 95 Apple Stores across the globe have reclosed since Monday, December 14. Apple announced closures of all its stores in California and Tennessee this weekend, […]', 'url': 'https://9to5mac.com/2020/12/19/apple-retail-stores-closed-holiday-season/'}, {'category': 'company', 'datetime': 1608411637, 'headline': 'Apple Temporarily Shuts All California Stores as Covid Surges -  BNN Bloomberg', 'id': 61797650, 'image': 'http://www.bnnbloomberg.ca/polopoly_fs/1.1538885!/fileimage/httpImage/image.jpg_gen/derivatives/landscape_620/an-employee-disposes-of-gloves-after-handling-a-device-inside-a-closed-apple-inc-store-at-the-third-street-promenade-in-santa-monica-california-u-s-on-saturday-march-14-2020-apple-said-saturday-it-s-closing-its-hundreds-of-retail-stores-outside-of-greater-china-until-march-27-and-is-moving-to-remote-work-in-order-to-help-reduce-the-spread-of-coronavirus-photographer-patrick-t-fallon-bloomberg.jpg', 'related': 'AAPL', 'source': 'https://www.bnnbloomberg.ca', 'summary': 'Apple Inc. is temporarily closing all of its retail stores in California as the Covid-19 pandemic continues to surge across the state.', 'url': 'https://www.bnnbloomberg.ca/apple-temporarily-shuts-all-california-stores-as-covid-surges-1.1538884'}, {'category': 'company', 'datetime': 1608406544, 'headline': 'Narasapura plant violence: Wistron sacks VP, Apple puts firm on probation', 'id': 61798053, 'image': 'https://images.indianexpress.com/2020/12/wistron-2.jpg', 'related': 'AAPL', 'source': 'https://indianexpress.com', 'summary': 'The Apple statement said it has “placed Wistron on probation and they will not receive any new business from Apple before they complete corrective actions”.', 'url': 'https://indianexpress.com/article/business/companies/narasapura-plant-violence-wistron-sacks-vp-apple-puts-firm-on-probation-7111716/'}, {'category': 'company', 'datetime': 1608405759, 'headline': 'Apple temporarily shuts California stores in virus surge, some in UK after new curbs', 'id': 61804814, 'image': 'https://www.nasdaq.com/sites/acquia.prod/files/2020-11-05T201729Z_1535999540_RC28XJ99GTHT_RTRMADP_2_USA-ELECTION.JPG?272924050', 'related': 'AAPL', 'source': 'Nasdaq', 'summary': 'Apple Inc has temporarily shut all of its 53 stores in California because of a coronavirus outbreak and 16 stores in the United Kingdom following restrictions introduced by the government in London, a spokesman said on Saturday.', 'url': 'https://www.nasdaq.com/articles/apple-temporarily-shuts-california-stores-in-virus-surge-some-in-uk-after-new-curbs-2020'}, {'category': 'company', 'datetime': 1608400560, 'headline': 'Wistron violence: Salary issues, overtime, attendance; many labour law violations found at Karnataka plant', 'id': 61797770, 'image': 'https://akm-img-a-in.tosshub.com/sites/btmt/images/stories/1_505_191220112611.jpg', 'related': 'AAPL', 'source': 'https://m.businesstoday.in', 'summary': 'Wistron on Saturday, December 19, admitted some workers at the Karnataka plant had not been paid properly or on time and removed its Vice-President who oversees its India business', 'url': 'https://m.businesstoday.in/story/wistron-violence-salary-issues-overtime-attendance-many-labour-law-violations-found-at-karnataka-plant/1/425455.html'}, {'category': 'company', 'datetime': 1608393608, 'headline': 'Opinion | Goliath vs. Goliath', 'id': 61797586, 'image': 'https://static01.nyt.com/images/2020/12/19/opinion/19bensinger/19bensinger-videoSixteenByNineJumbo1600-v2.jpg', 'related': 'AAPL', 'source': 'https://www.nytimes.com', 'summary': 'Facebook and Apple’s fighting over data privacy rights doesn’t help consumers much, until it does.', 'url': 'https://www.nytimes.com/2020/12/19/opinion/facebook-apple-privacy.html'}, {'category': 'company', 'datetime': 1608391378, 'headline': 'Apple Fitness Plus: How to Set Up the Fitness App on Your Apple Device', 'id': 61797519, 'image': 'https://1734811051.rsc.cdn77.org/data/images/full/377505/apple-watch.jpg', 'related': 'AAPL', 'source': 'https://www.techtimes.com', 'summary': \"Start your fitness journey with the Apple Fitness Plus. Here's how you can begin your free trial and update your Apple device.\", 'url': 'https://www.techtimes.com/articles/255226/20201219/apple-fitness-plus-step-guide-set-up-started.htm'}, {'category': 'company', 'datetime': 1608390420, 'headline': 'Apple puts Wistron on probation over Karnataka violence, Wistron fires India VP', 'id': 61797252, 'image': 'https://www.businessinsider.in/photo/79816093/apple-puts-wistron-on-probation-over-karnataka-violence-wistron-fires-india-vp.jpg?imgsize=62781', 'related': 'AAPL', 'source': 'https://www.businessinsider.in', 'summary': '', 'url': 'https://www.businessinsider.in/tech/news/apple-puts-wistron-on-probation-over-karnataka-violence-wistron-fires-india-vp/articleshow/79816093.cms'}, {'category': 'company', 'datetime': 1608389331, 'headline': \"Facebook's feud with Apple escalates\", 'id': 61797698, 'image': 'https://thehill.com/sites/default/files/zuckerbergmark_cooktim_121820gn-getty_facebook-apple.jpg', 'related': 'AAPL', 'source': 'https://thehill.com', 'summary': 'Facebook’s feud with Apple is coming to a head over a dispute about Apple’s new privacy feature that would limit the reach of targeted ads, highlighting the contrasting but symbiotic nature of the two tech giants’ business models.', 'url': 'https://thehill.com/policy/technology/530932-facebooks-feud-with-apple-escalates'}, {'category': 'company', 'datetime': 1608386456, 'headline': 'Apple Can Very Well Take the Lead With On-Demand Fitness | Digital Trends', 'id': 61796454, 'image': 'https://icdn4.digitaltrends.com/image/digitaltrends/apple-fitness-2-1200x630-c-ar1.91.jpg', 'related': 'AAPL', 'source': 'https://www.digitaltrends.com', 'summary': 'Apple Fitness Plus just launched the company into the on-demand fitness space, paving the way to becoming a potential leader.', 'url': 'https://www.digitaltrends.com/health-fitness/apple-on-demand-fitness-leader-opinion/'}, {'category': 'company', 'datetime': 1608386401, 'headline': 'Fake delivery notices imitating Amazon, UPS, FedEx surge during biggest online shopping season ever', 'id': 61796293, 'image': 'https://image.cnbcfm.com/api/v1/image/106813920-1608338912245-GettyImages-1174418589.jpg?v=1608339029', 'related': 'AAPL', 'source': 'cnbc', 'summary': 'As online shopping sees its biggest season ever, hackers are sending fake delivery notices impersonating Amazon, UPS and FedEx, with scams up 72% from last year', 'url': 'https://www.cnbc.com/2020/12/19/holiday-shopping-delivery-scams-on-the-rise.html'}, {'category': 'company', 'datetime': 1608386400, 'headline': 'The staff of The Verge picks their 17 favorite podcasts', 'id': 61797220, 'image': 'https://cdn.vox-cdn.com/thumbor/uAlxZ35y8EDgQoxwpc2zbJ-hFcM=/0x46:640x381/fit-in/1200x630/cdn.vox-cdn.com/assets/3923601/microphone.jpg', 'related': 'AAPL', 'source': 'https://www.theverge.com', 'summary': 'Check out these 17 podcasts as recommended by staff members of The Verge.', 'url': 'https://www.theverge.com/22163667/2020-favorite-best-podcasts-tech-culture-apple-google-stitcher-soundcloud-spotify'}, {'category': 'company', 'datetime': 1608386400, 'headline': 'Apple Silicon in K-12 represents a massive upgrade for students - 9to5Mac', 'id': 61796490, 'image': 'https://i1.wp.com/9to5mac.com/wp-content/uploads/sites/6/2020/11/Apple-Silicon.jpeg?resize=1200%2C628&quality=82&strip=all&ssl=1', 'related': 'AAPL', 'source': 'https://9to5mac.com', 'summary': 'Apple Silicon in K-12 will offer massive benefits for students and teachers when it comes to laptop computing thanks to the enhanced battery.', 'url': 'https://9to5mac.com/2020/12/19/apple-silicon-k-12/'}, {'category': 'company', 'datetime': 1608386400, 'headline': 'Be Careful Out There', 'id': 61796275, 'image': 'https://static3.seekingalpha.com/assets/og_image_192-59bfd51c9fe6af025b2f9f96c807e46f8e2f06c5ae787b15bf1423e6c676d4db.png', 'related': 'AAPL', 'source': 'seekingalpha', 'summary': 'Pockets of the market look expensive, or even bubbly. Strong business growth alone does not guarantee strong gains for shareholders.', 'url': 'https://seekingalpha.com/article/4395448-be-careful-out'}, {'category': 'company', 'datetime': 1608385177, 'headline': 'Apple to Suspend New Orders to Wistron After India Workers Riot -  BNN Bloomberg', 'id': 61796425, 'image': 'http://www.bnnbloomberg.ca/img/tsn/logos/tsn-logo.png', 'related': 'AAPL', 'source': 'https://www.bnnbloomberg.ca', 'summary': '', 'url': 'https://www.bnnbloomberg.ca/apple-to-suspend-new-orders-to-wistron-after-india-workers-riot-1.1538841'}, {'category': 'company', 'datetime': 1608384548, 'headline': \"Apple places supplier Wistron 'on probation' following December 12 violence | Headlines\", 'id': 61796688, 'image': 'https://www.devdiscourse.com/remote.axd?https://devdiscourse.blob.core.windows.net/devnews/19_12_2020_13_29_01_4555491.jpg?width=920&format=jpeg', 'related': 'AAPL', 'source': 'https://www.devdiscourse.com', 'summary': 'Apple Inc on Saturday said that it has placed on \"probation\" its supplier Wistron and will not award the Taiwanese manufacturer of its phone sets any new business until it takes complete corrective actions and ensured all employees at its plant in Narasapura in Karnataka were treated with dignity and respect.', 'url': 'https://www.devdiscourse.com/article/headlines/1376788-apple-places-supplier-wistron-on-probation-following-december-12-violence'}, {'category': 'company', 'datetime': 1608384360, 'headline': 'Apple puts iPhone partner Wistron on probation after rioting workers caused $7 million worth of damage at Indian plant', 'id': 61797240, 'image': 'https://www.businessinsider.in/photo/79815412/apple-puts-iphone-partner-wistron-on-probation-after-rioting-workers-caused-7-million-worth-of-damage-at-indian-plant.jpg?imgsize=1227552', 'related': 'AAPL', 'source': 'https://www.businessinsider.in', 'summary': '', 'url': 'https://www.businessinsider.in/tech/news/apple-puts-iphone-partner-wistron-on-probation-after-rioting-workers-caused-7-million-worth-of-damage-at-indian-plant/articleshow/79815412.cms'}, {'category': 'company', 'datetime': 1608382808, 'headline': \"AirPods Max review: Apple's high-end headphones will excite your ears\", 'id': 61796890, 'image': 'https://cdn.cultofmac.com/wp-content/uploads/2020/12/IMG_0170.jpeg', 'related': 'AAPL', 'source': 'https://www.cultofmac.com', 'summary': \"Your wallet will take a beating, but Apple fans' ears will likely enjoy the convenience and the sizzling sound. An AirPods Max review.\", 'url': 'https://www.cultofmac.com/730754/airpods-max-review/'}, {'category': 'company', 'datetime': 1608382801, 'headline': 'Today in Apple history: Apple crushes Think Secret rumors site', 'id': 61796893, 'image': 'https://cdn.cultofmac.com/wp-content/uploads/2016/12/ThinkSecret.jpg', 'related': 'AAPL', 'source': 'https://www.cultofmac.com', 'summary': 'On December 19, 2007, Apple settles a lawsuit with rumor reporter Nick Ciarelli. The result? His Think Secret website closes down.', 'url': 'https://www.cultofmac.com/458849/tiah-think-secret/'}, {'category': 'company', 'datetime': 1608378715, 'headline': 'Wistron removes VP overseeing India ops; Apple puts firm on probation - The Statesman', 'id': 61796037, 'image': 'https://www.thestatesman.com/wp-content/uploads/2020/12/wistron-apple.jpg', 'related': 'AAPL', 'source': 'https://www.thestatesman.com', 'summary': 'Apple said that it has placed Wistron on probation and it will not receive any new business from the iPhone manufacturing company before corrective actions are completed.', 'url': 'https://www.thestatesman.com/technology/wistron-removes-vp-overseeing-india-ops-apple-puts-firm-probation-1502941620.html'}, {'category': 'company', 'datetime': 1608377820, 'headline': '3 Top Tech Stocks Under $20 Per Share', 'id': 61796956, 'image': 'https://www.nasdaq.com/sites/acquia.prod/files/2019-05/0902-Q19%20Total%20Markets%20photos%20and%20gif_CC8.jpg?821366379', 'related': 'AAPL', 'source': 'Nasdaq', 'summary': \"It's not hard to find stocks priced below $20 per share right now. The COVID-19 crisis turned Wall Street upside down in 2020, and there are plenty of inexpensive stocks on the market, even after the solid recovery we saw over the summer.With great risk comes great potential retu\", 'url': 'https://www.nasdaq.com/articles/3-top-tech-stocks-under-%2420-per-share-2020-12-19'}, {'category': 'company', 'datetime': 1608377610, 'headline': 'Apple puts supplier Wistron on notice after Indian factory violence | MarketScreener', 'id': 61795854, 'image': 'https://img.zonebourse.com/reuters/2020-12-19T080652Z_1_LYNXMPEGBI05R_RTROPTP_3_APPLE-INDIA-WISTRON.JPG', 'related': 'AAPL', 'source': 'https://www.marketscreener.com', 'summary': '', 'url': 'https://www.marketscreener.com/quote/stock/HON-HAI-PRECISION-INDUSTR-6492357/news/Apple-puts-supplier-Wistron-on-notice-after-Indian-factory-violence-32050767/'}, {'category': 'company', 'datetime': 1608377580, 'headline': 'Apple puts supplier Wistron on notice after Indian factory violence | Technology', 'id': 61796683, 'image': 'https://www.devdiscourse.com/remote.axd?https://devdiscourse.blob.core.windows.net/devnews/03_11_2020_11_12_29_3797261.jpg?width=920&format=jpeg', 'related': 'AAPL', 'source': 'https://www.devdiscourse.com', 'summary': \"Early findings of an Apple audit in the wake of violence at the Wistron plant in India's Karnataka state showed violations of its 'Supplier Code of Conduct', the Cupertino, California-based tech giant said in a statement.  Contract workers angry over unpaid wages destroyed property, gear and iPhones on Dec. 12, causing millions of dollars in losses to Wistron and forcing it to shut the plant.\", 'url': 'https://www.devdiscourse.com/article/technology/1376666-apple-puts-supplier-wistron-on-notice-after-indian-factory-violence'}, {'category': 'company', 'datetime': 1608377545, 'headline': 'Apple puts supplier Wistron on notice after Indian factory violence | MarketScreener', 'id': 61795862, 'image': 'https://img.zonebourse.com/reuters/2020-12-19T092645Z_1_LYNXMPEGBI06D-OCABS_RTROPTP_3_CBUSINESS-US-APPLE-INDIA.JPG', 'related': 'AAPL', 'source': 'https://www.marketscreener.com', 'summary': '', 'url': 'https://www.marketscreener.com/quote/stock/WISTRON-CORPORATION-6496539/news/Apple-puts-supplier-Wistron-on-notice-after-Indian-factory-violence-32050862/'}, {'category': 'company', 'datetime': 1608376655, 'headline': 'Apple says no new business for supplier Wistron after India plant violence', 'id': 61796513, 'image': 'https://cdn.trend.az/2017/12/09/apple_091217.jpg', 'related': 'AAPL', 'source': 'https://en.trend.az', 'summary': 'Apple Inc on Saturday said it had placed contract manufacturer Wistron on probation and would not give the Taiwanese firm new business until it took corrective actions following lapses at its southern India plant', 'url': 'https://en.trend.az/world/us/3352547.html'}, {'category': 'company', 'datetime': 1608376380, 'headline': 'Apple puts iPhone-maker Wistron on probation', 'id': 61795785, 'image': 'https://akm-img-a-in.tosshub.com/sites/btmt/images/stories/screenshot_2020-10-06_at_10_1200_201219164540.22-483x271.png', 'related': 'AAPL', 'source': 'https://m.businesstoday.in', 'summary': 'The company had said that it is investigating whether the Taiwanese contract manufacturer Wistron defied its supplier rules.', 'url': 'https://m.businesstoday.in/story/apple-puts-iphone-maker-wistron-on-probation/1/425431.html'}, {'category': 'company', 'datetime': 1608376295, 'headline': 'Apple puts supplier Wistron on notice after Indian factory violence | Technology', 'id': 61796684, 'image': 'https://www.devdiscourse.com/remote.axd?https://devdiscourse.blob.core.windows.net/devnews/03_11_2020_11_12_29_3797261.jpg?width=920&format=jpeg', 'related': 'AAPL', 'source': 'https://www.devdiscourse.com', 'summary': \"Early findings of an Apple audit in the wake of violence at the Wistron plant in India's Karnataka state showed violations of its 'Supplier Code of Conduct', the Cupertino, California-based tech giant said in a statement.  Contract workers angry over unpaid wages destroyed property, gear and iPhones on Dec. 12, causing millions of dollars in losses to Wistron and forcing it to shut the plant.\", 'url': 'https://www.devdiscourse.com/article/technology/1376643-apple-puts-supplier-wistron-on-notice-after-indian-factory-violence'}, {'category': 'company', 'datetime': 1608375630, 'headline': 'MacBook Air (2018) vs. Huawei MateBook 13: Thin Laptop Grudge Match | Digital Trends', 'id': 61796457, 'image': 'https://icdn2.digitaltrends.com/image/digitaltrends/huawei-matebook-13-review-1-1200x630-c-ar1.91.jpg', 'related': 'AAPL', 'source': 'https://www.digitaltrends.com', 'summary': 'If you want a premium slim and light laptop, there are two good options: The 2019 Huawei MateBook 13 and the 2018 Apple MacBook Air.\\xa0We compare the two.', 'url': 'https://www.digitaltrends.com/computing/apple-macbook-air-vs-huawei-matebook-13/'}, {'category': 'company', 'datetime': 1608375093, 'headline': \"Apple puts Wistron on probation after violence at plant; won't get new biz till corrective actions are taken\", 'id': 61796074, 'image': 'https://cdn.zeebiz.com/sites/default/files/2020/12/19/136062-wistron-reuters.PNG', 'related': 'AAPL', 'source': 'https://www.zeebiz.com', 'summary': 'Apple on Saturday said it has placed Wistron on probation and it will not receive any new business from the US-based company before corrective actions are completed.', 'url': 'https://www.zeebiz.com/technology/news-apple-puts-wistron-on-probation-after-violence-at-plant-wont-get-new-biz-till-corrective-actions-are-taken-144149'}, {'category': 'company', 'datetime': 1608374647, 'headline': 'Wistron removes VP overseeing India operations, finds fault in process at factory | Business', 'id': 61796693, 'image': 'https://www.devdiscourse.com/remote.axd?https://devdiscourse.blob.core.windows.net/imagegallery/24_07_2020_12_09_00_622987.png?width=920&format=jpeg', 'related': 'AAPL', 'source': 'https://www.devdiscourse.com', 'summary': 'Meanwhile, Apple said that it has placed Wistron on probation and it will not receive any new business from the US-based company before corrective actions are completed.Apple employees and independent auditors hired by Apple have been working around the clock to investigate the issues which occurred at Wistrons Narasapura facility, Apple said in a statement.', 'url': 'https://www.devdiscourse.com/article/business/1376612-wistron-removes-vp-overseeing-india-operations-finds-fault-in-process-at-factory'}, {'category': 'company', 'datetime': 1608374370, 'headline': 'Apple says no new business for Wistron after India plant violence', 'id': 61797213, 'image': 'https://arynews.tv/wp-content/uploads/2020/12/Apple-Wistron.jpg', 'related': 'AAPL', 'source': 'https://arynews.tv', 'summary': 'Apple said it had placed contract manufacturer Wistron on probation and would not give new business until it took corrective actions at India plant', 'url': 'https://arynews.tv/en/apple-wistron-india-plant-violence/'}, {'category': 'company', 'datetime': 1608374163, 'headline': 'Wistron put on probation, won’t get new biz from Apple before corrective actions are taken | Technology', 'id': 61797141, 'image': 'https://www.devdiscourse.com/remote.axd?https://devdiscourse.blob.core.windows.net/devnews/03_11_2020_11_12_29_3797261.jpg?width=920&format=jpeg', 'related': 'AAPL', 'source': 'https://www.devdiscourse.com', 'summary': 'Apple employees and independent auditors hired by Apple have been working around the clock to investigate the issues which occurred at Wistrons Narasapura facility, Apple said in a statement.It added that while these investigations are ongoing, preliminary findings indicate violations of its supplier code of conduct by failing to implement proper working hour management processes that led to payment delays for some workers in October and November.', 'url': 'https://www.devdiscourse.com/article/technology/1376605-wistron-put-on-probation-wont-get-new-biz-from-apple-before-corrective-actions-are-taken'}, {'category': 'company', 'datetime': 1608373476, 'headline': 'Apple puts Wistron on probation, no new business till corrective action is taken', 'id': 61796705, 'image': 'https://images.livemint.com/img/2020/12/19/600x338/c38c6ba8-413b-11eb-8518-9a2290876413_1608313301618_1608313324285_1608372979196.jpg', 'related': 'AAPL', 'source': 'https://www.livemint.com', 'summary': 'Apple says its main objective is to make sure all the workers are treated with dignity and respect, and fully compensated promptly.Contract employees at Wistron’s Kolar plant have alleged non-payment of salaries, unexplained wage cuts and increased working hours as reasons behind the 12 December riot', 'url': 'https://www.livemint.com/companies/news/apple-puts-wistron-on-probation-no-new-business-till-corrective-action-is-taken-11608372929212.html'}, {'category': 'company', 'datetime': 1608372284, 'headline': 'Apple puts supplier Wistron on notice after Indian factory violence', 'id': 61797221, 'image': 'https://assets.theedgemarkets.com/wistron-4516516_reuters.jpg?oYf.sGBCCSUz9aKMp8GmC4P2GoTfj5if', 'related': 'AAPL', 'source': 'https://www.theedgemarkets.com', 'summary': 'Apple Inc has placed supplier Wistron Corp on probation, saying on Saturday it would not award the Taiwanese contract manufacturer new business until it addressed the way workers were treated at its southern India plant.', 'url': 'https://www.theedgemarkets.com/article/apple-supplier-wistron-could-not-manage-scaled-india-plant-govt-report-says'}, {'category': 'company', 'datetime': 1608371527, 'headline': 'Narasapura plant rampage: Wistron accepts mistakes, sacks vice president; Apple puts firm on notice', 'id': 61795740, 'image': 'https://images.indianexpress.com/2020/12/Wistron-1.jpg', 'related': 'AAPL', 'source': 'https://indianexpress.com', 'summary': '“Since the unfortunate events at our Narasapura facility we have been investigating and have found that some workers were not paid correctly, or on time. We deeply regret this and apologize to all of our workers,” said a statement from Wistron on Saturday.', 'url': 'https://indianexpress.com/article/business/companies/apple-wistron-narasapura-violence-7111284/'}, {'category': 'company', 'datetime': 1608371238, 'headline': 'Apple says no new business for supplier Wistron after India plant violence | Technology', 'id': 61797121, 'image': 'https://www.devdiscourse.com/remote.axd?https://devdiscourse.blob.core.windows.net/devnews/16_12_2020_17_36_04_1883204.jpg?width=920&format=jpeg', 'related': 'AAPL', 'source': 'https://www.devdiscourse.com', 'summary': 'Early findings of an Apple audit, which followed violence at the Wistron plant in southern Karnataka state last weekend, show violations of the U.S. tech giant\\'s \\'Supplier Code of Conduct\\', Apple said in a statement.  Wistron failed to implement proper working hour management processes, which \"led to payment delays for some workers in October and November,\" Apple said.', 'url': 'https://www.devdiscourse.com/article/technology/1376556-apple-says-no-new-business-for-supplier-wistron-after-india-plant-violence'}, {'category': 'company', 'datetime': 1608371154, 'headline': 'Apple puts Wistron on probation, says no new business after India plant violence', 'id': 61796722, 'image': 'https://images.livemint.com/img/2020/12/19/600x338/e164474e-3ef8-11eb-8a95-c438983c6ed2_1608370265654_1608370292378.jpg', 'related': 'AAPL', 'source': 'https://www.livemint.com', 'summary': \"Wistron failed to implement proper working hour management processes, which 'led to payment delays for some workers in October and November,' Apple said\", 'url': 'https://www.livemint.com/companies/news/apple-puts-wistron-on-probation-says-no-new-business-after-india-plant-violence-11608370147741.html'}, {'category': 'company', 'datetime': 1608365640, 'headline': 'Apple to focus on cementing its position in mid-premium range phones', 'id': 61854935, 'image': 'https://bsmedia.business-standard.com/_media/bs/img/article/2020-11/21/full/1605902597-5057.jpg', 'related': 'AAPL', 'source': 'https://www.business-standard.com', 'summary': 'Apple will focus on cementing its position further in 2021 with wooing mid-premium range consumers in the price-conscious smartphone market, leading industry experts said', 'url': 'https://www.business-standard.com/article/technology/apple-to-focus-on-cementing-its-position-in-mid-premium-range-phones-120121900454_1.html'}, {'category': 'company', 'datetime': 1608364844, 'headline': \"'There’s nobody here': Covid turns Wall Street into a ghost town\", 'id': 61795438, 'image': 'https://i.guim.co.uk/img/media/f0a760adfcd5fb41755c4866c5b355df71f999d6/0_0_5124_3074/master/5124.jpg?width=1200&height=630&quality=85&auto=format&fit=crop&overlay-align=bottom%2Cleft&overlay-width=100p&overlay-base64=L2ltZy9zdGF0aWMvb3ZlcmxheXMvdGctZGVmYXVsdC5wbmc&enable=upscale&s=9b979685b651075a4c712d86bd050ae5', 'related': 'AAPL', 'source': 'theguardian', 'summary': 'Exodus that started after 9/11 has accelerated — and many fear New York’s financial district will not recover', 'url': 'https://www.theguardian.com/us-news/2020/dec/19/theres-nobody-here-covid-turns-wall-street-into-a-ghost-town'}, {'category': 'company', 'datetime': 1608363000, 'headline': \"Forget Apple: Here's a Better Dividend Growth Stock\", 'id': 61796194, 'image': 'https://www.nasdaq.com/sites/acquia.prod/files/2019-05/0902-Q19%20Total%20Markets%20photos%20and%20gif_CC8.jpg?594610195', 'related': 'AAPL', 'source': 'Nasdaq', 'summary': 'There is much to admire about Apple (NASDAQ: AAPL). The iPhone maker has long been a leader in the tech industry, and its innovative approach has translated to excellent financial results and market-beating returns for the past decade. Apple also pays a dividend, and since the co', 'url': 'https://www.nasdaq.com/articles/forget-apple%3A-heres-a-better-dividend-growth-stock-2020-12-19'}, {'category': 'company', 'datetime': 1608362105, 'headline': 'La combinación perfecta entre rendimiento, autonomía y portabilidad la he descubierto en el MacBook Air de 2020 con procesador M1', 'id': 61796741, 'image': 'https://cdn.businessinsider.es/sites/navi.axelspringer.es/public/styles/1200/public/media/image/2020/12/macbook-air-2020-m1-review-2165197.jpg?itok=htgF-ys4', 'related': 'AAPL', 'source': 'https://www.businessinsider.es', 'summary': 'El MacBook Air de 2020 con procesador M1 promete mucho. En esta ocasión he estado más dos semanas probándolo y creo que es la opción perfecta si buscas un portátil.', 'url': 'https://www.businessinsider.es/apple-macbook-air-2020-procesador-m1-analisis-precio-opinion-769207'}, {'category': 'company', 'datetime': 1608360807, 'headline': 'Personalised advertising, privacy are not at odds: Facebook tells Apple', 'id': 61796902, 'image': 'https://resize.indiatvnews.com/en/resize/newbucket/715_-/2020/11/facebook-pixabay-1605618171.jpg', 'related': 'AAPL', 'source': 'https://www.indiatvnews.com', 'summary': 'Apple CEO Tim Cook has said in a tweet that Facebook can continue to track users across apps and websites as before, App Tracking Transparency in iOS 14 will just require that they ask for your permission first.', 'url': 'https://www.indiatvnews.com/business/news-facebook-apple-ceo-tim-cookpersonalised-advertising-privacy-are-not-at-odds-672507'}, {'category': 'company', 'datetime': 1608358740, 'headline': 'These 3 COVID-19 Stocks Have Further Room To Run', 'id': 61796137, 'image': 'https://www.nasdaq.com/sites/acquia.prod/files/2019-05/0902-Q19%20Total%20Markets%20photos%20and%20gif_CC8.jpg?787913966', 'related': 'AAPL', 'source': 'Nasdaq', 'summary': 'For investors, 2020 has been something of a paradox. America is working through two parallel tragedies. The first is a disease that has claimed nearly 300,000 American lives as of this writing. The second is financial: In the second quarter,  real GDP fell by a third. , the worst', 'url': 'https://www.nasdaq.com/articles/these-3-covid-19-stocks-have-further-room-to-run-2020-12-19'}, {'category': 'company', 'datetime': 1608340270, 'headline': 'A14 Vs. Snapdragon 888: Benchmarks Suggest Apple Win', 'id': 61796056, 'image': 'https://static2.srcdn.com/wordpress/wp-content/uploads/2020/12/Apple-A14-Vs.-Snapdragon-888.jpg', 'related': 'AAPL', 'source': 'https://screenrant.com', 'summary': \"Qualcomm's 888 saw CPU gains, but A14 outperforms\", 'url': 'https://screenrant.com/a14-vs-snapdragon-888-apple-qualcomm-benchmarks-compared/'}, {'category': 'company', 'datetime': 1608337680, 'headline': 'These 5 Nasdaq Stocks Are the Ones to Watch in 2021', 'id': 61795173, 'image': 'https://www.nasdaq.com/sites/acquia.prod/files/2019-05/0902-Q19%20Total%20Markets%20photos%20and%20gif_CC8.jpg?1474567232', 'related': 'AAPL', 'source': 'Nasdaq', 'summary': '2020 has been a landmark year for stocks trading on the Nasdaq Stock Market. The Nasdaq Composite (NASDAQINDEX: ^IXIC) has dramatically outpaced the gains of other major market benchmarks, showing the strength of the companies that call the Nasdaq home.As we head into 2021, the N', 'url': 'https://www.nasdaq.com/articles/these-5-nasdaq-stocks-are-the-ones-to-watch-in-2021-2020-12-19'}, {'category': 'company', 'datetime': 1608337380, 'headline': 'Here Are Barron’s 10 Top Stocks for the New Year', 'id': 61792510, 'image': 'https://images.barrons.com/im-274801/social', 'related': 'AAPL', 'source': 'marketwatch', 'summary': 'The group offers good appreciation potential, while providing some downside protection if the stock market falters in 2021.', 'url': 'https://www.marketwatch.com/articles/barrons-10-best-stocks-for-2021-51608337138'}, {'category': 'company', 'datetime': 1608336997, 'headline': 'Apple Pay: Payments Systems Are Getting More And More Attention', 'id': 61795402, 'image': 'https://static3.seekingalpha.com/assets/og_image_192-59bfd51c9fe6af025b2f9f96c807e46f8e2f06c5ae787b15bf1423e6c676d4db.png', 'related': 'AAPL', 'source': 'seekingalpha', 'summary': \"Investors\\xa0 need to pay attention to what is happening in the area of payments systems because of the crucial role they play in the economy, and because of what's changing.\", 'url': 'https://seekingalpha.com/article/4395431-apple-pay-payments-systems-are-getting-and-attention'}, {'category': 'company', 'datetime': 1608336966, 'headline': \"Mujjo's leather iPhone 12 cases are a great alternative to Apple's official cases - 9to5Mac\", 'id': 61794903, 'image': 'https://i2.wp.com/9to5mac.com/wp-content/uploads/sites/6/2020/12/Review-Mujjo-Case-iPhone-12-08-min.jpg?resize=1200%2C628&quality=82&strip=all&ssl=1', 'related': 'AAPL', 'source': 'https://9to5mac.com', 'summary': 'I’m not exactly a fan of using my iPhone with a case, especially with the stunning new iPhone 12 design. Even so, I still like to have some cases around — either to protect my iPhone in some situations or to change its style from time to time. I’ve been using the Mujjo leather case […]', 'url': 'https://9to5mac.com/2020/12/18/mujjos-leather-iphone-12-cases-are-a-great-alternative-to-apples-official-cases/'}, {'category': 'company', 'datetime': 1608336480, 'headline': 'Apple Closing L.A. Stores as Covid Cases Grow', 'id': 61792511, 'image': 'https://images.barrons.com/im-249657/social', 'related': 'AAPL', 'source': 'marketwatch', 'summary': 'Apple’s stores in Orange County, south of Los Angeles, remain open for business, although appointments are required.', 'url': 'https://www.marketwatch.com/articles/apple-closing-l-a-stores-as-covid-cases-grow-51608336516'}, {'category': 'company', 'datetime': 1608336000, 'headline': 'iPhone 12 Battery Drain & Pixel 5 Screen Gap: 2020’s Biggest Phone Problems', 'id': 61797705, 'image': 'https://thumbor.forbes.com/thumbor/fit-in/1200x0/filters%3Aformat%28jpg%29/https%3A%2F%2Fspecials-images.forbesimg.com%2Fimageserve%2F5f6f616cc652a905adf2bf63%2F0x0.jpg%3FcropX1%3D324%26cropX2%3D3607%26cropY1%3D72%26cropY2%3D1994', 'related': 'AAPL', 'source': 'https://www.forbes.com', 'summary': 'Here are the biggest smartphone issues of 2020.', 'url': 'https://www.forbes.com/sites/jaymcgregor/2020/12/19/iphone-12-battery-drain--pixel-5-screen-gap-2020s-biggest-phone-problems/'}, {'category': 'company', 'datetime': 1608336000, 'headline': 'Apple Puts Supplier Wistron Corp On Probation After Labor Law Violations In India', 'id': 61797325, 'image': 'https://cdn.benzinga.com/files/imagecache/og_image_social_share_1200x630/images/story/2012/apple_store_4.jpeg', 'related': 'AAPL', 'source': 'benzinga', 'summary': 'Apple Inc\\xa0(NASDAQ: AAPL) has officially put a supplier in India, Wistron Corp., on probation.\\xa0\\nWhat Happened:\\xa0The tech giant said in a statement on Saturday that it...', 'url': 'https://www.benzinga.com/news/20/12/18865836/apple-puts-supplier-wistron-corp-on-probation-after-labor-law-violations-in-india'}, {'category': 'company', 'datetime': 1608336000, 'headline': 'AirPods Max: Apple Reveals Surprising Details That’ll Change How You Use Them', 'id': 61796559, 'image': 'https://thumbor.forbes.com/thumbor/fit-in/1200x0/filters%3Aformat%28jpg%29/https%3A%2F%2Fspecials-images.forbesimg.com%2Fimageserve%2F5fd4b5b5becfc6a1e87f7ea6%2F0x0.jpg', 'related': 'AAPL', 'source': 'https://www.forbes.com', 'summary': 'The new AirPods Max are on sale now, but new stuff is being disclosed by Apple that makes things much clearer about how they charge and discharge…', 'url': 'https://www.forbes.com/sites/davidphelan/2020/12/19/airpods-max-apple-reveals-surprising-details-thatll-change-how-you-use-them/'}, {'category': 'company', 'datetime': 1608333336, 'headline': \"Apple's Fitness+ is an engaging service for Apple users, but you should try before you buy\", 'id': 61796310, 'image': 'https://cdn.cnn.com/cnnnext/dam/assets/201218170707-apple-fitness-plus-lead-super-169.jpg', 'related': 'AAPL', 'source': 'https://www.cnn.com', 'summary': '', 'url': 'https://www.cnn.com/2020/12/18/cnn-underscored/apple-fitness-plus-review/index.html'}, {'category': 'company', 'datetime': 1608333336, 'headline': \"Apple's Fitness+ is an engaging service for Apple users, but you should try before you buy\", 'id': 61795513, 'image': 'https://cdn.cnn.com/cnnnext/dam/assets/201218170707-apple-fitness-plus-lead-super-169.jpg', 'related': 'AAPL', 'source': 'https://edition.cnn.com', 'summary': '', 'url': 'https://edition.cnn.com/2020/12/18/cnn-underscored/apple-fitness-plus-review/index.html'}, {'category': 'company', 'datetime': 1608329141, 'headline': 'Facebook now warning users about impacts on ads due to new iOS 14 privacy features - 9to5Mac', 'id': 61791398, 'image': 'https://i0.wp.com/9to5mac.com/wp-content/uploads/sites/6/2020/12/Facebook-Apple-warning.jpg?resize=1200%2C628&quality=82&strip=all&ssl=1', 'related': 'AAPL', 'source': 'https://9to5mac.com', 'summary': 'As we covered here this week, Facebook criticized Apple with a full-page ad in US newspapers due to the new App Store guidelines, which will force apps to offer an option for users not to be tracked across the web. After Apple responded to Facebook, the company started warning iOS users in its official apps […]', 'url': 'https://9to5mac.com/2020/12/18/facebook-now-warning-users-about-impacts-on-ads-due-to-new-ios-14-privacy-features/'}, {'category': 'company', 'datetime': 1608327180, 'headline': 'Apple Inc. stock underperforms Friday when compared to competitors', 'id': 61790461, 'image': 'https://images.mktw.net/im-213861/social', 'related': 'AAPL', 'source': 'marketwatch', 'summary': 'Shares of Apple Inc. slipped 1.59% to $126.66 Friday, on what proved to be an all-around dismal trading session for the stock market, with the NASDAQ...', 'url': 'https://www.marketwatch.com/story/apple-inc-stock-underperforms-friday-when-compared-to-competitors-01608327205-48fef3e6a51d'}, {'category': 'company', 'datetime': 1608324600, 'headline': '2021’s Big Surprise: A Booming Economy and a Tepid Stock Market', 'id': 61794210, 'image': 'https://images.barrons.com/im-275651/social', 'related': 'AAPL', 'source': 'MarketWatch', 'summary': 'The biggest mistake investors may be making is looking at the past decade and extrapolating into the future. We won’t make the same mistakes this time.', 'url': 'https://www.marketwatch.com/articles/2021s-big-surprise-a-booming-economy-and-a-tepid-stock-market-51608342640'}, {'category': 'company', 'datetime': 1608324220, 'headline': 'Intel falls on report Microsoft plans to design own chips for PCs and servers', 'id': 61790192, 'image': 'https://image.cnbcfm.com/api/v1/image/106748408-1608327045950-106748408-1602880833235-gettyimages-881808560-MICROSOFT_SHAREHOLDERS.jpg?v=1608327076', 'related': 'AAPL', 'source': 'cnbc', 'summary': 'Intel has famously had a long-running partnership with Microsoft as the primary processor maker for Windows PCs.', 'url': 'https://www.cnbc.com/2020/12/18/intel-falls-on-report-microsoft-will-design-own-chips-for-pcs-servers.html'}, {'category': 'company', 'datetime': 1608323820, 'headline': '2021 Could Be Challenging for Tech Stocks. Here’s Why.', 'id': 61794198, 'image': 'https://images.barrons.com/im-275648/social', 'related': 'AAPL', 'source': 'MarketWatch', 'summary': 'The landscape for tech will get tricker in 2021. There are regulatory challenges and rising rates to worry about. But the biggest headwind for tech stocks is...', 'url': 'https://www.marketwatch.com/articles/2021-could-be-a-challenge-for-tech-stocks-heres-why-51608341843'}, {'category': 'company', 'datetime': 1608322188, 'headline': 'Is Apple Stock a Buy Heading Into 2021? This Is What You Need to Know', 'id': 61796084, 'image': 'https://www.nasdaq.com/sites/acquia.prod/files/2019-05/0902-Q19%20Total%20Markets%20photos%20and%20gif_CC8.jpg?1858763270', 'related': 'AAPL', 'source': 'Nasdaq', 'summary': \"Much has been made of the major near term catalyst for Apple (AAPL) -- the iPhone 12 supercycle. The anticipation is for a big chunk of Apple’s global fanbase to upgrade to the new 5G-enabled handsets over the next few years.However, J.P. Morgan analyst Samik Chatterjee says expectations might be a tad optimistic.“While checks indicate robust demand for 5G iPhones, particularly with lead times expanding for iPhone 12 Pro, upside to aggregate volume expectations relative to bullish buy-side expectations appears limited, which have been primed for a strong 5G cycle,” the 5-star analyst said.In fact, heading into the new year, Chatterjee tempers investors’ expectations for Apple stock to deliver the same returns investors have grown accustomed to during the last few years’ bull run. The analyst says shareholders should expect “modest returns in 2021.”That’s not to say Chatterjee thinks Apple’s issues run any deeper. These “modest returns” are in the 20% region (vs. this year’s 74% gain). Moreover, the analyst believes there are other causes for optimism.In contrast to lowered 5G expectations, checks are “indicating better consumer demand for legacy iPhones (particularly iPhone 11),” and there are “WFH tailwinds for Mac/iPad, and anecdotal evidence on strength in Wearables.”The latter, in particular, could be a source of upside in FY21.“Recent promotional activity as well as consumer preference relative to Apple Watch and Airpods suggests upside to consensus estimates for the Wearables segment,” Chatterjee said. “For example, latest IDC forecast estimates Apple Watch volumes to increase +20% y/y in CY21, a mid- to high-single digit increase over forecast earlier in the year.”Overall, Chatterjee reiterated an Overweight (i.e. Buy) rating on Apple shares along with a $150 price target, which implies an 18% upside from current levels. (To watch Chatterjee’s track record, click here)Where does the rest of the Street side on Apple? It appears mostly bullish. Apple's Moderate Buy consensus rating is based on 30 reviews breaking down to 23 Buys, 6 Holds and a single Sell. However, the majority expect shares to stay range bound for now, as the current $131.88 average price target indicates. (See Apple stock analysis on TipRanks)To find good ideas for tech stocks trading at attractive valuations, visit TipRanks’ Best Stocks to Buy, a newly launched tool that unites all of TipRanks’ equity insights.Disclaimer: The opinions expressed in this article are solely those of the featured analyst. The content is intended to be used for informational purposes only. It is very important to do your own analysis before making any investment.\", 'url': 'https://www.nasdaq.com/articles/is-apple-stock-a-buy-heading-into-2021-this-is-what-you-need-to-know-2020-12-18'}, {'category': 'company', 'datetime': 1608321600, 'headline': \"COVID-19: Here's every open Apple Store - 9to5Mac\", 'id': 61791403, 'image': 'https://i1.wp.com/9to5mac.com/wp-content/uploads/sites/6/2020/05/infinite_pivot_steeber.jpg?resize=1200%2C628&quality=82&strip=all&ssl=1', 'related': 'AAPL', 'source': 'https://9to5mac.com', 'summary': \"Is your local Apple Store open? As some regions ease lockdown measures, Apple is beginning to reopen stores. Here's a list of every reopened location.\", 'url': 'https://9to5mac.com/2020/12/18/apple-retail-store-coronavirus-tracker/'}, {'category': 'company', 'datetime': 1608319959, 'headline': 'Apple “Personal Safety is At Risk” document helps you avoid stalkers', 'id': 61795833, 'image': 'https://cdn.slashgear.com/wp-content/uploads/2020/12/prin3323.jpg', 'related': 'AAPL', 'source': 'https://www.slashgear.com', 'summary': 'Apple just published a document called “Device and Data Access when Personal Safety is At Risk.” This document was published as a PDF, made to exist as a guide for users of all sorts, b…', 'url': 'https://www.slashgear.com/apple-personal-safety-is-at-risk-document-helps-you-avoid-stalkers-18651822/'}, {'category': 'company', 'datetime': 1608317418, 'headline': 'Don’t hold out for an OLED iPad Pro in 2021', 'id': 61795317, 'image': 'https://cdn.cultofmac.com/wp-content/uploads/2020/03/06958F4F-E2AC-4F20-B719-4F5D5E012CEC.jpeg', 'related': 'AAPL', 'source': 'https://www.cultofmac.com', 'summary': 'Apple reportedly isn’t prepping a iPad Pro with an OLED display in 2021. But one with a mini-LED screen could still be on the way.', 'url': 'https://www.cultofmac.com/730746/dont-hold-out-for-an-oled-ipad-pro-in-2021/'}, {'category': 'company', 'datetime': 1608315043, 'headline': 'Riot-hit Wistron hired more than it could handle', 'id': 61794980, 'image': 'https://images.livemint.com/img/2020/12/18/600x338/c38c6ba8-413b-11eb-8518-9a2290876413_1608313301618_1608313324354.jpg', 'related': 'AAPL', 'source': 'https://www.livemint.com', 'summary': 'The rapid expansion stretched the company’s systems and sapped the bandwidth of its management team.On 12 December, many workers—promised roughly  ₹15,000 a month—rioted over unpaid salaries', 'url': 'https://www.livemint.com/companies/news/riot-hit-wistron-hired-more-than-it-could-handle-11608313077107.html'}, {'category': 'company', 'datetime': 1608315000, 'headline': 'Why Intel Stock Was Such a Dog on Friday', 'id': 61793843, 'image': 'https://www.nasdaq.com/sites/acquia.prod/files/2019-05/0902-Q19%20Total%20Markets%20photos%20and%20gif_CC8.jpg?864063144', 'related': 'AAPL', 'source': 'Nasdaq', 'summary': \"What happenedOnce the head of the pack in computer processors, Intel (NASDAQ: INTC) is coming under serious attack in its core business. Rival big tech companies are opting to develop their own chips, with the latest being mighty Microsoft (NASDAQ: MSFT). On Friday's news that Mi\", 'url': 'https://www.nasdaq.com/articles/why-intel-stock-was-such-a-dog-on-friday-2020-12-18'}, {'category': 'company', 'datetime': 1608314991, 'headline': 'Opinion | Facebook’s Tone-Deaf Attack on Apple', 'id': 61795613, 'image': 'https://static01.nyt.com/images/2020/12/18/opinion/18swisher-01/merlin_179943960_c79e20f5-da59-4043-ad80-f8d6cfaecd1d-videoSixteenByNine3000.jpg', 'related': 'AAPL', 'source': 'https://www.nytimes.com', 'summary': 'The company declared in newspaper ads that it was “standing up to Apple.” It’s a desperate ploy that’s unlikely to work.', 'url': 'https://www.nytimes.com/2020/12/18/opinion/facebook-apple-ads.html'}, {'category': 'company', 'datetime': 1608314914, 'headline': 'The Next Stock Market Crash Is Rooted In This Cognitive Misconception', 'id': 61834074, 'image': 'https://static3.seekingalpha.com/assets/og_image_192-59bfd51c9fe6af025b2f9f96c807e46f8e2f06c5ae787b15bf1423e6c676d4db.png', 'related': 'AAPL', 'source': 'seekingalpha', 'summary': 'Cheap money and ever-rising stock markets naturally lead to a correction or even a crash because until now, every party has ended at some point.', 'url': 'https://seekingalpha.com/insight/investing-strategy/article/4395384-next-stock-market-crash-is-rooted-in-this-cognitive-misconception'}, {'category': 'company', 'datetime': 1608314914, 'headline': 'The Next Stock Market Crash Is Rooted In This Cognitive Misconception', 'id': 61796399, 'image': 'https://static3.seekingalpha.com/assets/og_image_192-59bfd51c9fe6af025b2f9f96c807e46f8e2f06c5ae787b15bf1423e6c676d4db.png', 'related': 'AAPL', 'source': 'seekingalpha', 'summary': 'Cheap money and ever-rising stock markets naturally lead to a correction or even a crash because until now, every party has ended at some point.', 'url': 'https://seekingalpha.com/article/4395384-next-stock-market-crash-is-rooted-in-this-cognitive-misconception'}, {'category': 'company', 'datetime': 1608313113, 'headline': 'Apple shuts some California stores as coronavirus cases spike', 'id': 61793844, 'image': 'https://www.nasdaq.com/sites/acquia.prod/files/2020-11-05T201729Z_1535999540_RC28XJ99GTHT_RTRMADP_2_USA-ELECTION.JPG?901334209', 'related': 'AAPL', 'source': 'Nasdaq', 'summary': \"Apple Inc said on Friday it was temporarily shutting some stores in California following a surge in COVID-19 cases in the state, sending the iPhone maker's shares down 1.3% in trading after the bell.\", 'url': 'https://www.nasdaq.com/articles/apple-shuts-some-california-stores-as-coronavirus-cases-spike-2020-12-18'}, {'category': 'company', 'datetime': 1608312914, 'headline': 'Microsoft working on in-house chips for its servers, PCs', 'id': 61792330, 'image': 'https://www.nasdaq.com/sites/acquia.prod/files/2020-06-27T000413Z_1730766054_RC2CHH9BDGRA_RTRMADP_2_HEALTH-CORONAVIRUS-USA.JPG?1098937559', 'related': 'AAPL', 'source': 'Nasdaq', 'summary': 'Microsoft Corp is working on in-house processors for the servers running its cloud-computing services and Surface line of personal computers, potentially cutting its reliance on Intel Corp, a person familiar with the matter told Reuters.', 'url': 'https://www.nasdaq.com/articles/microsoft-working-on-in-house-chips-for-its-servers-pcs-2020-12-18-0'}, {'category': 'company', 'datetime': 1608311760, 'headline': 'Dow Jones Down 150 Points as Apple Stock Slumps, Market Awaits Nike Earnings | The Motley Fool', 'id': 61794997, 'image': 'https://g.foolcdn.com/editorial/images/605494/people-using-phones.jpg', 'related': 'AAPL', 'source': 'https://www.fool.com', 'summary': 'Apple may be gaining market share in China, and Nike will report results this afternoon.', 'url': 'https://www.fool.com/investing/2020/12/18/dow-jones-down-150-points-as-apple-stock-slumps-ma/'}, {'category': 'company', 'datetime': 1608311760, 'headline': 'Dow Jones Down 150 Points as Apple Stock Slumps, Market Awaits Nike Earnings | The Motley Fool', 'id': 61794984, 'image': 'https://g.foolcdn.com/editorial/images/605494/people-using-phones.jpg', 'related': 'AAPL', 'source': 'https://markets.businessinsider.com', 'summary': 'Apple may be gaining market share in China, and Nike will report results this afternoon.', 'url': 'https://markets.businessinsider.com/news/stocks/dow-jones-down-150-points-as-apple-stock-slumps--market-awaits-nike-earnings-9630925'}, {'category': 'company', 'datetime': 1608310608, 'headline': \"Apple publishes new support resources for managing 'device and data access when personal safety is at risk' - 9to5Mac\", 'id': 61791400, 'image': 'https://i1.wp.com/9to5mac.com/wp-content/uploads/sites/6/2020/06/Apple_mbp-iphone11pro-ipadpro-find-my-screen_06222020_big.jpg.large_2x.jpg?resize=1200%2C628&quality=82&strip=all&ssl=1', 'related': 'AAPL', 'source': 'https://9to5mac.com', 'summary': 'Apple has published a new support guide this week that offers users an in-depth guide at managing their data and information on iPhone, iPad, Apple Watch, and Mac. The new document is entitled “Device and Data Access when Personal Safety is At Risk.” Apple says that the goal of this new manual is to “help […]', 'url': 'https://9to5mac.com/2020/12/18/apple-data-privacy-guide/'}, {'category': 'company', 'datetime': 1608310145, 'headline': 'How Are We Supposed to Care About MagSafe if Apple Doesn’t? | Digital Trends', 'id': 61796476, 'image': 'https://icdn3.digitaltrends.com/image/digitaltrends/iphone-12-iphone-12-pro-magsafe-accessories-1200x630-c-ar1.91.jpg', 'related': 'AAPL', 'source': 'https://www.digitaltrends.com', 'summary': \"Apple has brought back MagSafe for the iPhone 12, and it offers a way to magnetically attach chargers and accessories to the device. But it's a bit unfinished.\", 'url': 'https://www.digitaltrends.com/mobile/apple-magsafe-half-baked/'}, {'category': 'company', 'datetime': 1608309955, 'headline': 'How to get Apple Fitness Plus', 'id': 61786511, 'image': 'https://cdn.mos.cms.futurecdn.net/CvUewTbRxbkJv4z5XsFuNW-1200-80.jpg', 'related': 'AAPL', 'source': 'https://www.techradar.com', 'summary': \"Get started with Apple's on-demand workout service\", 'url': 'https://www.techradar.com/how-to/how-to-get-apple-fitness-plus'}, {'category': 'company', 'datetime': 1608307497, 'headline': 'With no AirPods Max power button, here’s how Apple handles battery life', 'id': 61785591, 'image': 'https://cdn.slashgear.com/wp-content/uploads/2020/12/apple-airpods-max-headphones-4-1.jpg', 'related': 'AAPL', 'source': 'https://www.slashgear.com', 'summary': 'Apple’s AirPods Max headphones are controversial for several good reasons, but while the price may be the biggest shock, the absence of a power button could make more of a difference in daily…', 'url': 'https://www.slashgear.com/with-no-airpods-max-power-button-heres-how-apple-handles-battery-life-18651782/'}, {'category': 'company', 'datetime': 1608307080, 'headline': \"Dow's 50-point fall led by losses in shares of Intel, Apple Inc.\", 'id': 61789558, 'image': 'https://images.mktw.net/im-220108', 'related': 'AAPL', 'source': 'MarketWatch', 'summary': 'Shares of Intel and Apple Inc. are trading lower Friday afternoon, dragging the Dow Jones Industrial Average into negative territory. The Dow was most...', 'url': 'https://www.marketwatch.com/story/dows-50-point-fall-led-by-losses-in-shares-of-intel-apple-inc-2020-12-18'}, {'category': 'company', 'datetime': 1608306912, 'headline': 'Fiona Apple Calls Dr. Luke’s Grammy Nomination ‘Bullshit’', 'id': 61790035, 'image': 'https://pyxis.nymag.com/v1/imgs/d0e/fd8/4c125e6f5f12143117a2fc734afa206d03-fiona-apple.1x.rsocial.w1200.jpg', 'related': 'AAPL', 'source': 'https://www.vulture.com', 'summary': 'She also talked about being nominated for Best Rock Performance alongside all women.', 'url': 'https://www.vulture.com/2020/12/fiona-apple-dr-luke-grammy-bullshit.html'}, {'category': 'company', 'datetime': 1608306120, 'headline': '5 Reasons Apple Stock Can Keep Rallying in 2021', 'id': 61784449, 'image': 'https://images.barrons.com/im-275348/social', 'related': 'AAPL', 'source': 'marketwatch', 'summary': 'Citigroup’s Jim Suva reiterated his Buy rating on Apple shares, lifting his target price to $150 from $125. Here’s why.', 'url': 'https://www.marketwatch.com/articles/5-reasons-apple-stock-can-keep-rallying-in-2021-51608306165'}, {'category': 'company', 'datetime': 1608305894, 'headline': 'FaceTime patent infringement cost could top $1B - 9to5Mac', 'id': 61791413, 'image': 'https://i0.wp.com/9to5mac.com/wp-content/uploads/sites/6/2020/12/FaceTime-patent-infringement-continues.jpg?resize=1200%2C628&quality=82&strip=all&ssl=1', 'related': 'AAPL', 'source': 'https://9to5mac.com', 'summary': \"A long-running FaceTime patent infringement battle isn't over yet, despite Apple paying VirnetX the full $454M awarded against it ...\", 'url': 'https://9to5mac.com/2020/12/18/facetime-patent-infringement-2/'}, {'category': 'company', 'datetime': 1608321420, 'headline': \"Intel, Chevron share losses contribute to Dow's nearly 250-point drop\", 'id': 61788302, 'image': 'https://images.mktw.net/im-220108', 'related': 'AAPL', 'source': 'marketwatch', 'summary': 'Shares of Intel and Chevron are trading lower Friday afternoon, sending the Dow Jones Industrial Average into negative territory. The Dow was most recently...', 'url': 'https://www.marketwatch.com/story/intel-chevron-share-losses-contribute-to-dows-nearly-250-point-drop-2020-12-18'}, {'category': 'company', 'datetime': 1608302647, 'headline': 'Apple AirPods Max review', 'id': 61796280, 'image': 'https://cdn.mos.cms.futurecdn.net/HeoanpbqjjDDzMPfpEfta4-1200-80.jpg', 'related': 'AAPL', 'source': 'https://www.techradar.com', 'summary': 'The perfect headphones for Apple devotees', 'url': 'https://www.techradar.com/reviews/airpods-max'}, {'category': 'company', 'datetime': 1608302227, 'headline': 'The Major Difference Between The Dot-Com Bubble Of 1999 And Today', 'id': 61783286, 'image': 'https://static3.seekingalpha.com/assets/og_image_192-59bfd51c9fe6af025b2f9f96c807e46f8e2f06c5ae787b15bf1423e6c676d4db.png', 'related': 'AAPL', 'source': 'seekingalpha', 'summary': 'The similarities I see between 1999 and today continue to grow. We could see even greater extremes in 2021 before the bubble in financial assets ultimately bursts.', 'url': 'https://seekingalpha.com/article/4395343-major-difference-dot-com-bubble-of-1999-and-today'}, {'category': 'company', 'datetime': 1608301800, 'headline': 'In 2020, live product launches turned into infomercials', 'id': 61795978, 'image': 'https://cdn.vox-cdn.com/thumbor/-udb64oTbtrr-nZUkLosf_Qxr7M=/0x146:2040x1214/fit-in/1200x630/cdn.vox-cdn.com/uploads/chorus_asset/file/22154677/acastro_201207_4324_infomercials_0001.0.jpg', 'related': 'AAPL', 'source': 'https://www.theverge.com', 'summary': 'From Apple to Amazon, prerecorded live launches took over 2020.', 'url': 'https://www.theverge.com/22167381/art-club'}, {'category': 'company', 'datetime': 1608301800, 'headline': 'In 2020, live product launches turned into infomercials', 'id': 61795586, 'image': 'https://cdn.vox-cdn.com/thumbor/-udb64oTbtrr-nZUkLosf_Qxr7M=/0x146:2040x1214/fit-in/1200x630/cdn.vox-cdn.com/uploads/chorus_asset/file/22154677/acastro_201207_4324_infomercials_0001.0.jpg', 'related': 'AAPL', 'source': 'https://www.theverge.com', 'summary': 'From Apple to Amazon, prerecorded live launches took over 2020.', 'url': 'https://www.theverge.com/22167381/2020-product-launches-live-informercials-pandemic-tech-events-apple-wwdc-iphone-12-google-amazon'}, {'category': 'company', 'datetime': 1608301508, 'headline': \"iPhone 12 supercycle: analyst says 'reality is matching the hype' - 9to5Mac\", 'id': 61791414, 'image': 'https://i0.wp.com/9to5mac.com/wp-content/uploads/sites/6/2020/12/iPhone-12-supercycle-is-real-says-analyst.jpg?resize=1200%2C628&quality=82&strip=all&ssl=1', 'related': 'AAPL', 'source': 'https://9to5mac.com', 'summary': 'There was much talk about an iPhone 12 supercycle – a year in which dramatically more people than usual upgrade to the latest models ...', 'url': 'https://9to5mac.com/2020/12/18/iphone-12-supercycle-analyst-says-reality-is-matching-the-hype/'}, {'category': 'company', 'datetime': 1608300299, 'headline': 'Apple Pay could be used in 1 of every 10 card transactions by 2025', 'id': 61795312, 'image': 'https://cdn.cultofmac.com/wp-content/uploads/2020/12/cardmapr-rAetEswXd-s-unsplash.jpg', 'related': 'AAPL', 'source': 'https://www.cultofmac.com', 'summary': 'Apple Pay could also be a rising vulnerability for Apple as it defends itself against antitrust accusations, says the Financial Times.', 'url': 'https://www.cultofmac.com/730693/apple-pay-could-be-used-in-1-of-every-10-card-transactions-by-2025/'}, {'category': 'company', 'datetime': 1608300002, 'headline': 'Should you buy the Apple Watch Series 3 or the Fitbit Versa 3?', 'id': 61790133, 'image': 'https://www.androidcentral.com/sites/androidcentral.com/files/styles/large/public/article_images/2020/09/fitbit-versa-3-hero-image.jpg', 'related': 'AAPL', 'source': 'https://www.androidcentral.com', 'summary': \"If you're currently deciding between the Apple Watch Series 3 and the Fitbit Versa 3, we've got some helpful information for you.\", 'url': 'https://www.androidcentral.com/apple-watch-series-3-vs-fitbit-versa-3'}, {'category': 'company', 'datetime': 1608300000, 'headline': 'Dividend Growth 50: After 6 Years, Still The Apple (And Microsoft) Of My Eye', 'id': 61788323, 'image': 'https://static3.seekingalpha.com/assets/og_image_192-59bfd51c9fe6af025b2f9f96c807e46f8e2f06c5ae787b15bf1423e6c676d4db.png', 'related': 'AAPL', 'source': 'seekingalpha', 'summary': \"The real-money DG50 portfolio had another solid year, but it couldn't match the red-hot market's total return.\", 'url': 'https://seekingalpha.com/article/4395289-dividend-growth-50-after-6-years-still-apple-and-microsoft-of-eye'}, {'category': 'company', 'datetime': 1608298693, 'headline': 'Explained: Why Facebook released ads to call out Apple’s new anti-tracking policy', 'id': 61795847, 'image': 'https://images.indianexpress.com/2020/12/Apple-Facebook.jpg', 'related': 'AAPL', 'source': 'https://indianexpress.com', 'summary': 'This is not the first time that Apple and Facebook have clashed over the issue of privacy. Apple CEO Tim Cook has in the past been critical of Facebook’s business model.', 'url': 'https://indianexpress.com/article/explained/facebook-apple-anti-tracking-policy-tim-cook-7110278/'}, {'category': 'company', 'datetime': 1608295680, 'headline': 'Riot-hit iPhone supplier Wistron hired more than it could handle: Report', 'id': 61783155, 'image': 'https://bsmedia.business-standard.com/_media/bs/img/article/2020-12/16/full/1608059671-9411.jpg', 'related': 'AAPL', 'source': 'https://www.business-standard.com', 'summary': \"The rapid expansion stretched the company's systems and sapped the bandwidth of its management team\", 'url': 'https://www.business-standard.com/article/companies/riot-hit-iphone-supplier-wistron-hired-more-than-it-could-handle-report-120121801034_1.html'}, {'category': 'company', 'datetime': 1608294840, 'headline': 'Apple Fitness+ review: a great idea if you have all the Apple gear', 'id': 61788270, 'image': 'https://cdn.images.express.co.uk/img/dynamic/59/750x445/1372351.jpg', 'related': 'AAPL', 'source': 'https://www.express.co.uk', 'summary': \"APPLE FITNESS+ finally arrives today and offers an easy way to stay in shape for a small monthly fee. So, is this personal trainer in your pocket worth a go? Here's our full Apple Fitness+ review...\", 'url': 'https://www.express.co.uk/life-style/science-technology/1372351/Apple-Fitness-review-Apple-Watch-iPhone-iPad-reach-review'}, {'category': 'company', 'datetime': 1608293814, 'headline': 'Tesla’s Baffling Valuation Makes It Uninvestable At This Point', 'id': 61797397, 'image': 'https://www.nasdaq.com/sites/acquia.prod/files/2019-05/0902-Q19%20Total%20Markets%20photos%20and%20gif_CC8.jpg?1437118740', 'related': 'AAPL', 'source': 'Nasdaq', 'summary': 'InvestorPlace - Stock Market News, Stock Advice & Trading Tips', 'url': 'https://www.nasdaq.com/articles/teslas-baffling-valuation-makes-it-uninvestable-at-this-point-2020-12-18'}, {'category': 'company', 'datetime': 1608293760, 'headline': 'Dow Jones Down 150 Points as Apple Stock Slumps, Market Awaits Nike Earnings', 'id': 61787893, 'image': 'https://www.nasdaq.com/sites/acquia.prod/files/2019-05/0902-Q19%20Total%20Markets%20photos%20and%20gif_CC8.jpg?1330575282', 'related': 'AAPL', 'source': 'Nasdaq', 'summary': 'The first COVID-19 vaccine continued to roll out on Friday, with Vice President Mike Pence publicly receiving the vaccine. This is happening against a backdrop of a worsening pandemic. The U.S. had over 3,000 deaths from COVID-19 on Dec. 17, according to Johns Hopkins University,', 'url': 'https://www.nasdaq.com/articles/dow-jones-down-150-points-as-apple-stock-slumps-market-awaits-nike-earnings-2020-12-18'}, {'category': 'company', 'datetime': 1608293759, 'headline': 'Patent Filings Roundup: Joao is Back Against Banks, Shipping Industry; Generic Vasostrict® Litigation on New Formulation/Method-of-Use Patent', 'id': 61786500, 'image': 'https://www.ipwatchdog.com/wp-content/uploads/2020/05/Depositphotos_45517555_xl-2015-scaled.jpg', 'related': 'AAPL', 'source': 'https://www.ipwatchdog.com', 'summary': 'December remains a light month at the Patent Trial and Appeal Board (PTAB), with just 16 petitions filed last week, 15 inter partes reviews (IPRs) and one post grant review (PGR). District court cases were steady, with 62, propped up by a new banking campaign by Raymond Anthony Joao.', 'url': 'https://www.ipwatchdog.com/2020/12/18/patent-filings-roundup-joao-back-banks-shipping-industry-generic-vasostrict-litigation-new-formulation-method-use-patent/id=128411/'}, {'category': 'company', 'datetime': 1608293435, 'headline': 'Como a Apple tem avançado a responsabilidade social corporativa com resposta à covid-19 - Computerworld', 'id': 61796316, 'image': 'https://computerworld.com.br/wp-content/uploads/2020/12/apple-responsabilidade-social.jpg', 'related': 'AAPL', 'source': 'https://computerworld.com.br', 'summary': 'Desde trabalho voluntário de colaboradores à liderança alinhada com propósitos de novos tempos, Apple joga luz a valores éticos nas corporações', 'url': 'https://computerworld.com.br/negocios/como-a-apple-tem-avancado-a-responsabilidade-social-corporativa-com-resposta-a-covid-19/'}, {'category': 'company', 'datetime': 1608292964, 'headline': 'AirPods Max Smart Case makes little difference to battery life - 9to5Mac', 'id': 61800044, 'image': 'https://i2.wp.com/9to5mac.com/wp-content/uploads/sites/6/2020/12/AirPods-Max-Smart-Case.jpg?resize=1200%2C628&quality=82&strip=all&ssl=1', 'related': 'AAPL', 'source': 'https://9to5mac.com', 'summary': 'The AirPods Max Smart Case has almost received more attention than the headphones themselves. While Apple says that the design is ...', 'url': 'https://9to5mac.com/2020/12/18/airpods-max-smart-case/'}, {'category': 'company', 'datetime': 1608291960, 'headline': 'Buy Oracle Stock, Analyst Says. It Could Be a Cheap Bet on the Cloud. ', 'id': 61785237, 'image': 'https://images.barrons.com/im-275352/social', 'related': 'AAPL', 'source': 'MarketWatch', 'summary': 'Monness Crespi Hardt analyst Brian White lifted his rating on Oracle stock to Buy from Neutral.', 'url': 'https://www.marketwatch.com/articles/is-oracle-stock-a-good-buy-analyst-says-its-a-cheap-bet-on-the-cloud-51608310002'}, {'category': 'company', 'datetime': 1608289140, 'headline': 'The 3 Best Warren Buffett Dividend Stocks to Buy Right Now | The Motley Fool', 'id': 61794925, 'image': 'https://g.foolcdn.com/editorial/images/605201/dividends-gettyimages-629796418.jpg', 'related': 'AAPL', 'source': 'https://www.fool.com', 'summary': \"The legendary investor's favorite holdings can help you build long-term wealth.\", 'url': 'https://www.fool.com/investing/2020/12/18/3-best-warren-buffett-dividend-stocks-buy-now/'}, {'category': 'company', 'datetime': 1608288660, 'headline': 'IVV, SCC: Big ETF Inflows', 'id': 61785455, 'image': 'https://www.nasdaq.com/sites/acquia.prod/files/2019-05/0902-Q19%20Total%20Markets%20photos%20and%20gif_CC8.jpg?2042348277', 'related': 'AAPL', 'source': 'Nasdaq', 'summary': '', 'url': 'https://www.nasdaq.com/articles/ivv-scc%3A-big-etf-inflows-2020-12-18'}, {'category': 'company', 'datetime': 1608288361, 'headline': 'The data that apps use to track you, according to Apple', 'id': 61784900, 'image': 'https://images.axios.com/hZmRLjjgGGwheY7eNavB7Dsh5W0=/0x0:2400x1350/1366x768/2020/12/18/1608268096282.png', 'related': 'AAPL', 'source': 'https://www.axios.com', 'summary': \"Social media apps generally take more kinds of data than messaging apps, Apple's new labels show.\", 'url': 'https://www.axios.com/data-apps-use-track-you-apple-privacy-nutrition-labels-d88c2def-06cb-4bf5-8fc5-7ca09a704db4.html'}, {'category': 'company', 'datetime': 1608286948, 'headline': 'Dow Movers: UNH, DOW', 'id': 61792481, 'image': 'https://www.nasdaq.com/sites/acquia.prod/files/2019-05/0902-Q19%20Total%20Markets%20photos%20and%20gif_CC8.jpg?1873721644', 'related': 'AAPL', 'source': 'Nasdaq', 'summary': \"In early trading on Friday, shares of Dow topped the list of the day's best performing Dow Jones Industrial Average components, trading up 1.6%.  Year to date, Dow has lost about 0.1% of its value.\", 'url': 'https://www.nasdaq.com/articles/dow-movers%3A-unh-dow-2020-12-18'}, {'category': 'company', 'datetime': 1608285395, 'headline': \"Why Snap's Deal With Unity Software Could Be a Win-Win\", 'id': 61787792, 'image': 'https://www.nasdaq.com/sites/acquia.prod/files/2019-05/0902-Q19%20Total%20Markets%20photos%20and%20gif_CC8.jpg?519498714', 'related': 'AAPL', 'source': 'Nasdaq', 'summary': \"Snap (NYSE: SNAP), the parent company of Snapchat, recently partnered with Unity Software (NYSE: U) to bolster its ad and game platforms.Snap will integrate Unity's game engine -- which powers over half of the world's mobile, PC, and console games --- into its Snap Kit SDK (softw\", 'url': 'https://www.nasdaq.com/articles/why-snaps-deal-with-unity-software-could-be-a-win-win-2020-12-18'}, {'category': 'company', 'datetime': 1608285180, 'headline': \"UnitedHealth, Intel share losses contribute to Dow's nearly 100-point fall\", 'id': 61783330, 'image': 'https://images.mktw.net/im-220108', 'related': 'AAPL', 'source': 'MarketWatch', 'summary': 'Shares of UnitedHealth and Intel are seeing declines Friday morning, sending the Dow Jones Industrial Average into negative territory. The Dow was most...', 'url': 'https://www.marketwatch.com/story/unitedhealth-intel-share-losses-contribute-to-dows-nearly-100-point-fall-2020-12-18'}, {'category': 'company', 'datetime': 1608284536, 'headline': 'Apple, Facebook and Your Privacy: What the Upcoming iOS 14 Privacy Setting Actually Is', 'id': 61788338, 'image': 'https://images.news18.com/ibnlive/uploads/2020/12/1608278955_apple-facebook-ios-14-privacy-cover-image.jpg', 'related': 'AAPL', 'source': 'https://www.news18.com', 'summary': 'Facebook is clearly rather unhappy with Apple’s upcoming iOS 14 update.', 'url': 'https://www.news18.com/news/tech/apple-facebook-and-your-privacy-what-the-upcoming-ios-14-privacy-setting-actually-is-3189776.html'}, {'category': 'company', 'datetime': 1608284406, 'headline': 'Apple Pay, el servicio de pago sin contacto de los iPhone, podría ser el próximo frente antimonopolio para Apple', 'id': 61781221, 'image': 'https://cdn.businessinsider.es/sites/navi.axelspringer.es/public/styles/1200/public/media/image/2020/12/uso-apple-pay-cafe-moscu-rusia-2172179.jpg?itok=ooIwJG0n', 'related': 'AAPL', 'source': 'https://www.businessinsider.es', 'summary': 'El servicio de pagos de los iPhone, un negocio de miles de millones en comisiones, podría ser el siguiente frente de Apple por las investigaciones antimonopolio.', 'url': 'https://www.businessinsider.es/apple-pay-proximo-frente-antimonopolio-gigante-tecnologico-776579'}, {'category': 'company', 'datetime': 1608282242, 'headline': 'Facebook attacks Apple privacy policy changes in newspaper ads', 'id': 61781500, 'image': 'https://images.indianexpress.com/2020/12/056c5242-897c-487b-a4c8-fa638e729c8f.jpg', 'related': 'AAPL', 'source': 'https://indianexpress.com', 'summary': 'Facebook Inc lashed out at Apple Inc in a series of full-page newspaper ads, claiming the iPhone maker’s coming mobile software changes around data gathering and targeted advertising are bad for small businesses.', 'url': 'https://indianexpress.com/article/technology/tech-news-technology/facebook-attacks-apple-privacy-policy-changes-in-newspaper-ads-7109856/'}, {'category': 'company', 'datetime': 1608282164, 'headline': 'Tesla to see unprecedented trade ahead of S&P 500 debut', 'id': 61787922, 'image': 'https://www.nasdaq.com/sites/acquia.prod/files/2020-12-14T123652Z_817456841_RC20NK962MK0_RTRMADP_2_HEALTH-CORONAVIRUS-SWISS-BUSINESS.JPG?1824300564', 'related': 'AAPL', 'source': 'Nasdaq', 'summary': \"Tesla's grand entrance into the S&P 500 is expected to be preceded by a huge trade, with an unprecedented $80 billion of the electric car maker's stock changing hands by the end of the session on Friday.\", 'url': 'https://www.nasdaq.com/articles/tesla-to-see-unprecedented-trade-ahead-of-sp-500-debut-2020-12-18-0'}, {'category': 'company', 'datetime': 1608280200, 'headline': 'This Top Growth Stock Has Doubled Since March, and It Can Go Higher', 'id': 61792350, 'image': 'https://www.nasdaq.com/sites/acquia.prod/files/2019-05/0902-Q19%20Total%20Markets%20photos%20and%20gif_CC8.jpg?1545717605', 'related': 'AAPL', 'source': 'Nasdaq', 'summary': 'Skyworks Solutions (NASDAQ: SWKS) entered 2020 on its back foot thanks to the weakness in smartphone sales last year and its reliance on Huawei for a nice chunk of revenue. But the chipmaker looked like a promising bet for growth investors a year ago thanks to a potential spike i', 'url': 'https://www.nasdaq.com/articles/this-top-growth-stock-has-doubled-since-march-and-it-can-go-higher-2020-12-18'}, {'category': 'company', 'datetime': 1608280140, 'headline': 'Pre-Market Most Active for Dec 18, 2020 :  MREO, SPCE, TSLA, PLTR, AZN, AAPL, BBVA, NIO, SNY, SQQQ, BHP, NOK', 'id': 61785519, 'image': 'https://www.nasdaq.com/sites/acquia.prod/files/2019-05/0902-Q19%20Total%20Markets%20photos%20and%20gif_CC8.jpg?544604292', 'related': 'AAPL', 'source': 'Nasdaq', 'summary': 'The NASDAQ 100 Pre-Market Indicator is up 25.69 to 12,777.75.  The total Pre-Market volume is currently 20,161,046 shares traded.The following are the most active stocks for the pre-market session: Mereo BioPharma Group plc (MREO) is +0.7901 at $3.00, with 2,692,876 shares traded', 'url': 'https://www.nasdaq.com/articles/pre-market-most-active-for-dec-18-2020-%3A-mreo-spce-tsla-pltr-azn-aapl-bbva-nio-sny-sqqq'}, {'category': 'company', 'datetime': 1608278401, 'headline': 'GRAPHIC-Retail traders leave Wall Street for dust in 2020 stocks rally', 'id': 61783092, 'image': 'https://www.nasdaq.com/sites/acquia.prod/files/2019-05/0902-Q19%20Total%20Markets%20photos%20and%20gif_CC8.jpg?663480212', 'related': 'AAPL', 'source': 'Nasdaq', 'summary': \"Retail traders have ridden 2020's stock market rally better than the professionals, with their most popular picks outperforming market indexes and well-resourced investors such as hedge funds.\", 'url': 'https://www.nasdaq.com/articles/graphic-retail-traders-leave-wall-street-for-dust-in-2020-stocks-rally-2020-12-18-0'}, {'category': 'company', 'datetime': 1608276120, 'headline': 'Here’s why bets on Apple, Tesla, Zillow and other tech names will pay off in 2021, says this analyst', 'id': 61781626, 'image': 'https://images.mktw.net/im-275291/social', 'related': 'AAPL', 'source': 'MarketWatch', 'summary': \"Markets are stalling in the wait for a stimulus bill that could bring a rally through the holidays, and all eyes are on 2021. It's also a big day for Tesla —...\", 'url': 'https://www.marketwatch.com/story/heres-why-bets-on-apple-tesla-zillow-and-other-tech-names-will-pay-off-in-2021-says-this-analyst-11608294126'}, {'category': 'company', 'datetime': 1608275700, 'headline': 'Could Unity Software Be a Millionaire-Maker Stock?', 'id': 61790597, 'image': 'https://www.nasdaq.com/sites/acquia.prod/files/2019-05/0902-Q19%20Total%20Markets%20photos%20and%20gif_CC8.jpg?893414190', 'related': 'AAPL', 'source': 'Nasdaq', 'summary': 'Unity Software (NYSE: U), which develops the Unity Engine for video games and other applications, went public in September at $52 per share. It raised over $1.3 billion in its debut, and its stock subsequently surged to nearly $170 in early December before pulling back to the mid', 'url': 'https://www.nasdaq.com/articles/could-unity-software-be-a-millionaire-maker-stock-2020-12-18'}, {'category': 'company', 'datetime': 1608274200, 'headline': \"Tesla's Inclusion Will Not Make S&P 500 More Expensive, Goldman Analysts Say\", 'id': 61788397, 'image': 'https://cdn.benzinga.com/files/imagecache/og_image_social_share_1200x630/images/story/2012/priscilla-du-preez-jrjhsce08os-unsplash_2.jpg', 'related': 'AAPL', 'source': 'Benzinga', 'summary': 'Tesla Inc (NASDAQ: TSLA) becoming a member of the S&P 500 index on Monday will not have a large effect on the valuation of the benchmark, as per Goldman Sachs analysts.\\nWhat...', 'url': 'https://www.benzinga.com/analyst-ratings/analyst-color/20/12/18848781/teslas-inclusion-will-not-make-s-p-500-more-expensive-goldman-analysts-say'}, {'category': 'company', 'datetime': 1608272450, 'headline': 'Apple seeks to cut VirnetX patent loss', 'id': 61780763, 'image': 'https://www.moneyweb.co.za/wp-content/uploads/2020/12/366793457-1024x683.jpg', 'related': 'AAPL', 'source': 'https://www.moneyweb.co.za', 'summary': 'That could top $1bn.', 'url': 'https://www.moneyweb.co.za/news/tech/apple-seeks-to-cut-virnetx-patent-loss/'}, {'category': 'company', 'datetime': 1608271201, 'headline': 'The 50 best albums of 2020, No 1: Fiona Apple – Fetch the Bolt Cutters', 'id': 61780766, 'image': 'https://i.guim.co.uk/img/media/4634dcacb09ea7a70ae2e5a080ab7f8fe2213e6b/0_289_2316_1390/master/2316.jpg?width=1200&height=630&quality=85&auto=format&fit=crop&overlay-align=bottom%2Cleft&overlay-width=100p&overlay-base64=L2ltZy9zdGF0aWMvb3ZlcmxheXMvdGctZGVmYXVsdC5wbmc&enable=upscale&s=c1ff9be50b95675518869e7a2f164ccf', 'related': 'AAPL', 'source': 'theguardian', 'summary': 'The reclusive artist’s fifth album seemed to resonate with people’s desire to escape lockdown. But Apple’s bracing vision of justice and compassion proposed a different kind of freedom', 'url': 'https://www.theguardian.com/music/2020/dec/18/the-50-best-albums-of-2020-no-1-fiona-apple-fetch-the-bolt-cutters'}, {'category': 'company', 'datetime': 1608271200, 'headline': 'ANALYSIS-U.S. retailers want shoppers to help Santa with curbside pickup', 'id': 61783000, 'image': 'https://www.nasdaq.com/sites/acquia.prod/files/2020-12-18T110632Z_1_LV3_RTRLXPP_2_LYNXPACKAGER.JPG?1861853569', 'related': 'AAPL', 'source': 'Nasdaq', 'summary': 'With homebound Americans making record numbers of online holiday purchases and snowy streets worsening a logjam for shipping companies, retailers are enticing shoppers to pick up orders in person to ensure their stockings are stuffed Christmas morning.', 'url': 'https://www.nasdaq.com/articles/analysis-u.s.-retailers-want-shoppers-to-help-santa-with-curbside-pickup-2020-12-18'}, {'category': 'company', 'datetime': 1608271140, 'headline': 'The 3 Best Warren Buffett Dividend Stocks to Buy Right Now', 'id': 61783010, 'image': 'https://www.nasdaq.com/sites/acquia.prod/files/2019-05/0902-Q19%20Total%20Markets%20photos%20and%20gif_CC8.jpg?1027998643', 'related': 'AAPL', 'source': 'Nasdaq', 'summary': \"Warren Buffett is widely regarded as one of the best investors of all time. Since 1965, Buffett's investment portfolio has generated returns of more than 2,700,000% for Berkshire Hathaway (NYSE: BRK-A)(NYSE: BRK-B), delivering fortunes to its shareholders along the way.It's easy\", 'url': 'https://www.nasdaq.com/articles/the-3-best-warren-buffett-dividend-stocks-to-buy-right-now-2020-12-18'}, {'category': 'company', 'datetime': 1608270031, 'headline': '5 online activity ideas to make your kids learn something new this weekend', 'id': 61781200, 'image': 'https://images.indianexpress.com/2020/12/Apple-2.jpg', 'related': 'AAPL', 'source': 'https://indianexpress.com', 'summary': 'Here is your go-to list of online activities for kids that will help them nurture and encourage creativity.', 'url': 'https://indianexpress.com/article/technology/tech-news-technology/5-online-activity-ideas-to-make-your-kids-learn-something-new-this-weekend-7109316/'}, {'category': 'company', 'datetime': 1608269292, 'headline': 'Apple seeks to cut VirnetX patent loss that could top $1 billion', 'id': 61781506, 'image': 'https://images.indianexpress.com/2020/12/7eebf94b-1b0d-4d29-9d43-032505d3fc02.jpg', 'related': 'AAPL', 'source': 'https://indianexpress.com', 'summary': 'Apple Inc said its financial penalty for infringing VirnetX Holdings Corp patents could swell to more than $1 billion if a federal judge in Texas grants requests for additional interest and royalty payments on top of what juries in two separate cases have ordered the iPhone maker to pay.', 'url': 'https://indianexpress.com/article/technology/tech-news-technology/apple-seeks-to-cut-virnetx-patent-loss-that-could-top-1-billion-7109563/'}, {'category': 'company', 'datetime': 1608268689, 'headline': 'FB can continue to track users, but they should ask permission first: Tim Cook', 'id': 61782679, 'image': 'https://images.livemint.com/img/2020/12/18/600x338/2020-12-06T211018Z_1_LYNXMPEGB50J4_RTROPTP_3_TECH-ANTITRUST-HIRING_1608268438530_1608268451382.JPG', 'related': 'AAPL', 'source': 'https://www.livemint.com', 'summary': \"'Facebook can continue to track users across apps and websites as before, App Tracking Transparency in iOS 14 will just require that they ask for your permission first,' the Apple CEO wrote on Twitter\", 'url': 'https://www.livemint.com/technology/tech-news/apple-vs-facebook-fb-can-continue-to-track-users-but-they-should-ask-permission-1st-says-tim-cook-11608266975054.html'}, {'category': 'company', 'datetime': 1608266188, 'headline': \"Initial investigation of Wistron India violence finds 'labour violations'\", 'id': 61783011, 'image': 'https://www.nasdaq.com/sites/acquia.prod/files/2020-12-15T233016Z_2066111622_RC2ZNK94SY1Z_RTRMADP_2_APPLE-INDIA-WISTRON.JPG?541213579', 'related': 'AAPL', 'source': 'Nasdaq', 'summary': \"An Indian labour office's preliminary investigation into violence last weekend at a factory run by Apple supplier Wistron found several violations by the Taiwanese firm and its vendors, according to its report reviewed by Reuters.\", 'url': 'https://www.nasdaq.com/articles/initial-investigation-of-wistron-india-violence-finds-labour-violations-2020-12-18'}, {'category': 'company', 'datetime': 1608253686, 'headline': \"Facebook's Mad at Apple Over Data Gathering Restrictions | Tech.co\", 'id': 61781538, 'image': 'https://images.tech.co/wp-content/uploads/2020/12/17163254/facebook-vs-apple.jpeg', 'related': 'AAPL', 'source': 'https://tech.co', 'summary': 'Apple is giving users the option to keep apps from tracking their data, and Facebook is arguing that this will destroy the free internet.', 'url': 'https://tech.co/news/facebooks-apple-data-restrictions'}, {'category': 'company', 'datetime': 1608253260, 'headline': 'GRAPHIC-Retail traders leave Wall Street for dust in 2020 stocks rally', 'id': 61780561, 'image': 'https://www.nasdaq.com/sites/acquia.prod/files/2020-12-18T061312Z_1_ST6_RTRLXPP_2_LYNXPACKAGER.JPG?165082613', 'related': 'AAPL', 'source': 'Nasdaq', 'summary': \"Retail traders have ridden 2020's stock market rally better than the professionals, with their most popular picks outperforming market indexes and well-resourced investors such as hedge funds.\", 'url': 'https://www.nasdaq.com/articles/graphic-retail-traders-leave-wall-street-for-dust-in-2020-stocks-rally-2020-12-18'}, {'category': 'company', 'datetime': 1608253200, 'headline': 'Tesla to see unprecedented trade ahead of S&P 500 debut', 'id': 61783004, 'image': 'https://www.nasdaq.com/sites/acquia.prod/files/2020-12-14T123652Z_817456841_RC20NK962MK0_RTRMADP_2_HEALTH-CORONAVIRUS-SWISS-BUSINESS.JPG?911960473', 'related': 'AAPL', 'source': 'Nasdaq', 'summary': \"Tesla's grand entrance into the S&P 500 is expected to be preceded by a huge trade, with an unprecedented $80 billion of the electric car maker's stock changing hands by the end of the session on Friday.\", 'url': 'https://www.nasdaq.com/articles/tesla-to-see-unprecedented-trade-ahead-of-sp-500-debut-2020-12-18'}, {'category': 'company', 'datetime': 1608249600, 'headline': 'Apple Loop: Stunning iPhone Leak, iPhone’s COVID-19 Update, New MacBooks Get Windows 10', 'id': 61794999, 'image': 'https://thumbor.forbes.com/thumbor/fit-in/1200x0/filters%3Aformat%28jpg%29/https%3A%2F%2Fspecials-images.forbesimg.com%2Fimageserve%2F5fdd357a9e83fb8d64eb45fd%2F0x0.jpg', 'related': 'AAPL', 'source': 'https://www.forbes.com', 'summary': 'This week’s Apple headlines; new iOS updates for COVID-19 tracking and more, latest iPhone 13 features leaked, macOS going full-screen for iPhone apps, the latest AirPods Max review, Windows 10 heads to your M1 MacBook, and more...', 'url': 'https://www.forbes.com/sites/ewanspence/2020/12/18/apple-news-headlines-iphone-13-leak-screen-ios-covid-19-track-trace-airpods-max-macbook-pro-m1-parallels-windows-10/'}, {'category': 'company', 'datetime': 1608249600, 'headline': 'Apple Pay Draws Regulatory Attention Over Antitrust Concerns: FT', 'id': 61785321, 'image': 'https://cdn.benzinga.com/files/imagecache/og_image_social_share_1200x630/images/story/2012/apple_pay_christiann-koepke-xersifi0jck-unsplash.jpg', 'related': 'AAPL', 'source': 'benzinga', 'summary': 'Apple Inc\\xa0(NASDAQ: AAPL) is already deluged with\\xa0probes for anti-competitive behavior\\xa0related to the App Store. Now,\\xa0the\\xa0Financial Times reports,\\xa0its...', 'url': 'https://www.benzinga.com/fintech/20/12/18849083/apple-pay-draws-regulatory-attention-over-antitrust-concerns-ft'}, {'category': 'company', 'datetime': 1608249600, 'headline': 'Apple Pay Draws Regulatory Attention Over Antitrust Concerns: FT', 'id': 61785069, 'image': 'https://cdn.benzinga.com/files/imagecache/og_image_social_share_1200x630/images/story/2012/apple_pay_christiann-koepke-xersifi0jck-unsplash.jpg', 'related': 'AAPL', 'source': 'benzinga', 'summary': 'Apple Inc\\xa0(NASDAQ: AAPL) is already deluged with\\xa0probes for anti-competitive behavior\\xa0related to the App Store. Now,\\xa0the\\xa0Financial Times reports,\\xa0its...', 'url': 'https://www.benzinga.com/node/18849083'}, {'category': 'company', 'datetime': 1608249600, 'headline': \"Tesla's Inclusion Will Not Make S&P 500 More Expensive, Goldman Analysts Say\", 'id': 61785066, 'image': 'https://cdn.benzinga.com/files/imagecache/og_image_social_share_1200x630/images/story/2012/priscilla-du-preez-jrjhsce08os-unsplash_2.jpg', 'related': 'AAPL', 'source': 'benzinga', 'summary': 'Tesla Inc (NASDAQ: TSLA) becoming a member of the S&P 500 index on Monday will not have a large effect on the valuation of the benchmark, as per Goldman Sachs analysts.\\nWhat...', 'url': 'https://www.benzinga.com/node/18848781'}, {'category': 'company', 'datetime': 1608249600, 'headline': 'Over-the-top Market by Component, Device Type, Content Type, Revenue Model, User Type, and End User - Global Opportunity Analysis and Industry Forecasts 2020-2027 - ResearchAndMarkets.com', 'id': 61784978, 'image': 'https://mms.businesswire.com/media/20201218005522/en/371054/23/ResearchAndMarkets_800px.jpg', 'related': 'AAPL', 'source': 'businesswire', 'summary': 'The', 'url': 'https://www.businesswire.com/news/home/20201218005522/en/Over-the-top-Market-by-Component-Device-Type-Content-Type-Revenue-Model-User-Type-and-End-User---Global-Opportunity-Analysis-and-Industry-Forecasts-2020-2027---ResearchAndMarkets.com'}, {'category': 'company', 'datetime': 1608249600, 'headline': 'Apple Hospitality REIT Recognized with 2019 Hilton Legacy Award', 'id': 61783145, 'image': 'https://mms.businesswire.com/media/20201218005298/en/466699/21/AHREIT_rgb_for_Business_Wire.jpg', 'related': 'AAPL', 'source': 'businesswire', 'summary': 'Apple Hospitality REIT Recognized with 2019 Hilton Legacy Award', 'url': 'https://www.businesswire.com/news/home/20201218005298/en/Apple-Hospitality-REIT-Recognized-with-2019-Hilton-Legacy-Award'}, {'category': 'company', 'datetime': 1608249600, 'headline': 'Global Digital Pen Market Opportunity Analysis and Industry Forecasts 2020-2030 - ResearchAndMarkets.com', 'id': 61783118, 'image': 'https://mms.businesswire.com/media/20201218005377/en/371054/23/ResearchAndMarkets_800px.jpg', 'related': 'AAPL', 'source': 'businesswire', 'summary': 'The', 'url': 'https://www.businesswire.com/news/home/20201218005377/en/Global-Digital-Pen-Market-Opportunity-Analysis-and-Industry-Forecasts-2020-2030---ResearchAndMarkets.com'}, {'category': 'company', 'datetime': 1608248703, 'headline': 'Apple : A landmark year of giving from Apple | MarketScreener', 'id': 61783250, 'image': 'https://www.marketscreener.com/images/twitter_MS_fdnoir.png', 'related': 'AAPL', 'source': 'https://www.marketscreener.com', 'summary': '', 'url': 'https://www.marketscreener.com/quote/stock/APPLE-INC-4849/news/Apple-A-landmark-year-of-giving-from-Apple-32041504/'}, {'category': 'company', 'datetime': 1608248209, 'headline': 'Biggest Share Buyback Queens in Q3: Tech and Buffett. The Banks Are Gone. But Share Buybacks Plunged 42% YoY', 'id': 61779597, 'image': 'https://wolfstreet.com/wp-content/uploads/2020/12/US-corporate-debt-2020-q3.png', 'related': 'AAPL', 'source': 'https://wolfstreet.com', 'summary': 'Funded with debt: Share buybacks totaled $5 trillion since 2012. Over same period, corporate debt soared by $4.5 trillion.', 'url': 'https://wolfstreet.com/2020/12/17/share-buybacks-drop-42-in-q3-yoy-to-102-billion-big-tech-buffett-dominate-big-banks-are-gone-very-top-heavy-affair/'}, {'category': 'company', 'datetime': 1608247827, 'headline': 'iPhone & iPad Models With Spatial Audio Support', 'id': 61779590, 'image': 'https://static0.srcdn.com/wordpress/wp-content/uploads/2020/12/AirPods-Max-with-iPhone.jpg', 'related': 'AAPL', 'source': 'https://screenrant.com', 'summary': 'Spatial audio requires the right Apple devices.', 'url': 'https://screenrant.com/airpods-max-spatial-audio-apple-iphone-ipad-support/'}, {'category': 'company', 'datetime': 1608246028, 'headline': 'AirPods Max review: A high price for luxury performance', 'id': 61786527, 'image': 'https://cdn.cnn.com/cnnnext/dam/assets/201217174630-airpods-max-review-lead-super-169.jpg', 'related': 'AAPL', 'source': 'https://www.cnn.com', 'summary': '', 'url': 'https://www.cnn.com/2020/12/17/cnn-underscored/airpods-max-review/index.html'}, {'category': 'company', 'datetime': 1608241161, 'headline': 'How to check iOS app privacy details for iPhone and iPad - 9to5Mac', 'id': 61779796, 'image': 'https://i0.wp.com/9to5mac.com/wp-content/uploads/sites/6/2020/12/how-to-check-ios-app-privacy-guide.jpg?resize=1200%2C628&quality=82&strip=all&ssl=1', 'related': 'AAPL', 'source': 'https://9to5mac.com', 'summary': 'This detailed guide with screenshots walks through how to check iOS app privacy details, what they are, and where to find them.', 'url': 'https://9to5mac.com/2020/12/17/how-to-check-ios-app-privacy-details-iphone-ipad/'}, {'category': 'company', 'datetime': 1608240600, 'headline': 'Apple Inc. stock rises Thursday, still underperforms market', 'id': 61775767, 'image': 'https://images.mktw.net/im-213861/social', 'related': 'AAPL', 'source': 'marketwatch', 'summary': 'Shares of Apple Inc. inched 0.70% higher to $128.70 Thursday, on what proved to be an all-around favorable trading session for the stock market, with the...', 'url': 'https://www.marketwatch.com/story/apple-inc-stock-rises-thursday-still-underperforms-market-01608240644-f9cfea659453'}, {'category': 'company', 'datetime': 1608238860, 'headline': 'Facebook and Apple are in a fight. Your browsing history is in the middle.', 'id': 61778298, 'image': 'https://media1.s-nbcnews.com/j/newscms/2020_51/3436517/201217-2x1-tim-cook-mark-zuckerberg-ew-230p_774abfa3f99e2771a8dc8b2cbb1145dc.nbcnews-fp-1200-630.jpg', 'related': 'AAPL', 'source': 'https://www.nbcnews.com', 'summary': \"Facebook on Thursday ran its second full-page newspaper advertisement in as many days, attacking Apple's plans to tell iPhone and iPad users when apps are tracking them online.\", 'url': 'https://www.nbcnews.com/tech/tech-news/facebook-apple-are-fight-your-browsing-history-middle-n1251612'}, {'category': 'company', 'datetime': 1608238700, 'headline': 'U.S. Defense Department looks to bolster domestic chip manufacture with new program', 'id': 61780474, 'image': 'https://www.nasdaq.com/sites/acquia.prod/files/2020-12-18T020525Z_1_MN4_RTRLXPP_2_LYNXPACKAGER.JPG?334952297', 'related': 'AAPL', 'source': 'Nasdaq', 'summary': 'The U.S. Defense Department will soon start soliciting proposals for a program to provide incentives to boost semiconductor manufacturing capabilities in the United States, according to a posting on a government contracting site.', 'url': 'https://www.nasdaq.com/articles/u.s.-defense-department-looks-to-bolster-domestic-chip-manufacture-with-new-program-2020'}, {'category': 'company', 'datetime': 1608235199, 'headline': 'After Hours Most Active for Dec 17, 2020 :  AAPL, NIO, WFC, FHN, MREO, MSFT, VIPS, INTC, C, MOS, QQQ, MRNA', 'id': 61792327, 'image': 'https://www.nasdaq.com/sites/acquia.prod/files/2019-05/0902-Q19%20Total%20Markets%20photos%20and%20gif_CC8.jpg?660576410', 'related': 'AAPL', 'source': 'Nasdaq', 'summary': 'The NASDAQ 100 After Hours Indicator is down -1.36 to 12,736.82.  The total After hours volume is currently 125,381,320 shares traded.The following are the most active stocks for the after hours session: Apple Inc. (AAPL) is -0.35 at $128.35, with 9,933,698 shares traded. As repo', 'url': 'https://www.nasdaq.com/articles/after-hours-most-active-for-dec-17-2020-%3A-aapl-nio-wfc-fhn-mreo-msft-vips-intc-c-mos-qqq'}, {'category': 'company', 'datetime': 1608234870, 'headline': 'Judge orders Tim Cook and Craig Federighi to testify in Epic’s Fortnite case', 'id': 61776955, 'image': 'https://cdn.vox-cdn.com/thumbor/pqej1Q2-xXs_LkrnYMSqfNdRlHE=/0x146:2040x1214/fit-in/1200x630/cdn.vox-cdn.com/uploads/chorus_asset/file/21783862/acastro_20200818_1777_epicApple_0003.0.jpg', 'related': 'AAPL', 'source': 'https://www.theverge.com', 'summary': 'The judge denied a request to limit Cook’s testimony, and Federighi will have to testify after all.', 'url': 'https://www.theverge.com/2020/12/17/22187339/art-club'}, {'category': 'company', 'datetime': 1608234870, 'headline': 'Judge orders Tim Cook and Craig Federighi to testify in Epic’s Fortnite case', 'id': 61773511, 'image': 'https://cdn.vox-cdn.com/thumbor/pqej1Q2-xXs_LkrnYMSqfNdRlHE=/0x146:2040x1214/fit-in/1200x630/cdn.vox-cdn.com/uploads/chorus_asset/file/21783862/acastro_20200818_1777_epicApple_0003.0.jpg', 'related': 'AAPL', 'source': 'https://www.theverge.com', 'summary': 'The judge denied a request to limit Cook’s testimony, and Federighi will have to testify after all.', 'url': 'https://www.theverge.com/2020/12/17/22187339/epic-apple-fortnite-lawsuit-testimony-tim-cook-craig-federighi'}, {'category': 'company', 'datetime': 1608233299, 'headline': 'Judge rules Tim Cook and Craig Federighi must testify as part of Epic Games legal case - 9to5Mac', 'id': 61779801, 'image': 'https://i1.wp.com/9to5mac.com/wp-content/uploads/sites/6/2020/08/Epic-Games-Apple.png?resize=1200%2C628&quality=82&strip=all&ssl=1', 'related': 'AAPL', 'source': 'https://9to5mac.com', 'summary': 'Apple’s Tim Cook and Craig Federighi have been ordered to testify in the company’s ongoing legal battle with Epic Games. New court filings this week indicate that Epic is making a long list of requests for documents and testimonies from Apple, and Apple argues that these requests will place a large burden on the company. […]', 'url': 'https://9to5mac.com/2020/12/17/apple-epic-tim-cook-testimony-craig-federighi/'}, {'category': 'company', 'datetime': 1608230087, 'headline': 'Apple leaps to the defense of its crazy AirPods Max case', 'id': 61776947, 'image': 'https://cdn.cultofmac.com/wp-content/uploads/2020/12/9A052BE4-1166-444D-8700-91ADB571069E.jpeg', 'related': 'AAPL', 'source': 'https://www.cultofmac.com', 'summary': 'The designers of AirPods Max defend their creation in an interview, pointing out the advantages of the controversial case for the headphones.', 'url': 'https://www.cultofmac.com/730623/apple-leaps-to-the-defense-of-its-crazy-airpods-max-case/'}, {'category': 'company', 'datetime': 1608227443, 'headline': 'Facebook choca con Apple por cambios de privacidad', 'id': 61776463, 'image': 'https://cnnespanol.cnn.com/wp-content/uploads/2020/12/190925105622-facebook-ads-screen-stock-super-169.jpg?quality=100&strip=info', 'related': 'AAPL', 'source': 'https://cnnespanol.cnn.com', 'summary': 'Facebook dijo que la medida podría ser \"devastadora\" para millones de pequeñas empresas que se anuncian en su plataforma', 'url': 'https://cnnespanol.cnn.com/2020/12/17/facebook-choca-con-apple-por-cambios-de-privacidad-que-amenazan-su-negocio-publicitario/'}, {'category': 'company', 'datetime': 1608226851, 'headline': \"Don't call it a mini: Apple's latest HomePod packs mega sound\", 'id': 61777561, 'image': 'https://reviewed-com-res.cloudinary.com/image/fetch/s--l8SiDKOi--/b_white,c_limit,cs_srgb,f_auto,fl_progressive.strip_profile,g_center,q_auto,w_1200/https://reviewed-production.s3.amazonaws.com/1608148937000/20201216_134150.jpg', 'related': 'AAPL', 'source': 'https://www.reviewed.com', 'summary': 'HomePod Mini packs surprisingly good sound into a tiny package.', 'url': 'https://www.reviewed.com/smarthome/content/apple-homepod-mini-review'}, {'category': 'company', 'datetime': 1608226273, 'headline': 'Wall Street braces for trading surge as Tesla enters S&P 500', 'id': 61770866, 'image': 'https://s.abcnews.com/images/Business/WireAP_c96e3dd61e294041b3ecc77c9a363ed8_16x9_992.jpg', 'related': 'AAPL', 'source': 'abcnews', 'summary': 'Wall Street is gearing up for an avalanche of trading and volatility ahead of Tesla’s entry into the S&P 500 index', 'url': 'https://abcnews.go.com/Business/wireStory/wall-street-braces-trading-surge-tesla-enters-sp-74782268'}, {'category': 'company', 'datetime': 1608222673, 'headline': 'Apple design team talks AirPods Max creation, controversial Smart Case in new interview - 9to5Mac', 'id': 61779855, 'image': 'https://i2.wp.com/9to5mac.com/wp-content/uploads/sites/6/2020/12/apple_airpods-max_internals_12082020.jpg?resize=1200%2C628&quality=82&strip=all&ssl=1', 'related': 'AAPL', 'source': 'https://9to5mac.com', 'summary': 'In conjunction with this week’s release of AirPods Max, a trio of Apple executives sat down for an interview with Japanese design website Casa BRUTUS. In the interview, Evans Hankey, Apple’s VP of industrial design, Eugene Whang, industrial designer, and Bob Borchers, VP of product marketing, talked more in-depth about the new AirPods Max and […]', 'url': 'https://9to5mac.com/2020/12/17/apple-design-team-airpods-max-interview/'}, {'category': 'company', 'datetime': 1608222600, 'headline': '3 Top Tech Stocks to Buy During a Recession | The Motley Fool', 'id': 61781257, 'image': 'https://g.foolcdn.com/editorial/images/604988/gettyimages-513690100.jpg', 'related': 'AAPL', 'source': 'https://www.fool.com', 'summary': 'Recessions are scary, but these companies are perfectly poised to weather them.', 'url': 'https://www.fool.com/investing/2020/12/17/3-top-tech-stocks-to-buy-during-a-recession/'}, {'category': 'company', 'datetime': 1608222299, 'headline': 'After Hours Most Active for Dec 17, 2020 :  WFC, FHN, NIO, VIPS, AAPL, MOS, HFC, VIAC, CSCO, QQQ, MSFT, MREO', 'id': 61777981, 'image': 'https://www.nasdaq.com/sites/acquia.prod/files/2019-05/0902-Q19%20Total%20Markets%20photos%20and%20gif_CC8.jpg?41338081', 'related': 'AAPL', 'source': 'Nasdaq', 'summary': 'The NASDAQ 100 After Hours Indicator is down -5.79 to 12,746.27.  The total After hours volume is currently 75,099,126 shares traded.The following are the most active stocks for the after hours session: Wells Fargo & Company (WFC) is +0.03 at $29.50, with 4,777,456 shares tra', 'url': 'https://www.nasdaq.com/articles/after-hours-most-active-for-dec-17-2020-%3A-wfc-fhn-nio-vips-aapl-mos-hfc-viac-csco-qqq-msft'}, {'category': 'company', 'datetime': 1608222060, 'headline': \"'Fortnite' maker Epic Games is getting help from another deep-pocketed tech giant in its ongoing legal fight with Apple: Facebook is joining the fray\", 'id': 61780272, 'image': 'https://www.businessinsider.in/photo/79783500/fortnite-maker-epic-games-is-getting-help-from-another-deep-pocketed-tech-giant-in-its-ongoing-legal-fight-with-apple-facebook-is-joining-the-fray.jpg?imgsize=402043', 'related': 'AAPL', 'source': 'https://www.businessinsider.in', 'summary': '', 'url': 'https://www.businessinsider.in/tech/news/fortnite-maker-epic-games-is-getting-help-from-another-deep-pocketed-tech-giant-in-its-ongoing-legal-fight-with-apple-facebook-is-joining-the-fray/articleshow/79783500.cms'}, {'category': 'company', 'datetime': 1608221523, 'headline': 'Bilic out, Allardyce in and Liverpool go top – Football Weekly Extra', 'id': 61770661, 'image': 'https://i.guim.co.uk/img/media/23e610f5abdb47cac301513f5e5384875991d5f3/515_548_4510_2706/master/4510.jpg?width=1200&height=630&quality=85&auto=format&fit=crop&overlay-align=bottom%2Cleft&overlay-width=100p&overlay-base64=L2ltZy9zdGF0aWMvb3ZlcmxheXMvdGctZGVmYXVsdC5wbmc&enable=upscale&s=5fc2187437ee7f8780e7782892ad9e00', 'related': 'AAPL', 'source': 'theguardian', 'summary': 'Max Rushden, Barry Glendenning, Jonathan Fadugba and Philippe Auclair discuss the midweek round of Premier League games, the return of Sam Allardyce, a defeat for Rangers and the state of Ligue 1', 'url': 'https://www.theguardian.com/football/audio/2020/dec/17/bilic-out-allardyce-in-and-liverpool-go-top-football-weekly-extra-podcast'}, {'category': 'company', 'datetime': 1608220347, 'headline': 'Google is a better vaccine recovery stock than Facebook in first half of 2021, Bank of America says', 'id': 61770487, 'image': 'https://image.cnbcfm.com/api/v1/image/105193472-RTS1QG9H.jpg?v=1530104102', 'related': 'AAPL', 'source': 'cnbc', 'summary': \"Bank of America analysts see Google's stock as the bigger recovery stock than online ad peer Facebook in the first half of 2021.\", 'url': 'https://www.cnbc.com/2020/12/17/google-stock-better-than-facebook-during-vaccine-recovery-in-1h-2021-bofa.html'}, {'category': 'company', 'datetime': 1608217360, 'headline': 'Apple trade-in values changed: Macs down; iPads, Watches up - 9to5Mac', 'id': 61779804, 'image': 'https://i0.wp.com/9to5mac.com/wp-content/uploads/sites/6/2020/12/Screen-Shot-2020-12-17-at-8.00.03-AM.jpeg?resize=1200%2C628&quality=82&strip=all&ssl=1', 'related': 'AAPL', 'source': 'https://9to5mac.com', 'summary': 'Apple trade-in values – the amount of credit the company will give you for older devices when upgrading to new ones – have been quietly adjusted by the company. You could see up to $40 more when trading in an iPad, but up to $540 less when trading in a Mac … iMore spotted the […]', 'url': 'https://9to5mac.com/2020/12/17/apple-trade-in-values/'}, {'category': 'company', 'datetime': 1608217356, 'headline': 'Facebook runs second newspaper ad slamming Apple’s privacy changes', 'id': 61778522, 'image': 'https://nypost.com/wp-content/uploads/sites/2/2020/12/facebook-apple-69.jpg?quality=90&strip=all&w=1200', 'related': 'AAPL', 'source': 'https://nypost.com', 'summary': 'Facebook continued its attack on Apple’s forthcoming privacy updates Thursday, with a second newspaper ad accusing the iPhone maker of trying to kill the “free internet.” The full…', 'url': 'https://nypost.com/2020/12/17/facebook-runs-second-newspaper-ad-against-apple-privacy-move/'}, {'category': 'company', 'datetime': 1608216362, 'headline': 'Facebook-Apple war over iOS privacy changes intensifies', 'id': 61775593, 'image': 'https://resize.indiatvnews.com/en/resize/newbucket/715_-/2020/12/twitter-facebook-1608183699.jpg', 'related': 'AAPL', 'source': 'https://www.indiatvnews.com', 'summary': 'Facebook-Apple war intensified on Thursday when the social networking giant issued full-page newspaper ads once again.', 'url': 'https://www.indiatvnews.com/technology/news-facebook-apple-war-over-ios-privacy-changes-intensifies-672164'}, {'category': 'company', 'datetime': 1608216227, 'headline': \"Apple TV+ Plus Guide: Here's all the Apple TV shows and movies available now\", 'id': 61779849, 'image': 'https://i2.wp.com/9to5mac.com/wp-content/uploads/sites/6/2019/12/apple-tv-plus.jpg?resize=1200%2C628&quality=82&strip=all&ssl=1', 'related': 'AAPL', 'source': 'https://9to5mac.com', 'summary': \"Apple TV+ is Apple's new streaming service for original TV shows and movies. Here's the entire TV guide, everything you can watch for your $4.99 per month subscription. New Apple originals are added every month.\", 'url': 'https://9to5mac.com/2020/12/17/apple-tv-plus-tv-shows-movies-guide/'}, {'category': 'company', 'datetime': 1608215806, 'headline': 'Apple versus Facebook battle could see both companies lose - 9to5Mac', 'id': 61779805, 'image': 'https://i0.wp.com/9to5mac.com/wp-content/uploads/sites/6/2020/12/Apple-versus-Facebook.jpg?resize=1200%2C628&quality=82&strip=all&ssl=1', 'related': 'AAPL', 'source': 'https://9to5mac.com', 'summary': 'The Apple versus Facebook battle escalated quickly this week! The two companies had been on opposite sides for some time when it came to ad-tracking, but Facebook dramatically upped the ante when it ran full-page newspaper ads attacking Apple – with more reportedly planned. It’s a battle Facebook almost certainly cannot win. The risk to […]', 'url': 'https://9to5mac.com/2020/12/17/apple-versus-facebook/'}, {'category': 'company', 'datetime': 1608214200, 'headline': 'Europe Clears Google-Fitbit Deal. So Long as It Follows These Rules.', 'id': 61773357, 'image': 'https://images.barrons.com/im-274824/social', 'related': 'AAPL', 'source': 'MarketWatch', 'summary': 'The approval comes after a monthslong investigation over concerns about the acquisition’s effect on Google’s market position in the European Economic Area.', 'url': 'https://www.marketwatch.com/articles/europe-clears-googles-2-1-billion-deal-for-fitbit-so-long-as-it-follows-these-rules-51608232252'}, {'category': 'company', 'datetime': 1608213609, 'headline': 'La montre connectée reste un cadeau idéal', 'id': 61772411, 'image': 'https://s.brsimg.com/static-000/cache/i/content/images/a/8/c/a8c27ae2471286492b77db3bcdf81ad7-1536x1023.jpg', 'related': 'AAPL', 'source': 'https://www.boursorama.com', 'summary': \"Sortie de la case gadget, la montre connectée gagne, années après années, ses lettres de noblesse dans l'univers de l'horlogerie. Si les grandes marques jettent leur dévolu sur ce segment, les géants du high tech comme Apple et Samsung dominent toujours le marché\", 'url': 'https://www.boursorama.com/boursoramag/actualites/la-montre-connectee-reste-un-cadeau-ideal-2ca4b02b19f33ff38a1f5b5f8cdde9af'}, {'category': 'company', 'datetime': 1608213120, 'headline': 'Facebook and Apple Are Sparring Over Ads, Privacy, and ‘the Free Internet’', 'id': 61773347, 'image': 'https://images.barrons.com/im-274735/social', 'related': 'AAPL', 'source': 'MarketWatch', 'summary': 'Facebook says changes to Apple’s latest mobile operating system that will make it harder to target advertisements at users will harm businesses that rely on...', 'url': 'https://www.marketwatch.com/articles/facebook-and-apple-are-sparring-over-ads-and-privacy-51608231164'}, {'category': 'company', 'datetime': 1608210965, 'headline': 'Apple y Facebook pelean públicamente por la próxima actualización de iOS, que permitirá a los usuarios elegir si una app puede recoger datos sobre su actividad en otras aplicaciones y webs', 'id': 61777633, 'image': 'https://cdn.businessinsider.es/sites/navi.axelspringer.es/public/styles/1200/public/media/image/2020/12/tim-cook-mark-zuckerberg-2170979.jpg?itok=uz9YRhwO', 'related': 'AAPL', 'source': 'https://www.businessinsider.es', 'summary': 'Facebook va a la carga contra Apple por su nuevo sistema para iPhone que permitiría a los usuarios impedir que rastreen sus datos y afectaría a la publicidad.', 'url': 'https://www.businessinsider.es/apple-facebook-pelean-nuevas-opciones-privacidad-ios14-775927'}]\n"
     ],
     "name": "stdout"
    }
   ]
  },
  {
   "cell_type": "code",
   "metadata": {
    "id": "E4rjnR8hXlM9",
    "pycharm": {
     "name": "#%%\n"
    }
   },
   "source": [
    "news = r.json()"
   ],
   "execution_count": null,
   "outputs": []
  },
  {
   "cell_type": "code",
   "metadata": {
    "colab": {
     "base_uri": "https://localhost:8080/",
     "height": 652
    },
    "id": "Cli-gvyFYAuD",
    "outputId": "88291fe1-9986-4661-b55d-190c2330c3f1",
    "pycharm": {
     "name": "#%%\n"
    }
   },
   "source": [
    "df_news=pd.DataFrame(news)\n",
    "df_news.head()"
   ],
   "execution_count": null,
   "outputs": [
    {
     "output_type": "execute_result",
     "data": {
      "text/html": [
       "<div>\n",
       "<style scoped>\n",
       "    .dataframe tbody tr th:only-of-type {\n",
       "        vertical-align: middle;\n",
       "    }\n",
       "\n",
       "    .dataframe tbody tr th {\n",
       "        vertical-align: top;\n",
       "    }\n",
       "\n",
       "    .dataframe thead th {\n",
       "        text-align: right;\n",
       "    }\n",
       "</style>\n",
       "<table border=\"1\" class=\"dataframe\">\n",
       "  <thead>\n",
       "    <tr style=\"text-align: right;\">\n",
       "      <th></th>\n",
       "      <th>category</th>\n",
       "      <th>datetime</th>\n",
       "      <th>headline</th>\n",
       "      <th>id</th>\n",
       "      <th>image</th>\n",
       "      <th>related</th>\n",
       "      <th>source</th>\n",
       "      <th>summary</th>\n",
       "      <th>url</th>\n",
       "    </tr>\n",
       "  </thead>\n",
       "  <tbody>\n",
       "    <tr>\n",
       "      <th>0</th>\n",
       "      <td>company</td>\n",
       "      <td>1608508800</td>\n",
       "      <td>Apple vs Tesla? Apple Self-Driving Car To Hit ...</td>\n",
       "      <td>61811172</td>\n",
       "      <td>https://thumbor.forbes.com/thumbor/fit-in/1200...</td>\n",
       "      <td>AAPL</td>\n",
       "      <td>https://www.forbes.com</td>\n",
       "      <td>Project Titan lives? Get ready for the clash o...</td>\n",
       "      <td>https://www.forbes.com/sites/johnkoetsier/2020...</td>\n",
       "    </tr>\n",
       "    <tr>\n",
       "      <th>1</th>\n",
       "      <td>company</td>\n",
       "      <td>1608508800</td>\n",
       "      <td>Apple Hospitality REIT Enhances Corporate Resp...</td>\n",
       "      <td>61803462</td>\n",
       "      <td>https://mms.businesswire.com/media/20201221005...</td>\n",
       "      <td>AAPL</td>\n",
       "      <td>businesswire</td>\n",
       "      <td>Apple Hospitality REIT Enhances Corporate Resp...</td>\n",
       "      <td>https://www.businesswire.com/news/home/2020122...</td>\n",
       "    </tr>\n",
       "    <tr>\n",
       "      <th>2</th>\n",
       "      <td>company</td>\n",
       "      <td>1608505500</td>\n",
       "      <td>L.A. hospitals consider rationing care as coro...</td>\n",
       "      <td>61799599</td>\n",
       "      <td>https://images.mktw.net/im-275966/social</td>\n",
       "      <td>AAPL</td>\n",
       "      <td>marketwatch</td>\n",
       "      <td>Medical staffing is stretched increasingly thi...</td>\n",
       "      <td>https://www.marketwatch.com/story/l-a-hospital...</td>\n",
       "    </tr>\n",
       "    <tr>\n",
       "      <th>3</th>\n",
       "      <td>company</td>\n",
       "      <td>1608500072</td>\n",
       "      <td>Apple puts supplier Wistron on notice after In...</td>\n",
       "      <td>61800042</td>\n",
       "      <td>https://www.theglobeandmail.com/resizer/INaPUf...</td>\n",
       "      <td>AAPL</td>\n",
       "      <td>https://www.theglobeandmail.com</td>\n",
       "      <td>Contract workers angry over unpaid wages destr...</td>\n",
       "      <td>https://www.theglobeandmail.com/business/inter...</td>\n",
       "    </tr>\n",
       "    <tr>\n",
       "      <th>4</th>\n",
       "      <td>company</td>\n",
       "      <td>1608497379</td>\n",
       "      <td>Report: gov't spyware targets phones of Al-Jaz...</td>\n",
       "      <td>61798371</td>\n",
       "      <td>https://s.abcnews.com/images/International/Wir...</td>\n",
       "      <td>AAPL</td>\n",
       "      <td>abcnews</td>\n",
       "      <td>A cybersecurity watchdog says dozens of journa...</td>\n",
       "      <td>https://abcnews.go.com/Business/wireStory/repo...</td>\n",
       "    </tr>\n",
       "  </tbody>\n",
       "</table>\n",
       "</div>"
      ],
      "text/plain": [
       "  category  ...                                                url\n",
       "0  company  ...  https://www.forbes.com/sites/johnkoetsier/2020...\n",
       "1  company  ...  https://www.businesswire.com/news/home/2020122...\n",
       "2  company  ...  https://www.marketwatch.com/story/l-a-hospital...\n",
       "3  company  ...  https://www.theglobeandmail.com/business/inter...\n",
       "4  company  ...  https://abcnews.go.com/Business/wireStory/repo...\n",
       "\n",
       "[5 rows x 9 columns]"
      ]
     },
     "metadata": {
      "tags": []
     },
     "execution_count": 47
    }
   ]
  },
  {
   "cell_type": "code",
   "metadata": {
    "id": "39g8K56LYbVD",
    "pycharm": {
     "name": "#%%\n"
    }
   },
   "source": [
    "df_news_filter = df_news[['headline','datetime','related','source','summary']]"
   ],
   "execution_count": null,
   "outputs": []
  },
  {
   "cell_type": "code",
   "metadata": {
    "colab": {
     "base_uri": "https://localhost:8080/",
     "height": 402
    },
    "id": "K9YEkCRDY-wW",
    "outputId": "f3307794-babe-4062-ce5d-fec32c9ae75e",
    "pycharm": {
     "name": "#%%\n"
    }
   },
   "source": [
    "df_news_filter"
   ],
   "execution_count": null,
   "outputs": [
    {
     "output_type": "execute_result",
     "data": {
      "text/html": [
       "<div>\n",
       "<style scoped>\n",
       "    .dataframe tbody tr th:only-of-type {\n",
       "        vertical-align: middle;\n",
       "    }\n",
       "\n",
       "    .dataframe tbody tr th {\n",
       "        vertical-align: top;\n",
       "    }\n",
       "\n",
       "    .dataframe thead th {\n",
       "        text-align: right;\n",
       "    }\n",
       "</style>\n",
       "<table border=\"1\" class=\"dataframe\">\n",
       "  <thead>\n",
       "    <tr style=\"text-align: right;\">\n",
       "      <th></th>\n",
       "      <th>headline</th>\n",
       "      <th>datetime</th>\n",
       "      <th>related</th>\n",
       "      <th>source</th>\n",
       "      <th>summary</th>\n",
       "    </tr>\n",
       "  </thead>\n",
       "  <tbody>\n",
       "    <tr>\n",
       "      <th>0</th>\n",
       "      <td>Apple vs Tesla? Apple Self-Driving Car To Hit ...</td>\n",
       "      <td>1608508800</td>\n",
       "      <td>AAPL</td>\n",
       "      <td>https://www.forbes.com</td>\n",
       "      <td>Project Titan lives? Get ready for the clash o...</td>\n",
       "    </tr>\n",
       "    <tr>\n",
       "      <th>1</th>\n",
       "      <td>Apple Hospitality REIT Enhances Corporate Resp...</td>\n",
       "      <td>1608508800</td>\n",
       "      <td>AAPL</td>\n",
       "      <td>businesswire</td>\n",
       "      <td>Apple Hospitality REIT Enhances Corporate Resp...</td>\n",
       "    </tr>\n",
       "    <tr>\n",
       "      <th>2</th>\n",
       "      <td>L.A. hospitals consider rationing care as coro...</td>\n",
       "      <td>1608505500</td>\n",
       "      <td>AAPL</td>\n",
       "      <td>marketwatch</td>\n",
       "      <td>Medical staffing is stretched increasingly thi...</td>\n",
       "    </tr>\n",
       "    <tr>\n",
       "      <th>3</th>\n",
       "      <td>Apple puts supplier Wistron on notice after In...</td>\n",
       "      <td>1608500072</td>\n",
       "      <td>AAPL</td>\n",
       "      <td>https://www.theglobeandmail.com</td>\n",
       "      <td>Contract workers angry over unpaid wages destr...</td>\n",
       "    </tr>\n",
       "    <tr>\n",
       "      <th>4</th>\n",
       "      <td>Report: gov't spyware targets phones of Al-Jaz...</td>\n",
       "      <td>1608497379</td>\n",
       "      <td>AAPL</td>\n",
       "      <td>abcnews</td>\n",
       "      <td>A cybersecurity watchdog says dozens of journa...</td>\n",
       "    </tr>\n",
       "    <tr>\n",
       "      <th>...</th>\n",
       "      <td>...</td>\n",
       "      <td>...</td>\n",
       "      <td>...</td>\n",
       "      <td>...</td>\n",
       "      <td>...</td>\n",
       "    </tr>\n",
       "    <tr>\n",
       "      <th>195</th>\n",
       "      <td>Apple versus Facebook battle could see both co...</td>\n",
       "      <td>1608215806</td>\n",
       "      <td>AAPL</td>\n",
       "      <td>https://9to5mac.com</td>\n",
       "      <td>The Apple versus Facebook battle escalated qui...</td>\n",
       "    </tr>\n",
       "    <tr>\n",
       "      <th>196</th>\n",
       "      <td>Europe Clears Google-Fitbit Deal. So Long as I...</td>\n",
       "      <td>1608214200</td>\n",
       "      <td>AAPL</td>\n",
       "      <td>MarketWatch</td>\n",
       "      <td>The approval comes after a monthslong investig...</td>\n",
       "    </tr>\n",
       "    <tr>\n",
       "      <th>197</th>\n",
       "      <td>La montre connectée reste un cadeau idéal</td>\n",
       "      <td>1608213609</td>\n",
       "      <td>AAPL</td>\n",
       "      <td>https://www.boursorama.com</td>\n",
       "      <td>Sortie de la case gadget, la montre connectée ...</td>\n",
       "    </tr>\n",
       "    <tr>\n",
       "      <th>198</th>\n",
       "      <td>Facebook and Apple Are Sparring Over Ads, Priv...</td>\n",
       "      <td>1608213120</td>\n",
       "      <td>AAPL</td>\n",
       "      <td>MarketWatch</td>\n",
       "      <td>Facebook says changes to Apple’s latest mobile...</td>\n",
       "    </tr>\n",
       "    <tr>\n",
       "      <th>199</th>\n",
       "      <td>Apple y Facebook pelean públicamente por la pr...</td>\n",
       "      <td>1608210965</td>\n",
       "      <td>AAPL</td>\n",
       "      <td>https://www.businessinsider.es</td>\n",
       "      <td>Facebook va a la carga contra Apple por su nue...</td>\n",
       "    </tr>\n",
       "  </tbody>\n",
       "</table>\n",
       "<p>200 rows × 5 columns</p>\n",
       "</div>"
      ],
      "text/plain": [
       "                                              headline  ...                                            summary\n",
       "0    Apple vs Tesla? Apple Self-Driving Car To Hit ...  ...  Project Titan lives? Get ready for the clash o...\n",
       "1    Apple Hospitality REIT Enhances Corporate Resp...  ...  Apple Hospitality REIT Enhances Corporate Resp...\n",
       "2    L.A. hospitals consider rationing care as coro...  ...  Medical staffing is stretched increasingly thi...\n",
       "3    Apple puts supplier Wistron on notice after In...  ...  Contract workers angry over unpaid wages destr...\n",
       "4    Report: gov't spyware targets phones of Al-Jaz...  ...  A cybersecurity watchdog says dozens of journa...\n",
       "..                                                 ...  ...                                                ...\n",
       "195  Apple versus Facebook battle could see both co...  ...  The Apple versus Facebook battle escalated qui...\n",
       "196  Europe Clears Google-Fitbit Deal. So Long as I...  ...  The approval comes after a monthslong investig...\n",
       "197          La montre connectée reste un cadeau idéal  ...  Sortie de la case gadget, la montre connectée ...\n",
       "198  Facebook and Apple Are Sparring Over Ads, Priv...  ...  Facebook says changes to Apple’s latest mobile...\n",
       "199  Apple y Facebook pelean públicamente por la pr...  ...  Facebook va a la carga contra Apple por su nue...\n",
       "\n",
       "[200 rows x 5 columns]"
      ]
     },
     "metadata": {
      "tags": []
     },
     "execution_count": 49
    }
   ]
  },
  {
   "cell_type": "markdown",
   "metadata": {
    "id": "eA2aEYVQZgl7",
    "pycharm": {
     "name": "#%% md\n"
    }
   },
   "source": [
    "# Fundamentales"
   ]
  },
  {
   "cell_type": "code",
   "metadata": {
    "colab": {
     "base_uri": "https://localhost:8080/"
    },
    "id": "u-SmBOnXZbbE",
    "outputId": "c86fc3d8-347f-4566-dd7b-2ee1008b00bd",
    "pycharm": {
     "name": "#%%\n"
    }
   },
   "source": [
    "import requests\n",
    "r = requests.get('https://finnhub.io/api/v1/stock/metric?symbol=AAPL&metric=all&token=br38tm7rh5rai6tgfp40')\n",
    "print(r.json())"
   ],
   "execution_count": null,
   "outputs": [
    {
     "output_type": "stream",
     "text": [
      "{'metric': {'10DayAverageTradingVolume': 99.55453, '13WeekPriceReturnDaily': 2.30655, '26WeekPriceReturnDaily': 48.44359, '3MonthAverageTradingVolume': 2807.93272, '52WeekHigh': 137.98, '52WeekHighDate': '2020-09-02', '52WeekLow': 53.1525, '52WeekLowDate': '2020-03-23', '52WeekPriceReturnDaily': 82.8525, '5DayPriceReturnDaily': 3.94792, 'assetTurnoverAnnual': 0.82884, 'assetTurnoverTTM': 0.82884, 'beta': 1.27192, 'bookValuePerShareAnnual': 3.84873, 'bookValuePerShareQuarterly': 3.84873, 'bookValueShareGrowth5Y': -6.37004, 'capitalSpendingGrowth5Y': -8.64702, 'cashFlowPerShareAnnual': 3.9061, 'cashFlowPerShareTTM': 3.9061, 'cashPerSharePerShareAnnual': 5.35691, 'cashPerSharePerShareQuarterly': 5.35691, 'currentDividendYieldTTM': 0.64242, 'currentEv/freeCashFlowAnnual': 45.16275, 'currentEv/freeCashFlowTTM': 45.16275, 'currentRatioAnnual': 1.3636, 'currentRatioQuarterly': 1.3636, 'dividendGrowthRate5Y': 9.83445, 'dividendPerShare5Y': 0.674, 'dividendPerShareAnnual': 0.795, 'dividendYield5Y': 1.16156, 'dividendYieldIndicatedAnnual': 0.66263, 'dividendsPerShareTTM': 0.795, 'ebitdPerShareTTM': 4.41254, 'ebitdaCagr5Y': -1.0971, 'ebitdaInterimCagr5Y': -1.2793, 'epsBasicExclExtraItemsAnnual': 3.30859, 'epsBasicExclExtraItemsTTM': 3.2994, 'epsExclExtraItemsAnnual': 3.27535, 'epsExclExtraItemsTTM': 3.26679, 'epsGrowth3Y': 12.47869, 'epsGrowth5Y': 7.28691, 'epsGrowthQuarterlyYoy': -2.97525, 'epsGrowthTTMYoy': 10.2472, 'epsInclExtraItemsAnnual': 3.27535, 'epsInclExtraItemsTTM': 3.26679, 'epsNormalizedAnnual': 3.27535, 'focfCagr5Y': 0.3639, 'freeCashFlowAnnual': 59284, 'freeCashFlowPerShareTTM': 3.3822, 'freeCashFlowTTM': 59284, 'freeOperatingCashFlow/revenue5Y': 18.85883, 'freeOperatingCashFlow/revenueTTM': 21.59591, 'grossMargin5Y': 38.3595, 'grossMarginAnnual': 38.23325, 'grossMarginTTM': 38.23325, 'inventoryTurnoverAnnual': 41.52296, 'inventoryTurnoverTTM': 41.52296, 'longTermDebt/equityAnnual': 151.9827, 'longTermDebt/equityQuarterly': 151.9827, 'marketCapitalization': 2103973, 'monthToDatePriceReturnDaily': 3.94792, 'netDebtAnnual': 22154, 'netDebtInterim': 22154, 'netIncomeEmployeeAnnual': 404302.8, 'netIncomeEmployeeTTM': 390551, 'netInterestCoverageAnnual': None, 'netInterestCoverageTTM': None, 'netMarginGrowth5Y': -1.75179, 'netProfitMargin5Y': 21.50219, 'netProfitMarginAnnual': 20.91361, 'netProfitMarginTTM': 20.91361, 'operatingMargin5Y': 25.89906, 'operatingMarginAnnual': 24.14731, 'operatingMarginTTM': 24.14731, 'payoutRatioAnnual': 24.53711, 'payoutRatioTTM': 24.53711, 'pbAnnual': 32.15345, 'pbQuarterly': 32.15345, 'pcfShareTTM': 30.72974, 'peBasicExclExtraTTM': 34.03043, 'peExclExtraAnnual': 37.78222, 'peExclExtraHighTTM': 34.37013, 'peExclExtraTTM': 37.88122, 'peExclLowTTM': 10.90841, 'peInclExtraTTM': 37.88122, 'peNormalizedAnnual': 37.78222, 'pfcfShareAnnual': 35.48973, 'pfcfShareTTM': 35.48973, 'pretaxMargin5Y': 26.59841, 'pretaxMarginAnnual': 24.43983, 'pretaxMarginTTM': 24.43983, 'priceRelativeToS&P50013Week': -5.03677, 'priceRelativeToS&P50026Week': 29.96554, 'priceRelativeToS&P5004Week': 2.31124, 'priceRelativeToS&P50052Week': 55.80816, 'priceRelativeToS&P500Ytd': 47.5114, 'psAnnual': 7.66433, 'psTTM': 7.66433, 'ptbvAnnual': 32.20088, 'ptbvQuarterly': 32.20088, 'quickRatioAnnual': 1.32507, 'quickRatioQuarterly': 1.32507, 'receivablesTurnoverAnnual': 14.06111, 'receivablesTurnoverTTM': 14.06111, 'revenueEmployeeAnnual': 1933204, 'revenueEmployeeTTM': 1867449, 'revenueGrowth3Y': 6.19294, 'revenueGrowth5Y': 3.27041, 'revenueGrowthQuarterlyYoy': 1.02748, 'revenueGrowthTTMYoy': 5.51208, 'revenuePerShareAnnual': 15.66132, 'revenuePerShareTTM': 15.66132, 'revenueShareGrowth5Y': 9.19987, 'roaRfy': 17.33413, 'roaa5Y': 15.67208, 'roae5Y': 48.47848, 'roaeTTM': 73.68556, 'roeRfy': 73.68556, 'roeTTM': 17.33413, 'roi5Y': 22.05595, 'roiAnnual': 25.44284, 'roiTTM': 25.44284, 'tangibleBookValuePerShareAnnual': 3.84873, 'tangibleBookValuePerShareQuarterly': 3.84873, 'tbvCagr5Y': -9.95011, 'totalDebt/totalEquityAnnual': 173.0926, 'totalDebt/totalEquityQuarterly': 173.0926, 'totalDebtCagr5Y': 11.94642, 'yearToDatePriceReturnDaily': 68.56802}, 'metricType': 'all', 'series': {'annual': {'cashRatio': [{'period': '2019-09-28', 'v': 0.4620216046463233}, {'period': '2018-09-29', 'v': 0.2235247435930613}, {'period': '2017-09-30', 'v': 0.2012518102644474}, {'period': '2016-09-24', 'v': 0.2592714477381465}, {'period': '2015-09-26', 'v': 0.2620022329735765}, {'period': '2014-09-27', 'v': 0.21819442693229105}, {'period': '2013-09-28', 'v': 0.3266068074579688}, {'period': '2012-09-29', 'v': 0.27881272378184835}, {'period': '2011-09-24', 'v': 0.35091169109760456}, {'period': '2010-09-25', 'v': 0.5434321011485378}, {'period': '2009-09-26', 'v': 0.45741352337910657}, {'period': '2008-09-27', 'v': 0.8426766959977292}, {'period': '2007-09-29', 'v': 1.0056995375846864}, {'period': '2006-09-30', 'v': 0.9877916859836192}, {'period': '2005-09-24', 'v': 1.0020091848450057}, {'period': '2004-09-25', 'v': 1.1078358208955223}, {'period': '2003-09-27', 'v': 1.4408145948239288}, {'period': '2002-09-28', 'v': 1.3582629674306392}, {'period': '2001-09-29', 'v': 1.5217391304347827}, {'period': '2000-09-30', 'v': 0.6161407139161924}], 'currentRatio': [{'period': '2019-09-28', 'v': 1.5401}, {'period': '2018-09-29', 'v': 1.1329}, {'period': '2017-09-30', 'v': 1.2761}, {'period': '2016-09-24', 'v': 1.3527}, {'period': '2015-09-26', 'v': 1.1088}, {'period': '2014-09-27', 'v': 1.0801}, {'period': '2013-09-28', 'v': 1.6786}, {'period': '2012-09-29', 'v': 1.4958}, {'period': '2011-09-24', 'v': 1.6084}, {'period': '2010-09-25', 'v': 2.0113}, {'period': '2009-09-26', 'v': 2.7425}, {'period': '2008-09-27', 'v': 2.4617}, {'period': '2007-09-29', 'v': 2.3611}, {'period': '2006-09-30', 'v': 2.2422}, {'period': '2005-09-24', 'v': 2.9564}, {'period': '2004-09-25', 'v': 2.6325}, {'period': '2003-09-27', 'v': 2.4977}, {'period': '2002-09-28', 'v': 3.2497}, {'period': '2001-09-29', 'v': 3.388}, {'period': '2000-09-30', 'v': 2.8076}], 'ebitPerShare': [{'period': '2019-09-28', 'v': 13.7516}, {'period': '2018-09-29', 'v': 14.1793}, {'period': '2017-09-30', 'v': 11.6808}, {'period': '2016-09-24', 'v': 10.9129}, {'period': '2015-09-26', 'v': 12.2957}, {'period': '2014-09-27', 'v': 8.5747}, {'period': '2013-09-28', 'v': 7.5129}, {'period': '2012-09-29', 'v': 8.3483}, {'period': '2011-09-24', 'v': 5.1533}, {'period': '2010-09-25', 'v': 2.8403}, {'period': '2009-09-26', 'v': 1.8491}, {'period': '2008-09-27', 'v': 0.9937}, {'period': '2007-09-29', 'v': 0.7083}, {'period': '2006-09-30', 'v': 0.3993}, {'period': '2005-09-24', 'v': 0.2751}, {'period': '2004-09-25', 'v': 0.0601}, {'period': '2003-09-27', 'v': -0.0002}, {'period': '2002-09-28', 'v': 0.0034}, {'period': '2001-09-29', 'v': -0.0711}, {'period': '2000-09-30', 'v': 0.1035}], 'eps': [{'period': '2019-09-28', 'v': 11.8858}, {'period': '2018-09-29', 'v': 11.9059}, {'period': '2017-09-30', 'v': 9.2067}, {'period': '2016-09-24', 'v': 8.3063}, {'period': '2015-09-26', 'v': 9.2169}, {'period': '2014-09-27', 'v': 6.4527}, {'period': '2013-09-28', 'v': 5.6788}, {'period': '2012-09-29', 'v': 6.3069}, {'period': '2011-09-24', 'v': 3.9533}, {'period': '2010-09-25', 'v': 2.1648}, {'period': '2009-09-26', 'v': 1.2971}, {'period': '2008-09-27', 'v': 0.7655}, {'period': '2007-09-29', 'v': 0.5616}, {'period': '2006-09-30', 'v': 0.3238}, {'period': '2005-09-24', 'v': 0.2226}, {'period': '2004-09-25', 'v': 0.0509}, {'period': '2003-09-27', 'v': 0.0136}, {'period': '2002-09-28', 'v': 0.0128}, {'period': '2001-09-29', 'v': -0.0052}, {'period': '2000-09-30', 'v': 0.1558}], 'grossMargin': [{'period': '2019-09-28', 'v': 0.3782}, {'period': '2018-09-29', 'v': 0.3834}, {'period': '2017-09-30', 'v': 0.3847}, {'period': '2016-09-24', 'v': 0.3908}, {'period': '2015-09-26', 'v': 0.4006}, {'period': '2014-09-27', 'v': 0.3859}, {'period': '2013-09-28', 'v': 0.3762}, {'period': '2012-09-29', 'v': 0.4387}, {'period': '2011-09-24', 'v': 0.4048}, {'period': '2010-09-25', 'v': 0.3938}, {'period': '2009-09-26', 'v': 0.4014}, {'period': '2008-09-27', 'v': 0.3431}, {'period': '2007-09-29', 'v': 0.3397}, {'period': '2006-09-30', 'v': 0.2898}, {'period': '2005-09-24', 'v': 0.2902}, {'period': '2004-09-25', 'v': 0.2729}, {'period': '2003-09-27', 'v': 0.2752}, {'period': '2002-09-28', 'v': 0.2792}, {'period': '2001-09-29', 'v': 0.2303}, {'period': '2000-09-30', 'v': 0.2713}], 'longtermDebtTotalAsset': [{'period': '2019-09-28', 'v': 0.2712}, {'period': '2018-09-29', 'v': 0.2563}, {'period': '2017-09-30', 'v': 0.259}, {'period': '2016-09-24', 'v': 0.2345}, {'period': '2015-09-26', 'v': 0.1837}, {'period': '2014-09-27', 'v': 0.125}, {'period': '2013-09-28', 'v': 0.0819}, {'period': '2012-09-29', 'v': 0}, {'period': '2011-09-24', 'v': 0}, {'period': '2010-09-25', 'v': 0}, {'period': '2009-09-26', 'v': 0}, {'period': '2008-09-27', 'v': 0}, {'period': '2007-09-29', 'v': 0}, {'period': '2006-09-30', 'v': 0}, {'period': '2005-09-24', 'v': 0}, {'period': '2004-09-25', 'v': 0}, {'period': '2003-09-27', 'v': 0}, {'period': '2002-09-28', 'v': 0.0502}, {'period': '2001-09-29', 'v': 0.0526}, {'period': '2000-09-30', 'v': 0.0441}], 'longtermDebtTotalCapital': [{'period': '2019-09-28', 'v': 0.4624}, {'period': '2018-09-29', 'v': 0.4229}, {'period': '2017-09-30', 'v': 0.3893}, {'period': '2016-09-24', 'v': 0.3504}, {'period': '2015-09-26', 'v': 0.2903}, {'period': '2014-09-27', 'v': 0.1974}, {'period': '2013-09-28', 'v': 0.1207}, {'period': '2012-09-29', 'v': 0}, {'period': '2011-09-24', 'v': 0}, {'period': '2010-09-25', 'v': 0}, {'period': '2009-09-26', 'v': 0}, {'period': '2008-09-27', 'v': 0}, {'period': '2007-09-29', 'v': 0}, {'period': '2006-09-30', 'v': 0}, {'period': '2005-09-24', 'v': 0}, {'period': '2004-09-25', 'v': 0}, {'period': '2003-09-27', 'v': 0}, {'period': '2002-09-28', 'v': 0.0716}, {'period': '2001-09-29', 'v': 0.0748}, {'period': '2000-09-30', 'v': 0.0681}], 'longtermDebtTotalEquity': [{'period': '2019-09-28', 'v': 1.0146}, {'period': '2018-09-29', 'v': 0.8748}, {'period': '2017-09-30', 'v': 0.7252}, {'period': '2016-09-24', 'v': 0.5881}, {'period': '2015-09-26', 'v': 0.4468}, {'period': '2014-09-27', 'v': 0.2599}, {'period': '2013-09-28', 'v': 0.1373}, {'period': '2012-09-29', 'v': 0}, {'period': '2011-09-24', 'v': 0}, {'period': '2010-09-25', 'v': 0}, {'period': '2009-09-26', 'v': 0}, {'period': '2008-09-27', 'v': 0}, {'period': '2007-09-29', 'v': 0}, {'period': '2006-09-30', 'v': 0}, {'period': '2005-09-24', 'v': 0}, {'period': '2004-09-25', 'v': 0}, {'period': '2003-09-27', 'v': 0}, {'period': '2002-09-28', 'v': 0.0772}, {'period': '2001-09-29', 'v': 0.0809}, {'period': '2000-09-30', 'v': 0.073}], 'netDebtToTotalCapital': [{'period': '2019-09-28', 'v': 0.2982}, {'period': '2018-09-29', 'v': 0.3996}, {'period': '2017-09-30', 'v': 0.382}, {'period': '2016-09-24', 'v': 0.3091}, {'period': '2015-09-26', 'v': 0.2352}, {'period': '2014-09-27', 'v': 0.1461}, {'period': '2013-09-28', 'v': 0.0192}, {'period': '2012-09-29', 'v': -0.0909}, {'period': '2011-09-24', 'v': -0.1281}, {'period': '2010-09-25', 'v': -0.2356}, {'period': '2009-09-26', 'v': -0.1663}, {'period': '2008-09-27', 'v': -0.5647}, {'period': '2007-09-29', 'v': -0.6435}, {'period': '2006-09-30', 'v': -0.6402}, {'period': '2005-09-24', 'v': -0.4676}, {'period': '2004-09-25', 'v': -0.5849}, {'period': '2003-09-27', 'v': -0.683}, {'period': '2002-09-28', 'v': -0.4389}, {'period': '2001-09-29', 'v': -0.4704}, {'period': '2000-09-30', 'v': -0.2022}], 'netDebtToTotalEquity': [{'period': '2019-09-28', 'v': 0.6543}, {'period': '2018-09-29', 'v': 0.8266}, {'period': '2017-09-30', 'v': 0.7116}, {'period': '2016-09-24', 'v': 0.5189}, {'period': '2015-09-26', 'v': 0.362}, {'period': '2014-09-27', 'v': 0.1923}, {'period': '2013-09-28', 'v': 0.0219}, {'period': '2012-09-29', 'v': -0.0909}, {'period': '2011-09-24', 'v': -0.1281}, {'period': '2010-09-25', 'v': -0.2356}, {'period': '2009-09-26', 'v': -0.1663}, {'period': '2008-09-27', 'v': -0.5647}, {'period': '2007-09-29', 'v': -0.6435}, {'period': '2006-09-30', 'v': -0.6402}, {'period': '2005-09-24', 'v': -0.4676}, {'period': '2004-09-25', 'v': -0.5849}, {'period': '2003-09-27', 'v': -0.7322}, {'period': '2002-09-28', 'v': -0.4728}, {'period': '2001-09-29', 'v': -0.5084}, {'period': '2000-09-30', 'v': -0.2169}], 'netMargin': [{'period': '2019-09-28', 'v': 0.2124}, {'period': '2018-09-29', 'v': 0.2241}, {'period': '2017-09-30', 'v': 0.2109}, {'period': '2016-09-24', 'v': 0.2119}, {'period': '2015-09-26', 'v': 0.2285}, {'period': '2014-09-27', 'v': 0.2161}, {'period': '2013-09-28', 'v': 0.2167}, {'period': '2012-09-29', 'v': 0.2667}, {'period': '2011-09-24', 'v': 0.2395}, {'period': '2010-09-25', 'v': 0.2148}, {'period': '2009-09-26', 'v': 0.1919}, {'period': '2008-09-27', 'v': 0.1488}, {'period': '2007-09-29', 'v': 0.1456}, {'period': '2006-09-30', 'v': 0.103}, {'period': '2005-09-24', 'v': 0.0958}, {'period': '2004-09-25', 'v': 0.0333}, {'period': '2003-09-27', 'v': 0.0111}, {'period': '2002-09-28', 'v': 0.0113}, {'period': '2001-09-29', 'v': -0.0047}, {'period': '2000-09-30', 'v': 0.0985}], 'operatingMargin': [{'period': '2019-09-28', 'v': 0.2457}, {'period': '2018-09-29', 'v': 0.2669}, {'period': '2017-09-30', 'v': 0.2676}, {'period': '2016-09-24', 'v': 0.2784}, {'period': '2015-09-26', 'v': 0.3048}, {'period': '2014-09-27', 'v': 0.2872}, {'period': '2013-09-28', 'v': 0.2867}, {'period': '2012-09-29', 'v': 0.353}, {'period': '2011-09-24', 'v': 0.3122}, {'period': '2010-09-25', 'v': 0.2819}, {'period': '2009-09-26', 'v': 0.2736}, {'period': '2008-09-27', 'v': 0.1932}, {'period': '2007-09-29', 'v': 0.1837}, {'period': '2006-09-30', 'v': 0.127}, {'period': '2005-09-24', 'v': 0.1184}, {'period': '2004-09-25', 'v': 0.0394}, {'period': '2003-09-27', 'v': -0.0002}, {'period': '2002-09-28', 'v': 0.003}, {'period': '2001-09-29', 'v': -0.0641}, {'period': '2000-09-30', 'v': 0.0654}], 'pretaxMargin': [{'period': '2019-09-28', 'v': 0.2527}, {'period': '2018-09-29', 'v': 0.2745}, {'period': '2017-09-30', 'v': 0.2796}, {'period': '2016-09-24', 'v': 0.2846}, {'period': '2015-09-26', 'v': 0.3103}, {'period': '2014-09-27', 'v': 0.2926}, {'period': '2013-09-28', 'v': 0.2935}, {'period': '2012-09-29', 'v': 0.3563}, {'period': '2011-09-24', 'v': 0.316}, {'period': '2010-09-25', 'v': 0.2842}, {'period': '2009-09-26', 'v': 0.2812}, {'period': '2008-09-27', 'v': 0.2123}, {'period': '2007-09-29', 'v': 0.2086}, {'period': '2006-09-30', 'v': 0.1459}, {'period': '2005-09-24', 'v': 0.1303}, {'period': '2004-09-25', 'v': 0.0463}, {'period': '2003-09-27', 'v': 0.0148}, {'period': '2002-09-28', 'v': 0.0152}, {'period': '2001-09-29', 'v': -0.0097}, {'period': '2000-09-30', 'v': 0.1368}], 'salesPerShare': [{'period': '2019-09-28', 'v': 55.9645}, {'period': '2018-09-29', 'v': 53.1178}, {'period': '2017-09-30', 'v': 43.6496}, {'period': '2016-09-24', 'v': 39.2051}, {'period': '2015-09-26', 'v': 40.3439}, {'period': '2014-09-27', 'v': 29.8538}, {'period': '2013-09-28', 'v': 26.2052}, {'period': '2012-09-29', 'v': 23.6524}, {'period': '2011-09-24', 'v': 16.5089}, {'period': '2010-09-25', 'v': 10.0765}, {'period': '2009-09-26', 'v': 6.7578}, {'period': '2008-09-27', 'v': 5.1432}, {'period': '2007-09-29', 'v': 3.8564}, {'period': '2006-09-30', 'v': 3.1442}, {'period': '2005-09-24', 'v': 2.323}, {'period': '2004-09-25', 'v': 1.5269}, {'period': '2003-09-27', 'v': 1.2197}, {'period': '2002-09-28', 'v': 1.1337}, {'period': '2001-09-29', 'v': 1.1083}, {'period': '2000-09-30', 'v': 1.5824}], 'sgaToSale': [{'period': '2019-09-28', 'v': 0.6218}, {'period': '2018-09-29', 'v': 0.6166}, {'period': '2017-09-30', 'v': 0.6153}, {'period': '2016-09-24', 'v': 0.6092}, {'period': '2015-09-26', 'v': 0.5994}, {'period': '2014-09-27', 'v': 0.6141}, {'period': '2013-09-28', 'v': 0.6238}, {'period': '2012-09-29', 'v': 0.5613}, {'period': '2011-09-24', 'v': 0.5952}, {'period': '2010-09-25', 'v': 0.6062}, {'period': '2009-09-26', 'v': 0.5986}, {'period': '2008-09-27', 'v': 0.6569}, {'period': '2007-09-29', 'v': 0.6603}, {'period': '2006-09-30', 'v': 0.7102}, {'period': '2005-09-24', 'v': 0.7098}, {'period': '2004-09-25', 'v': 0.7271}, {'period': '2003-09-27', 'v': 0.7248}, {'period': '2002-09-28', 'v': 0.7208}, {'period': '2001-09-29', 'v': 0.7697}, {'period': '2000-09-30', 'v': 0.7287}], 'totalDebtToEquity': [{'period': '2019-09-28', 'v': 1.194}, {'period': '2018-09-29', 'v': 1.0685}, {'period': '2017-09-30', 'v': 0.863}, {'period': '2016-09-24', 'v': 0.6786}, {'period': '2015-09-26', 'v': 0.539}, {'period': '2014-09-27', 'v': 0.3164}, {'period': '2013-09-28', 'v': 0.1373}, {'period': '2012-09-29', 'v': 0}, {'period': '2011-09-24', 'v': 0}, {'period': '2010-09-25', 'v': 0}, {'period': '2009-09-26', 'v': 0}, {'period': '2008-09-27', 'v': 0}, {'period': '2007-09-29', 'v': 0}, {'period': '2006-09-30', 'v': 0}, {'period': '2005-09-24', 'v': 0}, {'period': '2004-09-25', 'v': 0}, {'period': '2003-09-27', 'v': 0.072}, {'period': '2002-09-28', 'v': 0.0772}, {'period': '2001-09-29', 'v': 0.0809}, {'period': '2000-09-30', 'v': 0.073}], 'totalDebtToTotalAsset': [{'period': '2019-09-28', 'v': 0.3192}, {'period': '2018-09-29', 'v': 0.313}, {'period': '2017-09-30', 'v': 0.3082}, {'period': '2016-09-24', 'v': 0.2705}, {'period': '2015-09-26', 'v': 0.2216}, {'period': '2014-09-27', 'v': 0.1522}, {'period': '2013-09-28', 'v': 0.0819}, {'period': '2012-09-29', 'v': 0}, {'period': '2011-09-24', 'v': 0}, {'period': '2010-09-25', 'v': 0}, {'period': '2009-09-26', 'v': 0}, {'period': '2008-09-27', 'v': 0}, {'period': '2007-09-29', 'v': 0}, {'period': '2006-09-30', 'v': 0}, {'period': '2005-09-24', 'v': 0}, {'period': '2004-09-25', 'v': 0}, {'period': '2003-09-27', 'v': 0.0446}, {'period': '2002-09-28', 'v': 0.0502}, {'period': '2001-09-29', 'v': 0.0526}, {'period': '2000-09-30', 'v': 0.0441}], 'totalDebtToTotalCapital': [{'period': '2019-09-28', 'v': 0.5442}, {'period': '2018-09-29', 'v': 0.5166}, {'period': '2017-09-30', 'v': 0.4632}, {'period': '2016-09-24', 'v': 0.4043}, {'period': '2015-09-26', 'v': 0.3502}, {'period': '2014-09-27', 'v': 0.2404}, {'period': '2013-09-28', 'v': 0.1207}, {'period': '2012-09-29', 'v': 0}, {'period': '2011-09-24', 'v': 0}, {'period': '2010-09-25', 'v': 0}, {'period': '2009-09-26', 'v': 0}, {'period': '2008-09-27', 'v': 0}, {'period': '2007-09-29', 'v': 0}, {'period': '2006-09-30', 'v': 0}, {'period': '2005-09-24', 'v': 0}, {'period': '2004-09-25', 'v': 0}, {'period': '2003-09-27', 'v': 0.0672}, {'period': '2002-09-28', 'v': 0.0716}, {'period': '2001-09-29', 'v': 0.0748}, {'period': '2000-09-30', 'v': 0.0681}], 'totalRatio': [{'period': '2019-09-28', 'v': 1.3648}, {'period': '2018-09-29', 'v': 1.4144}, {'period': '2017-09-30', 'v': 1.5556}, {'period': '2016-09-24', 'v': 1.663}, {'period': '2015-09-26', 'v': 1.698}, {'period': '2014-09-27', 'v': 1.9273}, {'period': '2013-09-28', 'v': 2.4805}, {'period': '2012-09-29', 'v': 3.0432}, {'period': '2011-09-24', 'v': 2.9271}, {'period': '2010-09-25', 'v': 2.7447}, {'period': '2009-09-26', 'v': 2.9948}, {'period': '2008-09-27', 'v': 2.1342}, {'period': '2007-09-29', 'v': 2.3437}, {'period': '2006-09-30', 'v': 2.3826}, {'period': '2005-09-24', 'v': 2.8277}, {'period': '2004-09-25', 'v': 2.7068}, {'period': '2003-09-27', 'v': 2.6292}, {'period': '2002-09-28', 'v': 2.8588}, {'period': '2001-09-29', 'v': 2.8658}, {'period': '2000-09-30', 'v': 2.5234}]}}, 'symbol': 'AAPL'}\n"
     ],
     "name": "stdout"
    }
   ]
  },
  {
   "cell_type": "code",
   "metadata": {
    "colab": {
     "base_uri": "https://localhost:8080/"
    },
    "id": "NlRD_kugZ0tM",
    "outputId": "f885b1f5-6fe1-4897-9782-b67b22978d5a",
    "pycharm": {
     "name": "#%%\n"
    }
   },
   "source": [
    "type(r.json())"
   ],
   "execution_count": null,
   "outputs": [
    {
     "output_type": "execute_result",
     "data": {
      "text/plain": [
       "dict"
      ]
     },
     "metadata": {
      "tags": []
     },
     "execution_count": 27
    }
   ]
  },
  {
   "cell_type": "code",
   "metadata": {
    "colab": {
     "base_uri": "https://localhost:8080/"
    },
    "id": "oKnJkKLcaDJM",
    "outputId": "9f9080fe-2f42-4648-e24f-279f7f9bcbf8",
    "pycharm": {
     "name": "#%%\n"
    }
   },
   "source": [
    "print(r.json().get('metric'))"
   ],
   "execution_count": null,
   "outputs": [
    {
     "output_type": "stream",
     "text": [
      "{'10DayAverageTradingVolume': 99.55453, '13WeekPriceReturnDaily': 2.30655, '26WeekPriceReturnDaily': 48.44359, '3MonthAverageTradingVolume': 2807.93272, '52WeekHigh': 137.98, '52WeekHighDate': '2020-09-02', '52WeekLow': 53.1525, '52WeekLowDate': '2020-03-23', '52WeekPriceReturnDaily': 82.8525, '5DayPriceReturnDaily': 3.94792, 'assetTurnoverAnnual': 0.82884, 'assetTurnoverTTM': 0.82884, 'beta': 1.27192, 'bookValuePerShareAnnual': 3.84873, 'bookValuePerShareQuarterly': 3.84873, 'bookValueShareGrowth5Y': -6.37004, 'capitalSpendingGrowth5Y': -8.64702, 'cashFlowPerShareAnnual': 3.9061, 'cashFlowPerShareTTM': 3.9061, 'cashPerSharePerShareAnnual': 5.35691, 'cashPerSharePerShareQuarterly': 5.35691, 'currentDividendYieldTTM': 0.64242, 'currentEv/freeCashFlowAnnual': 45.16275, 'currentEv/freeCashFlowTTM': 45.16275, 'currentRatioAnnual': 1.3636, 'currentRatioQuarterly': 1.3636, 'dividendGrowthRate5Y': 9.83445, 'dividendPerShare5Y': 0.674, 'dividendPerShareAnnual': 0.795, 'dividendYield5Y': 1.16156, 'dividendYieldIndicatedAnnual': 0.66263, 'dividendsPerShareTTM': 0.795, 'ebitdPerShareTTM': 4.41254, 'ebitdaCagr5Y': -1.0971, 'ebitdaInterimCagr5Y': -1.2793, 'epsBasicExclExtraItemsAnnual': 3.30859, 'epsBasicExclExtraItemsTTM': 3.2994, 'epsExclExtraItemsAnnual': 3.27535, 'epsExclExtraItemsTTM': 3.26679, 'epsGrowth3Y': 12.47869, 'epsGrowth5Y': 7.28691, 'epsGrowthQuarterlyYoy': -2.97525, 'epsGrowthTTMYoy': 10.2472, 'epsInclExtraItemsAnnual': 3.27535, 'epsInclExtraItemsTTM': 3.26679, 'epsNormalizedAnnual': 3.27535, 'focfCagr5Y': 0.3639, 'freeCashFlowAnnual': 59284, 'freeCashFlowPerShareTTM': 3.3822, 'freeCashFlowTTM': 59284, 'freeOperatingCashFlow/revenue5Y': 18.85883, 'freeOperatingCashFlow/revenueTTM': 21.59591, 'grossMargin5Y': 38.3595, 'grossMarginAnnual': 38.23325, 'grossMarginTTM': 38.23325, 'inventoryTurnoverAnnual': 41.52296, 'inventoryTurnoverTTM': 41.52296, 'longTermDebt/equityAnnual': 151.9827, 'longTermDebt/equityQuarterly': 151.9827, 'marketCapitalization': 2103973, 'monthToDatePriceReturnDaily': 3.94792, 'netDebtAnnual': 22154, 'netDebtInterim': 22154, 'netIncomeEmployeeAnnual': 404302.8, 'netIncomeEmployeeTTM': 390551, 'netInterestCoverageAnnual': None, 'netInterestCoverageTTM': None, 'netMarginGrowth5Y': -1.75179, 'netProfitMargin5Y': 21.50219, 'netProfitMarginAnnual': 20.91361, 'netProfitMarginTTM': 20.91361, 'operatingMargin5Y': 25.89906, 'operatingMarginAnnual': 24.14731, 'operatingMarginTTM': 24.14731, 'payoutRatioAnnual': 24.53711, 'payoutRatioTTM': 24.53711, 'pbAnnual': 32.15345, 'pbQuarterly': 32.15345, 'pcfShareTTM': 30.72974, 'peBasicExclExtraTTM': 34.03043, 'peExclExtraAnnual': 37.78222, 'peExclExtraHighTTM': 34.37013, 'peExclExtraTTM': 37.88122, 'peExclLowTTM': 10.90841, 'peInclExtraTTM': 37.88122, 'peNormalizedAnnual': 37.78222, 'pfcfShareAnnual': 35.48973, 'pfcfShareTTM': 35.48973, 'pretaxMargin5Y': 26.59841, 'pretaxMarginAnnual': 24.43983, 'pretaxMarginTTM': 24.43983, 'priceRelativeToS&P50013Week': -5.03677, 'priceRelativeToS&P50026Week': 29.96554, 'priceRelativeToS&P5004Week': 2.31124, 'priceRelativeToS&P50052Week': 55.80816, 'priceRelativeToS&P500Ytd': 47.5114, 'psAnnual': 7.66433, 'psTTM': 7.66433, 'ptbvAnnual': 32.20088, 'ptbvQuarterly': 32.20088, 'quickRatioAnnual': 1.32507, 'quickRatioQuarterly': 1.32507, 'receivablesTurnoverAnnual': 14.06111, 'receivablesTurnoverTTM': 14.06111, 'revenueEmployeeAnnual': 1933204, 'revenueEmployeeTTM': 1867449, 'revenueGrowth3Y': 6.19294, 'revenueGrowth5Y': 3.27041, 'revenueGrowthQuarterlyYoy': 1.02748, 'revenueGrowthTTMYoy': 5.51208, 'revenuePerShareAnnual': 15.66132, 'revenuePerShareTTM': 15.66132, 'revenueShareGrowth5Y': 9.19987, 'roaRfy': 17.33413, 'roaa5Y': 15.67208, 'roae5Y': 48.47848, 'roaeTTM': 73.68556, 'roeRfy': 73.68556, 'roeTTM': 17.33413, 'roi5Y': 22.05595, 'roiAnnual': 25.44284, 'roiTTM': 25.44284, 'tangibleBookValuePerShareAnnual': 3.84873, 'tangibleBookValuePerShareQuarterly': 3.84873, 'tbvCagr5Y': -9.95011, 'totalDebt/totalEquityAnnual': 173.0926, 'totalDebt/totalEquityQuarterly': 173.0926, 'totalDebtCagr5Y': 11.94642, 'yearToDatePriceReturnDaily': 68.56802}\n"
     ],
     "name": "stdout"
    }
   ]
  },
  {
   "cell_type": "code",
   "metadata": {
    "id": "xadozkXUbM3K",
    "pycharm": {
     "name": "#%%\n"
    }
   },
   "source": [
    "metricas = r.json().get('metric')"
   ],
   "execution_count": null,
   "outputs": []
  },
  {
   "cell_type": "code",
   "metadata": {
    "id": "0t73qVYbbbVJ",
    "pycharm": {
     "name": "#%%\n"
    }
   },
   "source": [
    "df=pd.DataFrame.from_dict(metricas,orient=\"index\")"
   ],
   "execution_count": null,
   "outputs": []
  },
  {
   "cell_type": "code",
   "metadata": {
    "colab": {
     "base_uri": "https://localhost:8080/",
     "height": 639
    },
    "id": "yZ8QP0evbfL0",
    "outputId": "9d620eac-a2fd-4552-ca3d-b5effd137a5b",
    "pycharm": {
     "name": "#%%\n"
    }
   },
   "source": [
    "df.head(20)"
   ],
   "execution_count": null,
   "outputs": [
    {
     "output_type": "execute_result",
     "data": {
      "text/html": [
       "<div>\n",
       "<style scoped>\n",
       "    .dataframe tbody tr th:only-of-type {\n",
       "        vertical-align: middle;\n",
       "    }\n",
       "\n",
       "    .dataframe tbody tr th {\n",
       "        vertical-align: top;\n",
       "    }\n",
       "\n",
       "    .dataframe thead th {\n",
       "        text-align: right;\n",
       "    }\n",
       "</style>\n",
       "<table border=\"1\" class=\"dataframe\">\n",
       "  <thead>\n",
       "    <tr style=\"text-align: right;\">\n",
       "      <th></th>\n",
       "      <th>0</th>\n",
       "    </tr>\n",
       "  </thead>\n",
       "  <tbody>\n",
       "    <tr>\n",
       "      <th>10DayAverageTradingVolume</th>\n",
       "      <td>99.5545</td>\n",
       "    </tr>\n",
       "    <tr>\n",
       "      <th>13WeekPriceReturnDaily</th>\n",
       "      <td>2.30655</td>\n",
       "    </tr>\n",
       "    <tr>\n",
       "      <th>26WeekPriceReturnDaily</th>\n",
       "      <td>48.4436</td>\n",
       "    </tr>\n",
       "    <tr>\n",
       "      <th>3MonthAverageTradingVolume</th>\n",
       "      <td>2807.93</td>\n",
       "    </tr>\n",
       "    <tr>\n",
       "      <th>52WeekHigh</th>\n",
       "      <td>137.98</td>\n",
       "    </tr>\n",
       "    <tr>\n",
       "      <th>52WeekHighDate</th>\n",
       "      <td>2020-09-02</td>\n",
       "    </tr>\n",
       "    <tr>\n",
       "      <th>52WeekLow</th>\n",
       "      <td>53.1525</td>\n",
       "    </tr>\n",
       "    <tr>\n",
       "      <th>52WeekLowDate</th>\n",
       "      <td>2020-03-23</td>\n",
       "    </tr>\n",
       "    <tr>\n",
       "      <th>52WeekPriceReturnDaily</th>\n",
       "      <td>82.8525</td>\n",
       "    </tr>\n",
       "    <tr>\n",
       "      <th>5DayPriceReturnDaily</th>\n",
       "      <td>3.94792</td>\n",
       "    </tr>\n",
       "    <tr>\n",
       "      <th>assetTurnoverAnnual</th>\n",
       "      <td>0.82884</td>\n",
       "    </tr>\n",
       "    <tr>\n",
       "      <th>assetTurnoverTTM</th>\n",
       "      <td>0.82884</td>\n",
       "    </tr>\n",
       "    <tr>\n",
       "      <th>beta</th>\n",
       "      <td>1.27192</td>\n",
       "    </tr>\n",
       "    <tr>\n",
       "      <th>bookValuePerShareAnnual</th>\n",
       "      <td>3.84873</td>\n",
       "    </tr>\n",
       "    <tr>\n",
       "      <th>bookValuePerShareQuarterly</th>\n",
       "      <td>3.84873</td>\n",
       "    </tr>\n",
       "    <tr>\n",
       "      <th>bookValueShareGrowth5Y</th>\n",
       "      <td>-6.37004</td>\n",
       "    </tr>\n",
       "    <tr>\n",
       "      <th>capitalSpendingGrowth5Y</th>\n",
       "      <td>-8.64702</td>\n",
       "    </tr>\n",
       "    <tr>\n",
       "      <th>cashFlowPerShareAnnual</th>\n",
       "      <td>3.9061</td>\n",
       "    </tr>\n",
       "    <tr>\n",
       "      <th>cashFlowPerShareTTM</th>\n",
       "      <td>3.9061</td>\n",
       "    </tr>\n",
       "    <tr>\n",
       "      <th>cashPerSharePerShareAnnual</th>\n",
       "      <td>5.35691</td>\n",
       "    </tr>\n",
       "  </tbody>\n",
       "</table>\n",
       "</div>"
      ],
      "text/plain": [
       "                                     0\n",
       "10DayAverageTradingVolume      99.5545\n",
       "13WeekPriceReturnDaily         2.30655\n",
       "26WeekPriceReturnDaily         48.4436\n",
       "3MonthAverageTradingVolume     2807.93\n",
       "52WeekHigh                      137.98\n",
       "52WeekHighDate              2020-09-02\n",
       "52WeekLow                      53.1525\n",
       "52WeekLowDate               2020-03-23\n",
       "52WeekPriceReturnDaily         82.8525\n",
       "5DayPriceReturnDaily           3.94792\n",
       "assetTurnoverAnnual            0.82884\n",
       "assetTurnoverTTM               0.82884\n",
       "beta                           1.27192\n",
       "bookValuePerShareAnnual        3.84873\n",
       "bookValuePerShareQuarterly     3.84873\n",
       "bookValueShareGrowth5Y        -6.37004\n",
       "capitalSpendingGrowth5Y       -8.64702\n",
       "cashFlowPerShareAnnual          3.9061\n",
       "cashFlowPerShareTTM             3.9061\n",
       "cashPerSharePerShareAnnual     5.35691"
      ]
     },
     "metadata": {
      "tags": []
     },
     "execution_count": 9
    }
   ]
  },
  {
   "cell_type": "markdown",
   "metadata": {
    "id": "KnfkURU2cL9M",
    "pycharm": {
     "name": "#%% md\n"
    }
   },
   "source": [
    "# Identificación de Soportes/Resistencias"
   ]
  },
  {
   "cell_type": "code",
   "metadata": {
    "colab": {
     "base_uri": "https://localhost:8080/"
    },
    "id": "ZUwTm7TScLmv",
    "outputId": "c23e453b-ab17-45fe-a90a-0e8b92d6bf62",
    "pycharm": {
     "name": "#%%\n"
    }
   },
   "source": [
    "r = requests.get('https://finnhub.io/api/v1/scan/support-resistance?symbol=AAPL&resolution=D&token=br38tm7rh5rai6tgfp40')\n",
    "print(r.json())"
   ],
   "execution_count": null,
   "outputs": [
    {
     "output_type": "stream",
     "text": [
      "{'levels': [66.36000061035156, 83.13999938964844, 99.94999694824219, 117.62999725341797, 137.97999572753906]}\n"
     ],
     "name": "stdout"
    }
   ]
  },
  {
   "cell_type": "markdown",
   "metadata": {
    "id": "Uq9FplAeenrx",
    "pycharm": {
     "name": "#%% md\n"
    }
   },
   "source": [
    "# Reconocimiento de Patrones"
   ]
  },
  {
   "cell_type": "code",
   "metadata": {
    "colab": {
     "base_uri": "https://localhost:8080/"
    },
    "id": "hNy5-ZA8esiG",
    "outputId": "721787cb-be2b-4880-d6f5-77fe348d5bd5",
    "pycharm": {
     "name": "#%%\n"
    }
   },
   "source": [
    "import requests\n",
    "r = requests.get('https://finnhub.io/api/v1/scan/pattern?symbol=AMZN&resolution=D&token=br38tm7rh5rai6tgfp40')\n",
    "print(r.json())"
   ],
   "execution_count": null,
   "outputs": [
    {
     "output_type": "stream",
     "text": [
      "{'points': [{'aprice': 3365.5200195312, 'atime': 1604534400, 'bprice': 3020, 'btime': 1604966400, 'cprice': 3248.9499511719, 'ctime': 1606780800, 'dprice': 3072.8200683594, 'dtime': 1607644800, 'entry': 3173.52225988059, 'entry_date': 1608076800, 'intersect_price': 3104.270438028712, 'intersect_time': 1609027200, 'mature': 1, 'patternname': 'Triangle', 'patterntype': 'bullish', 'profit1': 3519.04227941179, 'profit2': 0, 'sortTime': 1607644800, 'status': 'complete', 'stoploss': 3016.98, 'symbol': 'AMZN.US', 'terminal': 0}, {'aprice': 2871, 'atime': 1600646400, 'bprice': 3133.9899902344, 'btime': 1600732800, 'cprice': 2965, 'ctime': 1600905600, 'dprice': 0, 'dtime': 0, 'end_price': 3133.9899902344, 'end_time': 1601251200, 'entry': 3133.98999023, 'eprice': 0, 'etime': 0, 'mature': 0, 'patternname': 'Double Bottom', 'patterntype': 'bullish', 'profit1': 3396.97998047, 'profit2': 0, 'sortTime': 1601251200, 'start_price': 3133.9899902344, 'start_time': 1600214400, 'status': 'successful', 'stoploss': 2844.70100098, 'symbol': 'AMZN.US', 'terminal': 0}, {'aprice': 3344.2900390625, 'atime': 1594598400, 'bprice': 2918.2299804688, 'btime': 1594857600, 'cprice': 3240.580078125, 'ctime': 1595289600, 'dprice': 0, 'dtime': 0, 'end_price': 2918.2299804688, 'end_time': 1595548800, 'entry': 2918.22998047, 'eprice': 0, 'etime': 0, 'mature': 0, 'patternname': 'Double Top', 'patterntype': 'bearish', 'profit1': 2492.16992188, 'profit2': 0, 'sortTime': 1595548800, 'start_price': 2918.2299804688, 'start_time': 1593648000, 'status': 'failed', 'stoploss': 3386.89604492, 'symbol': 'AMZN.US', 'terminal': 0}, {'aprice': 2500.0100097656, 'atime': 1589932800, 'dprice': 2414.0600585938, 'dtime': 1590451200, 'mature': 1, 'patternname': 'three black crows', 'patterntype': 'bearish', 'sortTime': 1590451200, 'status': 'complete', 'symbol': 'AMZN.US'}]}\n"
     ],
     "name": "stdout"
    }
   ]
  }
 ]
}