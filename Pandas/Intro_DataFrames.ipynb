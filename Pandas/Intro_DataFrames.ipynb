{
  "nbformat": 4,
  "nbformat_minor": 0,
  "metadata": {
    "colab": {
      "name": "Intro DataFrames.ipynb",
      "provenance": []
    },
    "kernelspec": {
      "name": "python3",
      "display_name": "Python 3"
    }
  },
  "cells": [
    {
      "cell_type": "markdown",
      "metadata": {
        "id": "Acjn81q32lM-"
      },
      "source": [
        "# ¿Que es Pandas?"
      ]
    },
    {
      "cell_type": "code",
      "metadata": {
        "id": "nE2-OrlD2Yky"
      },
      "source": [
        "import pandas as pd\n",
        "from pandas import Series,DataFrame\n",
        "import numpy as np"
      ],
      "execution_count": 2,
      "outputs": []
    },
    {
      "cell_type": "markdown",
      "metadata": {
        "id": "8jpPermj4f1U"
      },
      "source": [
        "# ¿Diferencias entre Series y DataFrames?"
      ]
    },
    {
      "cell_type": "code",
      "metadata": {
        "id": "1MO_hR5d4RiD"
      },
      "source": [
        "obj = pd.Series([2,1,-7,3])"
      ],
      "execution_count": 3,
      "outputs": []
    },
    {
      "cell_type": "code",
      "metadata": {
        "id": "N6mnvjIL4yyR",
        "outputId": "44e8a55d-b37c-463b-af9c-7dd57453e144",
        "colab": {
          "base_uri": "https://localhost:8080/"
        }
      },
      "source": [
        "obj"
      ],
      "execution_count": 4,
      "outputs": [
        {
          "output_type": "execute_result",
          "data": {
            "text/plain": [
              "0    2\n",
              "1    1\n",
              "2   -7\n",
              "3    3\n",
              "dtype: int64"
            ]
          },
          "metadata": {
            "tags": []
          },
          "execution_count": 4
        }
      ]
    },
    {
      "cell_type": "code",
      "metadata": {
        "id": "iZLKQpDi4t1K"
      },
      "source": [
        "obj.index"
      ],
      "execution_count": null,
      "outputs": []
    },
    {
      "cell_type": "code",
      "metadata": {
        "id": "yBPpBaKN5ASZ"
      },
      "source": [
        "obj2 = pd.Series([2,1,-7,3], index=['a','b','c','d'])"
      ],
      "execution_count": 8,
      "outputs": []
    },
    {
      "cell_type": "code",
      "metadata": {
        "id": "XzF3KMLE5Yun"
      },
      "source": [
        "obj2"
      ],
      "execution_count": null,
      "outputs": []
    },
    {
      "cell_type": "code",
      "metadata": {
        "id": "22X4zxKo5cjX",
        "outputId": "58dc495a-25d6-41b7-d986-39266332aa16",
        "colab": {
          "base_uri": "https://localhost:8080/"
        }
      },
      "source": [
        "obj2['b']"
      ],
      "execution_count": 9,
      "outputs": [
        {
          "output_type": "execute_result",
          "data": {
            "text/plain": [
              "1"
            ]
          },
          "metadata": {
            "tags": []
          },
          "execution_count": 9
        }
      ]
    },
    {
      "cell_type": "code",
      "metadata": {
        "id": "bl_Tepxn5faA",
        "outputId": "769723e7-c1af-4f08-f541-51df6df529e7",
        "colab": {
          "base_uri": "https://localhost:8080/"
        }
      },
      "source": [
        "obj2[obj2>1]"
      ],
      "execution_count": 11,
      "outputs": [
        {
          "output_type": "execute_result",
          "data": {
            "text/plain": [
              "a    2\n",
              "d    3\n",
              "dtype: int64"
            ]
          },
          "metadata": {
            "tags": []
          },
          "execution_count": 11
        }
      ]
    },
    {
      "cell_type": "code",
      "metadata": {
        "id": "giVwKWGv5koC",
        "outputId": "6154c7f1-2a9b-4cee-b601-e9931a90fd17",
        "colab": {
          "base_uri": "https://localhost:8080/"
        }
      },
      "source": [
        "obj2*2"
      ],
      "execution_count": 12,
      "outputs": [
        {
          "output_type": "execute_result",
          "data": {
            "text/plain": [
              "a     4\n",
              "b     2\n",
              "c   -14\n",
              "d     6\n",
              "dtype: int64"
            ]
          },
          "metadata": {
            "tags": []
          },
          "execution_count": 12
        }
      ]
    },
    {
      "cell_type": "code",
      "metadata": {
        "id": "GkAe-mq65rEY",
        "outputId": "785584dc-bccb-4a66-9f32-271b822a3f02",
        "colab": {
          "base_uri": "https://localhost:8080/"
        }
      },
      "source": [
        "'a' in obj2"
      ],
      "execution_count": 14,
      "outputs": [
        {
          "output_type": "execute_result",
          "data": {
            "text/plain": [
              "True"
            ]
          },
          "metadata": {
            "tags": []
          },
          "execution_count": 14
        }
      ]
    },
    {
      "cell_type": "markdown",
      "metadata": {
        "id": "bXA-bB895yh0"
      },
      "source": [
        "**Uso de Diccionarios con Series**"
      ]
    },
    {
      "cell_type": "code",
      "metadata": {
        "id": "ROlWImWf5yP0"
      },
      "source": [
        "diccionario = {'Peras':3,'Manzanas':2,'Naranjas':4}"
      ],
      "execution_count": 15,
      "outputs": []
    },
    {
      "cell_type": "code",
      "metadata": {
        "id": "jKf3dez66BgR",
        "outputId": "7b518df4-2403-42a7-fb2b-2d43fe3e7d99",
        "colab": {
          "base_uri": "https://localhost:8080/"
        }
      },
      "source": [
        "diccionario"
      ],
      "execution_count": 16,
      "outputs": [
        {
          "output_type": "execute_result",
          "data": {
            "text/plain": [
              "{'Manzanas': 2, 'Naranjas': 4, 'Peras': 3}"
            ]
          },
          "metadata": {
            "tags": []
          },
          "execution_count": 16
        }
      ]
    },
    {
      "cell_type": "code",
      "metadata": {
        "id": "HuVBSlWP6DHG",
        "outputId": "c98f5b74-44da-477e-dfc2-a04377e292cc",
        "colab": {
          "base_uri": "https://localhost:8080/"
        }
      },
      "source": [
        "obj3 = pd.Series(diccionario)\n",
        "obj3"
      ],
      "execution_count": 17,
      "outputs": [
        {
          "output_type": "execute_result",
          "data": {
            "text/plain": [
              "Peras       3\n",
              "Manzanas    2\n",
              "Naranjas    4\n",
              "dtype: int64"
            ]
          },
          "metadata": {
            "tags": []
          },
          "execution_count": 17
        }
      ]
    },
    {
      "cell_type": "code",
      "metadata": {
        "id": "bcVRwYum6G23"
      },
      "source": [
        "frutas = {'Cerezas','Peras','Manzanas','Naranjas'}\n",
        "obj4 = pd.Series(diccionario,index=frutas)"
      ],
      "execution_count": 19,
      "outputs": []
    },
    {
      "cell_type": "code",
      "metadata": {
        "id": "bjulXLt96f5B",
        "outputId": "9f753353-6e85-45ef-ad7f-e5422b8501d8",
        "colab": {
          "base_uri": "https://localhost:8080/"
        }
      },
      "source": [
        "obj4"
      ],
      "execution_count": 20,
      "outputs": [
        {
          "output_type": "execute_result",
          "data": {
            "text/plain": [
              "Naranjas    4.0\n",
              "Cerezas     NaN\n",
              "Manzanas    2.0\n",
              "Peras       3.0\n",
              "dtype: float64"
            ]
          },
          "metadata": {
            "tags": []
          },
          "execution_count": 20
        }
      ]
    },
    {
      "cell_type": "code",
      "metadata": {
        "id": "uWQd-dOM6jKb",
        "outputId": "d0b16e12-ffa2-43c0-a077-f489cfbdfe16",
        "colab": {
          "base_uri": "https://localhost:8080/"
        }
      },
      "source": [
        "pd.isnull(obj4)"
      ],
      "execution_count": 21,
      "outputs": [
        {
          "output_type": "execute_result",
          "data": {
            "text/plain": [
              "Naranjas    False\n",
              "Cerezas      True\n",
              "Manzanas    False\n",
              "Peras       False\n",
              "dtype: bool"
            ]
          },
          "metadata": {
            "tags": []
          },
          "execution_count": 21
        }
      ]
    },
    {
      "cell_type": "code",
      "metadata": {
        "id": "xEeUTfQD6nWl",
        "outputId": "62e7198f-82e0-48b3-dcac-e00ac3c65a37",
        "colab": {
          "base_uri": "https://localhost:8080/"
        }
      },
      "source": [
        "pd.notnull(obj4)"
      ],
      "execution_count": 22,
      "outputs": [
        {
          "output_type": "execute_result",
          "data": {
            "text/plain": [
              "Naranjas     True\n",
              "Cerezas     False\n",
              "Manzanas     True\n",
              "Peras        True\n",
              "dtype: bool"
            ]
          },
          "metadata": {
            "tags": []
          },
          "execution_count": 22
        }
      ]
    },
    {
      "cell_type": "code",
      "metadata": {
        "id": "mRMAPTLO6s8m",
        "outputId": "dd726113-ebb4-476a-bee2-71fcd5154386",
        "colab": {
          "base_uri": "https://localhost:8080/"
        }
      },
      "source": [
        "if pd.isnull(obj4[1]):\n",
        "  print(\"Elemento 0 es nulo\")"
      ],
      "execution_count": 23,
      "outputs": [
        {
          "output_type": "stream",
          "text": [
            "Elemento 0 es nulo\n"
          ],
          "name": "stdout"
        }
      ]
    },
    {
      "cell_type": "markdown",
      "metadata": {
        "id": "j3FVqY_E65S9"
      },
      "source": [
        "# ¿Que es un dataframe?"
      ]
    },
    {
      "cell_type": "markdown",
      "metadata": {
        "id": "KFAzNKtu2Jel"
      },
      "source": [
        "# DataFrames en Python"
      ]
    },
    {
      "cell_type": "code",
      "metadata": {
        "id": "NG8sa6e12CHf"
      },
      "source": [
        "data = {'id':[1,2,3,4,5],'name':['Pablo','Pedro','Juan','Cecilia','Maria'],'total buy':[23.4,34.5,99.2,50.1,12]}"
      ],
      "execution_count": 30,
      "outputs": []
    },
    {
      "cell_type": "code",
      "metadata": {
        "id": "1bqjFSys7_Ag",
        "outputId": "585a1139-fdbc-4aa2-da7f-2a225a40027b",
        "colab": {
          "base_uri": "https://localhost:8080/"
        }
      },
      "source": [
        "data"
      ],
      "execution_count": 31,
      "outputs": [
        {
          "output_type": "execute_result",
          "data": {
            "text/plain": [
              "{'id': [1, 2, 3, 4, 5],\n",
              " 'name': ['Pablo', 'Pedro', 'Juan', 'Cecilia', 'Maria'],\n",
              " 'total buy': [23.4, 34.5, 99.2, 50.1, 12]}"
            ]
          },
          "metadata": {
            "tags": []
          },
          "execution_count": 31
        }
      ]
    },
    {
      "cell_type": "code",
      "metadata": {
        "id": "fkTuvPK18DNO"
      },
      "source": [
        "df = pd.DataFrame(data)"
      ],
      "execution_count": 33,
      "outputs": []
    },
    {
      "cell_type": "code",
      "metadata": {
        "id": "WKK6Vd7-8YJ2",
        "outputId": "6af896e3-013a-48b1-e0cb-765b1d55e98e",
        "colab": {
          "base_uri": "https://localhost:8080/",
          "height": 202
        }
      },
      "source": [
        "df"
      ],
      "execution_count": 34,
      "outputs": [
        {
          "output_type": "execute_result",
          "data": {
            "text/html": [
              "<div>\n",
              "<style scoped>\n",
              "    .dataframe tbody tr th:only-of-type {\n",
              "        vertical-align: middle;\n",
              "    }\n",
              "\n",
              "    .dataframe tbody tr th {\n",
              "        vertical-align: top;\n",
              "    }\n",
              "\n",
              "    .dataframe thead th {\n",
              "        text-align: right;\n",
              "    }\n",
              "</style>\n",
              "<table border=\"1\" class=\"dataframe\">\n",
              "  <thead>\n",
              "    <tr style=\"text-align: right;\">\n",
              "      <th></th>\n",
              "      <th>id</th>\n",
              "      <th>name</th>\n",
              "      <th>total buy</th>\n",
              "    </tr>\n",
              "  </thead>\n",
              "  <tbody>\n",
              "    <tr>\n",
              "      <th>0</th>\n",
              "      <td>1</td>\n",
              "      <td>Pablo</td>\n",
              "      <td>23.4</td>\n",
              "    </tr>\n",
              "    <tr>\n",
              "      <th>1</th>\n",
              "      <td>2</td>\n",
              "      <td>Pedro</td>\n",
              "      <td>34.5</td>\n",
              "    </tr>\n",
              "    <tr>\n",
              "      <th>2</th>\n",
              "      <td>3</td>\n",
              "      <td>Juan</td>\n",
              "      <td>99.2</td>\n",
              "    </tr>\n",
              "    <tr>\n",
              "      <th>3</th>\n",
              "      <td>4</td>\n",
              "      <td>Cecilia</td>\n",
              "      <td>50.1</td>\n",
              "    </tr>\n",
              "    <tr>\n",
              "      <th>4</th>\n",
              "      <td>5</td>\n",
              "      <td>Maria</td>\n",
              "      <td>12.0</td>\n",
              "    </tr>\n",
              "  </tbody>\n",
              "</table>\n",
              "</div>"
            ],
            "text/plain": [
              "   id     name  total buy\n",
              "0   1    Pablo       23.4\n",
              "1   2    Pedro       34.5\n",
              "2   3     Juan       99.2\n",
              "3   4  Cecilia       50.1\n",
              "4   5    Maria       12.0"
            ]
          },
          "metadata": {
            "tags": []
          },
          "execution_count": 34
        }
      ]
    },
    {
      "cell_type": "code",
      "metadata": {
        "id": "u9w1j_hW8a9M",
        "outputId": "472d10eb-f2d6-4b74-9963-0e8a7367d71b",
        "colab": {
          "base_uri": "https://localhost:8080/"
        }
      },
      "source": [
        "df.name"
      ],
      "execution_count": 35,
      "outputs": [
        {
          "output_type": "execute_result",
          "data": {
            "text/plain": [
              "0      Pablo\n",
              "1      Pedro\n",
              "2       Juan\n",
              "3    Cecilia\n",
              "4      Maria\n",
              "Name: name, dtype: object"
            ]
          },
          "metadata": {
            "tags": []
          },
          "execution_count": 35
        }
      ]
    },
    {
      "cell_type": "code",
      "metadata": {
        "id": "28aAWgFx8dXW",
        "outputId": "82c8e84c-1932-45b0-94ae-09dc0fce2504",
        "colab": {
          "base_uri": "https://localhost:8080/"
        }
      },
      "source": [
        "df.columns"
      ],
      "execution_count": 36,
      "outputs": [
        {
          "output_type": "execute_result",
          "data": {
            "text/plain": [
              "Index(['id', 'name', 'total buy'], dtype='object')"
            ]
          },
          "metadata": {
            "tags": []
          },
          "execution_count": 36
        }
      ]
    },
    {
      "cell_type": "code",
      "metadata": {
        "id": "tlPxn4Oe8fS_",
        "outputId": "a247d3b4-c663-4528-9591-b33b218a791b",
        "colab": {
          "base_uri": "https://localhost:8080/"
        }
      },
      "source": [
        "df.index"
      ],
      "execution_count": 37,
      "outputs": [
        {
          "output_type": "execute_result",
          "data": {
            "text/plain": [
              "RangeIndex(start=0, stop=5, step=1)"
            ]
          },
          "metadata": {
            "tags": []
          },
          "execution_count": 37
        }
      ]
    },
    {
      "cell_type": "code",
      "metadata": {
        "id": "EBmhBTmn8iI2",
        "outputId": "e8e2e144-3733-4410-f81f-9ebe251e51ae",
        "colab": {
          "base_uri": "https://localhost:8080/"
        }
      },
      "source": [
        "df['total buy']"
      ],
      "execution_count": 38,
      "outputs": [
        {
          "output_type": "execute_result",
          "data": {
            "text/plain": [
              "0    23.4\n",
              "1    34.5\n",
              "2    99.2\n",
              "3    50.1\n",
              "4    12.0\n",
              "Name: total buy, dtype: float64"
            ]
          },
          "metadata": {
            "tags": []
          },
          "execution_count": 38
        }
      ]
    },
    {
      "cell_type": "code",
      "metadata": {
        "id": "Tmel7TIL8mR4",
        "outputId": "8a1cf120-205b-4294-d049-a2d701312e67",
        "colab": {
          "base_uri": "https://localhost:8080/",
          "height": 202
        }
      },
      "source": [
        "df.head(10)"
      ],
      "execution_count": 39,
      "outputs": [
        {
          "output_type": "execute_result",
          "data": {
            "text/html": [
              "<div>\n",
              "<style scoped>\n",
              "    .dataframe tbody tr th:only-of-type {\n",
              "        vertical-align: middle;\n",
              "    }\n",
              "\n",
              "    .dataframe tbody tr th {\n",
              "        vertical-align: top;\n",
              "    }\n",
              "\n",
              "    .dataframe thead th {\n",
              "        text-align: right;\n",
              "    }\n",
              "</style>\n",
              "<table border=\"1\" class=\"dataframe\">\n",
              "  <thead>\n",
              "    <tr style=\"text-align: right;\">\n",
              "      <th></th>\n",
              "      <th>id</th>\n",
              "      <th>name</th>\n",
              "      <th>total buy</th>\n",
              "    </tr>\n",
              "  </thead>\n",
              "  <tbody>\n",
              "    <tr>\n",
              "      <th>0</th>\n",
              "      <td>1</td>\n",
              "      <td>Pablo</td>\n",
              "      <td>23.4</td>\n",
              "    </tr>\n",
              "    <tr>\n",
              "      <th>1</th>\n",
              "      <td>2</td>\n",
              "      <td>Pedro</td>\n",
              "      <td>34.5</td>\n",
              "    </tr>\n",
              "    <tr>\n",
              "      <th>2</th>\n",
              "      <td>3</td>\n",
              "      <td>Juan</td>\n",
              "      <td>99.2</td>\n",
              "    </tr>\n",
              "    <tr>\n",
              "      <th>3</th>\n",
              "      <td>4</td>\n",
              "      <td>Cecilia</td>\n",
              "      <td>50.1</td>\n",
              "    </tr>\n",
              "    <tr>\n",
              "      <th>4</th>\n",
              "      <td>5</td>\n",
              "      <td>Maria</td>\n",
              "      <td>12.0</td>\n",
              "    </tr>\n",
              "  </tbody>\n",
              "</table>\n",
              "</div>"
            ],
            "text/plain": [
              "   id     name  total buy\n",
              "0   1    Pablo       23.4\n",
              "1   2    Pedro       34.5\n",
              "2   3     Juan       99.2\n",
              "3   4  Cecilia       50.1\n",
              "4   5    Maria       12.0"
            ]
          },
          "metadata": {
            "tags": []
          },
          "execution_count": 39
        }
      ]
    },
    {
      "cell_type": "code",
      "metadata": {
        "id": "f6EaT3vL8oHl"
      },
      "source": [
        "location = ['Madrid','Valencia','Canarias','Vigo','Barcelona']"
      ],
      "execution_count": 41,
      "outputs": []
    },
    {
      "cell_type": "code",
      "metadata": {
        "id": "FLGI2jma88ZI"
      },
      "source": [
        "df['location'] = location"
      ],
      "execution_count": 42,
      "outputs": []
    },
    {
      "cell_type": "code",
      "metadata": {
        "id": "wUBO-wlD8-4k",
        "outputId": "c9f6f6f9-b222-47c6-947d-4f99e06276b1",
        "colab": {
          "base_uri": "https://localhost:8080/",
          "height": 202
        }
      },
      "source": [
        "df"
      ],
      "execution_count": 43,
      "outputs": [
        {
          "output_type": "execute_result",
          "data": {
            "text/html": [
              "<div>\n",
              "<style scoped>\n",
              "    .dataframe tbody tr th:only-of-type {\n",
              "        vertical-align: middle;\n",
              "    }\n",
              "\n",
              "    .dataframe tbody tr th {\n",
              "        vertical-align: top;\n",
              "    }\n",
              "\n",
              "    .dataframe thead th {\n",
              "        text-align: right;\n",
              "    }\n",
              "</style>\n",
              "<table border=\"1\" class=\"dataframe\">\n",
              "  <thead>\n",
              "    <tr style=\"text-align: right;\">\n",
              "      <th></th>\n",
              "      <th>id</th>\n",
              "      <th>name</th>\n",
              "      <th>total buy</th>\n",
              "      <th>location</th>\n",
              "    </tr>\n",
              "  </thead>\n",
              "  <tbody>\n",
              "    <tr>\n",
              "      <th>0</th>\n",
              "      <td>1</td>\n",
              "      <td>Pablo</td>\n",
              "      <td>23.4</td>\n",
              "      <td>Madrid</td>\n",
              "    </tr>\n",
              "    <tr>\n",
              "      <th>1</th>\n",
              "      <td>2</td>\n",
              "      <td>Pedro</td>\n",
              "      <td>34.5</td>\n",
              "      <td>Valencia</td>\n",
              "    </tr>\n",
              "    <tr>\n",
              "      <th>2</th>\n",
              "      <td>3</td>\n",
              "      <td>Juan</td>\n",
              "      <td>99.2</td>\n",
              "      <td>Canarias</td>\n",
              "    </tr>\n",
              "    <tr>\n",
              "      <th>3</th>\n",
              "      <td>4</td>\n",
              "      <td>Cecilia</td>\n",
              "      <td>50.1</td>\n",
              "      <td>Vigo</td>\n",
              "    </tr>\n",
              "    <tr>\n",
              "      <th>4</th>\n",
              "      <td>5</td>\n",
              "      <td>Maria</td>\n",
              "      <td>12.0</td>\n",
              "      <td>Barcelona</td>\n",
              "    </tr>\n",
              "  </tbody>\n",
              "</table>\n",
              "</div>"
            ],
            "text/plain": [
              "   id     name  total buy   location\n",
              "0   1    Pablo       23.4     Madrid\n",
              "1   2    Pedro       34.5   Valencia\n",
              "2   3     Juan       99.2   Canarias\n",
              "3   4  Cecilia       50.1       Vigo\n",
              "4   5    Maria       12.0  Barcelona"
            ]
          },
          "metadata": {
            "tags": []
          },
          "execution_count": 43
        }
      ]
    }
  ]
}